{
 "cells": [
  {
   "cell_type": "markdown",
   "metadata": {},
   "source": [
    "# Low-Pass Filter"
   ]
  },
  {
   "cell_type": "markdown",
   "metadata": {},
   "source": [
    "*Modeling and Simulation in Python*\n",
    "\n",
    "Copyright 2021 Allen Downey, (License: [Creative Commons Attribution-NonCommercial-ShareAlike 4.0 International](https://creativecommons.org/licenses/by-nc-sa/4.0/))\n",
    "\n",
    "Revised, Mike Augspurger (2021-present)"
   ]
  },
  {
   "cell_type": "code",
   "execution_count": 1,
   "metadata": {
    "tags": []
   },
   "outputs": [],
   "source": [
    "# import functions from modsim\n",
    "import sys\n",
    "sys.path.append('..\\\\..\\\\ModSimPy_Directory')\n",
    "from ModSimPy_Functions.modsim import *\n",
    "\n",
    "import pandas as pd"
   ]
  },
  {
   "cell_type": "markdown",
   "metadata": {},
   "source": [
    "### Circuits, signals and filters\n",
    "\n",
    "The following circuit diagram (from [Wikipedia](https://en.wikipedia.org/wiki/File:RC_Divider.svg)) shows a low-pass filter built with one resistor and one capacitor.  \n",
    "\n",
    "<img src=\"../Images_and_Data/Images/low_pass_filter_mid.PNG\" style=\"width: 200px;\"/>\n",
    "\n",
    "A \"filter\" is a circuit takes a signal, $V_{in}$, as input and produces a signal, $V_{mid}$, as output.  In this context, a \"signal\" is a voltage that changes over time.\n",
    "\n",
    "A filter is \"low-pass\" if it allows low-frequency signals to pass from $V_{in}$ to $V_{mid}$ unchanged, but it reduces the amplitude of high-frequency signals.\n",
    "\n",
    "By applying the laws of circuit analysis, we can derive a differential equation that describes the behavior of this system.  By solving the differential equation, we can predict the effect of this circuit on any input signal."
   ]
  },
  {
   "cell_type": "markdown",
   "metadata": {},
   "source": [
    "#### Ohm's Law\n",
    "\n",
    "In an electric circuit, a difference in voltage is the driving force of current:  the higher voltage pushes electrons (conventionally) toward the lower voltage, in the same way that a difference in pressure drives water through a pipe.  \n",
    "\n",
    "A resister, on the other hand, is like a blockage in the pipe: it slows the current down.  The total amount of flow (that is, current $I$) is determined by the relationship between the driving force $\\Delta V$ and the resistance $R$. \n",
    "\n",
    "This relationship is expressed in Ohm's Law.  Suppose we are given $V_{in}$ and $V_{mid}$ at a particular instant in time.  By Ohm's law, the instantaneous current through the resistor is:\n",
    "\n",
    "$ I_R = (V_{in} - V_{mid}) / R $\n",
    "\n",
    "where $R$ is resistance in ohms.  "
   ]
  },
  {
   "cell_type": "markdown",
   "metadata": {},
   "source": [
    "#### A capacitor circuit\n",
    "\n",
    "The circuit shown is complicated by a capacitor $C$, which is a pair of flat plates that aren't allowed to contact one another.  When the circuit is turned on, $V_{in}$ is raised above the zero voltage at ground, which is represented by the upside down triangle.  This voltage difference causes electrons to move through the resistor.\n",
    "\n",
    "But the electrons cannot pass across the gap between the capacitor plates: they yearn to reach the zero voltage at the ground, but cannot, and as a result, they are stored on one side of the capacitor plate.  As the plate fills with electrons, it starts to resist further flow (the electrons don't like other electrons, and so push back at new arrivals), which raises the voltage at $V_{mid}$.  When the capacitor plate is filled, $V_{mid} = V_{in}$.  There is now no voltage difference across the resistor, and the current stops. "
   ]
  },
  {
   "cell_type": "markdown",
   "metadata": {},
   "source": [
    "#### Deriving an equation for a capacitor circuit\n",
    "\n",
    "This change in current $I$ can be represented as a differential equation:\n",
    "\n",
    "$ I = C \\frac{d V_{mid}}{dt} $\n",
    "\n",
    "where $C$ is capacitance, or size, of the capacitor.  This equation essentially says that the current through $R$ is proportional to how quickly $V_{mid}$ is changing--if a lot of electrons are moving through $R$ onto the capacitor, then $V_{mid}$ will change quickly. \n",
    "\n",
    "If we sub Ohm's law ($I=\\Delta V/R$) into the left hand side and rearrange, we get a differential equation for $V_{out}$:\n",
    "\n",
    "$ \\frac{d }{dt} V_{mid} = \\frac{V_{in} - V_{mid}}{R C} $\n",
    "\n",
    "How does this make a low pass filter?   If the *time constant* $RC$ is large, $\\frac{d }{dt} V_{mid}$ will generally be small.  So if the input signal $V_{in}$ changes quickly, the output signal $V_{mid}$ will not be able to respond to those changes.  In effect, it will \"filter out\" the high frequency part of the signal.\n",
    "\n",
    "In this chapter, we will simulate the low-pass filter for input signals of a form like this:\n",
    "\n",
    "$ V_{in}(t) = A \\cos (2 \\pi f t) $\n",
    "\n",
    "where $A$ is the amplitude of the input signal (say, 5 V), and $f$ is the frequency of the signal in Hz. "
   ]
  },
  {
   "cell_type": "markdown",
   "metadata": {},
   "source": [
    "## Params and System objects\n",
    "\n",
    "Here's a parameter object to contain the quantities we need.  I've chosen values for `R1` and `C1` that might be typical for a circuit that works with audio signal."
   ]
  },
  {
   "cell_type": "code",
   "execution_count": 4,
   "metadata": {},
   "outputs": [],
   "source": [
    "R1 = 1.0e6   # * ohm\n",
    "C1 = 1.0e-9  # * farad\n",
    "A = 5.0      # * volt\n",
    "f = 1000.0   # * Hz\n",
    "\n",
    "params = R1, C1, A, f"
   ]
  },
  {
   "cell_type": "markdown",
   "metadata": {},
   "source": [
    "Now we can pass the `params` object to `make_system` which computes some additional parameters and defines `init`.\n",
    "\n",
    "* `omega` is the frequency of the input signal in radians/second.\n",
    "\n",
    "* `tau` is the time constant for this circuit, which is roughly the time it takes to charge (i.e. fill) the capacitor.\n",
    "\n",
    "* `cutoff` is the cutoff frequency for this circuit (in Hz), which marks the transition from low frequency signals, which pass through the filter unchanged, to high frequency signals, which are weakened.\n",
    "\n",
    "* `t_end` is chosen so we run the simulation for 4 cycles of the input signal."
   ]
  },
  {
   "cell_type": "code",
   "execution_count": 8,
   "metadata": {},
   "outputs": [],
   "source": [
    "def make_system(params):\n",
    "    \"\"\"Makes a System object for the given conditions.\n",
    "    \n",
    "    params: tuple\n",
    "    \n",
    "    returns: System object\n",
    "    \"\"\"\n",
    "    R1, C1, A, f = params\n",
    "    \n",
    "    init = pd.Series(dict(V_mid = 0))\n",
    "    # Convert frequency to radians/second\n",
    "    omega = 2 * f * np.pi\n",
    "    # Define the time constant tau\n",
    "    tau = R1 * C1\n",
    "    # Define the cutoff frequency\n",
    "    cutoff = 1 / R1 / C1 / 2 / np.pi\n",
    "    t_end = 4 / f\n",
    "    \n",
    "    return dict(R1=R1, C1=C1, A=A, f=f, \n",
    "                  init=init,\n",
    "                  t_end=t_end, num=401,\n",
    "                  omega=omega, tau=tau, \n",
    "                  cutoff=cutoff)"
   ]
  },
  {
   "cell_type": "markdown",
   "metadata": {},
   "source": [
    "Notice that the function uses `np.pi` rather than importing `numpy` with `from numpy import pi` and then simply writing `pi`.  Either approach is acceptable.\n",
    "\n",
    "Let's make a `System`"
   ]
  },
  {
   "cell_type": "code",
   "execution_count": 9,
   "metadata": {},
   "outputs": [],
   "source": [
    "system = make_system(params)"
   ]
  },
  {
   "cell_type": "markdown",
   "metadata": {},
   "source": [
    "The system variable `num` controls how many time steps we get from `run_solve_ivp`.  The default is 101; in this case we increase it to 401 because the methods we'll use to analyze the results require high resolution in time."
   ]
  },
  {
   "cell_type": "markdown",
   "metadata": {},
   "source": [
    "### Exercise 1\n",
    "\n",
    "Write a slope function that takes as an input `t`, a `State` object that contains `V_mid`, and a `system`, and returns the derivative of `V_mid`.  You'll need to define `V_in` according to the equation in the intro.\n"
   ]
  },
  {
   "cell_type": "code",
   "execution_count": 10,
   "metadata": {},
   "outputs": [],
   "source": [
    "# Define the slope_function\n",
    "\n",
    "def slope_func(t, state, system):\n",
    "    A, f = system['A'], system['f']\n",
    "    \n",
    "    V_mid = state\n",
    "    V_in = A * (np.cos(2*np.pi*f*t))\n",
    "        \n",
    "    dVdt = (V_in - V_mid)/(system['tau'])\n",
    "    \n",
    "    return dVdt"
   ]
  },
  {
   "cell_type": "markdown",
   "metadata": {},
   "source": [
    "Test the slope function with the initial conditions."
   ]
  },
  {
   "cell_type": "code",
   "execution_count": 12,
   "metadata": {},
   "outputs": [
    {
     "data": {
      "text/plain": [
       "V_mid    5000.0\n",
       "dtype: float64"
      ]
     },
     "execution_count": 12,
     "metadata": {},
     "output_type": "execute_result"
    }
   ],
   "source": [
    "slope_func(0, system['init'], system)"
   ]
  },
  {
   "cell_type": "markdown",
   "metadata": {},
   "source": [
    "And then run the simulation. "
   ]
  },
  {
   "cell_type": "code",
   "execution_count": 17,
   "metadata": {},
   "outputs": [
    {
     "data": {
      "text/plain": [
       "'The solver successfully reached the end of the integration interval.'"
      ]
     },
     "execution_count": 17,
     "metadata": {},
     "output_type": "execute_result"
    }
   ],
   "source": [
    "results, details = run_solve_ivp(system, slope_func)\n",
    "details.message"
   ]
  },
  {
   "cell_type": "code",
   "execution_count": 18,
   "metadata": {},
   "outputs": [
    {
     "data": {
      "text/html": [
       "<div>\n",
       "<style scoped>\n",
       "    .dataframe tbody tr th:only-of-type {\n",
       "        vertical-align: middle;\n",
       "    }\n",
       "\n",
       "    .dataframe tbody tr th {\n",
       "        vertical-align: top;\n",
       "    }\n",
       "\n",
       "    .dataframe thead th {\n",
       "        text-align: right;\n",
       "    }\n",
       "</style>\n",
       "<table border=\"1\" class=\"dataframe\">\n",
       "  <thead>\n",
       "    <tr style=\"text-align: right;\">\n",
       "      <th></th>\n",
       "      <th>V_mid</th>\n",
       "    </tr>\n",
       "  </thead>\n",
       "  <tbody>\n",
       "    <tr>\n",
       "      <th>0.00384</th>\n",
       "      <td>-0.591786</td>\n",
       "    </tr>\n",
       "    <tr>\n",
       "      <th>0.00388</th>\n",
       "      <td>-0.443763</td>\n",
       "    </tr>\n",
       "    <tr>\n",
       "      <th>0.00392</th>\n",
       "      <td>-0.268070</td>\n",
       "    </tr>\n",
       "    <tr>\n",
       "      <th>0.00396</th>\n",
       "      <td>-0.075735</td>\n",
       "    </tr>\n",
       "    <tr>\n",
       "      <th>0.00400</th>\n",
       "      <td>0.121274</td>\n",
       "    </tr>\n",
       "  </tbody>\n",
       "</table>\n",
       "</div>"
      ],
      "text/plain": [
       "            V_mid\n",
       "0.00384 -0.591786\n",
       "0.00388 -0.443763\n",
       "0.00392 -0.268070\n",
       "0.00396 -0.075735\n",
       "0.00400  0.121274"
      ]
     },
     "execution_count": 18,
     "metadata": {},
     "output_type": "execute_result"
    }
   ],
   "source": [
    "results.tail()"
   ]
  },
  {
   "cell_type": "markdown",
   "metadata": {},
   "source": [
    "Here's a function you can use to plot `V_mid` as a function of time."
   ]
  },
  {
   "cell_type": "code",
   "execution_count": 20,
   "metadata": {},
   "outputs": [
    {
     "data": {
      "image/png": "[encoded data removed]",
      "text/plain": [
       "<Figure size 432x288 with 1 Axes>"
      ]
     },
     "metadata": {
      "needs_background": "light"
     },
     "output_type": "display_data"
    }
   ],
   "source": [
    "def plot_results(results):\n",
    "    V_mid = results.V_mid.copy()\n",
    "    t_end = results.index[-1]\n",
    "    \n",
    "    if t_end < 0.1:\n",
    "        V_mid.index *= 1000\n",
    "        xlabel = 'Time (ms)'\n",
    "    else:\n",
    "        V_mid = results.V_mid\n",
    "        xlabel = 'Time (s)'\n",
    "        \n",
    "    V_mid.plot(label='_nolegend',xlabel=xlabel,\n",
    "             ylabel='$V_{mid}$ (volt)')\n",
    "    \n",
    "plot_results(results)"
   ]
  },
  {
   "cell_type": "markdown",
   "metadata": {},
   "source": [
    "If things have gone according to plan, the amplitude of the output signal should be about 0.8 V.\n",
    "\n",
    "Also, you might notice that it takes a few cycles for the signal to get to the full amplitude. "
   ]
  },
  {
   "cell_type": "markdown",
   "metadata": {},
   "source": [
    "## Sweeping frequency\n",
    "\n",
    "Here's what `V_mid` looks like for a range of frequencies:"
   ]
  },
  {
   "cell_type": "code",
   "execution_count": 21,
   "metadata": {},
   "outputs": [
    {
     "data": {
      "image/png": "[encoded data removed]",
      "text/plain": [
       "<Figure size 432x288 with 6 Axes>"
      ]
     },
     "metadata": {
      "needs_background": "light"
     },
     "output_type": "display_data"
    }
   ],
   "source": [
    "from matplotlib.pyplot import subplot\n",
    "\n",
    "fs = [1, 10, 100, 1000, 10000, 100000]\n",
    "\n",
    "for i in range(6):\n",
    "    R1 = 1.0e6   \n",
    "    C1 = 1.0e-9  \n",
    "    A = 5.0     \n",
    "    f = fs[i]   \n",
    "    params = R1, C1, A, f\n",
    "    system = make_system(params)\n",
    "    results, details = run_solve_ivp(system, slope_func)\n",
    "    subplot(3, 2, i+1)\n",
    "    plot_results(results)"
   ]
  },
  {
   "cell_type": "markdown",
   "metadata": {},
   "source": [
    "The low frequencies start in the upper right corner.  Notice the amplitudes, which are the same for $f = 1$ and $f = 10$.  For higher frequencies, the signal is mostly filtered out.  Notice that the cutoff frequency for this circuit (as defined in make_system above) is 159 Hz.  Do you see what that indicates here?"
   ]
  },
  {
   "cell_type": "markdown",
   "metadata": {},
   "source": [
    "## Estimating the output ratio\n",
    "\n",
    "Let's compare the amplitudes of the input and output signals.  Below the cutoff frequency, we expect them to be about the same.  Above the cutoff, we expect the amplitude of the output signal to be smaller.\n",
    "\n",
    "We'll start with a signal at the cutoff frequency, `f=1000` Hz."
   ]
  },
  {
   "cell_type": "code",
   "execution_count": 22,
   "metadata": {},
   "outputs": [
    {
     "data": {
      "image/png": "[encoded data removed]",
      "text/plain": [
       "<Figure size 432x288 with 1 Axes>"
      ]
     },
     "metadata": {
      "needs_background": "light"
     },
     "output_type": "display_data"
    }
   ],
   "source": [
    "R1 = 1.0e6   \n",
    "C1 = 1.0e-9  \n",
    "A = 5.0     \n",
    "f = 1000   \n",
    "params = R1, C1, A, f\n",
    "system = make_system(params)\n",
    "results, details = run_solve_ivp(system, slope_func)\n",
    "V_mid = results.V_mid\n",
    "plot_results(results)"
   ]
  },
  {
   "cell_type": "markdown",
   "metadata": {},
   "source": [
    "The following function computes `V_in` as a `TimeSeries`:"
   ]
  },
  {
   "cell_type": "code",
   "execution_count": 25,
   "metadata": {},
   "outputs": [],
   "source": [
    "def compute_vin(results, system):\n",
    "    \"\"\"Computes V_in as a TimeSeries.\n",
    "    \n",
    "    results: TimeFrame with simulation results\n",
    "    system: System object with A and omega\n",
    "    \n",
    "    returns: TimeSeries\n",
    "    \"\"\"\n",
    "    A, omega = system['A'], system['omega']\n",
    "    \n",
    "    ts = results.index\n",
    "    V_in = A * np.cos(omega * ts)\n",
    "    return pd.Series(data=V_in, index=results.index, name='V_in')"
   ]
  },
  {
   "cell_type": "markdown",
   "metadata": {},
   "source": [
    "Here's what the input and output look like.  Notice that the output is not just smaller; it is also \"out of phase\"; that is, the peaks of the output are shifted to the right, relative to the peaks of the input."
   ]
  },
  {
   "cell_type": "code",
   "execution_count": 27,
   "metadata": {},
   "outputs": [
    {
     "data": {
      "image/png": "[encoded data removed]",
      "text/plain": [
       "<Figure size 432x288 with 1 Axes>"
      ]
     },
     "metadata": {
      "needs_background": "light"
     },
     "output_type": "display_data"
    }
   ],
   "source": [
    "V_in = compute_vin(results, system)\n",
    "\n",
    "V_mid.plot()\n",
    "V_in.plot(xlabel='Time (s)',\n",
    "         ylabel='V (volt)');"
   ]
  },
  {
   "cell_type": "markdown",
   "metadata": {},
   "source": [
    "The following function estimates the amplitude of a signal by computing half the distance between the min and max."
   ]
  },
  {
   "cell_type": "code",
   "execution_count": 28,
   "metadata": {},
   "outputs": [],
   "source": [
    "def estimate_A(series):\n",
    "    \"\"\"Estimate amplitude.\n",
    "    \n",
    "    series: TimeSeries\n",
    "    \n",
    "    returns: amplitude in volts\n",
    "    \"\"\"\n",
    "    return (series.max() - series.min()) / 2"
   ]
  },
  {
   "cell_type": "markdown",
   "metadata": {},
   "source": [
    "The amplitude of `V_in` should be near 5 (but not exact because we evaluated it at a finite number of points)."
   ]
  },
  {
   "cell_type": "code",
   "execution_count": 29,
   "metadata": {},
   "outputs": [
    {
     "data": {
      "text/plain": [
       "4.980286753286195"
      ]
     },
     "execution_count": 29,
     "metadata": {},
     "output_type": "execute_result"
    }
   ],
   "source": [
    "A_in = estimate_A(V_in)\n",
    "A_in"
   ]
  },
  {
   "cell_type": "markdown",
   "metadata": {},
   "source": [
    "The amplitude of `V_mid` should be lower."
   ]
  },
  {
   "cell_type": "code",
   "execution_count": 30,
   "metadata": {},
   "outputs": [
    {
     "data": {
      "text/plain": [
       "0.8112101476397462"
      ]
     },
     "execution_count": 30,
     "metadata": {},
     "output_type": "execute_result"
    }
   ],
   "source": [
    "A_out = estimate_A(V_mid)\n",
    "A_out"
   ]
  },
  {
   "cell_type": "markdown",
   "metadata": {},
   "source": [
    "And here's the ratio between them."
   ]
  },
  {
   "cell_type": "code",
   "execution_count": 31,
   "metadata": {},
   "outputs": [
    {
     "data": {
      "text/plain": [
       "0.16288422491023774"
      ]
     },
     "execution_count": 31,
     "metadata": {},
     "output_type": "execute_result"
    }
   ],
   "source": [
    "ratio = A_out / A_in\n",
    "ratio"
   ]
  },
  {
   "cell_type": "markdown",
   "metadata": {},
   "source": [
    "### Exercise 2 \n",
    "\n",
    "Encapsulate the code we have so far in a function that takes two `Series` objects and returns the ratio between their amplitudes."
   ]
  },
  {
   "cell_type": "code",
   "execution_count": 32,
   "metadata": {},
   "outputs": [],
   "source": [
    "# Define the function estimate_ratio\n",
    "def estimate_ratio(series1,series2):\n",
    "    return estimate_A(series1)/estimate_A(series2)"
   ]
  },
  {
   "cell_type": "markdown",
   "metadata": {},
   "source": [
    "And test your function."
   ]
  },
  {
   "cell_type": "code",
   "execution_count": 33,
   "metadata": {},
   "outputs": [
    {
     "data": {
      "text/plain": [
       "0.16288422491023774"
      ]
     },
     "execution_count": 33,
     "metadata": {},
     "output_type": "execute_result"
    }
   ],
   "source": [
    "estimate_ratio(V_mid, V_in)"
   ]
  },
  {
   "cell_type": "markdown",
   "metadata": {},
   "source": [
    "### Exercise 3\n",
    "\n",
    "Write a function that takes as parameters an array of input frequencies as well as the parameters for a filter.\n",
    "\n",
    "For each input frequency it should run a simulation and use the results to estimate the output ratio (dimensionless).\n",
    "\n",
    "It should return a `Series` object with the ratio for each input frequency."
   ]
  },
  {
   "cell_type": "code",
   "execution_count": 34,
   "metadata": {},
   "outputs": [],
   "source": [
    "# Define function sweep_frequency\n",
    "\n",
    "def sweep_frequency(fs,params):\n",
    "    sweep_output = pd.Series([],dtype=np.float64)\n",
    "    R1, C1, A, f = params\n",
    "    for f_var in fs:\n",
    "        params =  R1, C1, A, f_var\n",
    "        system = make_system(params)\n",
    "        results, details = run_solve_ivp(system, slope_func)\n",
    "        V_mid = results.V_mid\n",
    "        V_in = compute_vin(results, system)\n",
    "        sweep_output[f_var]=estimate_ratio(V_mid,V_in)\n",
    "        \n",
    "    return sweep_output"
   ]
  },
  {
   "cell_type": "markdown",
   "metadata": {},
   "source": [
    "Run your function with these frequencies."
   ]
  },
  {
   "cell_type": "code",
   "execution_count": 35,
   "metadata": {},
   "outputs": [],
   "source": [
    "fs = 10 ** linspace(0, 4, 9)"
   ]
  },
  {
   "cell_type": "code",
   "execution_count": 37,
   "metadata": {},
   "outputs": [
    {
     "data": {
      "text/html": [
       "<div>\n",
       "<style scoped>\n",
       "    .dataframe tbody tr th:only-of-type {\n",
       "        vertical-align: middle;\n",
       "    }\n",
       "\n",
       "    .dataframe tbody tr th {\n",
       "        vertical-align: top;\n",
       "    }\n",
       "\n",
       "    .dataframe thead th {\n",
       "        text-align: right;\n",
       "    }\n",
       "</style>\n",
       "<table border=\"1\" class=\"dataframe\">\n",
       "  <thead>\n",
       "    <tr style=\"text-align: right;\">\n",
       "      <th></th>\n",
       "      <th>0</th>\n",
       "    </tr>\n",
       "  </thead>\n",
       "  <tbody>\n",
       "    <tr>\n",
       "      <th>1.000000</th>\n",
       "      <td>1.000392</td>\n",
       "    </tr>\n",
       "    <tr>\n",
       "      <th>3.162278</th>\n",
       "      <td>1.001223</td>\n",
       "    </tr>\n",
       "    <tr>\n",
       "      <th>10.000000</th>\n",
       "      <td>1.000327</td>\n",
       "    </tr>\n",
       "    <tr>\n",
       "      <th>31.622777</th>\n",
       "      <td>0.982981</td>\n",
       "    </tr>\n",
       "    <tr>\n",
       "      <th>100.000000</th>\n",
       "      <td>0.849574</td>\n",
       "    </tr>\n",
       "    <tr>\n",
       "      <th>316.227766</th>\n",
       "      <td>0.461986</td>\n",
       "    </tr>\n",
       "    <tr>\n",
       "      <th>1000.000000</th>\n",
       "      <td>0.162884</td>\n",
       "    </tr>\n",
       "    <tr>\n",
       "      <th>3162.277660</th>\n",
       "      <td>0.050748</td>\n",
       "    </tr>\n",
       "    <tr>\n",
       "      <th>10000.000000</th>\n",
       "      <td>0.015944</td>\n",
       "    </tr>\n",
       "  </tbody>\n",
       "</table>\n",
       "</div>"
      ],
      "text/plain": [
       "                     0\n",
       "1.000000      1.000392\n",
       "3.162278      1.001223\n",
       "10.000000     1.000327\n",
       "31.622777     0.982981\n",
       "100.000000    0.849574\n",
       "316.227766    0.461986\n",
       "1000.000000   0.162884\n",
       "3162.277660   0.050748\n",
       "10000.000000  0.015944"
      ]
     },
     "execution_count": 37,
     "metadata": {},
     "output_type": "execute_result"
    }
   ],
   "source": [
    "R1 = 1.0e6   \n",
    "C1 = 1.0e-9  \n",
    "A = 5.0      \n",
    "f = 1000.0  \n",
    "\n",
    "ratios = sweep_frequency(fs, params)\n",
    "pd.DataFrame(ratios)"
   ]
  },
  {
   "cell_type": "markdown",
   "metadata": {},
   "source": [
    "We can plot output ratios like this:"
   ]
  },
  {
   "cell_type": "code",
   "execution_count": 39,
   "metadata": {},
   "outputs": [
    {
     "data": {
      "image/png": "[encoded data removed]",
      "text/plain": [
       "<Figure size 432x288 with 1 Axes>"
      ]
     },
     "metadata": {
      "needs_background": "light"
     },
     "output_type": "display_data"
    }
   ],
   "source": [
    "ratios.plot(color='C2', label='output ratio',xlabel='Frequency (Hz)',\n",
    "         ylabel='$V_{out} / V_{in}$',legend=True);"
   ]
  },
  {
   "cell_type": "markdown",
   "metadata": {},
   "source": [
    "But it is useful and conventional to plot ratios on a log-log scale.  The vertical gray line shows the cutoff frequency."
   ]
  },
  {
   "cell_type": "code",
   "execution_count": 42,
   "metadata": {},
   "outputs": [],
   "source": [
    "def plot_ratios(ratios, system):\n",
    "    \"\"\"Plot output ratios.\n",
    "    \"\"\"\n",
    "    \n",
    "    cutoff = magnitude(system['cutoff'])\n",
    "    plt.axvline(cutoff, color='gray', alpha=0.4)\n",
    "    \n",
    "    ratios.plot(color='C2', label='output ratio',\n",
    "                xlabel='Frequency (Hz)',\n",
    "                ylabel='$V_{out} / V_{in}$',\n",
    "                logx=True,logy=True,legend=True)"
   ]
  },
  {
   "cell_type": "code",
   "execution_count": 43,
   "metadata": {},
   "outputs": [
    {
     "data": {
      "image/png": "[encoded data removed]",
      "text/plain": [
       "<Figure size 432x288 with 1 Axes>"
      ]
     },
     "metadata": {
      "needs_background": "light"
     },
     "output_type": "display_data"
    }
   ],
   "source": [
    "plot_ratios(ratios, system)"
   ]
  },
  {
   "cell_type": "markdown",
   "metadata": {},
   "source": [
    "This plot shows the cutoff behavior more clearly.  To the left of the cutoff (lower frequencies), the output ratio is close to 1.  To the right of the cutoff, it drops off linearly on a log scale, which indicates that output ratios for high frequencies are practically 0."
   ]
  },
  {
   "cell_type": "markdown",
   "metadata": {},
   "source": [
    "### Exercise 4\n",
    "\n",
    "By analysis we can show that the output ratio for this signal is\n",
    "\n",
    "$A = \\frac{1}{\\sqrt{1 + (R C \\omega)^2}}$ \n",
    "\n",
    "where $\\omega = 2 \\pi f$.\n",
    "\n",
    "Write a function that takes an array of input frequencies (and parameters) and returns $A(f)$ as `SweepSeries` objects.  Plot the object and compare it with the results from the previous section.\n"
   ]
  },
  {
   "cell_type": "code",
   "execution_count": 46,
   "metadata": {},
   "outputs": [],
   "source": [
    "# Define the function output_ratios_analy\n",
    "\n",
    "def output_ratios_analy(fs,params):\n",
    "    \"\"\"Computes analytically the amplitude ratio \n",
    "    for an array of input frequencies fs.\n",
    "    \n",
    "    fs: Array of input frequencies\n",
    "    params: parameters of the filter (R1, C1, A, f)\n",
    "    \n",
    "    returns: SweepSeries\n",
    "    \"\"\"\n",
    "    R1, C1, A, f = params\n",
    "    sweep_output = pd.Series([],dtype=np.float64)\n",
    "    \n",
    "    for f_var in fs:\n",
    "        omega = 2 * np.pi * f_var\n",
    "        radical = 1 + (R1 * C1 * omega)**2\n",
    "        ratio = 1/np.sqrt(radical)\n",
    "        sweep_output[f_var] = ratio\n",
    "        \n",
    "    return sweep_output"
   ]
  },
  {
   "cell_type": "markdown",
   "metadata": {},
   "source": [
    "Test your function:"
   ]
  },
  {
   "cell_type": "code",
   "execution_count": 47,
   "metadata": {},
   "outputs": [],
   "source": [
    "fs = 10 ** linspace(0, 4, 9)\n",
    "A = output_ratios_analy(fs,params)"
   ]
  },
  {
   "cell_type": "markdown",
   "metadata": {},
   "source": [
    "Plot the theoretical results along with the simulation results and see if they agree."
   ]
  },
  {
   "cell_type": "code",
   "execution_count": 48,
   "metadata": {},
   "outputs": [
    {
     "data": {
      "image/png": "[encoded data removed]",
      "text/plain": [
       "<Figure size 432x288 with 1 Axes>"
      ]
     },
     "metadata": {
      "needs_background": "light"
     },
     "output_type": "display_data"
    }
   ],
   "source": [
    "A.plot(style=':', color='gray', label='analysis',legend=True)\n",
    "plot_ratios(ratios, system)"
   ]
  }
 ],
 "metadata": {
  "kernelspec": {
   "display_name": "Python 3",
   "language": "python",
   "name": "python3"
  },
  "language_info": {
   "codemirror_mode": {
    "name": "ipython",
    "version": 3
   },
   "file_extension": ".py",
   "mimetype": "text/x-python",
   "name": "python",
   "nbconvert_exporter": "python",
   "pygments_lexer": "ipython3",
   "version": "3.8.8"
  }
 },
 "nbformat": 4,
 "nbformat_minor": 2
}
