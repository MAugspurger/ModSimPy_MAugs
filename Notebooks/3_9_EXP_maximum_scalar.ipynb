{
 "cells": [
  {
   "cell_type": "markdown",
   "id": "early-drove",
   "metadata": {},
   "source": [
    "# How maximize_scalar Works"
   ]
  },
  {
   "cell_type": "markdown",
   "id": "imported-table",
   "metadata": {
    "tags": []
   },
   "source": [
    "*Modeling and Simulation in Python*\n",
    "\n",
    "Copyright 2021 Allen Downey, (License: [Creative Commons Attribution-NonCommercial-ShareAlike 4.0 International](https://creativecommons.org/licenses/by-nc-sa/4.0/))\n",
    "\n",
    "Revised, Mike Augspurger (2021-present)"
   ]
  },
  {
   "cell_type": "markdown",
   "id": "younger-bullet",
   "metadata": {},
   "source": [
    "In general, you don't need to know the details of how all imported functions work in order to use them.  However, having a general idea of what they do can make it easier to use these tools effectively.\n",
    "\n",
    "One reason is pure curiosity. If you use these methods, and especially\n",
    "if you come to rely on them, you might find it unsatisfying to treat\n",
    "them as \"black boxes.\" At the risk of mixing metaphors, I hope you\n",
    "enjoyed opening the hood.\n",
    "\n",
    "The other reason is that these methods are not infallible; sometimes\n",
    "things go wrong. If you know how they work, at least in a general sense,\n",
    "you might find it easier to debug them."
   ]
  },
  {
   "cell_type": "markdown",
   "id": "dental-archives",
   "metadata": {},
   "source": [
    "## How maximize_scalar Works \n",
    "\n",
    "`maximize_scalar` in the ModSim library is a wrapper for a function in the SciPy library called `minimize_scalar`.\n",
    "You can read about it at <https://docs.scipy.org/doc/scipy/reference/generated/scipy.optimize.minimize_scalar.html>.\n",
    "\n",
    "By default, it uses Brent's method, which is related to the method I described in the previous section for root-finding.\n",
    "Brent's method for finding a maximum or minimum is based on a simpler algorithm:\n",
    "the *golden-section search*, which I will explain.\n",
    "\n",
    "Suppose we're trying to find the minimum of a function of a single variable, $f(x)$.\n",
    "As a starting place, assume that we have evaluated the function at three\n",
    "places, $x_1$, $x_2$, and $x_3$, and found that $x_2$ yields the lowest\n",
    "value. The following diagram shows this initial state.\n",
    "\n",
    "<img src=\"../Images_and_Data/Images/golden1.png\" style=\"width: 500px;\"/>"
   ]
  },
  {
   "cell_type": "markdown",
   "id": "alpine-metro",
   "metadata": {},
   "source": [
    "We will assume that $f(x)$ is continuous and *unimodal* in this range,\n",
    "which means that there is exactly one minimum between $x_1$ and $x_3$.\n",
    "\n",
    "The next step is to choose a fourth point, $x_4$, and evaluate $f(x_4)$.\n",
    "There are two possible outcomes, depending on whether $f(x_4)$ is\n",
    "greater than $f(x_2)$ or not.\n",
    "The following figure shows the two possible states.\n",
    "\n",
    "<img src=\"../Images_and_Data/Images/golden2.png\" style=\"width: 800px;\"/>"
   ]
  },
  {
   "cell_type": "markdown",
   "id": "african-check",
   "metadata": {},
   "source": [
    "If $f(x_4)$ is less than $f(x_2)$ (shown on the left), the minimum must\n",
    "be between $x_2$ and $x_3$, so we would discard $x_1$ and proceed with\n",
    "the new bracket $(x_2, x_4, x_3)$.\n",
    "\n",
    "If $f(x_4)$ is greater than $f(x_2)$ (shown on the right), the local\n",
    "minimum must be between $x_1$ and $x_4$, so we would discard $x_3$ and\n",
    "proceed with the new bracket $(x_1, x_2, x_4)$.\n",
    "\n",
    "Either way, the range gets smaller and our estimate of the optimal value\n",
    "of $x$ gets better.\n",
    "\n",
    "This method works for almost any value of $x_4$, but some choices are\n",
    "better than others. You might be tempted to bisect the interval between\n",
    "$x_2$ and $x_3$, but that turns out not to be optimal. You can\n",
    "read about a better option at <https://greenteapress.com/matlab/golden>."
   ]
  }
 ],
 "metadata": {
  "celltoolbar": "Tags",
  "kernelspec": {
   "display_name": "Python 3",
   "language": "python",
   "name": "python3"
  },
  "language_info": {
   "codemirror_mode": {
    "name": "ipython",
    "version": 3
   },
   "file_extension": ".py",
   "mimetype": "text/x-python",
   "name": "python",
   "nbconvert_exporter": "python",
   "pygments_lexer": "ipython3",
   "version": "3.8.8"
  }
 },
 "nbformat": 4,
 "nbformat_minor": 5
}
