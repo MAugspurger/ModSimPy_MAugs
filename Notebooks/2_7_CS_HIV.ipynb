{
 "cells": [
  {
   "cell_type": "markdown",
   "metadata": {},
   "source": [
    "# Modeling HIV infection"
   ]
  },
  {
   "cell_type": "markdown",
   "metadata": {},
   "source": [
    "*Modeling and Simulation in Python*\n",
    "\n",
    "Copyright 2021 Allen Downey, (License: [Creative Commons Attribution-NonCommercial-ShareAlike 4.0 International](https://creativecommons.org/licenses/by-nc-sa/4.0/))\n",
    "\n",
    "Revised, Mike Augspurger (2021-present)"
   ]
  },
  {
   "cell_type": "code",
   "execution_count": 1,
   "metadata": {
    "tags": []
   },
   "outputs": [],
   "source": [
    "# import functions from modsim\n",
    "import sys\n",
    "sys.path.append('..\\\\..\\\\ModSimPy_Directory')\n",
    "from ModSimPy_Functions.modsim import *\n",
    "\n",
    "import pandas as pd"
   ]
  },
  {
   "cell_type": "markdown",
   "metadata": {},
   "source": [
    "During the initial phase of HIV infection, the concentration of the virus in the bloodstream typically increases quickly and then decreases.\n",
    "The most obvious explanation for the decline is an immune response that destroys the virus or controls its replication.\n",
    "However, at least in some patients, the decline occurs even without any detectable immune response.\n",
    "\n",
    "In 1996 Andrew Phillips proposed another explanation for the decline (\"Reduction of HIV Concentration During Acute Infection: Independence from a Specific Immune Response\", available from <https://people.math.gatech.edu/~weiss/uploads/5/8/6/1/58618765/phillips1996.pdf>).\n",
    "\n",
    "Phillips presents a system of differential equations that models the concentrations of the HIV virus and the CD4 cells it infects.\n",
    "The model does not include an immune response; nevertheless, it demonstrates behavior that is qualitatively similar to what is seen in patients during the first few weeks after infection.\n",
    "\n",
    "His conclusion is that the observed decline in the concentration of HIV might not be caused by an immune response; it could be due to the dynamic interaction between HIV and the cells it infects.\n",
    "\n",
    "In this notebook, we'll implement Phillips's model and consider whether it does the work it is meant to do."
   ]
  },
  {
   "cell_type": "markdown",
   "metadata": {},
   "source": [
    "## The Model\n",
    "\n",
    "The model has four state variables, `R`, `L`, `E`, and `V`.  \n",
    "\n",
    "Here are the initial conditions for the variables."
   ]
  },
  {
   "cell_type": "code",
   "execution_count": 2,
   "metadata": {},
   "outputs": [],
   "source": [
    "init = pd.Series(dict(R=200, L=0, E=0, V=4e-7))"
   ]
  },
  {
   "cell_type": "markdown",
   "metadata": {},
   "source": [
    "The behavior of the system is controlled by 9 parameters.\n",
    "That might seem like a lot, but they are not entirely free parameters; their values are constrained by measurements and background knowledge (although some are more constrained than others).\n",
    "Here are the values from Table 1.\n",
    "\n",
    "Note: the parameter $\\rho$ (the Greek letter \"rho\") in the table appears as $p$ in the equations.  Since it represents a proportion, we'll use $p$."
   ]
  },
  {
   "cell_type": "code",
   "execution_count": 3,
   "metadata": {},
   "outputs": [],
   "source": [
    "gamma = 1.36\n",
    "mu = 1.36e-3\n",
    "tau = 0.2\n",
    "beta = 0.00027\n",
    "p = 0.1\n",
    "alpha = 3.6e-2\n",
    "sigma = 2\n",
    "delta = 0.33\n",
    "pi = 100"
   ]
  },
  {
   "cell_type": "markdown",
   "metadata": {},
   "source": [
    "Here's a system object with the initial conditions and the duration of the simulation (120 days).\n",
    "Normally we would store the parameters in the system object, but the code will be less cluttered if we leave them as global variables."
   ]
  },
  {
   "cell_type": "code",
   "execution_count": 4,
   "metadata": {},
   "outputs": [],
   "source": [
    "system = dict(init=init,\n",
    "                t_end=120,\n",
    "                num=481)"
   ]
  },
  {
   "cell_type": "markdown",
   "metadata": {},
   "source": [
    "#### Part 1\n",
    "Let's try to understand what Phillips is modeling here. As you work through the paper, you may need to look up a couple words or concepts to make sure you understand the physical meaning.  You don't need to understand every sentence, but we want to get the main idea of his argument and to understand the method.\n",
    "\n",
    "First, write out the 4 main variables and define them; then do the same with the parameters.  Recognize that when the author refers to \"CD4 lymphocytes\" (a type of white blood cell) and \"cells\", he is referring to the same thing:"
   ]
  },
  {
   "cell_type": "markdown",
   "metadata": {},
   "source": [
    "#### Note the meaning of the variables here\n",
    "\n",
    "R: \n",
    "\n",
    "L: \n",
    "\n",
    "E: \n",
    "\n",
    "V: "
   ]
  },
  {
   "cell_type": "markdown",
   "metadata": {},
   "source": [
    "#### Note the meaning of the parameters here\n",
    "\n",
    "gamma:\n",
    "\n",
    "mu:\n",
    "\n",
    "tau:\n",
    "\n",
    "beta:\n",
    "\n",
    "p:\n",
    "\n",
    "alpha: \n",
    "\n",
    "sigma:\n",
    "\n",
    "delta:\n",
    "\n",
    "pi: "
   ]
  },
  {
   "cell_type": "markdown",
   "metadata": {},
   "source": [
    "Finally, write out the meaning of the differential equations in plain English.  I want you to see that these equations have a meaning: they were derived not from some mathematical principle, but from observation.  I'll do the first one:\n",
    "\n",
    "$$\\frac {dR}{dt} = \\Gamma \\tau -\\mu R - \\beta R V$$\n",
    "\n",
    "The first term $\\Gamma \\tau$ multiplies the rate of normal CD4 cell production (how many new cells are created?) and multiples it by the proportion of those cells that are \"activated.\"  So the product $\\Gamma \\tau$ is the rate of production of activated CD4 cells.   The second terms is the normal death rate of these cells multiplied by the number of R cells: that is the rate of death of activated CD4 cells.  The final term is rate at which CD4 cells are infected by a virion times the number of CD4 cells times the number of virions: that is, the rate at which CD4 cells are infected.\n",
    "\n",
    "The \"translation\" of the equation, then, is something like this:\n",
    "\n",
    "The rate of change of the number of active, uninfected CD4 cells (i.e. R-type cells) is equal to:\n",
    "-    the rate of creation of R-type cells\n",
    "\n",
    "-    MINUS the rate of death of R-type cells\n",
    "\n",
    "-    MINUS the rate of the transformation of R-type cells into infected cells\n",
    "\n",
    "You can see that there is no math magic there: the equation represents a fairly intuitive  idea of what might control the population of R-type cells.  It is a *model* of the population of R-type cells. Now write out the \"translation\" of the other three equations:"
   ]
  },
  {
   "cell_type": "markdown",
   "metadata": {},
   "source": [
    "#### Write out the translations of the differential equations here\n",
    "\n",
    "dL/dt:\n",
    "\n",
    "dE/dt:\n",
    "\n",
    "dV/dt:"
   ]
  },
  {
   "cell_type": "markdown",
   "metadata": {},
   "source": [
    "#### Part 2\n",
    "\n",
    "Use the equations in the paper to write a slope function that takes a `State` object with the current values of `R`, `L`, `E`, and `V`, and returns their derivatives in the corresponding order."
   ]
  },
  {
   "cell_type": "code",
   "execution_count": 5,
   "metadata": {},
   "outputs": [],
   "source": [
    "# Define your slope function here\n",
    "def slope_func(t, state, system):\n",
    "    R, L, E, V = state\n",
    "        \n",
    "    dRdt = gamma * tau - mu * R - beta * R * V\n",
    "    dLdt = p* beta * R * V - mu * L - alpha * L\n",
    "    dEdt = (1-p)* beta * R * V + alpha * L - delta * E\n",
    "    dVdt = pi * E - sigma * V\n",
    "    \n",
    "    \n",
    "    return dRdt, dLdt, dEdt, dVdt"
   ]
  },
  {
   "cell_type": "markdown",
   "metadata": {},
   "source": [
    "Test your slope function with the initial conditions.\n",
    "The results should be approximately\n",
    "\n",
    "```\n",
    "-2.16e-08, 2.16e-09, 1.944e-08, -8e-07\n",
    "```"
   ]
  },
  {
   "cell_type": "code",
   "execution_count": 6,
   "metadata": {},
   "outputs": [
    {
     "data": {
      "text/plain": [
       "(-2.1599999999999998e-08, 2.16e-09, 1.9439999999999997e-08, -8e-07)"
      ]
     },
     "execution_count": 6,
     "metadata": {},
     "output_type": "execute_result"
    }
   ],
   "source": [
    "# Test your slope function here\n",
    "slope_func(0,init,system)"
   ]
  },
  {
   "cell_type": "markdown",
   "metadata": {},
   "source": [
    "#### Part 3\n",
    "\n",
    "In the first cell, use `run_solve_ivp` to simulate the system of equations.\n",
    "\n",
    "In the next few cells after that, plot the results on the same scale as the figures in the paper.\n",
    "\n",
    "Compare your results to the results in the paper.  Are they consistent?  Note that in the results in the paper, each plot has to y-axis labels for the different variables plotted.  Be sure you are looking at the correct labels as you compare the plots."
   ]
  },
  {
   "cell_type": "code",
   "execution_count": 7,
   "metadata": {},
   "outputs": [],
   "source": [
    "# Use run_solve_ivp\n",
    "results, details = run_solve_ivp(system, slope_func)"
   ]
  },
  {
   "cell_type": "code",
   "execution_count": 14,
   "metadata": {},
   "outputs": [
    {
     "data": {
      "image/png": "[encoded data removed]",
      "text/plain": [
       "<Figure size 432x288 with 1 Axes>"
      ]
     },
     "metadata": {
      "needs_background": "light"
     },
     "output_type": "display_data"
    }
   ],
   "source": [
    "results.V.plot(label='V', xlabel='Time (days)',\n",
    "         ylabel='Free virions V',\n",
    "         logy=True,\n",
    "         ylim=[0.1, 1e4]);"
   ]
  },
  {
   "cell_type": "code",
   "execution_count": 15,
   "metadata": {},
   "outputs": [
    {
     "data": {
      "image/png": "[encoded data removed]",
      "text/plain": [
       "<Figure size 432x288 with 1 Axes>"
      ]
     },
     "metadata": {
      "needs_background": "light"
     },
     "output_type": "display_data"
    }
   ],
   "source": [
    "results.R.plot(label='R', color='C1',\n",
    "               xlabel='Time (days)', \n",
    "               ylabel='Number of cells');"
   ]
  },
  {
   "cell_type": "code",
   "execution_count": 16,
   "metadata": {},
   "outputs": [
    {
     "data": {
      "text/plain": [
       "<AxesSubplot:xlabel='Time (days)', ylabel='Number of cells'>"
      ]
     },
     "execution_count": 16,
     "metadata": {},
     "output_type": "execute_result"
    },
    {
     "data": {
      "image/png": "[encoded data removed]",
      "text/plain": [
       "<Figure size 432x288 with 1 Axes>"
      ]
     },
     "metadata": {
      "needs_background": "light"
     },
     "output_type": "display_data"
    }
   ],
   "source": [
    "results.L.plot(color='C2', label='L',legend=True)\n",
    "results.E.plot(color='C4', label='E',\n",
    "               xlabel='Time (days)',\n",
    "               ylabel='Number of cells',\n",
    "               logy=True,legend=True,\n",
    "               ylim=[0.1, 100])"
   ]
  },
  {
   "cell_type": "markdown",
   "metadata": {},
   "source": [
    "#### Part 4\n",
    "\n",
    "What is interesting about the model presented by Phillips (i.e. what is the main point of the paper)?  What are the strengths of the model?  What are the weaknesses?"
   ]
  },
  {
   "cell_type": "code",
   "execution_count": null,
   "metadata": {},
   "outputs": [],
   "source": []
  }
 ],
 "metadata": {
  "kernelspec": {
   "display_name": "Python 3",
   "language": "python",
   "name": "python3"
  },
  "language_info": {
   "codemirror_mode": {
    "name": "ipython",
    "version": 3
   },
   "file_extension": ".py",
   "mimetype": "text/x-python",
   "name": "python",
   "nbconvert_exporter": "python",
   "pygments_lexer": "ipython3",
   "version": "3.8.8"
  }
 },
 "nbformat": 4,
 "nbformat_minor": 2
}
