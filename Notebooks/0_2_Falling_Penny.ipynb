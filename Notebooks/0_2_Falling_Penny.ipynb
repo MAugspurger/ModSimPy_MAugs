{
 "cells": [
  {
   "cell_type": "markdown",
   "id": "affecting-malta",
   "metadata": {},
   "source": [
    "# 0.2: The Falling Penny (Modeling with Computation)"
   ]
  },
  {
   "cell_type": "markdown",
   "id": "pressed-palestinian",
   "metadata": {
    "tags": []
   },
   "source": [
    "*Modeling and Simulation in Python*\n",
    "\n",
    "Copyright 2021 Allen Downey, (License: [Creative Commons Attribution-NonCommercial-ShareAlike 4.0 International](https://creativecommons.org/licenses/by-nc-sa/4.0/))\n",
    "\n",
    "Revised, Mike Augspurger (2021-present)"
   ]
  },
  {
   "cell_type": "markdown",
   "id": "criminal-lunch",
   "metadata": {},
   "source": [
    "## The Falling Penny Myth\n",
    "\n",
    "You might have heard that a penny dropped from the top of the Empire State Building would be going so fast when it hit the pavement that it would be embedded in the concrete; or if it hit a person, it would break their skull.\n",
    "\n",
    "We can test this myth by making and analyzing a model. \n",
    "\n",
    "The model we'll use here is a pretty simply one: in fact, it will look a fair bit like a homework problem from a physics class.  This is an important connection to make, because indeed most of your homework problems in physics (or chemistry, or even biology) are models--that is, they are simplications of a real world situation designed to help us understand the real world situation better.\n",
    "\n",
    "Since every model is a simplification, we start with some simplifying assumptions.  To start, we'll assume that the effect of air resistance is small. Because this effect is small, we will ignore it.  Now of course, this means are model will no longer be exactly correct, which might or might not be a problem, depending on how we hope to use the answer.  We can check later to see how \"wrong\" our model is.\n",
    "\n",
    "OK. Now if air resistance is negligible, the primary force acting on the penny\n",
    "is gravity, which causes the penny to accelerate downward.  We'll set the gravitational acceleration to $g = 9.8 m/s^2$.  Note that even *this* is a simplified model (!): $g$ actually varies with elevation, but again we're going to ignore that variation (this is a pretty good simplification--the error it creates is tiny).\n",
    "\n",
    "If the initial velocity is 0 and the acceleration is $a = g$, the velocity after $t$ seconds is \n",
    "\n",
    "$$v = g t$$\n",
    "\n",
    "and the distance the penny has dropped is \n",
    "\n",
    "$$x = g t^2 / 2$$ \n",
    "\n",
    "These two equations are known as *kinematic equations*, and you'll run into them in your physics classes, if you haven't already.\n",
    "\n",
    "To find the time until the penny reaches the sidewalk, we can rearrange the second equation to solve for $t$:\n",
    "\n",
    "$$t = \\sqrt{ 2 x / g}$$ \n",
    "\n",
    "Plugging in a value for $g$ and the height of the Empire State Building ($x = 381 m$), we get $t = 8.8$ s. \n",
    "\n",
    "Then computing $v = g t$ we get a velocity on impact of $86$ m/s, which is about 190 miles per hour. That sounds like it could hurt."
   ]
  },
  {
   "cell_type": "markdown",
   "id": "documentary-diagnosis",
   "metadata": {},
   "source": [
    "So far, we've just done a pretty simple physics calcultion model: no need for a computer simulation yet.\n",
    "\n",
    "But clearly this answer is not correct.  It turns out that ignoring air resistance is not a good choice. So we want to *iterate* our model: that is, we want to add in some new complication that will make the model more troublesome, but happily more accurate.  It turns out that once\n",
    "the penny gets to about 29 m/s, the upward force of air resistance\n",
    "equals the downward force of gravity, so the penny stops accelerating.\n",
    "This is the *terminal velocity* of the penny in air.\n",
    "\n",
    "Once the penny reaches terminal velocity, it doesn't matter how much farther it falls; it hits the sidewalk at about 29 m/s.\n",
    "That's much less than 86 m/s, as the simple model predicts.\n",
    "\n",
    "We'll use Python's computational tools in the rest of this chapter to simulate this more complex model. "
   ]
  },
  {
   "cell_type": "markdown",
   "id": "recent-appliance",
   "metadata": {},
   "source": [
    "The statistician George Box famously said \"All models are wrong, but\n",
    "some are useful.\" He was talking about statistical models, but his wise words apply to all kinds of models. Our first model, which ignores air resistance, is very wrong, and probably not useful. The second model, which takes air resistance into account, is still wrong, but it's better, and it's good enough to refute the myth.\n",
    "\n",
    "The television show *Mythbusters* has tested the myth of the falling\n",
    "penny more carefully; you can view the results at <https://www.facebook.com/watch/?v=10152607367328224>. Their work provides a good sense of why this question is a lot more complicated than you might think."
   ]
  },
  {
   "cell_type": "markdown",
   "id": "brief-zoning",
   "metadata": {},
   "source": [
    "## Computation In Python\n",
    "\n",
    "Let me show you how I computed the results from the\n",
    "previous section using Python.\n",
    "First we'll create a variable to represent acceleration due to gravity in meters per second squared (m/s$^2$)."
   ]
  },
  {
   "cell_type": "code",
   "execution_count": 2,
   "id": "eleven-marine",
   "metadata": {},
   "outputs": [],
   "source": [
    "g = 9.8"
   ]
  },
  {
   "cell_type": "markdown",
   "id": "upset-myanmar",
   "metadata": {},
   "source": [
    "A *variable* is a name that corresponds to a value. In this example, the name is `g` and the value is the number `9.8`.\n",
    "\n",
    "Suppose we let the penny drop for $3.4$ seconds (s).  I'll create a variable to represent this time:"
   ]
  },
  {
   "cell_type": "code",
   "execution_count": 3,
   "id": "following-launch",
   "metadata": {},
   "outputs": [],
   "source": [
    "\n",
    "t = 3.4"
   ]
  },
  {
   "cell_type": "markdown",
   "id": "greek-heritage",
   "metadata": {},
   "source": [
    "Now we can compute the velocity of the penny after `t` seconds, and assign the answer to a variable named `v`:"
   ]
  },
  {
   "cell_type": "code",
   "execution_count": 4,
   "id": "mature-duration",
   "metadata": {},
   "outputs": [],
   "source": [
    "v = g * t"
   ]
  },
  {
   "cell_type": "markdown",
   "id": "qualified-diabetes",
   "metadata": {},
   "source": [
    "Python uses the symbol `*` for multiplication.  The other arithmetic operators are `+` for addition, `-` for subtraction, `/` for division, and `**` for exponentiation.\n",
    "\n",
    "When you assign a value to a variable, Jupyter does not show the result automatically, but you can display the value of a variable like this:"
   ]
  },
  {
   "cell_type": "code",
   "execution_count": 5,
   "id": "considered-inclusion",
   "metadata": {},
   "outputs": [
    {
     "data": {
      "text/plain": [
       "33.32"
      ]
     },
     "execution_count": 5,
     "metadata": {},
     "output_type": "execute_result"
    }
   ],
   "source": [
    "v"
   ]
  },
  {
   "cell_type": "markdown",
   "id": "northern-saturday",
   "metadata": {},
   "source": [
    "After $3.4$ s, the velocity of the penny is about $33$ m/s (ignoring air resistance).  Now let's see how far it would travel during that time.  Remember from above that our equation for distance travelled is $x = g t^2 / 2$:"
   ]
  },
  {
   "cell_type": "code",
   "execution_count": 6,
   "id": "valued-electricity",
   "metadata": {},
   "outputs": [
    {
     "data": {
      "text/plain": [
       "56.644"
      ]
     },
     "execution_count": 6,
     "metadata": {},
     "output_type": "execute_result"
    }
   ],
   "source": [
    "x = g * t**2 / 2\n",
    "x"
   ]
  },
  {
   "cell_type": "markdown",
   "id": "yellow-business",
   "metadata": {},
   "source": [
    "It would travel about $56$ m.  Now, going in the other direction, let's compute the time it takes to fall 381 m, the height of the Empire State Building."
   ]
  },
  {
   "cell_type": "code",
   "execution_count": 7,
   "id": "closed-month",
   "metadata": {},
   "outputs": [],
   "source": [
    "h = 381"
   ]
  },
  {
   "cell_type": "markdown",
   "id": "fuzzy-lease",
   "metadata": {},
   "source": [
    "For this computation, we need the square root function, `sqrt`, which is provided by a *library* called NumPy, which contains functions related to the manipulation of numbers.\n",
    "Before we can use it, though,we have to *import* it.  Importing a function means we make it available to use, even though the code for that function is not in this particular notebook:"
   ]
  },
  {
   "cell_type": "code",
   "execution_count": 8,
   "id": "nuclear-clone",
   "metadata": {},
   "outputs": [],
   "source": [
    "from numpy import sqrt"
   ]
  },
  {
   "cell_type": "markdown",
   "id": "unlimited-swiss",
   "metadata": {},
   "source": [
    "Again using the kinematic equation that we used above, we can write:"
   ]
  },
  {
   "cell_type": "code",
   "execution_count": 9,
   "id": "quarterly-nightmare",
   "metadata": {},
   "outputs": [
    {
     "data": {
      "text/plain": [
       "8.817885349720552"
      ]
     },
     "execution_count": 9,
     "metadata": {},
     "output_type": "execute_result"
    }
   ],
   "source": [
    "t = sqrt(2 * h / g)\n",
    "t"
   ]
  },
  {
   "cell_type": "markdown",
   "id": "velvet-oklahoma",
   "metadata": {},
   "source": [
    "With no air resistance, it would take about $8.8$ s for the penny to reach the sidewalk."
   ]
  },
  {
   "cell_type": "code",
   "execution_count": 10,
   "id": "quality-external",
   "metadata": {},
   "outputs": [
    {
     "data": {
      "text/plain": [
       "86.41527642726142"
      ]
     },
     "execution_count": 10,
     "metadata": {},
     "output_type": "execute_result"
    }
   ],
   "source": [
    "v = g * t\n",
    "v"
   ]
  },
  {
   "cell_type": "markdown",
   "id": "active-lobby",
   "metadata": {},
   "source": [
    "And its velocity on impact would be about $86$ m/s."
   ]
  },
  {
   "cell_type": "markdown",
   "id": "44fd6588",
   "metadata": {},
   "source": [
    "### Jupyter Tip\n",
    "\n",
    "When you change the contents of a cell, you have to run it again for those changes to have an effect.  If you forget to do that, the results can be confusing, because the code you are looking at is not the code you ran.\n",
    "\n",
    "If you ever lose track of which cells have run, and in what order, you should go to the Kernel menu and select \"Restart & Run All\".  Restarting the kernel means that all of your variables get deleted, and running all the cells means all of your code will run again, in the right order.\n",
    "\n",
    "Select \"Restart & Run All\" now and confirm that it runs all of the cells."
   ]
  },
  {
   "cell_type": "markdown",
   "id": "human-phase",
   "metadata": {},
   "source": [
    "### False Precision\n",
    "\n",
    "Python displays results with about 16 digits, which gives the impression that they are very precise, but don't be fooled.\n",
    "The numbers we get out are only as good as the numbers we put in.\n",
    "\n",
    "For example, the \"roof height\" of the Empire State Building is $380$ m (according to Wikipedia: <https://en.wikipedia.org/wiki/Empire_State_Building>).\n",
    "I chose $h=381$ m for this example on the assumption that the observation deck is on the roof and you drop the penny from a 1 meter railing.\n",
    "But that's probably not right, so we should treat this value as an approximation where only the first two digits are likely to be right.\n",
    "\n",
    "If the precision of the inputs is two digits, the precision of the outputs is two digits, *at most*.\n",
    "That's why, if the output is `86.41527642726142`, I report it as \"about 86\"."
   ]
  },
  {
   "cell_type": "markdown",
   "id": "clinical-blackjack",
   "metadata": {},
   "source": [
    "### Units and Computation\n",
    "\n",
    "The computations we just did use numbers without units.\n",
    "When we set `h=381`, we left out the meters, and when we set `g=9.8`, we left out the meters per second squared.\n",
    "And, when we got the result `v=86`, we added back the meters per second.  Leaving units of out computation is common practice, but it tends to cause errors, including the very expensive failure of the Mars Climate Orbiter in 1999 (see <https://en.wikipedia.org/wiki/Mars_Climate_Orbiter>).\n",
    "\n",
    "We have three choices.  We could us a units library such as Pint (<https://pint.readthedocs.io/>).\n",
    "This helps to find errors in the code because it recognizes unit mistakes, but I (and most programmers) find it unwieldy: it requires too much attention and mucks up the code.\n",
    "\n",
    "Our second choice is to always use base units.  In the metric system, if I always put my values in $kg$ (kilogram),$m$ (meter), and $s$ (seconds), as well as other more complex base units like Newtons and Watts, I know that my answer will be in base units (presuming I set up my equations correctly).  This often requires using exponents, since a given simulation might include millions of seconds or a small fraction of a kg, but it allows us to generally avoid unit conversions. This is the approach we'll (mostly) use in this textbook.\n",
    "\n",
    "Unfortunately, life does not always provide you with metric base units.  So in some cases, you need to convert data or solutions into more common units (like \"miles per hour\").  In those cases, you want to be extra careful in your conversions: always test your conversions by printing out a test case and making sure the code is converting correctly."
   ]
  },
  {
   "cell_type": "markdown",
   "id": "continuing-democrat",
   "metadata": {},
   "source": [
    "## Summary\n",
    "\n",
    "As a first example, we modeled a penny dropped from the Empire State building, including gravity but ignoring air resistance.  In the exercises, you'll have a chance to try a better model, including air resistance."
   ]
  },
  {
   "cell_type": "markdown",
   "id": "handmade-zoning",
   "metadata": {},
   "source": [
    "### Exercise 1\n",
    "\n",
    "In mathematical notation, we can write an equation like $v = g t$ and it's understood that we are multiplying $a$ and $t$.\n",
    "But that doesn't work in Python.  If you put two variables side-by-side, like this:\n",
    "\n",
    "```\n",
    "v = g t\n",
    "```\n",
    "\n",
    "you'll get a *syntax error*, which means that something is wrong with the structure of the program.\n",
    "Try it out in the next cell so you see what the error message looks like."
   ]
  },
  {
   "cell_type": "code",
   "execution_count": 11,
   "id": "postal-marking",
   "metadata": {},
   "outputs": [
    {
     "ename": "NameError",
     "evalue": "name 'gt' is not defined",
     "output_type": "error",
     "traceback": [
      "\u001b[1;31m---------------------------------------------------------------------------\u001b[0m",
      "\u001b[1;31mNameError\u001b[0m                                 Traceback (most recent call last)",
      "\u001b[1;32m<ipython-input-11-08ba5db7b57d>\u001b[0m in \u001b[0;36m<module>\u001b[1;34m\u001b[0m\n\u001b[1;32m----> 1\u001b[1;33m \u001b[0mv\u001b[0m \u001b[1;33m=\u001b[0m \u001b[0mgt\u001b[0m\u001b[1;33m\u001b[0m\u001b[1;33m\u001b[0m\u001b[0m\n\u001b[0m",
      "\u001b[1;31mNameError\u001b[0m: name 'gt' is not defined"
     ]
    }
   ],
   "source": [
    "v = gt"
   ]
  },
  {
   "cell_type": "markdown",
   "id": "1c5a7709",
   "metadata": {},
   "source": [
    "The error messages you get from Python can be big and scary (not this one), but if you read them carefully, they contain a lot of useful information.\n",
    "\n",
    "The last line usually tells you what type of error happened, and sometimes additional information, so you might want to start from the bottom and read up.  Also look for the arrows (---->) in the error message.  Sometimes there are multiple arrows, but one of them will point to the line in the code that led to the error.\n",
    "\n",
    "The previous lines are a *traceback* of what was happening when the error occurred.  The first section of the traceback shows the code you wrote.  The following sections are often from Python libraries."
   ]
  },
  {
   "cell_type": "markdown",
   "id": "pressing-sugar",
   "metadata": {},
   "source": [
    "### Exercise 2\n",
    "\n",
    "In this chapter we used the `sqrt` function from the NumPy library.  NumPy also provides a variable named `pi` that contains an approximation of the mathematical constant $\\pi$.\n",
    "We can import it like this:"
   ]
  },
  {
   "cell_type": "code",
   "execution_count": 12,
   "id": "legal-observer",
   "metadata": {},
   "outputs": [
    {
     "data": {
      "text/plain": [
       "3.141592653589793"
      ]
     },
     "execution_count": 12,
     "metadata": {},
     "output_type": "execute_result"
    }
   ],
   "source": [
    "from numpy import pi\n",
    "pi"
   ]
  },
  {
   "cell_type": "markdown",
   "id": "aggregate-mambo",
   "metadata": {},
   "source": [
    "NumPy provides other functions we'll use, including `log`, `exp`,`square`,`power`, `sin`, and `cos`.  To find out how to use these functions, see https://numpy.org/doc/stable/reference/routines.math.html\n",
    "\n",
    "Import `sin` and `cos` from NumPy and compute\n",
    "\n",
    "$$sin^2 (\\pi/4) + cos^2 (\\pi/4)$$\n",
    "\n",
    "Note: A mathematical identity tells us that the answer should be $1$.  There are are multiple ways to do this, including using `power` or `square` from the NumPy library (remember to import them).  Try to find a couple ways to get the correct answer.  "
   ]
  },
  {
   "cell_type": "code",
   "execution_count": 13,
   "id": "pressing-belgium",
   "metadata": {},
   "outputs": [
    {
     "name": "stdout",
     "output_type": "stream",
     "text": [
      "1.0000000000000002 1.0000000000000002 1.0000000000000002\n"
     ]
    }
   ],
   "source": [
    "from numpy import cos\n",
    "from numpy import sin\n",
    "from numpy import square, power\n",
    "\n",
    "x = square(sin(pi/4))+ square(sin(pi/4))\n",
    "y = power(sin(pi/4),2) + power(sin(pi/4),2)\n",
    "z = (sin(pi/4))**2 + (sin(pi/4))**2\n",
    "\n",
    "print(x,y,z)\n",
    "\n"
   ]
  },
  {
   "cell_type": "markdown",
   "id": "79dcce04",
   "metadata": {},
   "source": [
    "Did you notice that you often do not get exactly $1$?  This is the difference between *analytical math* (which tells us that the answer is exactly $1$) and *computational math* (which routinely has (generally) small rounding errors).\n"
   ]
  },
  {
   "cell_type": "markdown",
   "id": "valid-empire",
   "metadata": {},
   "source": [
    "### Exercise 3\n",
    "\n",
    "Suppose instead of dropping the penny, you throw it downward at its terminal velocity, $29$ m/s.  How long would it take to fall $381$ m?   (Hint: If we know a constant velocity and distance travelled, we can find the time.  Consider a similar question: if I have to drive 180 miles to Chicago, and drive 60 mph, how long will it take me?  How do I get that answer?)"
   ]
  },
  {
   "cell_type": "code",
   "execution_count": 14,
   "id": "greenhouse-reason",
   "metadata": {},
   "outputs": [
    {
     "data": {
      "text/plain": [
       "13.137931034482758"
      ]
     },
     "execution_count": 14,
     "metadata": {},
     "output_type": "execute_result"
    }
   ],
   "source": [
    "# Complete the solution here.  The penny would fall at a constant velocity of 29 m/s.  \n",
    "\n",
    "h = 381\n",
    "v = 29\n",
    "t = h/v\n",
    "t"
   ]
  },
  {
   "cell_type": "markdown",
   "id": "asian-murray",
   "metadata": {},
   "source": [
    "### Exercise 4:\n",
    "\n",
    "So far we have considered two models of a falling penny:\n",
    "\n",
    "* If we ignore air resistance, the penny falls with constant acceleration, and we can compute the time to reach the sidewalk and the velocity of the penny when it gets there.\n",
    "\n",
    "* If we take air resistance into account, and drop the penny at its terminal velocity, it falls with constant velocity. \n",
    "\n",
    "Now let's consider a third model that includes elements of the first two: let's assume that the acceleration of the penny is `a` until the penny reaches $29$ m/s, and then $0$ m/s afterwards.  What is the total time for the penny to fall $381$ m?"
   ]
  },
  {
   "cell_type": "markdown",
   "id": "detailed-minnesota",
   "metadata": {},
   "source": [
    "This is a two phase simulation, because we have to break the problem into 2 time periods: when it is accelerating downward, and when its acceleration is zero.  To solve, answer the following 3 questions, using the kinematic equations at the beginning of the chapter:\n",
    "\n",
    "1. How long would the penny take to reach $29$ m/s with constant acceleration `g`.  When an object is accelerating at $9.8  m/s^2$, that means every second its velocity increases by $9.8  m/s$.\n",
    "2. How far would it fall during that time?\n",
    "3. How long would it take to fall the remaining distance with constant velocity $29$ m/s?\n",
    "\n",
    "Suggestion: Assign each intermediate result to a variable with a meaningful name. "
   ]
  },
  {
   "cell_type": "code",
   "execution_count": 15,
   "id": "secure-crowd",
   "metadata": {},
   "outputs": [],
   "source": [
    "# Establish the unchanging variables (these are called \"parameters\")\n",
    "g = 9.8\n",
    "h = 381\n",
    "v_term = 29"
   ]
  },
  {
   "cell_type": "code",
   "execution_count": 16,
   "id": "thirty-minneapolis",
   "metadata": {},
   "outputs": [
    {
     "data": {
      "text/plain": [
       "2.9591836734693877"
      ]
     },
     "execution_count": 16,
     "metadata": {},
     "output_type": "execute_result"
    }
   ],
   "source": [
    "# Find how long it will take the penny to reach terminal velocity\n",
    "t1 = v_term/g\n",
    "t1"
   ]
  },
  {
   "cell_type": "code",
   "execution_count": 17,
   "id": "premier-seeking",
   "metadata": {},
   "outputs": [
    {
     "data": {
      "text/plain": [
       "42.90816326530612"
      ]
     },
     "execution_count": 17,
     "metadata": {},
     "output_type": "execute_result"
    }
   ],
   "source": [
    "# Find how far it will fall while it is reaching terminal velocity\n",
    "h1 = (g*(t1**2))/2\n",
    "h1"
   ]
  },
  {
   "cell_type": "code",
   "execution_count": 18,
   "id": "brave-laundry",
   "metadata": {},
   "outputs": [
    {
     "data": {
      "text/plain": [
       "11.658339197748065"
      ]
     },
     "execution_count": 18,
     "metadata": {},
     "output_type": "execute_result"
    }
   ],
   "source": [
    "# Find how long it will take to fall the remaining distance at constant velocity\n",
    "h2 = h - h1\n",
    "t2 = h2/v_term\n",
    "t2"
   ]
  },
  {
   "cell_type": "code",
   "execution_count": 19,
   "id": "adjusted-consultation",
   "metadata": {},
   "outputs": [
    {
     "data": {
      "text/plain": [
       "14.617522871217453"
      ]
     },
     "execution_count": 19,
     "metadata": {},
     "output_type": "execute_result"
    }
   ],
   "source": [
    "# Determine the total time\n",
    "t_total = t1 + t2\n",
    "t_total"
   ]
  },
  {
   "cell_type": "markdown",
   "id": "bf4bbb2a",
   "metadata": {},
   "source": [
    "According to this model, it takes almost 15 seconds to fall to the ground, which is more than our first model (8.8 s) as well as our second model (13.1 s)."
   ]
  },
  {
   "cell_type": "markdown",
   "id": "composed-tunnel",
   "metadata": {},
   "source": [
    "### Exercise 5\n",
    "\n",
    "A pitcher on the baseball team claims that when he throws a fastball he is throwing the ball down; that is, the ball leaves his hand at a downward angle.  But watching from the side, an observor argues that the ball leaves his hand at an upward angle.\n",
    "\n",
    "Can you think of a simple model you could use to settle the argument?  What factors would you include and what could you ignore?  What quantities would you have to look up or estimate?\n",
    "\n",
    "I suggest you convert all quantities to SI units like meters and seconds (see <https://en.wikipedia.org/wiki/International_System_of_Units>)."
   ]
  },
  {
   "cell_type": "code",
   "execution_count": 20,
   "id": "about-complex",
   "metadata": {},
   "outputs": [],
   "source": [
    "# Start by naming your key parameters (the unchanging variables).  \n",
    "# Do some estimating here (in British units).\n",
    "\n",
    "# Release height based on pitcher's height\n",
    "h_rel_B = 6     # feet\n",
    "\n",
    "# Pitcher's mound height\n",
    "h_mou_B = 10/12 # feet\n",
    "\n",
    "# Catcher glove height\n",
    "h_cat_B = 1     # feet\n",
    "\n",
    "# Distance from release point to catcher's glove\n",
    "d_thr_B = 60    # feet\n",
    "\n",
    "# Initial velocity of pitch\n",
    "v_hor_B = 80    # miles per hour\n",
    "\n",
    "# Acceleration caused by gravity (metric)\n",
    "g = 9.8         # m/s"
   ]
  },
  {
   "cell_type": "code",
   "execution_count": 21,
   "id": "unique-owner",
   "metadata": {},
   "outputs": [
    {
     "data": {
      "text/plain": [
       "35.76311111111111"
      ]
     },
     "execution_count": 21,
     "metadata": {},
     "output_type": "execute_result"
    }
   ],
   "source": [
    "# Convert your parameters to metric\n",
    "# Test your velocity conversion: it should be 30-40 m/s, depending on the velocity of your pitch\n",
    "\n",
    "foot_to_m = 0.3048\n",
    "mile_to_m = 1609.34\n",
    "hour_to_s = 3600\n",
    "\n",
    "\n",
    "h_rel = h_rel_B * foot_to_m\n",
    "h_cat = h_cat_B * foot_to_m\n",
    "h_mou = h_mou_B * foot_to_m\n",
    "d_thr = d_thr_B * foot_to_m\n",
    "v_hor = v_hor_B * (mile_to_m/hour_to_s)\n",
    "v_hor"
   ]
  },
  {
   "cell_type": "code",
   "execution_count": 22,
   "id": "minus-batman",
   "metadata": {},
   "outputs": [
    {
     "data": {
      "text/plain": [
       "0.511364907353325"
      ]
     },
     "execution_count": 22,
     "metadata": {},
     "output_type": "execute_result"
    }
   ],
   "source": [
    "# Assumption 1: no air resistance.  Find the time for the ball\n",
    "# to reach the catcher's mitt\n",
    "\n",
    "t = d_thr/v_hor\n",
    "t"
   ]
  },
  {
   "cell_type": "code",
   "execution_count": 23,
   "id": "exact-vegetable",
   "metadata": {},
   "outputs": [
    {
     "data": {
      "text/plain": [
       "1.2813209355151258"
      ]
     },
     "execution_count": 23,
     "metadata": {},
     "output_type": "execute_result"
    }
   ],
   "source": [
    "# Assumptions 2,3, and 4: Spin makes no difference, the ball starts out in \n",
    "# horizontal direction, and the ball falls vertically according to \n",
    "# gravitational acceleration.   Find how far the ball falls vertically \n",
    "# while in the air (assuming that its initial velocity in the vertical\n",
    "# direction is zero)\n",
    "\n",
    "d_fall = (g*(t**2))/2\n",
    "d_fall\n"
   ]
  },
  {
   "cell_type": "code",
   "execution_count": 24,
   "id": "neutral-lightning",
   "metadata": {},
   "outputs": [
    {
     "data": {
      "text/plain": [
       "0.4966790644848744"
      ]
     },
     "execution_count": 24,
     "metadata": {},
     "output_type": "execute_result"
    }
   ],
   "source": [
    "# If the ball falls vertically more than the vertical distance between \n",
    "# release point and the mitt, then it must have been thrown at an \n",
    "# upward angle\n",
    "\n",
    "# Find the vertical location of horizontally thrown ball when it reaches\n",
    "# the catcher's mitt.  If this number is positive, an accurate pitch would need\n",
    "# to be thrown at a downward angle (and vice versa)\n",
    "\n",
    "d_hand_to_mitt = h_rel + h_mou - h_cat\n",
    "\n",
    "loc_vertical_at_mitt = d_hand_to_mitt - d_fall\n",
    "loc_vertical_at_mitt"
   ]
  },
  {
   "cell_type": "markdown",
   "id": "656a2d97",
   "metadata": {},
   "source": [
    "Your answer will vary according to your assumptions and parameter values.  I found that the horizontally-released pitch reached home plate about 0.5 meters above the catcher's mitt.\n"
   ]
  },
  {
   "cell_type": "code",
   "execution_count": null,
   "id": "253f3302",
   "metadata": {},
   "outputs": [],
   "source": []
  }
 ],
 "metadata": {
  "celltoolbar": "Tags",
  "kernelspec": {
   "display_name": "Python 3",
   "language": "python",
   "name": "python3"
  },
  "language_info": {
   "codemirror_mode": {
    "name": "ipython",
    "version": 3
   },
   "file_extension": ".py",
   "mimetype": "text/x-python",
   "name": "python",
   "nbconvert_exporter": "python",
   "pygments_lexer": "ipython3",
   "version": "3.8.8"
  }
 },
 "nbformat": 4,
 "nbformat_minor": 5
}
