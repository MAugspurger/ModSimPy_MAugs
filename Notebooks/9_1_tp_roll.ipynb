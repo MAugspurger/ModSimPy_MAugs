{
 "cells": [
  {
   "cell_type": "markdown",
   "id": "august-parks",
   "metadata": {},
   "source": [
    "# Chapter 24: TP Roll I (Rotational Motion)"
   ]
  },
  {
   "cell_type": "markdown",
   "id": "imported-table",
   "metadata": {
    "tags": []
   },
   "source": [
    "*Modeling and Simulation in Python*\n",
    "\n",
    "Copyright 2021 Allen Downey, (License: [Creative Commons Attribution-NonCommercial-ShareAlike 4.0 International](https://creativecommons.org/licenses/by-nc-sa/4.0/))\n",
    "\n",
    "Revised, Mike Augspurger (2021-present)"
   ]
  },
  {
   "cell_type": "code",
   "execution_count": 1,
   "id": "formal-context",
   "metadata": {
    "tags": []
   },
   "outputs": [],
   "source": [
    "# import functions from modsim\n",
    "import sys\n",
    "sys.path.append('..\\\\..\\\\ModSimPy_Directory')\n",
    "from ModSimPy_Functions.modsim import *"
   ]
  },
  {
   "cell_type": "markdown",
   "id": "confirmed-california",
   "metadata": {},
   "source": [
    "In this chapter and the next we'll model systems that involve rotating objects.\n",
    "In general, rotation is complicated.\n",
    "In three dimensions, objects can rotate around three axes and many objects are easier to spin around some axes than others.\n",
    "If the configuration of an object changes over time, it might become\n",
    "easier or harder to spin, which explains the surprising dynamics of\n",
    "gymnasts, divers, ice skaters, etc.\n",
    "And when you apply a twisting force to a rotating object, the effect is often contrary to intuition. \n",
    "For an example, see this video on gyroscopic precession: <http://modsimpy.com/precess>."
   ]
  },
  {
   "cell_type": "markdown",
   "id": "composed-carol",
   "metadata": {},
   "source": [
    "We will not take on the physics of rotation in all its glory; rather, we will focus on simple scenarios where all rotation and all twisting forces are around a single axis. \n",
    "In that case, we can treat some vector quantities as if they were scalars; that is, simple numbers.\n",
    "\n",
    "The fundamental ideas in these examples are angular velocity, angular acceleration, torque, and moment of inertia.\n",
    "If you are not already familiar with these concepts, don't worry; I will define them as we go along, and I will point to additional reading."
   ]
  },
  {
   "cell_type": "markdown",
   "id": "integral-welsh",
   "metadata": {},
   "source": [
    "## The Physics of Toilet Paper\n",
    "\n",
    "As an example of a system with rotation, we'll simulate the manufacture of a roll of toilet paper, as shown in this video: <https://youtu.be/Z74OfpUbeac?t=231>. \n",
    "Starting with a cardboard tube at the center, we will roll up 47 m of paper, a typical length for a roll of toilet paper in the U.S. (see <http://modsimpy.com/paper>).\n",
    "\n",
    "The following figure shows a diagram of the system: $r$ represents\n",
    "the radius of the roll at a point in time. Initially, $r$ is the radius of the cardboard core, $R_{min}$. When the roll is complete, $r$ is $R_{max}$.\n",
    "\n",
    "![Diagram of a roll of toilet paper, showing change in paper length as a result of a small rotation, $d\\theta$.](https://github.com/AllenDowney/ModSim/raw/main/figs/paper_roll.png)\n",
    "\n",
    "I'll use $\\theta$ to represent the total rotation of the roll in radians. In the diagram, $d\\theta$ represents a small increase in $\\theta$, which corresponds to a distance along the circumference of $r~d\\theta$."
   ]
  },
  {
   "cell_type": "markdown",
   "id": "political-prerequisite",
   "metadata": {},
   "source": [
    "I'll use $y$ to represent the total length of paper that's been rolled. \n",
    "Initially, $\\theta=0$ and $y=0$. \n",
    "For each small increase in $\\theta$, there is a corresponding increase in $y$: \n",
    "\n",
    "$$dy = r~d\\theta$$\n",
    "\n",
    "If we divide both sides by a small increase in time, $dt$, we get a\n",
    "differential equation for $y$ as a function of time.\n",
    "\n",
    "$$\\frac{dy}{dt} = r \\frac{d\\theta}{dt}$$ \n",
    "\n",
    "As we roll up the paper, $r$ increases. Assuming it increases by a fixed amount per revolution, we can write \n",
    "\n",
    "$$dr = k~d\\theta$$ \n",
    "\n",
    "Where $k$ is an unknown constant we'll have to figure out. \n",
    "Again, we can divide both sides by $dt$ to get a differential equation in time:\n",
    "\n",
    "$$\\frac{dr}{dt} = k \\frac{d\\theta}{dt}$$ \n",
    "\n",
    "Finally, let's assume that $\\theta$ increases at a constant rate of $\\omega = 300$ rad/s (about 2900 revolutions per minute): \n",
    "\n",
    "$$\\frac{d\\theta}{dt} = \\omega$$ \n",
    "\n",
    "This rate of change is called an *angular velocity*. Now we have a system of differential equations we can use to simulate the system."
   ]
  },
  {
   "cell_type": "markdown",
   "id": "prostate-smell",
   "metadata": {},
   "source": [
    "## Setting Parameters\n",
    "\n",
    "Here are the parameters of the system:"
   ]
  },
  {
   "cell_type": "code",
   "execution_count": 2,
   "id": "honey-translator",
   "metadata": {},
   "outputs": [],
   "source": [
    "Rmin = 0.02      # m\n",
    "Rmax = 0.055     # m\n",
    "L = 47           # m\n",
    "omega = 300      # rad / s"
   ]
  },
  {
   "cell_type": "markdown",
   "id": "provincial-logistics",
   "metadata": {},
   "source": [
    "`Rmin` and `Rmax` are the initial and final values for the radius, `r`.\n",
    "`L` is the total length of the paper.\n",
    "`omega` is the angular velocity in radians per second.\n",
    "\n",
    "Figuring out `k` is not easy, but we can estimate it by pretending that `r` is constant and equal to the average of `Rmin` and `Rmax`:"
   ]
  },
  {
   "cell_type": "code",
   "execution_count": 3,
   "id": "floppy-plane",
   "metadata": {},
   "outputs": [],
   "source": [
    "Ravg = (Rmax + Rmin) / 2"
   ]
  },
  {
   "cell_type": "markdown",
   "id": "ordinary-leader",
   "metadata": {},
   "source": [
    "In that case, the circumference of the roll is also constant:"
   ]
  },
  {
   "cell_type": "code",
   "execution_count": 4,
   "id": "funky-bandwidth",
   "metadata": {},
   "outputs": [],
   "source": [
    "Cavg = 2 * np.pi * Ravg"
   ]
  },
  {
   "cell_type": "markdown",
   "id": "square-radius",
   "metadata": {},
   "source": [
    "And we can compute the number of revolutions to roll up length `L`, like this."
   ]
  },
  {
   "cell_type": "code",
   "execution_count": 5,
   "id": "front-conservation",
   "metadata": {},
   "outputs": [],
   "source": [
    "revs = L / Cavg"
   ]
  },
  {
   "cell_type": "markdown",
   "id": "headed-gibson",
   "metadata": {},
   "source": [
    "Converting rotations to radians, we can estimate the final value of `theta`."
   ]
  },
  {
   "cell_type": "code",
   "execution_count": 6,
   "id": "defined-plymouth",
   "metadata": {},
   "outputs": [
    {
     "data": {
      "text/plain": [
       "1253.3333333333335"
      ]
     },
     "execution_count": 6,
     "metadata": {},
     "output_type": "execute_result"
    }
   ],
   "source": [
    "theta = 2 * np.pi * revs\n",
    "theta"
   ]
  },
  {
   "cell_type": "markdown",
   "id": "naughty-narrative",
   "metadata": {},
   "source": [
    "Finally, `k` is the total change in `r` divided by the total change in `theta`.  That is, it is the change in thickness of the paper per radian turned--for each radian turned, then, the radius increases by `k`."
   ]
  },
  {
   "cell_type": "code",
   "execution_count": 7,
   "id": "subject-brief",
   "metadata": {},
   "outputs": [
    {
     "data": {
      "text/plain": [
       "2.7925531914893616e-05"
      ]
     },
     "execution_count": 7,
     "metadata": {},
     "output_type": "execute_result"
    }
   ],
   "source": [
    "k_est = (Rmax - Rmin) / theta\n",
    "k_est"
   ]
  },
  {
   "cell_type": "markdown",
   "id": "experienced-sharing",
   "metadata": {},
   "source": [
    "At the end of the chapter, we'll derive `k` analytically, but this estimate is enough to get started."
   ]
  },
  {
   "cell_type": "markdown",
   "id": "phantom-yacht",
   "metadata": {},
   "source": [
    "## Simulating the System\n",
    "\n",
    "The state variables we'll use are, `theta` (the rotational position defined in radians--how far has the roll turned since t = 0), `y` (the length of paper on the roll), and `r` (the radius of the roll at a given instant).\n",
    "\n",
    "Here are the initial conditions:"
   ]
  },
  {
   "cell_type": "code",
   "execution_count": 8,
   "id": "ranging-graham",
   "metadata": {},
   "outputs": [],
   "source": [
    "init = State(theta=0, y=0, r=Rmin)"
   ]
  },
  {
   "cell_type": "markdown",
   "id": "caring-unemployment",
   "metadata": {},
   "source": [
    "And here's a `System` object with `init` and `t_end`:"
   ]
  },
  {
   "cell_type": "code",
   "execution_count": 9,
   "id": "fresh-domestic",
   "metadata": {},
   "outputs": [],
   "source": [
    "system = System(init=init, t_end=10)"
   ]
  },
  {
   "cell_type": "markdown",
   "id": "beginning-artwork",
   "metadata": {},
   "source": [
    "Now we can use the differential equations from the previous section to\n",
    "write a slope function.  Remember we derived these two differential equations:\n",
    "\n",
    "$$\\frac{dy}{dt} = r \\frac{d\\theta}{dt}$$ \n",
    "\n",
    "$$\\frac{dr}{dt} = k \\frac{d\\theta}{dt}$$ \n",
    "\n",
    "We then defined constant angular velocity as $\\omega$:\n",
    "\n",
    "$$\\frac{d\\theta}{dt} = \\omega$$ \n",
    "\n",
    "If we sub this definition of $\\omega$ in into the DEs above, we get:\n",
    "\n",
    "$$\\frac{dy}{dt} = r \\omega$$ \n",
    "\n",
    "$$\\frac{dr}{dt} = k \\omega$$\n",
    "\n",
    "These are the definitions we'll use in our slope function:"
   ]
  },
  {
   "cell_type": "code",
   "execution_count": 10,
   "id": "signed-eight",
   "metadata": {},
   "outputs": [],
   "source": [
    "def slope_func(t, state, system):\n",
    "    theta, y, r = state\n",
    "    \n",
    "    dydt = r * omega\n",
    "    drdt = k_est * omega\n",
    "    \n",
    "    return omega, dydt, drdt"
   ]
  },
  {
   "cell_type": "markdown",
   "id": "maritime-funds",
   "metadata": {},
   "source": [
    "As usual, the slope function takes a time stamp, a `State` object, and a `System` object. \n",
    "\n",
    "The job of the slope function is to compute the time derivatives of the state variables--that is, how much each variable changes with time.\n",
    "\n",
    "And as usual, we'll test the slope function with the initial conditions."
   ]
  },
  {
   "cell_type": "code",
   "execution_count": 11,
   "id": "exterior-water",
   "metadata": {},
   "outputs": [
    {
     "data": {
      "text/plain": [
       "(300, 6.0, 0.008377659574468085)"
      ]
     },
     "execution_count": 11,
     "metadata": {},
     "output_type": "execute_result"
    }
   ],
   "source": [
    "slope_func(0, system.init, system)"
   ]
  },
  {
   "cell_type": "markdown",
   "id": "russian-rochester",
   "metadata": {},
   "source": [
    "We'd like to stop the simulation when the length of paper on the roll is `L`. We can do that with an event function that passes through 0 when `y` equals `L`:"
   ]
  },
  {
   "cell_type": "code",
   "execution_count": 12,
   "id": "strong-custody",
   "metadata": {},
   "outputs": [],
   "source": [
    "def event_func(t, state, system):\n",
    "    theta, y, r = state\n",
    "    return L - y"
   ]
  },
  {
   "cell_type": "markdown",
   "id": "catholic-workshop",
   "metadata": {},
   "source": [
    "We can test it with the initial conditions:"
   ]
  },
  {
   "cell_type": "code",
   "execution_count": 13,
   "id": "moved-present",
   "metadata": {},
   "outputs": [
    {
     "data": {
      "text/plain": [
       "47.0"
      ]
     },
     "execution_count": 13,
     "metadata": {},
     "output_type": "execute_result"
    }
   ],
   "source": [
    "event_func(0, system.init, system)"
   ]
  },
  {
   "cell_type": "markdown",
   "id": "affecting-pathology",
   "metadata": {},
   "source": [
    "Now let's run the simulation:"
   ]
  },
  {
   "cell_type": "code",
   "execution_count": 14,
   "id": "stable-lying",
   "metadata": {},
   "outputs": [
    {
     "data": {
      "text/plain": [
       "'A termination event occurred.'"
      ]
     },
     "execution_count": 14,
     "metadata": {},
     "output_type": "execute_result"
    }
   ],
   "source": [
    "results, details = run_solve_ivp(system, slope_func,\n",
    "                                  events=event_func)\n",
    "details.message"
   ]
  },
  {
   "cell_type": "markdown",
   "id": "experienced-pathology",
   "metadata": {},
   "source": [
    "Here are the last few time steps."
   ]
  },
  {
   "cell_type": "code",
   "execution_count": 15,
   "id": "careful-bahrain",
   "metadata": {},
   "outputs": [
    {
     "data": {
      "text/html": [
       "<div>\n",
       "<style scoped>\n",
       "    .dataframe tbody tr th:only-of-type {\n",
       "        vertical-align: middle;\n",
       "    }\n",
       "\n",
       "    .dataframe tbody tr th {\n",
       "        vertical-align: top;\n",
       "    }\n",
       "\n",
       "    .dataframe thead th {\n",
       "        text-align: right;\n",
       "    }\n",
       "</style>\n",
       "<table border=\"1\" class=\"dataframe\">\n",
       "  <thead>\n",
       "    <tr style=\"text-align: right;\">\n",
       "      <th></th>\n",
       "      <th>theta</th>\n",
       "      <th>y</th>\n",
       "      <th>r</th>\n",
       "    </tr>\n",
       "  </thead>\n",
       "  <tbody>\n",
       "    <tr>\n",
       "      <th>4.010667</th>\n",
       "      <td>1203.200000</td>\n",
       "      <td>44.277760</td>\n",
       "      <td>0.05360</td>\n",
       "    </tr>\n",
       "    <tr>\n",
       "      <th>4.052444</th>\n",
       "      <td>1215.733333</td>\n",
       "      <td>44.951740</td>\n",
       "      <td>0.05395</td>\n",
       "    </tr>\n",
       "    <tr>\n",
       "      <th>4.094222</th>\n",
       "      <td>1228.266667</td>\n",
       "      <td>45.630107</td>\n",
       "      <td>0.05430</td>\n",
       "    </tr>\n",
       "    <tr>\n",
       "      <th>4.136000</th>\n",
       "      <td>1240.800000</td>\n",
       "      <td>46.312860</td>\n",
       "      <td>0.05465</td>\n",
       "    </tr>\n",
       "    <tr>\n",
       "      <th>4.177778</th>\n",
       "      <td>1253.333333</td>\n",
       "      <td>47.000000</td>\n",
       "      <td>0.05500</td>\n",
       "    </tr>\n",
       "  </tbody>\n",
       "</table>\n",
       "</div>"
      ],
      "text/plain": [
       "                theta          y        r\n",
       "4.010667  1203.200000  44.277760  0.05360\n",
       "4.052444  1215.733333  44.951740  0.05395\n",
       "4.094222  1228.266667  45.630107  0.05430\n",
       "4.136000  1240.800000  46.312860  0.05465\n",
       "4.177778  1253.333333  47.000000  0.05500"
      ]
     },
     "execution_count": 15,
     "metadata": {},
     "output_type": "execute_result"
    }
   ],
   "source": [
    "results.tail()"
   ]
  },
  {
   "cell_type": "markdown",
   "id": "underlying-variance",
   "metadata": {},
   "source": [
    "The time it takes to complete one roll is about 4.2 seconds, which is consistent with what we see in the video."
   ]
  },
  {
   "cell_type": "code",
   "execution_count": 16,
   "id": "individual-patrick",
   "metadata": {},
   "outputs": [
    {
     "data": {
      "text/plain": [
       "4.177777777777779"
      ]
     },
     "execution_count": 16,
     "metadata": {},
     "output_type": "execute_result"
    }
   ],
   "source": [
    "results.index[-1]"
   ]
  },
  {
   "cell_type": "markdown",
   "id": "informative-porter",
   "metadata": {},
   "source": [
    "The final value of `y` is 47 meters, as expected."
   ]
  },
  {
   "cell_type": "code",
   "execution_count": 17,
   "id": "indian-skirt",
   "metadata": {},
   "outputs": [
    {
     "data": {
      "text/plain": [
       "47.000000000000014"
      ]
     },
     "execution_count": 17,
     "metadata": {},
     "output_type": "execute_result"
    }
   ],
   "source": [
    "final_state = results.iloc[-1] \n",
    "final_state.y"
   ]
  },
  {
   "cell_type": "markdown",
   "id": "running-tutorial",
   "metadata": {},
   "source": [
    "The final value of radius is 0.55 m, which is `Rmax`."
   ]
  },
  {
   "cell_type": "code",
   "execution_count": 18,
   "id": "higher-conflict",
   "metadata": {},
   "outputs": [
    {
     "data": {
      "text/plain": [
       "0.05500000000000001"
      ]
     },
     "execution_count": 18,
     "metadata": {},
     "output_type": "execute_result"
    }
   ],
   "source": [
    "final_state.r"
   ]
  },
  {
   "cell_type": "markdown",
   "id": "tamil-referral",
   "metadata": {},
   "source": [
    "The total number of rotations is close to 200, which seems plausible."
   ]
  },
  {
   "cell_type": "code",
   "execution_count": 19,
   "id": "employed-ordinary",
   "metadata": {},
   "outputs": [
    {
     "data": {
      "text/plain": [
       "199.47419534184218"
      ]
     },
     "execution_count": 19,
     "metadata": {},
     "output_type": "execute_result"
    }
   ],
   "source": [
    "radians = final_state.theta\n",
    "rotations = radians / 2 / np.pi\n",
    "rotations"
   ]
  },
  {
   "cell_type": "markdown",
   "id": "otherwise-mississippi",
   "metadata": {},
   "source": [
    "As an exercise, we'll see how fast the paper is moving.  But first, let's take a closer look at the results."
   ]
  },
  {
   "cell_type": "markdown",
   "id": "lesser-consumer",
   "metadata": {},
   "source": [
    "## Plotting the Results\n",
    "\n",
    "Here's what `theta` looks like over time."
   ]
  },
  {
   "cell_type": "code",
   "execution_count": 20,
   "id": "included-schema",
   "metadata": {},
   "outputs": [
    {
     "data": {
      "image/png": "[encoded data removed]",
      "text/plain": [
       "<Figure size 432x288 with 1 Axes>"
      ]
     },
     "metadata": {
      "needs_background": "light"
     },
     "output_type": "display_data"
    }
   ],
   "source": [
    "def plot_theta(results):\n",
    "    results.theta.plot(color='C0', label='theta')\n",
    "    decorate(xlabel='Time (s)',\n",
    "             ylabel='Angle (rad)')\n",
    "    \n",
    "plot_theta(results)"
   ]
  },
  {
   "cell_type": "markdown",
   "id": "regulation-runner",
   "metadata": {},
   "source": [
    "`theta` grows linearly, as we should expect with constant angular velocity.  A constant omega is analagous to a constant straight-line velocity: if I am travelling at 20 m/s, then my position will change linearly with time, just as my angular position changes linearly here.\n",
    "\n",
    "Here's what `r` looks like over time."
   ]
  },
  {
   "cell_type": "code",
   "execution_count": 21,
   "id": "persistent-siemens",
   "metadata": {},
   "outputs": [
    {
     "data": {
      "image/png": "[encoded data removed]",
      "text/plain": [
       "<Figure size 432x288 with 1 Axes>"
      ]
     },
     "metadata": {
      "needs_background": "light"
     },
     "output_type": "display_data"
    }
   ],
   "source": [
    "def plot_r(results):\n",
    "    results.r.plot(color='C2', label='r')\n",
    "\n",
    "    decorate(xlabel='Time (s)',\n",
    "             ylabel='Radius (m)')\n",
    "    \n",
    "plot_r(results)"
   ]
  },
  {
   "cell_type": "markdown",
   "id": "smoking-spine",
   "metadata": {},
   "source": [
    "`r` also increases linearly.  If this seems strange, you may be confusing angular and straight-line velocities (the latter is called *linear velocity*, but I'm avoiding using that *linear* in this second way here).  Our roll has a constant angular velocity: the time it takes to do one rotation, then, stays the same throughout the simulation, and each rotation adds one layer of paper.   So the thickness increases linearly with time.\n",
    "\n",
    "But the straight-line velocity of the paper changes as the roll gets thicker ($\\frac {dy}{dt} = r \\omega$): each rotation requires more paper, so the straight-line velocity has to increase over time.\n",
    "\n",
    "Here's what `y` looks like over time."
   ]
  },
  {
   "cell_type": "code",
   "execution_count": 22,
   "id": "contrary-typing",
   "metadata": {},
   "outputs": [
    {
     "data": {
      "image/png": "[encoded data removed]",
      "text/plain": [
       "<Figure size 432x288 with 1 Axes>"
      ]
     },
     "metadata": {
      "needs_background": "light"
     },
     "output_type": "display_data"
    }
   ],
   "source": [
    "def plot_y(results):\n",
    "    results.y.plot(color='C1', label='y')\n",
    "\n",
    "    decorate(xlabel='Time (s)',\n",
    "             ylabel='Length (m)')\n",
    "    \n",
    "plot_y(results)"
   ]
  },
  {
   "cell_type": "markdown",
   "id": "dedicated-tuning",
   "metadata": {},
   "source": [
    "Since the derivative of `y` depends on `r`, and `r` is increasing, `y` grows with increasing slope.\n",
    "\n",
    "In the next section, we'll see that we could have solved these differential equations analytically.\n",
    "However, it is often useful to start with simulation as a way of exploring and checking assumptions."
   ]
  },
  {
   "cell_type": "markdown",
   "id": "better-asbestos",
   "metadata": {},
   "source": [
    "## Analytic Solution\n",
    "\n",
    "The angular velocity is constant in our simulation: \n",
    "\n",
    "$$\\frac{d\\theta}{dt} = \\omega$$ \n",
    "\n",
    "Remember that a first order DE with a constant on the right hand side is a linear equation: the DE simply says that the rate of change is constant.   So we can find $\\theta$ as a function of time by integrating both sides, and we'll get a nice linear equation:\n",
    "\n",
    "$$\\theta(t) = \\omega t$$ \n",
    "\n",
    "I've left off the constant of integration since $\\theta = 0$ when $t = 0$.  \n",
    "\n",
    "\n",
    "\n",
    "Similarly, we can solve this linear DE:\n",
    "\n",
    "$$\\frac{dr}{dt} = k \\omega$$\n",
    "\n",
    "to find another linear equation for the radius as a function of time:\n",
    "\n",
    "$$r(t) = k \\omega t + R_{min}$$ \n",
    "\n",
    "Here the constant of integration is $R_{min}$, because when $t = 0$, $r = R_{min}$.\n",
    "\n",
    "\n",
    "\n",
    "Finally, we can plug the solution for $r$ into the differential equation for $y$: \n",
    "\n",
    "$$\\frac{dy}{dt}  = r \\omega$$             \n",
    "$$\\frac{dy}{dt}  = \\left[ k \\omega t + R_{min} \\right] \\omega = k \\omega^2 t + R_{min} \\omega$$\n",
    "              \n",
    "In this equation, everything is constant except for the variable $t$.  If we integrate both sides of this equation with respect to $t$, we get a squared term with the variable $t$:\n",
    "\n",
    "$$y(t) = \\frac {1}{2}k \\omega^2 t^2 + R_{min} \\omega t + C$$ \n",
    "\n",
    "Notice that this equation is of the form $y(t) = At^2 + Bt + C$: so $y$ is a parabola.  The constant of integration $C$ is equal to zero, since $y$ is 0 when the simulation starts (i.e. $t = 0$)."
   ]
  },
  {
   "cell_type": "markdown",
   "id": "foreign-needle",
   "metadata": {},
   "source": [
    "## Summary\n",
    "\n",
    "This chapter introduces rotation, starting with an example where angular velocity is constant.\n",
    "We simulated the manufacture of a roll of toilet paper, then we solved the same problem analytically.\n",
    "\n",
    "In the next chapter, we'll see a more interesting example where angular velocity is not constant.  And we'll introduce three new concepts: torque, angular acceleration, and moment of inertia."
   ]
  },
  {
   "cell_type": "markdown",
   "id": "thick-luther",
   "metadata": {},
   "source": [
    "### Exercise 1\n",
    "\n",
    " Since we keep `omega` constant, the linear velocity of the paper $\\frac{dy}{dt}$ increases with radius.  On a position vs. time plot like the $y$ vs. $t$ plot above, the linear velocity is the slope of line, since slope is another way to talk about rate of change.  In this sense, we could translate the equation $\\frac{dy}{dt} = r\\omega$ as \"the slope of the line on a $y$ vs. $t$ plot is $r(t)\\omega$\", remembering that $r$ changes with time.\n",
    " \n",
    "If we plotted the slope vs $t$, then, we will find that the slope increases linearly, because $r\\omega$ increases linearly.   Another term for slope is *gradient*, and we can use `gradient` to estimate the slope of `results.y`."
   ]
  },
  {
   "cell_type": "code",
   "execution_count": 23,
   "id": "cardiac-hospital",
   "metadata": {},
   "outputs": [],
   "source": [
    "dydt = gradient(results.y)"
   ]
  },
  {
   "cell_type": "markdown",
   "id": "atomic-montana",
   "metadata": {},
   "source": [
    "Here's what the result looks like."
   ]
  },
  {
   "cell_type": "code",
   "execution_count": 24,
   "id": "welsh-charleston",
   "metadata": {},
   "outputs": [
    {
     "data": {
      "image/png": "[encoded data removed]",
      "text/plain": [
       "<Figure size 432x288 with 1 Axes>"
      ]
     },
     "metadata": {
      "needs_background": "light"
     },
     "output_type": "display_data"
    }
   ],
   "source": [
    "dydt.plot(label='dydt')\n",
    "decorate(xlabel='Time (s)',\n",
    "         ylabel='Linear velocity (m/s)')"
   ]
  },
  {
   "cell_type": "markdown",
   "id": "becoming-birthday",
   "metadata": {},
   "source": [
    "With constant angular velocity, linear velocity is increasing, reaching its maximum at the end."
   ]
  },
  {
   "cell_type": "code",
   "execution_count": 25,
   "id": "informational-washer",
   "metadata": {},
   "outputs": [
    {
     "data": {
      "text/plain": [
       "16.4475000000001"
      ]
     },
     "execution_count": 25,
     "metadata": {},
     "output_type": "execute_result"
    }
   ],
   "source": [
    "max_linear_velocity = dydt.iloc[-1]\n",
    "max_linear_velocity"
   ]
  },
  {
   "cell_type": "markdown",
   "id": "bizarre-variation",
   "metadata": {},
   "source": [
    "Now suppose this peak velocity is the limiting factor; that is, we can't move the paper any faster than that.\n",
    "In that case, we might be able to speed up the process by keeping the linear velocity at the maximum all the time.\n",
    "\n",
    "Write a slope function that keeps the linear velocity, `dydt`, constant, and computes the angular velocity, `omega`, accordingly.\n",
    "Then, run the simulation and see how much faster we could finish rolling the paper."
   ]
  },
  {
   "cell_type": "markdown",
   "id": "4ab380ba",
   "metadata": {},
   "source": [
    "We start with the same two differential equations:\n",
    "\n",
    "$$\\frac{dy}{dt} = r \\frac{d\\theta}{dt}$$ \n",
    "\n",
    "\n",
    "$$\\frac{dr}{dt} = k \\frac{d\\theta}{dt}$$\n",
    "\n",
    "But we can't simply replace $\\frac{d\\theta}{dt}$ with $\\omega$.  Instead, we can replace $\\frac{dy}{dt}$ with $v$, our constant linear velocity:\n",
    "\n",
    "$$\\frac{d\\theta}{dt} = v/r$$ \n",
    "\n",
    "\n",
    "$$\\frac{dr}{dt} = k \\frac{d\\theta}{dt}$$\n",
    "\n",
    "$k$ is still defined in units of $m/rad$, so it is still a constant, even thought thickness will not increase linearly in this situation.\n"
   ]
  },
  {
   "cell_type": "code",
   "execution_count": 26,
   "id": "excellent-japanese",
   "metadata": {},
   "outputs": [],
   "source": [
    "# Set the parameters, replacing a constant omega with a constant v = 16.45\n",
    "# and create a system\n",
    "\n",
    "Rmin = 0.02      # m\n",
    "Rmax = 0.055     # m\n",
    "L = 47           # m\n",
    "v = 16.45        # m / s\n",
    "k_est = 2.79e-05     # m / rad\n",
    "\n",
    "init1 = State(theta=0, y=0, r=Rmin)\n",
    "system1 = System(init=init1, t_end=10)"
   ]
  },
  {
   "cell_type": "code",
   "execution_count": 27,
   "id": "steady-member",
   "metadata": {},
   "outputs": [
    {
     "data": {
      "text/plain": [
       "(822.5, 16.45, 0.02294775)"
      ]
     },
     "execution_count": 27,
     "metadata": {},
     "output_type": "execute_result"
    }
   ],
   "source": [
    "# Define and test a slope function\n",
    "\n",
    "def slope_func(t, state, system):\n",
    "    theta, y, r = state\n",
    "    \n",
    "    d0dt = v/r\n",
    "    drdt = k_est * d0dt\n",
    "    \n",
    "    return d0dt, v, drdt\n",
    "\n",
    "slope_func(0,system1.init,system1)"
   ]
  },
  {
   "cell_type": "code",
   "execution_count": 28,
   "id": "adult-chuck",
   "metadata": {},
   "outputs": [
    {
     "data": {
      "text/plain": [
       "47.0"
      ]
     },
     "execution_count": 28,
     "metadata": {},
     "output_type": "execute_result"
    }
   ],
   "source": [
    "# Define and test an event function\n",
    "def event_func(t, state, system):\n",
    "    theta, y, r = state\n",
    "    return L - y\n",
    "\n",
    "event_func(0,system1.init,system1)"
   ]
  },
  {
   "cell_type": "code",
   "execution_count": 29,
   "id": "arranged-queensland",
   "metadata": {},
   "outputs": [
    {
     "data": {
      "text/plain": [
       "'A termination event occurred.'"
      ]
     },
     "execution_count": 29,
     "metadata": {},
     "output_type": "execute_result"
    }
   ],
   "source": [
    "# Solve the system\n",
    "results1, details = run_solve_ivp(system1, slope_func,\n",
    "                                  events=event_func)\n",
    "details.message"
   ]
  },
  {
   "cell_type": "code",
   "execution_count": 30,
   "id": "similar-variance",
   "metadata": {},
   "outputs": [
    {
     "data": {
      "image/png": "[encoded data removed]",
      "text/plain": [
       "<Figure size 432x288 with 1 Axes>"
      ]
     },
     "metadata": {
      "needs_background": "light"
     },
     "output_type": "display_data"
    }
   ],
   "source": [
    "# Plot r, y, and theta to check your results: Do they makes sense?\n",
    "plot_theta(results1)\n",
    "#plot_r(results1)\n",
    "#plot_y(results1)"
   ]
  },
  {
   "cell_type": "code",
   "execution_count": 31,
   "id": "lovely-orange",
   "metadata": {},
   "outputs": [
    {
     "name": "stdout",
     "output_type": "stream",
     "text": [
      "The constant velocity process is  1.3206349206349213 seconds faster than the constant omega process\n"
     ]
    }
   ],
   "source": [
    "# Determine how much faster the constant velocity process is\n",
    "print('The constant velocity process is ',\n",
    "      results.index[-1] - results1.index[-1],\n",
    "      'seconds faster than the constant omega process')"
   ]
  },
  {
   "cell_type": "code",
   "execution_count": null,
   "id": "5e6b4927",
   "metadata": {},
   "outputs": [],
   "source": []
  }
 ],
 "metadata": {
  "celltoolbar": "Tags",
  "kernelspec": {
   "display_name": "Python 3",
   "language": "python",
   "name": "python3"
  },
  "language_info": {
   "codemirror_mode": {
    "name": "ipython",
    "version": 3
   },
   "file_extension": ".py",
   "mimetype": "text/x-python",
   "name": "python",
   "nbconvert_exporter": "python",
   "pygments_lexer": "ipython3",
   "version": "3.8.8"
  }
 },
 "nbformat": 4,
 "nbformat_minor": 5
}
