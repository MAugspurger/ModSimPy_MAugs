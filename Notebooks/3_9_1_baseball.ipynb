{
 "cells": [
  {
   "cell_type": "markdown",
   "id": "collaborative-people",
   "metadata": {},
   "source": [
    "# Chapter 8.1: Baseball I (Vectors)"
   ]
  },
  {
   "cell_type": "markdown",
   "id": "imported-table",
   "metadata": {
    "tags": []
   },
   "source": [
    "*Modeling and Simulation in Python*\n",
    "\n",
    "Copyright 2021 Allen Downey, (License: [Creative Commons Attribution-NonCommercial-ShareAlike 4.0 International](https://creativecommons.org/licenses/by-nc-sa/4.0/))\n",
    "\n",
    "Revised, Mike Augspurger (2021-present)"
   ]
  },
  {
   "cell_type": "code",
   "execution_count": 1,
   "id": "electoral-turkey",
   "metadata": {
    "tags": []
   },
   "outputs": [],
   "source": [
    "# import functions from modsim\n",
    "import sys\n",
    "sys.path.append('..\\\\..\\\\ModSimPy_Directory')\n",
    "from ModSimPy_Functions.modsim import *\n",
    "\n",
    "import pandas as pd"
   ]
  },
  {
   "cell_type": "markdown",
   "id": "advanced-guidance",
   "metadata": {},
   "source": [
    "In the previous chapter we modeled an object moving in one dimension, with and without drag. Now let's move on to two dimensions, and baseball!\n",
    "\n",
    "In this chapter we model the flight of a baseball including the effect\n",
    "of air resistance. In the next chapter we use this model to solve an\n",
    "optimization problem."
   ]
  },
  {
   "cell_type": "markdown",
   "id": "offensive-chinese",
   "metadata": {},
   "source": [
    "## Baseball\n",
    "\n",
    "To model the flight of a baseball, we have to make some decisions. To get started, we'll ignore any spin that might be on the ball, and the resulting Magnus force (see <http://modsimpy.com/magnus>). Under this assumption, the ball travels in a vertical plane, so we'll run simulations in two dimensions, rather than three.\n",
    "\n",
    "To model air resistance, we'll need the mass, frontal area, and drag\n",
    "coefficient of a baseball. Mass and diameter are easy to find (see\n",
    "<http://modsimpy.com/baseball>). Drag coefficient is only a little\n",
    "harder; according to *The Physics of Baseball* (see https://books.google.com/books/about/The_Physics_of_Baseball.html?id=4xE4Ngpk_2EC), the drag coefficient of a baseball is approximately 0.33 (with no units).\n",
    "\n",
    "However, this value *does* depend on velocity. At low velocities it\n",
    "might be as high as 0.5, and at high velocities as low as 0.28.\n",
    "Furthermore, the transition between these regimes typically happens\n",
    "exactly in the range of velocities we are interested in, between 20 m/s and 40 m/s.\n",
    "\n",
    "Nevertheless, we'll start with a simple model where the drag coefficient does not depend on velocity; as an exercise at the end of the chapter, you can implement a more detailed model and see what effect it has on the results.\n",
    "\n",
    "But first we need a new computational tool, the `Vector` object."
   ]
  },
  {
   "cell_type": "markdown",
   "id": "worthy-wheel",
   "metadata": {},
   "source": [
    "## Vectors\n",
    "\n",
    "Now that we are working in two dimensions, it will be useful to\n",
    "work with *vector quantities*, that is, quantities that represent both a magnitude and a direction. We will use vectors to represent positions, velocities, accelerations, and forces in two and three dimensions.\n",
    "\n",
    "ModSim provides a function called `Vector` that creates a Pandas `Series` that contains the *components* of the vector.\n",
    "In a `Vector` that represents a position in space, the components are the $x$ and $y$ coordinates in 2-D, plus a $z$ coordinate if the `Vector` is in 3-D.\n",
    "\n",
    "You can create a `Vector` by specifying its components. The following\n",
    "`Vector` represents a point 3 units to the right (or east) and 4 units up (or north) from an implicit origin:"
   ]
  },
  {
   "cell_type": "code",
   "execution_count": 21,
   "id": "handy-terrain",
   "metadata": {},
   "outputs": [
    {
     "data": {
      "text/plain": [
       "x    3\n",
       "y    4\n",
       "Name: component, dtype: int64"
      ]
     },
     "execution_count": 21,
     "metadata": {},
     "output_type": "execute_result"
    }
   ],
   "source": [
    "A = Vector(3, 4)\n",
    "A"
   ]
  },
  {
   "cell_type": "markdown",
   "id": "settled-roommate",
   "metadata": {},
   "source": [
    "You can access the components of a `Vector` by name using the dot\n",
    "operator, like this:"
   ]
  },
  {
   "cell_type": "code",
   "execution_count": 4,
   "id": "vocal-latino",
   "metadata": {},
   "outputs": [
    {
     "data": {
      "text/plain": [
       "3"
      ]
     },
     "execution_count": 4,
     "metadata": {},
     "output_type": "execute_result"
    }
   ],
   "source": [
    "A.x"
   ]
  },
  {
   "cell_type": "code",
   "execution_count": 5,
   "id": "controversial-shower",
   "metadata": {},
   "outputs": [
    {
     "data": {
      "text/plain": [
       "4"
      ]
     },
     "execution_count": 5,
     "metadata": {},
     "output_type": "execute_result"
    }
   ],
   "source": [
    "A.y"
   ]
  },
  {
   "cell_type": "markdown",
   "id": "earlier-contemporary",
   "metadata": {},
   "source": [
    "You can also access them by index using brackets, like this:"
   ]
  },
  {
   "cell_type": "code",
   "execution_count": 6,
   "id": "digital-channels",
   "metadata": {},
   "outputs": [
    {
     "data": {
      "text/plain": [
       "3"
      ]
     },
     "execution_count": 6,
     "metadata": {},
     "output_type": "execute_result"
    }
   ],
   "source": [
    "A[0]"
   ]
  },
  {
   "cell_type": "code",
   "execution_count": 7,
   "id": "automated-drove",
   "metadata": {},
   "outputs": [
    {
     "data": {
      "text/plain": [
       "4"
      ]
     },
     "execution_count": 7,
     "metadata": {},
     "output_type": "execute_result"
    }
   ],
   "source": [
    "A[1]"
   ]
  },
  {
   "cell_type": "markdown",
   "id": "grave-burst",
   "metadata": {},
   "source": [
    "`Vector` objects support most mathematical operations, including\n",
    "addition:"
   ]
  },
  {
   "cell_type": "code",
   "execution_count": 20,
   "id": "conditional-latitude",
   "metadata": {},
   "outputs": [
    {
     "data": {
      "text/plain": [
       "x    4\n",
       "y    6\n",
       "Name: component, dtype: int64"
      ]
     },
     "execution_count": 20,
     "metadata": {},
     "output_type": "execute_result"
    }
   ],
   "source": [
    "B = Vector(1, 2)\n",
    "A + B"
   ]
  },
  {
   "cell_type": "markdown",
   "id": "charming-reviewer",
   "metadata": {},
   "source": [
    "And subtraction:"
   ]
  },
  {
   "cell_type": "code",
   "execution_count": 19,
   "id": "encouraging-cabinet",
   "metadata": {},
   "outputs": [
    {
     "data": {
      "text/plain": [
       "x    2\n",
       "y    2\n",
       "Name: component, dtype: int64"
      ]
     },
     "execution_count": 19,
     "metadata": {},
     "output_type": "execute_result"
    }
   ],
   "source": [
    "A - B"
   ]
  },
  {
   "cell_type": "markdown",
   "id": "combined-command",
   "metadata": {},
   "source": [
    "For the definition and graphical interpretation of these operations, see <http://modsimpy.com/vecops>.\n",
    "\n",
    "We can specify a `Vector` with coordinates `x` and `y`, as in the previous examples.\n",
    "Equivalently, we can specify a `Vector` with a magnitude and angle.\n",
    "\n",
    "*Magnitude* is the length of the vector: if the `Vector` represents a position, magnitude is its distance from the origin; if it represents a velocity, magnitude is its speed.\n",
    "\n",
    "The *angle* of a `Vector` is its direction, expressed as an angle in radians from the positive $x$ axis. In the Cartesian plane, the angle 0 rad is due east, and the angle $\\pi$ rad is due west.\n",
    "\n",
    "ModSim provides functions to compute the magnitude and angle of a `Vector`.  For example, here are the magnitude and angle of `A`:"
   ]
  },
  {
   "cell_type": "code",
   "execution_count": 11,
   "id": "peripheral-tattoo",
   "metadata": {},
   "outputs": [
    {
     "data": {
      "text/plain": [
       "(5.0, 0.9272952180016122)"
      ]
     },
     "execution_count": 11,
     "metadata": {},
     "output_type": "execute_result"
    }
   ],
   "source": [
    "mag = vector_mag(A)\n",
    "theta = vector_angle(A)\n",
    "mag, theta"
   ]
  },
  {
   "cell_type": "markdown",
   "id": "great-advice",
   "metadata": {},
   "source": [
    "The magnitude is 5 because the length of `A` is the hypotenuse of a 3-4-5 triangle.\n",
    "\n",
    "The result from `vector_angle` is in radians.\n",
    "Most Python functions, like `sin` and `cos`, work with radians, \n",
    "but many people find it more natural to work with degrees. \n",
    "Fortunately, NumPy provides a function to convert radians to degrees:"
   ]
  },
  {
   "cell_type": "code",
   "execution_count": 12,
   "id": "strange-cleaning",
   "metadata": {
    "scrolled": true
   },
   "outputs": [
    {
     "data": {
      "text/plain": [
       "53.13010235415598"
      ]
     },
     "execution_count": 12,
     "metadata": {},
     "output_type": "execute_result"
    }
   ],
   "source": [
    "from numpy import rad2deg\n",
    "\n",
    "angle = rad2deg(theta)\n",
    "angle"
   ]
  },
  {
   "cell_type": "markdown",
   "id": "assured-cutting",
   "metadata": {},
   "source": [
    "And a function to convert degrees to radians:"
   ]
  },
  {
   "cell_type": "code",
   "execution_count": 13,
   "id": "cellular-community",
   "metadata": {},
   "outputs": [
    {
     "data": {
      "text/plain": [
       "0.9272952180016122"
      ]
     },
     "execution_count": 13,
     "metadata": {},
     "output_type": "execute_result"
    }
   ],
   "source": [
    "from numpy import deg2rad\n",
    "\n",
    "theta = deg2rad(angle)\n",
    "theta"
   ]
  },
  {
   "cell_type": "markdown",
   "id": "responsible-gentleman",
   "metadata": {},
   "source": [
    "To avoid confusion, I'll use the variable name `angle` for a value in degrees and `theta` for a value in radians.\n",
    "\n",
    "If you are given an angle and magnitude, you can make a `Vector` using\n",
    "`pol2cart`, which converts from polar to Cartesian coordinates. For example, here's a new `Vector` with the same angle and magnitude of `A`:"
   ]
  },
  {
   "cell_type": "code",
   "execution_count": 18,
   "id": "monetary-firmware",
   "metadata": {},
   "outputs": [
    {
     "data": {
      "text/plain": [
       "x    3.0\n",
       "y    4.0\n",
       "Name: component, dtype: float64"
      ]
     },
     "execution_count": 18,
     "metadata": {},
     "output_type": "execute_result"
    }
   ],
   "source": [
    "x, y = pol2cart(theta, mag)\n",
    "C = Vector(x, y)\n",
    "C"
   ]
  },
  {
   "cell_type": "markdown",
   "id": "lucky-plastic",
   "metadata": {},
   "source": [
    "Another way to represent the direction of `A` is a *unit vector*,\n",
    "which is a vector with magnitude 1 that points in the same direction as\n",
    "`A`. You can compute a unit vector by dividing a vector by its\n",
    "magnitude:"
   ]
  },
  {
   "cell_type": "code",
   "execution_count": 17,
   "id": "explicit-piano",
   "metadata": {},
   "outputs": [
    {
     "data": {
      "text/plain": [
       "x    0.6\n",
       "y    0.8\n",
       "Name: component, dtype: float64"
      ]
     },
     "execution_count": 17,
     "metadata": {},
     "output_type": "execute_result"
    }
   ],
   "source": [
    "A / vector_mag(A)"
   ]
  },
  {
   "cell_type": "markdown",
   "id": "respected-oliver",
   "metadata": {},
   "source": [
    "ModSim provides a function that does the same thing, called `vector_hat` because unit vectors are conventionally decorated with a hat, like this: $\\hat{A}$."
   ]
  },
  {
   "cell_type": "code",
   "execution_count": 22,
   "id": "relative-republic",
   "metadata": {},
   "outputs": [
    {
     "data": {
      "text/plain": [
       "x    0.6\n",
       "y    0.8\n",
       "Name: component, dtype: float64"
      ]
     },
     "execution_count": 22,
     "metadata": {},
     "output_type": "execute_result"
    }
   ],
   "source": [
    "A_hat = vector_hat(A)\n",
    "A_hat"
   ]
  },
  {
   "cell_type": "markdown",
   "id": "reduced-celebration",
   "metadata": {},
   "source": [
    "Now let's get back to the game."
   ]
  },
  {
   "cell_type": "markdown",
   "id": "similar-local",
   "metadata": {},
   "source": [
    "## Simulating Baseball Flight\n",
    "\n",
    "Let's simulate the flight of a baseball that is batted from home plate\n",
    "at an angle of 45° and initial speed 40 m/s. We'll use the center of home plate as the origin, a horizontal x-axis (parallel to the ground), and a vertical y-axis (perpendicular to the ground). The initial height is 1 m.\n",
    "\n",
    "Here's a `Params` object with the parameters we'll need."
   ]
  },
  {
   "cell_type": "code",
   "execution_count": 25,
   "id": "narrative-latest",
   "metadata": {
    "tags": []
   },
   "outputs": [],
   "source": [
    "params = dict(\n",
    "    x = 0,          # m\n",
    "    y = 1,          # m\n",
    "    angle = 45,     # degree\n",
    "    speed = 40,  # m / s\n",
    "\n",
    "    mass = 145e-3,    # kg \n",
    "    diameter = 73e-3, # m \n",
    "    C_d = 0.33,       # dimensionless\n",
    "\n",
    "    rho = 1.2,      # kg/m**3\n",
    "    g = 9.8,        # m/s**2\n",
    "    t_end = 10)     # s"
   ]
  },
  {
   "cell_type": "markdown",
   "id": "metric-collins",
   "metadata": {},
   "source": [
    "I got the mass and diameter of the baseball from Wikipedia (see <https://en.wikipedia.org/wiki/Baseball_(ball)>) and the coefficient of drag from *The Physics of Baseball* (see <https://books.google.com/books/about/The_Physics_of_Baseball.html?id=4xE4Ngpk_2EC>):\n",
    "The density of air, `rho`, is based on a temperature of 20 °C at sea level (see <http://modsimpy.com/tempress>). \n",
    "As usual, `g` is acceleration due to gravity.\n",
    "`t_end` is 10 seconds, which is long enough for the ball to land on the ground.\n",
    "\n",
    "The following function uses these quantities to make a `system` object."
   ]
  },
  {
   "cell_type": "code",
   "execution_count": 26,
   "id": "bored-billy",
   "metadata": {
    "tags": []
   },
   "outputs": [],
   "source": [
    "from numpy import pi, deg2rad\n",
    "\n",
    "def make_system(params):\n",
    "    \n",
    "    x, y, angle, speed, mass, diameter, C_d, rho, g, t_end = params.values()\n",
    "    \n",
    "    # convert angle to degrees\n",
    "    theta = deg2rad(angle)\n",
    "    \n",
    "    # compute x and y components of velocity\n",
    "    vx, vy = pol2cart(theta, speed)\n",
    "    \n",
    "    # make the initial state\n",
    "    init = pd.Series(dict(x=x, y=y, vx=vx, vy=vy))\n",
    "    \n",
    "    # compute the frontal area\n",
    "    area = pi * (diameter/2)**2\n",
    "\n",
    "    return dict(C_d=C_d, rho=rho, g=g, t_end=t_end,\n",
    "                  mass=mass,\n",
    "                  init = init,\n",
    "                  area = area)"
   ]
  },
  {
   "cell_type": "markdown",
   "id": "conscious-template",
   "metadata": {},
   "source": [
    "In solving a 2D problem, we can separate the velocities and positions into two separate but connected problems. In other words, the velocity in the y-direction is affected only by forces that act in the y-direction, and that velocity causes a change in position only in the y-direction.  This is a enormously helpful way to evaluate a problem like this.  So we want to separate the velocities into x-velocities and y-velocities.\n",
    "\n",
    "`make_system` uses `deg2rad` to convert `angle` to radians and\n",
    "`pol2cart` to compute the $x$ and $y$ components of the initial\n",
    "velocity.\n",
    "\n",
    "`init` is a `State` object with four state variables:\n",
    "\n",
    "* `x` and `y` are the components of position.\n",
    "\n",
    "* `vx` and `vy` are the components of velocity.\n",
    "\n",
    "When we call `System`, we pass `Params` as the first argument, which means that the variables in `Params` are copied to the new `System` object.\n",
    "\n",
    "Here's how we make the `System` object."
   ]
  },
  {
   "cell_type": "code",
   "execution_count": 27,
   "id": "ethical-donna",
   "metadata": {},
   "outputs": [],
   "source": [
    "system = make_system(params)"
   ]
  },
  {
   "cell_type": "markdown",
   "id": "convinced-fellow",
   "metadata": {},
   "source": [
    "And here's the initial `State`:"
   ]
  },
  {
   "cell_type": "code",
   "execution_count": 28,
   "id": "legitimate-gossip",
   "metadata": {},
   "outputs": [
    {
     "data": {
      "text/plain": [
       "x      0.000000\n",
       "y      1.000000\n",
       "vx    28.284271\n",
       "vy    28.284271\n",
       "dtype: float64"
      ]
     },
     "execution_count": 28,
     "metadata": {},
     "output_type": "execute_result"
    }
   ],
   "source": [
    "system['init']"
   ]
  },
  {
   "cell_type": "markdown",
   "id": "occasional-given",
   "metadata": {},
   "source": [
    "## Drag Force\n",
    "\n",
    "Next we need a function to compute drag force:"
   ]
  },
  {
   "cell_type": "code",
   "execution_count": 29,
   "id": "legal-terminal",
   "metadata": {
    "tags": []
   },
   "outputs": [],
   "source": [
    "def drag_force(V, system):\n",
    "    rho, C_d, area = system['rho'], system['C_d'], system['area']\n",
    "    \n",
    "    mag = rho * vector_mag(V)**2 * C_d * area / 2\n",
    "    direction = -vector_hat(V)\n",
    "    f_drag = mag * direction\n",
    "    return f_drag"
   ]
  },
  {
   "cell_type": "markdown",
   "id": "false-confusion",
   "metadata": {},
   "source": [
    "This function takes `V` as a `Vector` and returns `f_drag` as a\n",
    "`Vector`. \n",
    "\n",
    "* It uses `vector_mag` to compute the magnitude of `V`, \n",
    "and the drag equation to compute the magnitude of the drag force, `mag`.\n",
    "\n",
    "* Then it uses `vector_hat` to compute `direction`, which is a unit vector in the opposite direction of `V`.\n",
    "\n",
    "* Finally, it computes the drag force vector by multiplying `mag` and `direction`.\n",
    "\n",
    "We can test it like this:"
   ]
  },
  {
   "cell_type": "code",
   "execution_count": 30,
   "id": "frank-chick",
   "metadata": {},
   "outputs": [
    {
     "data": {
      "text/plain": [
       "x   -0.937574\n",
       "y   -0.937574\n",
       "Name: component, dtype: float64"
      ]
     },
     "execution_count": 30,
     "metadata": {},
     "output_type": "execute_result"
    }
   ],
   "source": [
    "vx, vy = system['init']['vx'], system['init']['vy']\n",
    "V_test = Vector(vx, vy)\n",
    "f_drag = drag_force(V_test, system)\n",
    "f_drag"
   ]
  },
  {
   "cell_type": "markdown",
   "id": "ultimate-upgrade",
   "metadata": {},
   "source": [
    "The result is a `Vector` that represents the drag force on the baseball, in Newtons, under the initial conditions.\n",
    "\n",
    "Now we can add drag to the slope function."
   ]
  },
  {
   "cell_type": "code",
   "execution_count": 31,
   "id": "suitable-salem",
   "metadata": {
    "tags": []
   },
   "outputs": [],
   "source": [
    "def slope_func(t, state, system):\n",
    "    x, y, vx, vy = state\n",
    "    mass, g = system['mass'], system['g']\n",
    "    \n",
    "    V = Vector(vx, vy)\n",
    "    a_drag = drag_force(V, system) / mass\n",
    "    a_grav = g * Vector(0, -1)\n",
    "    \n",
    "    A = a_grav + a_drag\n",
    "    \n",
    "    return V.x, V.y, A.x, A.y"
   ]
  },
  {
   "cell_type": "markdown",
   "id": "scheduled-courage",
   "metadata": {},
   "source": [
    "As usual, the parameters of the slope function are a time stamp, a `State` object, and a `System` object. \n",
    "We don't use `t` in this example, but we can't leave it out because when `run_solve_ivp` calls the slope function, it always provides the same arguments, whether they are needed or not.\n",
    "\n",
    "`slope_func` unpacks the `State` object into variables `x`, `y`, `vx`, and `vy`.\n",
    "Then it packs `vx` and `vy` into a `Vector`, which it uses to compute drag force, `f_drag`,  and acceleration due to drag, `a_drag`.\n",
    "\n",
    "To represent acceleration due to gravity, it makes a `Vector` with magnitude `g` in the negative $y$ direction.\n",
    "\n",
    "The total acceleration of the baseball, `A`, is the sum of accelerations due to gravity and drag."
   ]
  },
  {
   "cell_type": "markdown",
   "id": "enclosed-favorite",
   "metadata": {},
   "source": [
    "The return value is a sequence that contains:\n",
    "\n",
    "* The components of velocity, `V.x` and `V.y`.\n",
    "\n",
    "* The components of acceleration, `A.x` and `A.y`.\n",
    "\n",
    "These components represent the slope of the state variables, because `V` is the derivative of position and `A` is the derivative of velocity."
   ]
  },
  {
   "cell_type": "markdown",
   "id": "crude-parcel",
   "metadata": {},
   "source": [
    "As always, we can test the slope function by running it with the initial conditions:"
   ]
  },
  {
   "cell_type": "code",
   "execution_count": 32,
   "id": "closing-simon",
   "metadata": {},
   "outputs": [
    {
     "data": {
      "text/plain": [
       "(28.284271247461902,\n",
       " 28.284271247461902,\n",
       " -6.466030881564545,\n",
       " -16.266030881564546)"
      ]
     },
     "execution_count": 32,
     "metadata": {},
     "output_type": "execute_result"
    }
   ],
   "source": [
    "slope_func(0, system['init'], system)"
   ]
  },
  {
   "cell_type": "markdown",
   "id": "adolescent-westminster",
   "metadata": {},
   "source": [
    "Using vectors to represent forces and accelerations makes the code\n",
    "concise, readable, and less error-prone. In particular, when we add\n",
    "`a_grav` and `a_drag`, the directions are likely to be correct, because they are encoded in the `Vector` objects."
   ]
  },
  {
   "cell_type": "markdown",
   "id": "regulated-railway",
   "metadata": {},
   "source": [
    "## Adding an Event Function\n",
    "\n",
    "We're almost ready to run the simulation.  The last thing we need is an event function that stops when the ball hits the ground."
   ]
  },
  {
   "cell_type": "code",
   "execution_count": 33,
   "id": "brief-level",
   "metadata": {
    "tags": []
   },
   "outputs": [],
   "source": [
    "def event_func(t, state, system):\n",
    "    x, y, vx, vy = state\n",
    "    return y"
   ]
  },
  {
   "cell_type": "markdown",
   "id": "novel-farmer",
   "metadata": {},
   "source": [
    "The event function takes the same parameters as the slope function, and returns the $y$ coordinate of position. When `event_func` is used as an option with `run_solve_ivp`, the simulation will stop when the return value (i.e the $y$ coordinate) passes through 0,\n",
    "\n",
    "As we did with `slope_func`, we can test `event_func` with the initial conditions."
   ]
  },
  {
   "cell_type": "code",
   "execution_count": 34,
   "id": "threatened-alberta",
   "metadata": {},
   "outputs": [
    {
     "data": {
      "text/plain": [
       "1.0"
      ]
     },
     "execution_count": 34,
     "metadata": {},
     "output_type": "execute_result"
    }
   ],
   "source": [
    "event_func(0, system['init'], system)"
   ]
  },
  {
   "cell_type": "markdown",
   "id": "unlikely-dressing",
   "metadata": {},
   "source": [
    "Here's how we run the simulation with this event function:"
   ]
  },
  {
   "cell_type": "code",
   "execution_count": 35,
   "id": "special-background",
   "metadata": {},
   "outputs": [
    {
     "data": {
      "text/plain": [
       "'A termination event occurred.'"
      ]
     },
     "execution_count": 35,
     "metadata": {},
     "output_type": "execute_result"
    }
   ],
   "source": [
    "results, details = run_solve_ivp(system, slope_func,\n",
    "                                 events=event_func)\n",
    "details.message"
   ]
  },
  {
   "cell_type": "markdown",
   "id": "iraqi-appeal",
   "metadata": {},
   "source": [
    "The message in indicates that a \"termination event\" occurred; that is, the simulated ball reached the ground.\n",
    "\n",
    "`results` is a `TimeFrame` with one row for each time step and one column for each of the state variables.\n",
    "Here are the last few rows."
   ]
  },
  {
   "cell_type": "code",
   "execution_count": 41,
   "id": "prospective-external",
   "metadata": {},
   "outputs": [
    {
     "data": {
      "text/html": [
       "<div>\n",
       "<style scoped>\n",
       "    .dataframe tbody tr th:only-of-type {\n",
       "        vertical-align: middle;\n",
       "    }\n",
       "\n",
       "    .dataframe tbody tr th {\n",
       "        vertical-align: top;\n",
       "    }\n",
       "\n",
       "    .dataframe thead th {\n",
       "        text-align: right;\n",
       "    }\n",
       "</style>\n",
       "<table border=\"1\" class=\"dataframe\">\n",
       "  <thead>\n",
       "    <tr style=\"text-align: right;\">\n",
       "      <th></th>\n",
       "      <th>x</th>\n",
       "      <th>y</th>\n",
       "      <th>vx</th>\n",
       "      <th>vy</th>\n",
       "    </tr>\n",
       "  </thead>\n",
       "  <tbody>\n",
       "    <tr>\n",
       "      <th>4.804692</th>\n",
       "      <td>96.438515</td>\n",
       "      <td>4.284486e+00</td>\n",
       "      <td>14.590855</td>\n",
       "      <td>-20.726780</td>\n",
       "    </tr>\n",
       "    <tr>\n",
       "      <th>4.854740</th>\n",
       "      <td>97.166460</td>\n",
       "      <td>3.238415e+00</td>\n",
       "      <td>14.484772</td>\n",
       "      <td>-21.065476</td>\n",
       "    </tr>\n",
       "    <tr>\n",
       "      <th>4.904789</th>\n",
       "      <td>97.889087</td>\n",
       "      <td>2.175515e+00</td>\n",
       "      <td>14.378566</td>\n",
       "      <td>-21.400392</td>\n",
       "    </tr>\n",
       "    <tr>\n",
       "      <th>4.954838</th>\n",
       "      <td>98.606374</td>\n",
       "      <td>1.095978e+00</td>\n",
       "      <td>14.272264</td>\n",
       "      <td>-21.731499</td>\n",
       "    </tr>\n",
       "    <tr>\n",
       "      <th>5.004887</th>\n",
       "      <td>99.318296</td>\n",
       "      <td>3.552714e-15</td>\n",
       "      <td>14.165894</td>\n",
       "      <td>-22.058763</td>\n",
       "    </tr>\n",
       "  </tbody>\n",
       "</table>\n",
       "</div>"
      ],
      "text/plain": [
       "                  x             y         vx         vy\n",
       "4.804692  96.438515  4.284486e+00  14.590855 -20.726780\n",
       "4.854740  97.166460  3.238415e+00  14.484772 -21.065476\n",
       "4.904789  97.889087  2.175515e+00  14.378566 -21.400392\n",
       "4.954838  98.606374  1.095978e+00  14.272264 -21.731499\n",
       "5.004887  99.318296  3.552714e-15  14.165894 -22.058763"
      ]
     },
     "execution_count": 41,
     "metadata": {},
     "output_type": "execute_result"
    }
   ],
   "source": [
    "results.tail()"
   ]
  },
  {
   "cell_type": "markdown",
   "id": "dominant-weekly",
   "metadata": {},
   "source": [
    "We can get the flight time like this:"
   ]
  },
  {
   "cell_type": "code",
   "execution_count": 37,
   "id": "medieval-calvin",
   "metadata": {},
   "outputs": [
    {
     "data": {
      "text/plain": [
       "5.004887034868349"
      ]
     },
     "execution_count": 37,
     "metadata": {},
     "output_type": "execute_result"
    }
   ],
   "source": [
    "flight_time = results.index[-1]\n",
    "flight_time"
   ]
  },
  {
   "cell_type": "markdown",
   "id": "convenient-heading",
   "metadata": {},
   "source": [
    "And the final state like this:"
   ]
  },
  {
   "cell_type": "code",
   "execution_count": 45,
   "id": "gorgeous-survey",
   "metadata": {},
   "outputs": [
    {
     "data": {
      "text/plain": [
       "x     9.931830e+01\n",
       "y     3.552714e-15\n",
       "vx    1.416589e+01\n",
       "vy   -2.205876e+01\n",
       "Name: 5.004887034868349, dtype: float64"
      ]
     },
     "execution_count": 45,
     "metadata": {},
     "output_type": "execute_result"
    }
   ],
   "source": [
    "final_state = results.iloc[-1]\n",
    "final_state"
   ]
  },
  {
   "cell_type": "markdown",
   "id": "needed-aruba",
   "metadata": {},
   "source": [
    "The final value of `y` is close to 0, as it should be.  The final value of `x` tells us how far the ball flew, in meters."
   ]
  },
  {
   "cell_type": "code",
   "execution_count": 42,
   "id": "failing-bangkok",
   "metadata": {},
   "outputs": [
    {
     "data": {
      "text/plain": [
       "99.31829628352213"
      ]
     },
     "execution_count": 42,
     "metadata": {},
     "output_type": "execute_result"
    }
   ],
   "source": [
    "x_dist = final_state.x\n",
    "x_dist"
   ]
  },
  {
   "cell_type": "markdown",
   "id": "growing-england",
   "metadata": {},
   "source": [
    "We can also get the final velocity, like this:"
   ]
  },
  {
   "cell_type": "code",
   "execution_count": 44,
   "id": "copyrighted-highway",
   "metadata": {},
   "outputs": [
    {
     "data": {
      "text/plain": [
       "x    14.165894\n",
       "y   -22.058763\n",
       "Name: component, dtype: float64"
      ]
     },
     "execution_count": 44,
     "metadata": {},
     "output_type": "execute_result"
    }
   ],
   "source": [
    "final_V = Vector(final_state.vx, final_state.vy)\n",
    "final_V"
   ]
  },
  {
   "cell_type": "markdown",
   "id": "statewide-middle",
   "metadata": {},
   "source": [
    "The magnitude of final velocity is the speed of the ball when it lands."
   ]
  },
  {
   "cell_type": "code",
   "execution_count": 31,
   "id": "structured-adams",
   "metadata": {},
   "outputs": [
    {
     "data": {
      "text/plain": [
       "26.215674453237575"
      ]
     },
     "execution_count": 31,
     "metadata": {},
     "output_type": "execute_result"
    }
   ],
   "source": [
    "vector_mag(final_V)"
   ]
  },
  {
   "cell_type": "markdown",
   "id": "vietnamese-diagram",
   "metadata": {},
   "source": [
    "The final speed is about 26 m/s, which is substantially slower than the initial speed, 40 m/s."
   ]
  },
  {
   "cell_type": "markdown",
   "id": "continuous-quick",
   "metadata": {},
   "source": [
    "## Visualizing Trajectories\n",
    "\n",
    "To visualize the results, we can plot the $x$ and $y$ components of position like this:"
   ]
  },
  {
   "cell_type": "code",
   "execution_count": 47,
   "id": "spare-burst",
   "metadata": {},
   "outputs": [
    {
     "data": {
      "image/png": "[encoded data removed]",
      "text/plain": [
       "<Figure size 432x288 with 1 Axes>"
      ]
     },
     "metadata": {
      "needs_background": "light"
     },
     "output_type": "display_data"
    }
   ],
   "source": [
    "results.x.plot(color='C4',legend=True)\n",
    "results.y.plot(color='C2', style='--',xlabel='Time (s)',\n",
    "         ylabel='Position (m)',legend=True);"
   ]
  },
  {
   "cell_type": "markdown",
   "id": "horizontal-bench",
   "metadata": {},
   "source": [
    "As expected, the $x$ component increases as the ball moves away from home plate. The $y$ position climbs initially and then descends, falling to 0 m near 5.0 s.\n",
    "\n",
    "Another way to view the results is to plot the $x$ component on the\n",
    "$x$-axis and the $y$ component on the $y$-axis, so the plotted line follows the trajectory of the ball through the plane:"
   ]
  },
  {
   "cell_type": "code",
   "execution_count": 101,
   "id": "dated-browse",
   "metadata": {},
   "outputs": [
    {
     "data": {
      "image/png": "[encoded data removed]",
      "text/plain": [
       "<Figure size 432x288 with 1 Axes>"
      ]
     },
     "metadata": {
      "needs_background": "light"
     },
     "output_type": "display_data"
    }
   ],
   "source": [
    "def plot_trajectory(results,label,**options):\n",
    "    x = results.x.values\n",
    "    y = results.y.values\n",
    "    x_vs_y = pd.Series(data=y,index=x)\n",
    "    x_vs_y.plot(label=label,xlabel='x position (m)',\n",
    "             ylabel='y position (m)',**options)\n",
    "\n",
    "plot_trajectory(results,'trajectory')"
   ]
  },
  {
   "cell_type": "markdown",
   "id": "certified-synthetic",
   "metadata": {},
   "source": [
    "This way of visualizing the results is called a *trajectory plot* (see <http://modsimpy.com/trajec>).\n",
    "A trajectory plot can be easier to interpret than a time series plot,\n",
    "because it shows what the motion of the projectile would look like (at\n",
    "least from one point of view). Both plots can be useful, but don't get\n",
    "them mixed up! If you are looking at a time series plot and interpreting it as a trajectory, you will be very confused.\n",
    "\n",
    "Notice that the trajectory is not symmetric.\n",
    "With a launch angle of 45°, the landing angle is closer to vertical, about 57° degrees."
   ]
  },
  {
   "cell_type": "code",
   "execution_count": 64,
   "id": "resistant-vegetation",
   "metadata": {},
   "outputs": [
    {
     "data": {
      "text/plain": [
       "-57.29187097821226"
      ]
     },
     "execution_count": 64,
     "metadata": {},
     "output_type": "execute_result"
    }
   ],
   "source": [
    "rad2deg(vector_angle(final_V))"
   ]
  },
  {
   "cell_type": "markdown",
   "id": "pressing-retrieval",
   "metadata": {},
   "source": [
    "### Exercise 1\n",
    "\n",
    " Run the simulation with and without air resistance.  How wrong would we be if we ignored drag?"
   ]
  },
  {
   "cell_type": "code",
   "execution_count": 65,
   "id": "optical-weather",
   "metadata": {},
   "outputs": [],
   "source": [
    "# Hint\n",
    "\n",
    "system2 = system.copy()\n",
    "system2.update(dict(C_d=0))"
   ]
  },
  {
   "cell_type": "code",
   "execution_count": 66,
   "id": "acknowledged-belgium",
   "metadata": {},
   "outputs": [
    {
     "data": {
      "text/plain": [
       "'A termination event occurred.'"
      ]
     },
     "execution_count": 66,
     "metadata": {},
     "output_type": "execute_result"
    }
   ],
   "source": [
    "# Run the simulation\n",
    "results2, details = run_solve_ivp(system2, slope_func,\n",
    "                                 events=event_func)\n",
    "details.message"
   ]
  },
  {
   "cell_type": "code",
   "execution_count": 67,
   "id": "spatial-ensemble",
   "metadata": {},
   "outputs": [
    {
     "name": "stdout",
     "output_type": "stream",
     "text": [
      "0.8025546201423577 10.482389652866178 64.94095874060989\n"
     ]
    }
   ],
   "source": [
    "# Compare the total time, the maximum height, and total distance in the x-direction\n",
    "\n",
    "diff_time = results2.index[-1]-results.index[-1]\n",
    "diff_max_height = results2.y.max()-results.y.max()\n",
    "diff_distance = results2.iloc[-1].x-results.iloc[-1].x\n",
    "\n",
    "print(diff_time, diff_max_height, diff_distance)\n",
    "\n",
    "#  The difference is by no means trivial!  The ball without drag flies about 65% \n",
    "# farther and 50% higher than the ball with drag"
   ]
  },
  {
   "cell_type": "markdown",
   "id": "generic-shelter",
   "metadata": {},
   "source": [
    "### Exercise 2\n",
    "\n",
    " The baseball stadium in Denver, Colorado is 1,580 meters above sea level, where the density of air is about 1.0 kg / m$^3$.  How much farther would a ball hit with the same initial speed and launch angle travel than the ball at sea level?"
   ]
  },
  {
   "cell_type": "code",
   "execution_count": 70,
   "id": "global-referral",
   "metadata": {},
   "outputs": [],
   "source": [
    "# Set the parameters for a system3\n",
    "\n",
    "system3 = system.copy()\n",
    "system3.update(dict(rho=1))"
   ]
  },
  {
   "cell_type": "code",
   "execution_count": 71,
   "id": "appointed-sugar",
   "metadata": {},
   "outputs": [
    {
     "data": {
      "text/plain": [
       "'A termination event occurred.'"
      ]
     },
     "execution_count": 71,
     "metadata": {},
     "output_type": "execute_result"
    }
   ],
   "source": [
    "# Run the simulation\n",
    "results3, details = run_solve_ivp(system3, slope_func,\n",
    "                                 events=event_func)\n",
    "details.message"
   ]
  },
  {
   "cell_type": "code",
   "execution_count": 72,
   "id": "specialized-mediterranean",
   "metadata": {},
   "outputs": [
    {
     "name": "stdout",
     "output_type": "stream",
     "text": [
      "0.10224411013264856 1.2377490967195648 6.470083775075864\n"
     ]
    }
   ],
   "source": [
    "# Compare the total time, the maximum height, and total distance in the x-direction\n",
    "\n",
    "diff_time = results3.index[-1]-results.index[-1]\n",
    "diff_max_height = results3.y.max()-results.y.max()\n",
    "diff_distance = results3.iloc[-1].x-results.iloc[-1].x\n",
    "\n",
    "print(diff_time, diff_max_height, diff_distance)\n",
    "\n",
    "#  In the \"thinner\" air in Denver a similarly hit ball might\n",
    "# travel 6.5 m (about 20 ft) further.  Again, not a trivial\n",
    "# distance, especially if it's the ninth inning and the game\n",
    "# is tied."
   ]
  },
  {
   "cell_type": "markdown",
   "id": "shaped-paragraph",
   "metadata": {},
   "source": [
    "### Exercise 3\n",
    "\n",
    " The model so far is based on the assumption that coefficient of drag does not depend on velocity, but in reality it does.  The following figure, from Adair, *The Physics of Baseball*, shows coefficient of drag as a function of velocity (see <https://books.google.com/books/about/The_Physics_of_Baseball.html?id=4xE4Ngpk_2EC>).\n",
    "\n",
    "\n",
    "<img src=\"../Images_and_Data/Images/baseball_drag.PNG\" style=\"width: 500px;\"/>\n",
    "\n",
    "I used an online graph digitizer (<https://automeris.io/WebPlotDigitizer>) to extract the data and save it in a CSV file.  "
   ]
  },
  {
   "cell_type": "markdown",
   "id": "german-niagara",
   "metadata": {
    "tags": []
   },
   "source": [
    "The following cell accesses the data file and uses Pandas to read it."
   ]
  },
  {
   "cell_type": "code",
   "execution_count": 74,
   "id": "fuzzy-register",
   "metadata": {
    "tags": []
   },
   "outputs": [],
   "source": [
    "filename = '../Images_and_Data/Data/baseball_drag.csv'\n",
    "baseball_drag = pd.read_csv(filename)"
   ]
  },
  {
   "cell_type": "markdown",
   "id": "progressive-buyer",
   "metadata": {
    "tags": []
   },
   "source": [
    "Here are the first few rows."
   ]
  },
  {
   "cell_type": "code",
   "execution_count": 75,
   "id": "returning-fellowship",
   "metadata": {
    "tags": []
   },
   "outputs": [
    {
     "data": {
      "text/html": [
       "<div>\n",
       "<style scoped>\n",
       "    .dataframe tbody tr th:only-of-type {\n",
       "        vertical-align: middle;\n",
       "    }\n",
       "\n",
       "    .dataframe tbody tr th {\n",
       "        vertical-align: top;\n",
       "    }\n",
       "\n",
       "    .dataframe thead th {\n",
       "        text-align: right;\n",
       "    }\n",
       "</style>\n",
       "<table border=\"1\" class=\"dataframe\">\n",
       "  <thead>\n",
       "    <tr style=\"text-align: right;\">\n",
       "      <th></th>\n",
       "      <th>Velocity in mph</th>\n",
       "      <th>Drag coefficient</th>\n",
       "    </tr>\n",
       "  </thead>\n",
       "  <tbody>\n",
       "    <tr>\n",
       "      <th>0</th>\n",
       "      <td>0.058486</td>\n",
       "      <td>0.49965</td>\n",
       "    </tr>\n",
       "    <tr>\n",
       "      <th>1</th>\n",
       "      <td>19.845000</td>\n",
       "      <td>0.49878</td>\n",
       "    </tr>\n",
       "    <tr>\n",
       "      <th>2</th>\n",
       "      <td>39.476000</td>\n",
       "      <td>0.49704</td>\n",
       "    </tr>\n",
       "    <tr>\n",
       "      <th>3</th>\n",
       "      <td>50.181000</td>\n",
       "      <td>0.48225</td>\n",
       "    </tr>\n",
       "    <tr>\n",
       "      <th>4</th>\n",
       "      <td>60.134000</td>\n",
       "      <td>0.45004</td>\n",
       "    </tr>\n",
       "  </tbody>\n",
       "</table>\n",
       "</div>"
      ],
      "text/plain": [
       "   Velocity in mph  Drag coefficient\n",
       "0         0.058486           0.49965\n",
       "1        19.845000           0.49878\n",
       "2        39.476000           0.49704\n",
       "3        50.181000           0.48225\n",
       "4        60.134000           0.45004"
      ]
     },
     "execution_count": 75,
     "metadata": {},
     "output_type": "execute_result"
    }
   ],
   "source": [
    "baseball_drag.head()"
   ]
  },
  {
   "cell_type": "markdown",
   "id": "bronze-acoustic",
   "metadata": {
    "tags": []
   },
   "source": [
    "Let's convert miles per hour to meters per second."
   ]
  },
  {
   "cell_type": "code",
   "execution_count": 89,
   "id": "reasonable-swaziland",
   "metadata": {
    "tags": []
   },
   "outputs": [],
   "source": [
    "mph_to_mps = 0.44704\n",
    "speed = baseball_drag['Velocity in mph'].values * mph_to_mps"
   ]
  },
  {
   "cell_type": "markdown",
   "id": "industrial-architecture",
   "metadata": {
    "tags": []
   },
   "source": [
    "I'll put the results in a `Series`."
   ]
  },
  {
   "cell_type": "code",
   "execution_count": 93,
   "id": "attached-shower",
   "metadata": {
    "tags": []
   },
   "outputs": [],
   "source": [
    "data = baseball_drag['Drag coefficient'].values\n",
    "C_d_series = pd.Series(data=data,index=speed)"
   ]
  },
  {
   "cell_type": "markdown",
   "id": "amazing-horse",
   "metadata": {
    "tags": []
   },
   "source": [
    "We can plot the `Series` like this."
   ]
  },
  {
   "cell_type": "code",
   "execution_count": 94,
   "id": "christian-camcorder",
   "metadata": {
    "tags": []
   },
   "outputs": [
    {
     "data": {
      "image/png": "[encoded data removed]",
      "text/plain": [
       "<Figure size 432x288 with 1 Axes>"
      ]
     },
     "metadata": {
      "needs_background": "light"
     },
     "output_type": "display_data"
    }
   ],
   "source": [
    "C_d_series.plot(label='C_d', xlabel='Speed (m/s)', \n",
    "         ylabel='C_d',\n",
    "         title='Coefficient of drag versus speed');"
   ]
  },
  {
   "cell_type": "markdown",
   "id": "computational-alloy",
   "metadata": {
    "tags": []
   },
   "source": [
    "And, for use in the slope function, we can make a function that interpolates the data."
   ]
  },
  {
   "cell_type": "code",
   "execution_count": 95,
   "id": "heated-belfast",
   "metadata": {
    "tags": []
   },
   "outputs": [
    {
     "data": {
      "text/plain": [
       "array(0.41607879)"
      ]
     },
     "execution_count": 95,
     "metadata": {},
     "output_type": "execute_result"
    }
   ],
   "source": [
    "drag_interp = interp1d(C_d_series.index,C_d_series.values)\n",
    "drag_interp(30)"
   ]
  },
  {
   "cell_type": "markdown",
   "id": "reverse-shock",
   "metadata": {},
   "source": [
    "Ok, now make some adjustments to the model.\n",
    "\n",
    "Modify the model to include the dependence of `C_d` on velocity, and compare the effects of the variable drag (vs. the constant drag coefficient) by plotting both results on the same plot."
   ]
  },
  {
   "cell_type": "code",
   "execution_count": 96,
   "id": "directed-fiber",
   "metadata": {},
   "outputs": [],
   "source": [
    "# Define the modified drag_force function here\n",
    "\n",
    "def drag_force_var(V, system, drag_func):\n",
    "    rho, area = system['rho'], system['area']\n",
    "    C_d = drag_func(30)\n",
    "    mag = rho * vector_mag(V)**2 * C_d * area / 2\n",
    "    direction = -vector_hat(V)\n",
    "    f_drag = mag * direction\n",
    "    return f_drag"
   ]
  },
  {
   "cell_type": "code",
   "execution_count": 97,
   "id": "engaged-provision",
   "metadata": {},
   "outputs": [
    {
     "data": {
      "text/plain": [
       "-0.9403833601772097"
      ]
     },
     "execution_count": 97,
     "metadata": {},
     "output_type": "execute_result"
    }
   ],
   "source": [
    "# Test the modified drag force function\n",
    "\n",
    "drag = drag_force_var(30,system,drag_interp)\n",
    "drag"
   ]
  },
  {
   "cell_type": "code",
   "execution_count": 98,
   "id": "framed-dealer",
   "metadata": {},
   "outputs": [],
   "source": [
    "# Define the modified slope_function here\n",
    "def slope_func_var(t, state, system):\n",
    "    x, y, vx, vy = state\n",
    "    mass, g = system['mass'], system['g']\n",
    "    \n",
    "    V = Vector(vx, vy)\n",
    "    a_drag = drag_force_var(V, system,drag_interp) / mass\n",
    "    a_grav = g * Vector(0, -1)\n",
    "    \n",
    "    A = a_grav + a_drag\n",
    "    \n",
    "    return V.x, V.y, A.x, A.y"
   ]
  },
  {
   "cell_type": "code",
   "execution_count": 99,
   "id": "accomplished-elizabeth",
   "metadata": {},
   "outputs": [
    {
     "data": {
      "text/plain": [
       "'A termination event occurred.'"
      ]
     },
     "execution_count": 99,
     "metadata": {},
     "output_type": "execute_result"
    }
   ],
   "source": [
    "# Run the simulation\n",
    "\n",
    "system4 = make_system(params)\n",
    "results4, details = run_solve_ivp(system4, slope_func_var,\n",
    "                                 events=event_func)\n",
    "details.message"
   ]
  },
  {
   "cell_type": "code",
   "execution_count": 102,
   "id": "brief-saying",
   "metadata": {},
   "outputs": [
    {
     "data": {
      "image/png": "[encoded data removed]",
      "text/plain": [
       "<Figure size 432x288 with 1 Axes>"
      ]
     },
     "metadata": {
      "needs_background": "light"
     },
     "output_type": "display_data"
    }
   ],
   "source": [
    "# Plot the trajectory for this simulation and the original one together\n",
    "# (Hint: you can call plot trajectory twice and it will put the plots on \n",
    "# the same graph)\n",
    "\n",
    "plot_trajectory(results, 'Constant CoD',legend=True)\n",
    "plot_trajectory(results4, 'Variable CoD',legend=True)\n",
    "\n",
    "# The variable coefficient produces even larger effects.  Looking at the plot above, this makes sense,\n",
    "# since our constant drag had a value of 0.33, while the variable drag coefficient \n",
    "# is mostly above that value."
   ]
  },
  {
   "cell_type": "code",
   "execution_count": null,
   "id": "67b27a5d",
   "metadata": {},
   "outputs": [],
   "source": []
  }
 ],
 "metadata": {
  "celltoolbar": "Tags",
  "kernelspec": {
   "display_name": "Python 3",
   "language": "python",
   "name": "python3"
  },
  "language_info": {
   "codemirror_mode": {
    "name": "ipython",
    "version": 3
   },
   "file_extension": ".py",
   "mimetype": "text/x-python",
   "name": "python",
   "nbconvert_exporter": "python",
   "pygments_lexer": "ipython3",
   "version": "3.8.8"
  }
 },
 "nbformat": 4,
 "nbformat_minor": 5
}
