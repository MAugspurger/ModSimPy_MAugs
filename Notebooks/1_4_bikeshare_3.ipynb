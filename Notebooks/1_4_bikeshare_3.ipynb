{
 "cells": [
  {
   "cell_type": "markdown",
   "id": "existing-guidance",
   "metadata": {},
   "source": [
    "# 1.4: Bike Share III (Sweeping Parameters)"
   ]
  },
  {
   "cell_type": "markdown",
   "id": "imported-table",
   "metadata": {
    "tags": []
   },
   "source": [
    "*Modeling and Simulation in Python*\n",
    "\n",
    "Copyright 2021 Allen Downey, (License: [Creative Commons Attribution-NonCommercial-ShareAlike 4.0 International](https://creativecommons.org/licenses/by-nc-sa/4.0/))\n",
    "\n",
    "Revised, Mike Augspurger (2021-present)"
   ]
  },
  {
   "cell_type": "code",
   "execution_count": 1,
   "id": "progressive-typing",
   "metadata": {
    "tags": []
   },
   "outputs": [],
   "source": [
    "# import functions from modsim\n",
    "import sys\n",
    "sys.path.append('..\\\\..\\\\ModSimPy_Directory')\n",
    "from ModSimPy_Functions.modsim import *\n",
    "from ModSimPy_Functions.chap01 import change_func\n",
    "\n",
    "import pandas as pd"
   ]
  },
  {
   "cell_type": "markdown",
   "id": "atlantic-collectible",
   "metadata": {},
   "source": [
    "In the previous chapter we defined metrics that quantify the performance of a bike sharing system.\n",
    "In this chapter we'll see how those metrics depend on the parameters of the system, like the arrival rate of customers at the stations.\n",
    "\n",
    "And I will present a program development strategy, called incremental\n",
    "development, that might help you write programs faster and spend less\n",
    "time debugging."
   ]
  },
  {
   "cell_type": "markdown",
   "id": "strategic-newspaper",
   "metadata": {},
   "source": [
    "## Functions That Return Values\n",
    "\n",
    "We have used several functions that return values.\n",
    "For example, when you run `sqrt`, it returns a number you can assign to a variable."
   ]
  },
  {
   "cell_type": "code",
   "execution_count": 2,
   "id": "imposed-pregnancy",
   "metadata": {},
   "outputs": [
    {
     "data": {
      "text/plain": [
       "1.4142135623730951"
      ]
     },
     "execution_count": 2,
     "metadata": {},
     "output_type": "execute_result"
    }
   ],
   "source": [
    "from numpy import sqrt\n",
    "\n",
    "root_2 = sqrt(2)\n",
    "root_2"
   ]
  },
  {
   "cell_type": "markdown",
   "id": "unsigned-recipe",
   "metadata": {},
   "source": [
    "When we run `pd.Series`, it returns a new state object:"
   ]
  },
  {
   "cell_type": "code",
   "execution_count": 3,
   "id": "accessible-wallace",
   "metadata": {},
   "outputs": [
    {
     "data": {
      "text/plain": [
       "augie     10\n",
       "moline     2\n",
       "Name: Number of Bikes, dtype: int64"
      ]
     },
     "execution_count": 3,
     "metadata": {},
     "output_type": "execute_result"
    }
   ],
   "source": [
    "bikeshare = pd.Series(dict(augie=10,moline=2),name='Number of Bikes')\n",
    "bikeshare"
   ]
  },
  {
   "cell_type": "markdown",
   "id": "missing-pendant",
   "metadata": {},
   "source": [
    "Not all functions have return values. For example, when you run `change_func`,\n",
    "it updates a state object, but it doesn't return a value.\n",
    "\n",
    "To write functions that return values, we can use a `return` statement, like this:"
   ]
  },
  {
   "cell_type": "code",
   "execution_count": 4,
   "id": "minimal-supervisor",
   "metadata": {},
   "outputs": [],
   "source": [
    "def add_five(x):\n",
    "    return x + 5"
   ]
  },
  {
   "cell_type": "markdown",
   "id": "sized-intensity",
   "metadata": {},
   "source": [
    "`add_five` takes a parameter, `x`, which could be any number. It\n",
    "computes `x + 5` and returns the result. So if we run it like this, the\n",
    "result is `8`:"
   ]
  },
  {
   "cell_type": "code",
   "execution_count": 5,
   "id": "warming-program",
   "metadata": {},
   "outputs": [
    {
     "data": {
      "text/plain": [
       "8"
      ]
     },
     "execution_count": 5,
     "metadata": {},
     "output_type": "execute_result"
    }
   ],
   "source": [
    "add_five(3)"
   ]
  },
  {
   "cell_type": "markdown",
   "id": "rental-representation",
   "metadata": {},
   "source": [
    "As a more useful example, here's a version of `run_simulation` that\n",
    "creates a state object, runs a simulation, and then returns the\n",
    "state object:"
   ]
  },
  {
   "cell_type": "code",
   "execution_count": 6,
   "id": "sitting-cleveland",
   "metadata": {},
   "outputs": [],
   "source": [
    "def run_simulation(p1, p2, num_steps):\n",
    "    state = pd.Series(dict(augie=10,moline=2,augie_empty=0,moline_empty=0,\n",
    "                           clock=0),name=\"Number of Bikes\")\n",
    "    \n",
    "    for i in range(num_steps):\n",
    "        change_func(state, p1, p2)\n",
    "        \n",
    "    return state"
   ]
  },
  {
   "cell_type": "markdown",
   "id": "minimal-ability",
   "metadata": {},
   "source": [
    "We can call `run_simulation` like this:"
   ]
  },
  {
   "cell_type": "code",
   "execution_count": 7,
   "id": "difficult-shepherd",
   "metadata": {},
   "outputs": [],
   "source": [
    "final_state = run_simulation(0.3, 0.2, 100)"
   ]
  },
  {
   "cell_type": "markdown",
   "id": "charming-wheel",
   "metadata": {},
   "source": [
    "The result is a `State` object that represents the final state of the system, including the metrics we'll use to evaluate the performance of the system:"
   ]
  },
  {
   "cell_type": "code",
   "execution_count": 8,
   "id": "tough-sweet",
   "metadata": {},
   "outputs": [
    {
     "name": "stdout",
     "output_type": "stream",
     "text": [
      "0 1\n"
     ]
    }
   ],
   "source": [
    "print(final_state.augie_empty, \n",
    "      final_state.moline_empty)"
   ]
  },
  {
   "cell_type": "markdown",
   "id": "aggregate-lightweight",
   "metadata": {},
   "source": [
    "The simulation we just ran starts with `augie=10` and `moline=2`, and uses the values `p1=0.3`, `p2=0.2`, and `num_steps=100`. \n",
    "These five values are *parameters of the model*, which are quantities that determine the behavior of the system.\n",
    "\n",
    "It is easy to get the parameters of a model confused with the parameters of a function. \n",
    "It is especially easy because the parameters of a model often appear as parameters of a function.\n",
    "\n",
    "For example, the previous version of `run_simulation` takes `p1`, `p2`, and `num_steps` as parameters.\n",
    "So we can call `run_simulation` with different parameters and see how\n",
    "the metrics, like the number of unhappy customers, depend on the\n",
    "parameters. But before we do that, we need a new version of a `for` loop."
   ]
  },
  {
   "cell_type": "markdown",
   "id": "valuable-aircraft",
   "metadata": {},
   "source": [
    "## Loops and Arrays\n",
    "\n",
    "In `run_simulation`, we use this `for` loop:\n",
    "\n",
    "```\n",
    "    for i in range(num_steps):\n",
    "        change_func(state, p1, p2)\n",
    "```\n",
    "\n",
    "In this example, `range` creates a sequence of numbers from `0` to `num_steps` (including `0` but not `num_steps`). \n",
    "Each time through the loop, the next number in the sequence gets assigned to the loop variable, `i`.\n",
    "\n",
    "But `range` only works with integers; to get a sequence of non-integer\n",
    "values, we can use `linspace`, which is defined NumPy:"
   ]
  },
  {
   "cell_type": "code",
   "execution_count": 9,
   "id": "bound-juice",
   "metadata": {},
   "outputs": [
    {
     "data": {
      "text/plain": [
       "array([0.  , 0.25, 0.5 , 0.75, 1.  ])"
      ]
     },
     "execution_count": 9,
     "metadata": {},
     "output_type": "execute_result"
    }
   ],
   "source": [
    "from numpy import linspace\n",
    "\n",
    "p1_array = linspace(0, 1, 5)\n",
    "p1_array"
   ]
  },
  {
   "cell_type": "markdown",
   "id": "ordered-colleague",
   "metadata": {},
   "source": [
    "The arguments indicate where the sequence should start and stop, and how\n",
    "many elements it should contain. In this example, the sequence contains\n",
    "`5` equally-spaced numbers, starting at `0` and ending at `1`.\n",
    "\n",
    "The result is a NumPy *array*, which is a new kind of object we have\n",
    "not seen before. An array is a container for a sequence of numbers.\n",
    "\n",
    "We can use an array in a `for` loop like this:"
   ]
  },
  {
   "cell_type": "code",
   "execution_count": 10,
   "id": "commercial-methodology",
   "metadata": {},
   "outputs": [
    {
     "name": "stdout",
     "output_type": "stream",
     "text": [
      "0.0\n",
      "0.25\n",
      "0.5\n",
      "0.75\n",
      "1.0\n"
     ]
    }
   ],
   "source": [
    "for p3 in p1_array:\n",
    "    print(p3)"
   ]
  },
  {
   "cell_type": "markdown",
   "id": "finnish-budapest",
   "metadata": {},
   "source": [
    "When this loop runs, it\n",
    "\n",
    "1.  Gets the first value from the array and assigns it to `p1`.\n",
    "\n",
    "2.  Runs the body of the loop, which prints `p1`.\n",
    "\n",
    "3.  Gets the next value from the array and assigns it to `p1`.\n",
    "\n",
    "4.  Runs the body of the loop, which prints `p1`.\n",
    "\n",
    "5. ...\n",
    "\n",
    "And so on, until it gets to the end of the array. This will come in handy in the next section."
   ]
  },
  {
   "cell_type": "markdown",
   "id": "crazy-belize",
   "metadata": {},
   "source": [
    "## Sweeping Parameters\n",
    "\n",
    "If we know the actual values of parameters like `p1` and `p2`, we can\n",
    "use them to make specific predictions, like how many bikes will be at\n",
    "Augustana after one hour.\n",
    "\n",
    "But prediction is not the only goal; models like this are also used to\n",
    "explain why systems behave as they do and to evaluate alternative\n",
    "designs. For example, if we observe the system and notice that we often run out of bikes at a particular time, we could use the model to figure out why that happens. And if we are considering adding more bikes, or another station, we could evaluate the effect of various \"what if\" scenarios.\n",
    "\n",
    "As an example, suppose we have enough data to estimate that `p2` is\n",
    "about `0.2`, but we don't have any information about `p1`. We could run simulations with a range of values for `p1` and see how the results vary. This process is called *sweeping* a parameter, in the sense that the value of the parameter \"sweeps\" through a range of possible values.\n",
    "\n",
    "Now that we know about loops and arrays, we can use them like this:"
   ]
  },
  {
   "cell_type": "code",
   "execution_count": 11,
   "id": "working-chair",
   "metadata": {},
   "outputs": [
    {
     "name": "stdout",
     "output_type": "stream",
     "text": [
      "0.0 0\n",
      "0.12 0\n",
      "0.24 0\n",
      "0.36 0\n",
      "0.48 11\n",
      "0.6 11\n"
     ]
    }
   ],
   "source": [
    "p1_array = linspace(0, 0.6, 6)\n",
    "p2 = 0.2\n",
    "num_steps = 60\n",
    "\n",
    "for p1 in p1_array:\n",
    "    final_state = run_simulation(p1, p2, num_steps)\n",
    "    print(p1, final_state.augie_empty)"
   ]
  },
  {
   "cell_type": "markdown",
   "id": "chicken-mainstream",
   "metadata": {},
   "source": [
    "Each time through the loop, we run a simulation with a different value\n",
    "of `p1` and the same value of `p2`, `0.2`. Then we print `p1` and the\n",
    "number of unhappy customers at Augustana.\n",
    "\n",
    "To save and plot the results, we can use another `Series`.  But in this case, the labels are the different parameter values (i.e. the arrival rates in Moline) rather than time values or state variable names, and the values in the `Series` will be the number of unhappy customers produced by each arrival rate."
   ]
  },
  {
   "cell_type": "code",
   "execution_count": 12,
   "id": "instrumental-session",
   "metadata": {},
   "outputs": [],
   "source": [
    "sweep = pd.Series([],name = \"Unhappy Customers\",dtype=object)"
   ]
  },
  {
   "cell_type": "markdown",
   "id": "listed-orleans",
   "metadata": {},
   "source": [
    "And add values like this:"
   ]
  },
  {
   "cell_type": "code",
   "execution_count": 13,
   "id": "hollywood-technical",
   "metadata": {},
   "outputs": [],
   "source": [
    "p1_array = linspace(0.1, 0.6, 31)\n",
    "\n",
    "for p1 in p1_array:\n",
    "    final_state = run_simulation(p1, p2, num_steps)\n",
    "    sweep[p1] = final_state.augie_empty"
   ]
  },
  {
   "cell_type": "markdown",
   "id": "healthy-prime",
   "metadata": {},
   "source": [
    "The result is a `Series` that maps from each value of `p1` to the\n",
    "resulting number of unhappy customers."
   ]
  },
  {
   "cell_type": "markdown",
   "id": "driven-theme",
   "metadata": {
    "tags": []
   },
   "source": [
    "We can display the results like this:"
   ]
  },
  {
   "cell_type": "code",
   "execution_count": 14,
   "id": "recovered-buffalo",
   "metadata": {
    "tags": []
   },
   "outputs": [
    {
     "data": {
      "text/html": [
       "<div>\n",
       "<style scoped>\n",
       "    .dataframe tbody tr th:only-of-type {\n",
       "        vertical-align: middle;\n",
       "    }\n",
       "\n",
       "    .dataframe tbody tr th {\n",
       "        vertical-align: top;\n",
       "    }\n",
       "\n",
       "    .dataframe thead th {\n",
       "        text-align: right;\n",
       "    }\n",
       "</style>\n",
       "<table border=\"1\" class=\"dataframe\">\n",
       "  <thead>\n",
       "    <tr style=\"text-align: right;\">\n",
       "      <th></th>\n",
       "      <th>Unhappy Customers</th>\n",
       "    </tr>\n",
       "  </thead>\n",
       "  <tbody>\n",
       "    <tr>\n",
       "      <th>0.100000</th>\n",
       "      <td>0</td>\n",
       "    </tr>\n",
       "    <tr>\n",
       "      <th>0.116667</th>\n",
       "      <td>0</td>\n",
       "    </tr>\n",
       "    <tr>\n",
       "      <th>0.133333</th>\n",
       "      <td>0</td>\n",
       "    </tr>\n",
       "    <tr>\n",
       "      <th>0.150000</th>\n",
       "      <td>0</td>\n",
       "    </tr>\n",
       "    <tr>\n",
       "      <th>0.166667</th>\n",
       "      <td>0</td>\n",
       "    </tr>\n",
       "    <tr>\n",
       "      <th>0.183333</th>\n",
       "      <td>0</td>\n",
       "    </tr>\n",
       "    <tr>\n",
       "      <th>0.200000</th>\n",
       "      <td>0</td>\n",
       "    </tr>\n",
       "    <tr>\n",
       "      <th>0.216667</th>\n",
       "      <td>0</td>\n",
       "    </tr>\n",
       "    <tr>\n",
       "      <th>0.233333</th>\n",
       "      <td>0</td>\n",
       "    </tr>\n",
       "    <tr>\n",
       "      <th>0.250000</th>\n",
       "      <td>0</td>\n",
       "    </tr>\n",
       "    <tr>\n",
       "      <th>0.266667</th>\n",
       "      <td>0</td>\n",
       "    </tr>\n",
       "    <tr>\n",
       "      <th>0.283333</th>\n",
       "      <td>0</td>\n",
       "    </tr>\n",
       "    <tr>\n",
       "      <th>0.300000</th>\n",
       "      <td>0</td>\n",
       "    </tr>\n",
       "    <tr>\n",
       "      <th>0.316667</th>\n",
       "      <td>2</td>\n",
       "    </tr>\n",
       "    <tr>\n",
       "      <th>0.333333</th>\n",
       "      <td>0</td>\n",
       "    </tr>\n",
       "    <tr>\n",
       "      <th>0.350000</th>\n",
       "      <td>0</td>\n",
       "    </tr>\n",
       "    <tr>\n",
       "      <th>0.366667</th>\n",
       "      <td>2</td>\n",
       "    </tr>\n",
       "    <tr>\n",
       "      <th>0.383333</th>\n",
       "      <td>0</td>\n",
       "    </tr>\n",
       "    <tr>\n",
       "      <th>0.400000</th>\n",
       "      <td>4</td>\n",
       "    </tr>\n",
       "    <tr>\n",
       "      <th>0.416667</th>\n",
       "      <td>8</td>\n",
       "    </tr>\n",
       "    <tr>\n",
       "      <th>0.433333</th>\n",
       "      <td>12</td>\n",
       "    </tr>\n",
       "    <tr>\n",
       "      <th>0.450000</th>\n",
       "      <td>9</td>\n",
       "    </tr>\n",
       "    <tr>\n",
       "      <th>0.466667</th>\n",
       "      <td>6</td>\n",
       "    </tr>\n",
       "    <tr>\n",
       "      <th>0.483333</th>\n",
       "      <td>6</td>\n",
       "    </tr>\n",
       "    <tr>\n",
       "      <th>0.500000</th>\n",
       "      <td>4</td>\n",
       "    </tr>\n",
       "    <tr>\n",
       "      <th>0.516667</th>\n",
       "      <td>8</td>\n",
       "    </tr>\n",
       "    <tr>\n",
       "      <th>0.533333</th>\n",
       "      <td>5</td>\n",
       "    </tr>\n",
       "    <tr>\n",
       "      <th>0.550000</th>\n",
       "      <td>5</td>\n",
       "    </tr>\n",
       "    <tr>\n",
       "      <th>0.566667</th>\n",
       "      <td>4</td>\n",
       "    </tr>\n",
       "    <tr>\n",
       "      <th>0.583333</th>\n",
       "      <td>12</td>\n",
       "    </tr>\n",
       "    <tr>\n",
       "      <th>0.600000</th>\n",
       "      <td>11</td>\n",
       "    </tr>\n",
       "  </tbody>\n",
       "</table>\n",
       "</div>"
      ],
      "text/plain": [
       "          Unhappy Customers\n",
       "0.100000                  0\n",
       "0.116667                  0\n",
       "0.133333                  0\n",
       "0.150000                  0\n",
       "0.166667                  0\n",
       "0.183333                  0\n",
       "0.200000                  0\n",
       "0.216667                  0\n",
       "0.233333                  0\n",
       "0.250000                  0\n",
       "0.266667                  0\n",
       "0.283333                  0\n",
       "0.300000                  0\n",
       "0.316667                  2\n",
       "0.333333                  0\n",
       "0.350000                  0\n",
       "0.366667                  2\n",
       "0.383333                  0\n",
       "0.400000                  4\n",
       "0.416667                  8\n",
       "0.433333                 12\n",
       "0.450000                  9\n",
       "0.466667                  6\n",
       "0.483333                  6\n",
       "0.500000                  4\n",
       "0.516667                  8\n",
       "0.533333                  5\n",
       "0.550000                  5\n",
       "0.566667                  4\n",
       "0.583333                 12\n",
       "0.600000                 11"
      ]
     },
     "execution_count": 14,
     "metadata": {},
     "output_type": "execute_result"
    }
   ],
   "source": [
    "pd.DataFrame(sweep)"
   ]
  },
  {
   "cell_type": "markdown",
   "id": "instructional-showcase",
   "metadata": {},
   "source": [
    "We can plot the results like this:"
   ]
  },
  {
   "cell_type": "code",
   "execution_count": 15,
   "id": "hollywood-spirit",
   "metadata": {},
   "outputs": [
    {
     "data": {
      "image/png": "[encoded data removed]",
      "text/plain": [
       "<Figure size 432x288 with 1 Axes>"
      ]
     },
     "metadata": {
      "needs_background": "light"
     },
     "output_type": "display_data"
    }
   ],
   "source": [
    "sweep.plot(xlabel=\"Arrival rate in Moline\", \n",
    "           ylabel=\"Unhappy Augie Customers\",\n",
    "            title='Augie-Moline Bikeshare',\n",
    "            color='C1',legend=True,\n",
    "            linestyle='--',marker='.');"
   ]
  },
  {
   "cell_type": "markdown",
   "id": "educated-bloom",
   "metadata": {},
   "source": [
    "The keyword argument `color='C1'` specifies the color of the line. The keyword arguments `marker` amd `linestyle` control the style of the plot.  Do a web search for 'matplotlib plot' to see available options.\n",
    "\n",
    "When the arrival rate at Augustana is low, there are plenty of bikes and no unhappy customers.\n",
    "As the arrival rate increases, we are more likely to run out of bikes and the number of unhappy customers increases. The line is jagged because the simulation is based on random numbers. Sometime we get lucky and there are relatively few unhappy customers; other times are are unlucky and there are more. "
   ]
  },
  {
   "cell_type": "markdown",
   "id": "korean-christianity",
   "metadata": {},
   "source": [
    "## Incremental Development\n",
    "\n",
    "When you start writing programs that are more than a few lines, you\n",
    "might find yourself spending more time debugging. The more code you write before you start debugging, the harder it is to find the problem.\n",
    "\n",
    "*Incremental development* is a way of programming that tries to\n",
    "minimize the pain of debugging. The fundamental steps are:\n",
    "\n",
    "1.  Always start with a working program. If you have an example from a\n",
    "    book, or a program you wrote that is similar to what you are working\n",
    "    on, start with that. Otherwise, start with something you *know* is\n",
    "    correct, like `x=5`. Run the program and confirm that it does what\n",
    "    you expect.\n",
    "\n",
    "2.  Make one small, testable change at a time. A \"testable\" change is\n",
    "    one that displays something or has some other effect you can check.\n",
    "    Ideally, you should know what the correct answer is, or be able to\n",
    "    check it by performing another computation.\n",
    "\n",
    "3.  Run the program and see if the change worked. If so, go back to\n",
    "    Step 2. If not, you have to do some debugging, but if the\n",
    "    change you made was small, it shouldn't take long to find the\n",
    "    problem.\n",
    "\n",
    "When this process works, your changes usually work the first time, or if they don't, the problem is obvious. In practice, there are two problems with incremental development:\n",
    "\n",
    "-   Sometimes you have to write extra code to generate visible output\n",
    "    that you can check. This extra code is called *scaffolding*\n",
    "    because you use it to build the program and then remove it when you\n",
    "    are done. That might seem like a waste, but time you spend on\n",
    "    scaffolding is almost always time you save on debugging.\n",
    "\n",
    "-   When you are getting started, it might not be obvious how to choose\n",
    "    the steps that get from `x=5` to the program you are trying to\n",
    "    write. You will see more examples of this process as we go along,\n",
    "    and you will get better with experience.\n",
    "\n",
    "If you find yourself writing more than a few lines of code before you\n",
    "start testing, and you are spending a lot of time debugging, try\n",
    "incremental development."
   ]
  },
  {
   "cell_type": "markdown",
   "id": "nominated-assault",
   "metadata": {},
   "source": [
    "## Summary\n",
    "\n",
    "This chapter introduces functions that return values, which we use to write a version of `run_simulation` that returns a `State` object with the final state of the system.\n",
    "\n",
    "It also introduces `linspace`, which we use to create a NumPy array, and sweep `Series`, which we use to store the results of a parameter sweep.\n",
    "\n",
    "We used a parameter sweep to explore the relationship between one of the parameters, `p1`, and the number of unhappy customers, which is a metric that quantifies how well (or badly) the system works.\n",
    "\n",
    "In the exercises, you'll have a chance to sweep other parameters and compute other metrics.\n",
    "\n",
    "In the next chapter, we'll move on to a new problem, modeling and predicting world population growth."
   ]
  },
  {
   "cell_type": "markdown",
   "id": "appreciated-preview",
   "metadata": {},
   "source": [
    "## Exercises"
   ]
  },
  {
   "cell_type": "markdown",
   "id": "primary-quest",
   "metadata": {},
   "source": [
    "### Exercise 1\n",
    "\n",
    " Write a function called `make_state` that creates a state object with the state variables `augie=10` and `moline=2`, and then returns the new state object.\n",
    "\n",
    "Write a line of code that calls `make_state` and assigns the result to a variable named `init`.  Finally, show the values of the state variables in 'init'."
   ]
  },
  {
   "cell_type": "code",
   "execution_count": 16,
   "id": "reflected-freedom",
   "metadata": {},
   "outputs": [],
   "source": [
    "def make_state():\n",
    "    state = pd.Series(dict(augie=10,moline=2),name=\"Number of Bikes\")\n",
    "    return state"
   ]
  },
  {
   "cell_type": "code",
   "execution_count": 17,
   "id": "north-formation",
   "metadata": {},
   "outputs": [
    {
     "data": {
      "text/html": [
       "<div>\n",
       "<style scoped>\n",
       "    .dataframe tbody tr th:only-of-type {\n",
       "        vertical-align: middle;\n",
       "    }\n",
       "\n",
       "    .dataframe tbody tr th {\n",
       "        vertical-align: top;\n",
       "    }\n",
       "\n",
       "    .dataframe thead th {\n",
       "        text-align: right;\n",
       "    }\n",
       "</style>\n",
       "<table border=\"1\" class=\"dataframe\">\n",
       "  <thead>\n",
       "    <tr style=\"text-align: right;\">\n",
       "      <th></th>\n",
       "      <th>Number of Bikes</th>\n",
       "    </tr>\n",
       "  </thead>\n",
       "  <tbody>\n",
       "    <tr>\n",
       "      <th>augie</th>\n",
       "      <td>10</td>\n",
       "    </tr>\n",
       "    <tr>\n",
       "      <th>moline</th>\n",
       "      <td>2</td>\n",
       "    </tr>\n",
       "  </tbody>\n",
       "</table>\n",
       "</div>"
      ],
      "text/plain": [
       "        Number of Bikes\n",
       "augie                10\n",
       "moline                2"
      ]
     },
     "execution_count": 17,
     "metadata": {},
     "output_type": "execute_result"
    }
   ],
   "source": [
    "init = make_state()\n",
    "pd.DataFrame(init)"
   ]
  },
  {
   "cell_type": "markdown",
   "id": "robust-blair",
   "metadata": {},
   "source": [
    "### Exercise 2\n",
    "\n",
    "Read the documentation of `linspace` at <https://numpy.org/doc/stable/reference/generated/numpy.linspace.html>. Then use it to make an array of 101 equally spaced points between 0 and 1 (including both).  Show the values within the array to check your solution."
   ]
  },
  {
   "cell_type": "code",
   "execution_count": 18,
   "id": "collected-butter",
   "metadata": {},
   "outputs": [
    {
     "data": {
      "text/plain": [
       "array([0.  , 0.01, 0.02, 0.03, 0.04, 0.05, 0.06, 0.07, 0.08, 0.09, 0.1 ,\n",
       "       0.11, 0.12, 0.13, 0.14, 0.15, 0.16, 0.17, 0.18, 0.19, 0.2 , 0.21,\n",
       "       0.22, 0.23, 0.24, 0.25, 0.26, 0.27, 0.28, 0.29, 0.3 , 0.31, 0.32,\n",
       "       0.33, 0.34, 0.35, 0.36, 0.37, 0.38, 0.39, 0.4 , 0.41, 0.42, 0.43,\n",
       "       0.44, 0.45, 0.46, 0.47, 0.48, 0.49, 0.5 , 0.51, 0.52, 0.53, 0.54,\n",
       "       0.55, 0.56, 0.57, 0.58, 0.59, 0.6 , 0.61, 0.62, 0.63, 0.64, 0.65,\n",
       "       0.66, 0.67, 0.68, 0.69, 0.7 , 0.71, 0.72, 0.73, 0.74, 0.75, 0.76,\n",
       "       0.77, 0.78, 0.79, 0.8 , 0.81, 0.82, 0.83, 0.84, 0.85, 0.86, 0.87,\n",
       "       0.88, 0.89, 0.9 , 0.91, 0.92, 0.93, 0.94, 0.95, 0.96, 0.97, 0.98,\n",
       "       0.99, 1.  ])"
      ]
     },
     "execution_count": 18,
     "metadata": {},
     "output_type": "execute_result"
    }
   ],
   "source": [
    "hundred = linspace(0,1,101)\n",
    "show(hundred)"
   ]
  },
  {
   "cell_type": "markdown",
   "id": "fleet-debut",
   "metadata": {},
   "source": [
    "### Exercise 3\n",
    "\n",
    " Wrap the `run_simulation` in a function named `sweep_p1` that finds the number of unhappy customers at Augustana for a range of probabilities.  The function should take three parameters: an array called `p1_array` that defines the range of `p1` values, a value between 0 and 1 called `p2`, and an integer value called `num_steps`.  It should create a new sweep `Series` and run a `num_steps` simulation for each value of `p1` in `p1_array` and the provided `p2`.\n",
    " \n",
    "It should store the results in the `Series` and return the `Series`.  \n",
    "\n",
    "In the second box, use your function to plot the number of unhappy customers at Augustana as a function of `p1` when `p2` = 0.2 and `num_steps` = 60.   Label the axes."
   ]
  },
  {
   "cell_type": "code",
   "execution_count": 19,
   "id": "authorized-sarah",
   "metadata": {},
   "outputs": [],
   "source": [
    "# Define function sweep_p1\n",
    "\n",
    "def sweep_p1(p1_array,p2,num_steps):\n",
    "    \"\"\"\"Finds the number of unhappy customers at Augustana for a range of \n",
    "    probabilities p1\n",
    "    \n",
    "    p1: probability of a customer arrival at Augustana\n",
    "        in a given time step\n",
    "    p2: probability of a customer arrival at Moline\n",
    "        in a given timestep\n",
    "    num_steps: number of time steps\"\"\"\n",
    "    \n",
    "    #Create sweep Series state object save augie_empty results\n",
    "    sweep = pd.Series([],dtype=object)\n",
    "    for p1 in p1_array:\n",
    "        # Create state object to hold results\n",
    "        final_state = run_simulation(p1, p2, num_steps)\n",
    "        # Inserts result into sweep Series\n",
    "        sweep[p1] = final_state.augie_empty\n",
    "    return sweep"
   ]
  },
  {
   "cell_type": "code",
   "execution_count": 20,
   "id": "romance-wisdom",
   "metadata": {},
   "outputs": [
    {
     "data": {
      "image/png": "[encoded data removed]",
      "text/plain": [
       "<Figure size 432x288 with 1 Axes>"
      ]
     },
     "metadata": {
      "needs_background": "light"
     },
     "output_type": "display_data"
    }
   ],
   "source": [
    "# Define particular solution and plot solution\n",
    "\n",
    "p1_array = linspace(0,1,101)\n",
    "p1_sweep = sweep_p1(p1_array,0.2,60)\n",
    "\n",
    "p1_sweep.plot(xlabel=\"Arrival rate in Moline\", \n",
    "           ylabel=\"Unhappy Customers\",\n",
    "            title='Augie-Moline Bikeshare',\n",
    "            color='C2',label='Unhappy Folks at Augie',legend=True);\n"
   ]
  },
  {
   "cell_type": "markdown",
   "id": "developmental-broad",
   "metadata": {},
   "source": [
    "### Exercise 4\n",
    "\n",
    " Write a similar function (also finding the unhappy customers at Augustana) called `sweep_p2` that runs simulations with `p1=0.5` and a range of values for `p2`.  It should store the results in a `Series` and return the `Series`.  Use cut-and-paste to your advantage!\n"
   ]
  },
  {
   "cell_type": "code",
   "execution_count": 21,
   "id": "norman-banana",
   "metadata": {},
   "outputs": [],
   "source": [
    "def sweep_p2(p1,p2_array,num_steps):\n",
    "    \n",
    "    \"\"\"\"Finds the number of unhappy customers at Augustana for a range of \n",
    "    probabilities p1\n",
    "    \n",
    "    p1: probability of a customer arrival at Augustana\n",
    "        in a given time step\n",
    "    p2: probability of a customer arrival at Moline\n",
    "        in a given timestep\n",
    "    num_steps: number of time steps\"\"\"\n",
    "    \n",
    "    sweep = pd.Series([],dtype=object)\n",
    "    \n",
    "    for p2 in p2_array:\n",
    "        final_state = run_simulation(p1, p2, num_steps)\n",
    "        sweep[p2] = final_state.augie_empty\n",
    "    return sweep"
   ]
  },
  {
   "cell_type": "code",
   "execution_count": 22,
   "id": "mexican-robert",
   "metadata": {},
   "outputs": [
    {
     "data": {
      "image/png": "[encoded data removed]",
      "text/plain": [
       "<Figure size 432x288 with 1 Axes>"
      ]
     },
     "metadata": {
      "needs_background": "light"
     },
     "output_type": "display_data"
    }
   ],
   "source": [
    "p2_array = linspace(0,1,101)\n",
    "p2_sweep = sweep_p2(0.5,p2_array,60)\n",
    "\n",
    "p2_sweep.plot(xlabel=\"Arrival rate at Augie\", \n",
    "           ylabel=\"Unhappy Customers\",\n",
    "            title='Augie-Moline Bikeshare',\n",
    "            color='C3',label='Unhappy Folks in Moline',legend=True);"
   ]
  },
  {
   "cell_type": "markdown",
   "id": "separate-mention",
   "metadata": {},
   "source": [
    "## Challenge Exercises\n",
    "\n",
    "The following two exercises are a little more challenging.  If you are comfortable with what you have learned so far, you should give them a try.  If you feel like you have your hands full, you might want to skip them for now."
   ]
  },
  {
   "cell_type": "markdown",
   "id": "bearing-orbit",
   "metadata": {},
   "source": [
    "### Exercise 5\n",
    "\n",
    " Because our simulations are random, the results vary from one run to another, and the results of a parameter sweep tend to be noisy.  We can get a clearer picture of the relationship between a parameter and a metric by running multiple simulations with the same parameter and taking the average of the results.\n",
    "\n",
    "Write a function called `run_multiple_simulations` that takes as parameters `p1`, `p2`, `num_steps`, and `num_runs`.\n",
    "`num_runs` specifies how many times it should call `run_simulation`.\n",
    "\n",
    "After each run, it should store the total number of unhappy customers (at Augustana and Moline combined) in a time `Series`.\n",
    "At the end, it should return the `Series`.\n",
    "\n",
    "In the second cell, test your function with parameters and show the result `Series`:\n",
    "\n",
    "```\n",
    "p1 = 0.3\n",
    "p2 = 0.3\n",
    "num_steps = 60\n",
    "num_runs = 10\n",
    "```\n",
    "\n",
    "In the third cell, use the `mean` function from NumPy to compute the average number of unhappy customers (see \"Under The Hood\" section below to see how to do this)."
   ]
  },
  {
   "cell_type": "code",
   "execution_count": 23,
   "id": "accredited-salmon",
   "metadata": {},
   "outputs": [],
   "source": [
    "## Defines the function that runs multiple simulations for \n",
    "## a given p1 and p2 and saves the results in a time Series\n",
    "\n",
    "def run_multiple_simulations(p1,p2,num_steps,num_runs):\n",
    "    local_results = pd.Series([],dtype=object)\n",
    "    \n",
    "    for i in range(num_runs):\n",
    "        state = run_simulation(p1, p2, num_steps)\n",
    "        local_results[i] = state.augie_empty + state.moline_empty\n",
    "    return local_results\n",
    "    "
   ]
  },
  {
   "cell_type": "code",
   "execution_count": 24,
   "id": "visible-allowance",
   "metadata": {},
   "outputs": [
    {
     "data": {
      "text/html": [
       "<div>\n",
       "<style scoped>\n",
       "    .dataframe tbody tr th:only-of-type {\n",
       "        vertical-align: middle;\n",
       "    }\n",
       "\n",
       "    .dataframe tbody tr th {\n",
       "        vertical-align: top;\n",
       "    }\n",
       "\n",
       "    .dataframe thead th {\n",
       "        text-align: right;\n",
       "    }\n",
       "</style>\n",
       "<table border=\"1\" class=\"dataframe\">\n",
       "  <thead>\n",
       "    <tr style=\"text-align: right;\">\n",
       "      <th></th>\n",
       "      <th>0</th>\n",
       "    </tr>\n",
       "  </thead>\n",
       "  <tbody>\n",
       "    <tr>\n",
       "      <th>0</th>\n",
       "      <td>17</td>\n",
       "    </tr>\n",
       "    <tr>\n",
       "      <th>1</th>\n",
       "      <td>8</td>\n",
       "    </tr>\n",
       "    <tr>\n",
       "      <th>2</th>\n",
       "      <td>21</td>\n",
       "    </tr>\n",
       "    <tr>\n",
       "      <th>3</th>\n",
       "      <td>16</td>\n",
       "    </tr>\n",
       "    <tr>\n",
       "      <th>4</th>\n",
       "      <td>10</td>\n",
       "    </tr>\n",
       "    <tr>\n",
       "      <th>5</th>\n",
       "      <td>19</td>\n",
       "    </tr>\n",
       "    <tr>\n",
       "      <th>6</th>\n",
       "      <td>0</td>\n",
       "    </tr>\n",
       "    <tr>\n",
       "      <th>7</th>\n",
       "      <td>12</td>\n",
       "    </tr>\n",
       "    <tr>\n",
       "      <th>8</th>\n",
       "      <td>18</td>\n",
       "    </tr>\n",
       "    <tr>\n",
       "      <th>9</th>\n",
       "      <td>13</td>\n",
       "    </tr>\n",
       "    <tr>\n",
       "      <th>10</th>\n",
       "      <td>11</td>\n",
       "    </tr>\n",
       "    <tr>\n",
       "      <th>11</th>\n",
       "      <td>8</td>\n",
       "    </tr>\n",
       "    <tr>\n",
       "      <th>12</th>\n",
       "      <td>3</td>\n",
       "    </tr>\n",
       "    <tr>\n",
       "      <th>13</th>\n",
       "      <td>14</td>\n",
       "    </tr>\n",
       "    <tr>\n",
       "      <th>14</th>\n",
       "      <td>11</td>\n",
       "    </tr>\n",
       "    <tr>\n",
       "      <th>15</th>\n",
       "      <td>16</td>\n",
       "    </tr>\n",
       "    <tr>\n",
       "      <th>16</th>\n",
       "      <td>7</td>\n",
       "    </tr>\n",
       "    <tr>\n",
       "      <th>17</th>\n",
       "      <td>8</td>\n",
       "    </tr>\n",
       "    <tr>\n",
       "      <th>18</th>\n",
       "      <td>7</td>\n",
       "    </tr>\n",
       "    <tr>\n",
       "      <th>19</th>\n",
       "      <td>15</td>\n",
       "    </tr>\n",
       "  </tbody>\n",
       "</table>\n",
       "</div>"
      ],
      "text/plain": [
       "     0\n",
       "0   17\n",
       "1    8\n",
       "2   21\n",
       "3   16\n",
       "4   10\n",
       "5   19\n",
       "6    0\n",
       "7   12\n",
       "8   18\n",
       "9   13\n",
       "10  11\n",
       "11   8\n",
       "12   3\n",
       "13  14\n",
       "14  11\n",
       "15  16\n",
       "16   7\n",
       "17   8\n",
       "18   7\n",
       "19  15"
      ]
     },
     "execution_count": 24,
     "metadata": {},
     "output_type": "execute_result"
    }
   ],
   "source": [
    "results = run_multiple_simulations(0.6,0.3,60,20)\n",
    "pd.DataFrame(results)\n"
   ]
  },
  {
   "cell_type": "code",
   "execution_count": 25,
   "id": "spatial-fundamentals",
   "metadata": {},
   "outputs": [
    {
     "name": "stdout",
     "output_type": "stream",
     "text": [
      "The average number of unhappy customers is  11.7\n"
     ]
    }
   ],
   "source": [
    "print('The average number of unhappy customers is ',results.mean())"
   ]
  },
  {
   "cell_type": "markdown",
   "id": "structural-expense",
   "metadata": {},
   "source": [
    "### Exercise 6\n",
    "\n",
    "Continuing the previous exercise, use `run_multiple_simulations` to run simulations with a range of values for `p1` and\n",
    "\n",
    "```\n",
    "p2 = 0.3\n",
    "num_steps = 60\n",
    "num_runs = 20\n",
    "```\n",
    "\n",
    "Store the results in a sweep `Series`, then plot the average number of unhappy customers as a function of `p1`.  Label the axes.\n",
    "\n",
    "What value of `p1` minimizes the average number of unhappy customers?"
   ]
  },
  {
   "cell_type": "code",
   "execution_count": 26,
   "id": "reverse-emphasis",
   "metadata": {
    "scrolled": true
   },
   "outputs": [],
   "source": [
    "## num_p1 defines the number of values for p1, evenly spaced \n",
    "##between 0 and 1, that will be modelled\n",
    "num_p1 = 21\n",
    "p1_array = linspace(0,1,num_p1)\n",
    "\n",
    "## p2 is the value for p2 (chance of a customer picking up a \n",
    "## bike from Moline)\n",
    "p2 = 0.3\n",
    "\n",
    "## num_steps is the number of time steps in each simulation\n",
    "num_steps = 60\n",
    "\n",
    "## num_runs is the number of simulations run for each value of p1\n",
    "num_runs = 100\n",
    "\n",
    "## unhappy will store the average number of combined unhappy customers for each value of p1\n",
    "unhappy = pd.Series([],dtype=object)\n",
    "for p1 in p1_array:\n",
    "    results = run_multiple_simulations(p1,p2,num_steps,num_runs)\n",
    "    unhappy[p1]= results.mean()"
   ]
  },
  {
   "cell_type": "code",
   "execution_count": 27,
   "id": "broad-latitude",
   "metadata": {
    "scrolled": true
   },
   "outputs": [
    {
     "data": {
      "image/png": "[encoded data removed]",
      "text/plain": [
       "<Figure size 432x288 with 1 Axes>"
      ]
     },
     "metadata": {
      "needs_background": "light"
     },
     "output_type": "display_data"
    }
   ],
   "source": [
    "unhappy.plot(xlabel=\"Arrival rate at Augie\", \n",
    "           ylabel=\"Unhappy Customers\",\n",
    "            title='Augie-Moline Bikeshare',\n",
    "            color='C3',label='Total Unhappy Customers',legend=True);"
   ]
  },
  {
   "cell_type": "markdown",
   "id": "f20dbab6",
   "metadata": {},
   "source": [
    "### Exercise 7\n",
    "\n",
    "Take a moment and look at the results from exercise 6.  What is the ideal arrival rate in order to minimize unhappy customers?  Look at the parameters, and explain in a couple sentences why that makes sense.\n",
    "\n",
    "Then change some of the parameters (`num_steps`,`p2`).  What do you expect to happen to the optimal arrival rate?  Rerun the experiments with changed paramters: does it change as you'd expect?\n",
    "\n",
    "Answer in a Markdown cell below this one."
   ]
  },
  {
   "cell_type": "markdown",
   "id": "biblical-federal",
   "metadata": {},
   "source": [
    "## Under the Hood\n",
    "\n",
    "`Series` provides a number of functions, which you can read about at <https://pandas.pydata.org/pandas-docs/stable/reference/api/pandas.Series.html>.\n",
    "\n",
    "They include `mean`, which computes the average of the values in the `Series`, so if you have a `Series` named `totals`, for example, you can compute the mean like this:\n",
    "\n",
    "```\n",
    "    totals.mean()\n",
    "```\n",
    "\n",
    "`Series` provides other statistical functions, like `std`, which computes the standard deviation of the values in the series.\n",
    "\n",
    "In this chapter I use the keyword argument `color` to specify the color of a line plot.\n",
    "You can read about the other available colors at <https://matplotlib.org/3.3.2/tutorials/colors/colors.html>."
   ]
  },
  {
   "cell_type": "code",
   "execution_count": null,
   "id": "federal-cemetery",
   "metadata": {},
   "outputs": [],
   "source": []
  }
 ],
 "metadata": {
  "celltoolbar": "Tags",
  "kernelspec": {
   "display_name": "Python 3",
   "language": "python",
   "name": "python3"
  },
  "language_info": {
   "codemirror_mode": {
    "name": "ipython",
    "version": 3
   },
   "file_extension": ".py",
   "mimetype": "text/x-python",
   "name": "python",
   "nbconvert_exporter": "python",
   "pygments_lexer": "ipython3",
   "version": "3.8.8"
  }
 },
 "nbformat": 4,
 "nbformat_minor": 5
}
