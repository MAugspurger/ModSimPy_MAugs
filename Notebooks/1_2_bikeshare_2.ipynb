{
 "cells": [
  {
   "cell_type": "markdown",
   "id": "signal-format",
   "metadata": {},
   "source": [
    "# 1.2: Bike Share II (Iteration)"
   ]
  },
  {
   "cell_type": "markdown",
   "id": "imported-table",
   "metadata": {
    "tags": []
   },
   "source": [
    "*Modeling and Simulation in Python*\n",
    "\n",
    "Copyright 2021 Allen Downey, (License: [Creative Commons Attribution-NonCommercial-ShareAlike 4.0 International](https://creativecommons.org/licenses/by-nc-sa/4.0/))\n",
    "\n",
    "Revised, Mike Augspurger (2021-present)"
   ]
  },
  {
   "cell_type": "code",
   "execution_count": 1,
   "id": "progressive-typing",
   "metadata": {
    "tags": []
   },
   "outputs": [],
   "source": [
    "# import functions from modsim\n",
    "#import sys\n",
    "#sys.path.append('..\\\\..\\\\ModSimPy_Directory')\n",
    "#from ModSimPy_Functions.modsim import flip\n",
    "\n",
    "import pandas as pd\n",
    "import numpy as np\n",
    "\n",
    "def flip(p=0.5):\n",
    "    \"\"\"Flips a coin with the given probability.\n",
    "\n",
    "    p: float 0-1\n",
    "\n",
    "    returns: boolean (True or False)\n",
    "    \"\"\"\n",
    "    return np.random.random() < p"
   ]
  },
  {
   "cell_type": "markdown",
   "id": "coral-steering",
   "metadata": {},
   "source": [
    "It's something of a cliche in statistics and modeling to say, \"All models are wrong, but some models are\n",
    "more wrong than others.\" This chapter demonstrates the process we\n",
    "use to make models less wrong.\n",
    "\n",
    "As an example, we'll review the bikeshare model from the previous\n",
    "chapter, consider its strengths and weaknesses, and gradually improve\n",
    "it. We'll also see ways to use the model to understand the behavior of\n",
    "the system and evaluate designs intended to make it work better."
   ]
  },
  {
   "cell_type": "markdown",
   "id": "twelve-length",
   "metadata": {},
   "source": [
    "## Iterative Modeling\n",
    "\n",
    "The model we have so far is simple, but it is based on unrealistic\n",
    "assumptions. Before you go on, take a minute to review the model from\n",
    "the previous chapter. What assumptions is it based on? Make a list of\n",
    "ways this model might be unrealistic; that is, what are the differences between the model and the real world?\n",
    "\n",
    "Here are some of the differences on my list:\n",
    "\n",
    "-   In the model, a student is equally likely to arrive during any\n",
    "    one-minute period. In reality, this probability varies depending on time of day, day of the week, etc.\n",
    "\n",
    "-   The model does not account for travel time from one bike station to another.\n",
    "\n",
    "-   The model does not check whether a bike is available, so it's\n",
    "    possible for the number of bikes to be negative (as you might have\n",
    "    noticed in some of your simulations)."
   ]
  },
  {
   "cell_type": "markdown",
   "id": "sweet-heater",
   "metadata": {},
   "source": [
    "Some of these modeling decisions are better than others. For example,\n",
    "the first assumption might be reasonable if we simulate the system for a short period of time, like one hour.\n",
    "\n",
    "The second assumption is not very realistic, but it might not affect the results very much, depending on what we use the model for.\n",
    "\n",
    "On the other hand, the third assumption seems problematic, and it is\n",
    "relatively easy to fix. In this chapter, we will.\n",
    "\n",
    "This process, starting with a simple model, identifying the most\n",
    "important problems, and making gradual improvements, is called\n",
    "*iterative modeling*.\n",
    "\n",
    "For any physical system, there are many possible models, based on\n",
    "different assumptions and simplifications. It often takes several\n",
    "iterations to develop a model that is good enough for the intended\n",
    "purpose, but no more complicated than necessary."
   ]
  },
  {
   "cell_type": "markdown",
   "id": "female-salem",
   "metadata": {},
   "source": [
    "## More Than One State Object\n",
    "\n",
    "Before we go on, I want to make a few changes to the code from the\n",
    "previous chapter. First I'll generalize the functions we wrote so they\n",
    "take a state `Series` object as a parameter. Then, I'll make the code more\n",
    "readable by adding documentation.\n",
    "\n",
    "Here is one of the functions from the previous chapter, `bike_to_moline`:"
   ]
  },
  {
   "cell_type": "code",
   "execution_count": 2,
   "id": "embedded-heavy",
   "metadata": {},
   "outputs": [],
   "source": [
    "def bike_to_moline():\n",
    "    bikeshare.augie -= 1\n",
    "    bikeshare.moline += 1"
   ]
  },
  {
   "cell_type": "markdown",
   "id": "artificial-remains",
   "metadata": {},
   "source": [
    "When this function is called, it modifies `bikeshare`. As long as there\n",
    "is only one state object, that's fine, but what if there is more than\n",
    "one bike share system in the world? Or what if we want to run more than\n",
    "one simulation?\n",
    "\n",
    "This function would be more flexible if it took a `Series` object as a\n",
    "parameter. Here's what that looks like:"
   ]
  },
  {
   "cell_type": "code",
   "execution_count": 3,
   "id": "unusual-advancement",
   "metadata": {},
   "outputs": [],
   "source": [
    "def bike_to_moline(state):\n",
    "    state.augie -= 1\n",
    "    state.moline += 1"
   ]
  },
  {
   "cell_type": "markdown",
   "id": "serial-mortality",
   "metadata": {},
   "source": [
    "The name of the parameter is `state`, rather than `bikeshare`, as a\n",
    "reminder that the value of `state` could be any state `Series` object, not just the one we called `bikeshare`.\n",
    "\n",
    "This version of `bike_to_moline` requires a `Series` object as a\n",
    "parameter, so we have to provide one when we call it:"
   ]
  },
  {
   "cell_type": "code",
   "execution_count": 4,
   "id": "packed-hungarian",
   "metadata": {},
   "outputs": [],
   "source": [
    "bikeshare = pd.Series(dict(augie=10,moline=2),name=\"Number of Bikes\")\n",
    "bike_to_moline(bikeshare)"
   ]
  },
  {
   "cell_type": "markdown",
   "id": "fewer-rhythm",
   "metadata": {},
   "source": [
    "Again, the argument we provide gets assigned to the parameter, so this\n",
    "function call has the same effect as:\n",
    "\n",
    "```\n",
    "state = bikeshare \n",
    "state.augie -= 1 \n",
    "state.moline += 1\n",
    "```\n",
    "\n",
    "Now we can create as many `State` objects as we want:"
   ]
  },
  {
   "cell_type": "code",
   "execution_count": 5,
   "id": "right-assessment",
   "metadata": {},
   "outputs": [],
   "source": [
    "bikeshare1 = pd.Series(dict(augie=10,moline=2),name=\"Number of Bikes\")\n",
    "bikeshare2 = pd.Series(dict(augie=2,moline=10),name=\"Number of Bikes\")"
   ]
  },
  {
   "cell_type": "markdown",
   "id": "occupied-navigator",
   "metadata": {},
   "source": [
    "And update them independently:"
   ]
  },
  {
   "cell_type": "code",
   "execution_count": 6,
   "id": "cleared-advocacy",
   "metadata": {},
   "outputs": [
    {
     "data": {
      "text/html": [
       "<div>\n",
       "<style scoped>\n",
       "    .dataframe tbody tr th:only-of-type {\n",
       "        vertical-align: middle;\n",
       "    }\n",
       "\n",
       "    .dataframe tbody tr th {\n",
       "        vertical-align: top;\n",
       "    }\n",
       "\n",
       "    .dataframe thead th {\n",
       "        text-align: right;\n",
       "    }\n",
       "</style>\n",
       "<table border=\"1\" class=\"dataframe\">\n",
       "  <thead>\n",
       "    <tr style=\"text-align: right;\">\n",
       "      <th></th>\n",
       "      <th>Number of Bikes</th>\n",
       "    </tr>\n",
       "  </thead>\n",
       "  <tbody>\n",
       "    <tr>\n",
       "      <th>augie</th>\n",
       "      <td>1</td>\n",
       "    </tr>\n",
       "    <tr>\n",
       "      <th>moline</th>\n",
       "      <td>11</td>\n",
       "    </tr>\n",
       "  </tbody>\n",
       "</table>\n",
       "</div>"
      ],
      "text/plain": [
       "        Number of Bikes\n",
       "augie                 1\n",
       "moline               11"
      ]
     },
     "execution_count": 6,
     "metadata": {},
     "output_type": "execute_result"
    }
   ],
   "source": [
    "bike_to_moline(bikeshare1)\n",
    "bike_to_moline(bikeshare2)\n",
    "pd.DataFrame(bikeshare2)"
   ]
  },
  {
   "cell_type": "markdown",
   "id": "brown-ferry",
   "metadata": {},
   "source": [
    "Changes in `bikeshare1` do not affect `bikeshare2`, and vice versa. So\n",
    "we can simulate different bike share systems, or run multiple\n",
    "simulations of the same system."
   ]
  },
  {
   "cell_type": "markdown",
   "id": "magnetic-packing",
   "metadata": {},
   "source": [
    "## Documentation\n",
    "\n",
    "Another problem with the code we have so far is that it contains no\n",
    "*documentation*.\n",
    "Documentation is text we add to a program to help\n",
    "other programmers read and understand it. It has no effect on the\n",
    "program when it runs.\n",
    "\n",
    "There are two kinds of documentation, *docstrings* and *comments*:\n",
    "\n",
    "* A docstring is a string in triple quotes that appears at the beginning of a function.\n",
    "\n",
    "* A comment is a line of text that begins with a hash symbol, `#`.\n",
    "\n",
    "Here's a version of `bike_to_augie` with a docstring and a comment."
   ]
  },
  {
   "cell_type": "code",
   "execution_count": 7,
   "id": "moral-parallel",
   "metadata": {},
   "outputs": [],
   "source": [
    "def bike_to_augie(state):\n",
    "    \"\"\"Move one bike from Moline to Augustana.\n",
    "    \n",
    "    state: bikeshare State object\n",
    "    \"\"\"\n",
    "    # We decrease one state variable and increase the\n",
    "    # other so the total number of bikes is unchanged.\n",
    "    state.moline -= 1\n",
    "    state.augie += 1"
   ]
  },
  {
   "cell_type": "markdown",
   "id": "therapeutic-utility",
   "metadata": {},
   "source": [
    "Docstrings follow a conventional format:\n",
    "\n",
    "-   The first line is a single sentence that describes what the function does.\n",
    "\n",
    "-   The following lines explain what the parameters are.\n",
    "\n",
    "A function's docstring should include the information someone needs to\n",
    "know to *use* the function; it should not include details about how the function works.\n",
    "\n",
    "Comments provide details about how the function works, especially if there is something that would not be obvious to someone reading the program."
   ]
  },
  {
   "cell_type": "markdown",
   "id": "american-clear",
   "metadata": {},
   "source": [
    "## Negative Bikes\n",
    "\n",
    "The changes we've made so far improve the quality of the code, but we\n",
    "haven't done anything to improve the quality of the model. Let's do that now.\n",
    "\n",
    "Currently the simulation does not check whether a bike is available when a customer arrives, so the number of bikes at a location can be\n",
    "negative. That's not very realistic.\n",
    "\n",
    "Here's a version of `bike_to_augie` that fixes the problem:"
   ]
  },
  {
   "cell_type": "code",
   "execution_count": 8,
   "id": "divine-leisure",
   "metadata": {},
   "outputs": [],
   "source": [
    "def bike_to_augie(state):\n",
    "    if state.moline == 0:\n",
    "        return\n",
    "    state.moline -= 1\n",
    "    state.augie += 1"
   ]
  },
  {
   "cell_type": "markdown",
   "id": "decimal-denver",
   "metadata": {},
   "source": [
    "The first line checks whether the number of bikes at Moline is zero. If so, it uses a *return statement*, which causes the function to end immediately, without running the rest of the statements. So if there are no bikes at Moline, we return from `bike_to_augie` without changing the state.\n",
    "\n",
    "We can test it by initializing a state with no bikes at Moline and calling `bike_to_augie`."
   ]
  },
  {
   "cell_type": "code",
   "execution_count": 9,
   "id": "choice-cooking",
   "metadata": {},
   "outputs": [],
   "source": [
    "bikeshare = pd.Series(dict(augie=12,moline=0),name=\"Number of Bikes\")\n",
    "bike_to_augie(bikeshare)"
   ]
  },
  {
   "cell_type": "markdown",
   "id": "persistent-denmark",
   "metadata": {},
   "source": [
    "The state of the system should be unchanged."
   ]
  },
  {
   "cell_type": "code",
   "execution_count": 10,
   "id": "twelve-moderator",
   "metadata": {},
   "outputs": [
    {
     "data": {
      "text/html": [
       "<div>\n",
       "<style scoped>\n",
       "    .dataframe tbody tr th:only-of-type {\n",
       "        vertical-align: middle;\n",
       "    }\n",
       "\n",
       "    .dataframe tbody tr th {\n",
       "        vertical-align: top;\n",
       "    }\n",
       "\n",
       "    .dataframe thead th {\n",
       "        text-align: right;\n",
       "    }\n",
       "</style>\n",
       "<table border=\"1\" class=\"dataframe\">\n",
       "  <thead>\n",
       "    <tr style=\"text-align: right;\">\n",
       "      <th></th>\n",
       "      <th>Number of Bikes</th>\n",
       "    </tr>\n",
       "  </thead>\n",
       "  <tbody>\n",
       "    <tr>\n",
       "      <th>augie</th>\n",
       "      <td>12</td>\n",
       "    </tr>\n",
       "    <tr>\n",
       "      <th>moline</th>\n",
       "      <td>0</td>\n",
       "    </tr>\n",
       "  </tbody>\n",
       "</table>\n",
       "</div>"
      ],
      "text/plain": [
       "        Number of Bikes\n",
       "augie                12\n",
       "moline                0"
      ]
     },
     "execution_count": 10,
     "metadata": {},
     "output_type": "execute_result"
    }
   ],
   "source": [
    "pd.DataFrame(bikeshare)"
   ]
  },
  {
   "cell_type": "markdown",
   "id": "criminal-general",
   "metadata": {},
   "source": [
    "No more negative bikes (at least at Moline)."
   ]
  },
  {
   "cell_type": "markdown",
   "id": "gorgeous-found",
   "metadata": {},
   "source": [
    "## Comparison Operators\n",
    "\n",
    "The updated version of `bike_to_augie` uses the equals operator, `==`, which compares two values and returns `True`, if they are equal, and `False` otherwise.\n",
    "\n",
    "It is easy to confuse the equals operator with the assignment operator, `=`, which assigns a value to a variable. For example, the following statement creates a variable, `x`, if it doesn't already exist, and gives it the value `5`."
   ]
  },
  {
   "cell_type": "code",
   "execution_count": 11,
   "id": "level-burns",
   "metadata": {},
   "outputs": [
    {
     "data": {
      "text/plain": [
       "5"
      ]
     },
     "execution_count": 11,
     "metadata": {},
     "output_type": "execute_result"
    }
   ],
   "source": [
    "x = 5\n",
    "x"
   ]
  },
  {
   "cell_type": "markdown",
   "id": "weighted-monster",
   "metadata": {},
   "source": [
    "On the other hand, the following statement checks whether `x` is `5` and\n",
    "returns `True` or `False`. It does not create `x` or change its value."
   ]
  },
  {
   "cell_type": "code",
   "execution_count": 12,
   "id": "civic-remains",
   "metadata": {},
   "outputs": [
    {
     "data": {
      "text/plain": [
       "True"
      ]
     },
     "execution_count": 12,
     "metadata": {},
     "output_type": "execute_result"
    }
   ],
   "source": [
    "x == 5"
   ]
  },
  {
   "cell_type": "markdown",
   "id": "forward-perth",
   "metadata": {},
   "source": [
    "You can use the equals operator in an `if` statement, like this:"
   ]
  },
  {
   "cell_type": "code",
   "execution_count": 13,
   "id": "affecting-naples",
   "metadata": {},
   "outputs": [
    {
     "name": "stdout",
     "output_type": "stream",
     "text": [
      "yes, x is 5\n"
     ]
    }
   ],
   "source": [
    "if x == 5:\n",
    "    print('yes, x is 5')"
   ]
  },
  {
   "cell_type": "markdown",
   "id": "consolidated-anatomy",
   "metadata": {},
   "source": [
    "If you make a mistake and use `=` in an `if` statement, like this:\n",
    "\n",
    "```\n",
    "if x = 5:\n",
    "    print('yes, x is 5')\n",
    "```\n",
    "\n",
    "That's a *syntax error*, which means that the structure of the program is invalid. Python will print an error message and the program won't run."
   ]
  },
  {
   "cell_type": "markdown",
   "id": "twelve-defensive",
   "metadata": {},
   "source": [
    "The equals operator is one of Python's *comparison operators*. The others\n",
    "are:\n",
    "\n",
    "| Operation             \t| Symbol \t|\n",
    "|-----------------------\t|--------\t|\n",
    "| Less than             \t| `<`      \t|\n",
    "| Greater than          \t| `>`      \t|\n",
    "| Less than or equal    \t| `<=`     \t|\n",
    "| Greater than or equal \t| `>=`     \t|\n",
    "| Equal                 \t| `==`     \t|\n",
    "| Not equal             \t| `!=`     \t|"
   ]
  },
  {
   "cell_type": "markdown",
   "id": "center-sequence",
   "metadata": {},
   "source": [
    "## Metrics\n",
    "\n",
    "Getting back to the bike share system, at this point we have the ability to simulate the behavior of the system. Since the arrival of customers is random, the state of the system is different each time we run a\n",
    "simulation. Models like this are called random or *stochastic*; models\n",
    "that do the same thing every time they run are *deterministic*.\n",
    "\n",
    "Suppose we want to use our model to predict how well the bike share\n",
    "system will work, or to design a system that works better. First, we\n",
    "have to decide what we mean by \"how well\" and \"better\".\n",
    "\n",
    "From the customer's point of view, we might like to know the probability of finding an available bike. From the system-owner's point of view, we might want to minimize the number of customers who don't get a bike when they want one, or maximize the number of bikes in use. Statistics like these that quantify how well the system works are called *metrics*.\n",
    "\n",
    "As an example, let's measure the number of unhappy customers.\n",
    "Here's a version of `bike_to_augie` that keeps track of the number of\n",
    "customers who arrive at a station with no bikes:"
   ]
  },
  {
   "cell_type": "code",
   "execution_count": 14,
   "id": "arbitrary-ferry",
   "metadata": {},
   "outputs": [],
   "source": [
    "def bike_to_augie(state):\n",
    "    if state.moline == 0:\n",
    "        state.moline_empty += 1\n",
    "        return\n",
    "    state.moline -= 1\n",
    "    state.augie += 1"
   ]
  },
  {
   "cell_type": "markdown",
   "id": "severe-contact",
   "metadata": {},
   "source": [
    "If a customer arrives at the Moline station and finds no bike\n",
    "available, `bike_to_augie` updates `moline_empty`, which counts the\n",
    "number of unhappy customers.\n",
    "\n",
    "This function only works if we initialize `moline_empty` when we\n",
    "create the state object, like this:"
   ]
  },
  {
   "cell_type": "code",
   "execution_count": 15,
   "id": "cardiovascular-montgomery",
   "metadata": {},
   "outputs": [],
   "source": [
    "bikeshare = pd.Series(dict(augie=12,moline=0,moline_empty=0),name=\"Number of Bikes\")"
   ]
  },
  {
   "cell_type": "markdown",
   "id": "computational-prior",
   "metadata": {},
   "source": [
    "We can test it by calling `bike_to_augie`:"
   ]
  },
  {
   "cell_type": "code",
   "execution_count": 16,
   "id": "cosmetic-above",
   "metadata": {
    "scrolled": true
   },
   "outputs": [],
   "source": [
    "bike_to_augie(bikeshare)"
   ]
  },
  {
   "cell_type": "markdown",
   "id": "pleased-gasoline",
   "metadata": {},
   "source": [
    "After this update, there should be 12 bikes at Augustana, no bikes at Moline, and one unhappy customer."
   ]
  },
  {
   "cell_type": "code",
   "execution_count": 17,
   "id": "bulgarian-palestine",
   "metadata": {},
   "outputs": [
    {
     "data": {
      "text/html": [
       "<div>\n",
       "<style scoped>\n",
       "    .dataframe tbody tr th:only-of-type {\n",
       "        vertical-align: middle;\n",
       "    }\n",
       "\n",
       "    .dataframe tbody tr th {\n",
       "        vertical-align: top;\n",
       "    }\n",
       "\n",
       "    .dataframe thead th {\n",
       "        text-align: right;\n",
       "    }\n",
       "</style>\n",
       "<table border=\"1\" class=\"dataframe\">\n",
       "  <thead>\n",
       "    <tr style=\"text-align: right;\">\n",
       "      <th></th>\n",
       "      <th>Number of Bikes</th>\n",
       "    </tr>\n",
       "  </thead>\n",
       "  <tbody>\n",
       "    <tr>\n",
       "      <th>augie</th>\n",
       "      <td>12</td>\n",
       "    </tr>\n",
       "    <tr>\n",
       "      <th>moline</th>\n",
       "      <td>0</td>\n",
       "    </tr>\n",
       "    <tr>\n",
       "      <th>moline_empty</th>\n",
       "      <td>1</td>\n",
       "    </tr>\n",
       "  </tbody>\n",
       "</table>\n",
       "</div>"
      ],
      "text/plain": [
       "              Number of Bikes\n",
       "augie                      12\n",
       "moline                      0\n",
       "moline_empty                1"
      ]
     },
     "execution_count": 17,
     "metadata": {},
     "output_type": "execute_result"
    }
   ],
   "source": [
    "pd.DataFrame(bikeshare)"
   ]
  },
  {
   "cell_type": "markdown",
   "id": "revised-associate",
   "metadata": {},
   "source": [
    "Looks good!"
   ]
  },
  {
   "cell_type": "markdown",
   "id": "native-kidney",
   "metadata": {},
   "source": [
    "## Summary\n",
    "\n",
    "In this chapter, we wrote several versions of `bike_to_augie`:\n",
    "\n",
    "* We added a parameter, `state`, so we can work with more than one state object.\n",
    "\n",
    "* We added a docstring that explains how to use the function and a comment that explains how it works.\n",
    "\n",
    "* We used a conditional operator, `==`, to check whether a bike is available, in order to avoid negative bikes.\n",
    "\n",
    "* We added a state variable, `moline_empty`, to count the number of unhappy customers, which is a metric we'll use to quantify how well the system works.\n",
    "\n",
    "In the exercises, you'll update `bike_to_moline` the same way and test it by running a simulation."
   ]
  },
  {
   "cell_type": "markdown",
   "id": "impaired-cyprus",
   "metadata": {},
   "source": [
    "## Exercises"
   ]
  },
  {
   "cell_type": "markdown",
   "id": "careful-hacker",
   "metadata": {
    "tags": []
   },
   "source": [
    "Here's the code we have so far, with docstrings, all in one place."
   ]
  },
  {
   "cell_type": "code",
   "execution_count": 18,
   "id": "wrong-internet",
   "metadata": {
    "tags": []
   },
   "outputs": [],
   "source": [
    "def run_simulation(state,p1,p2,num_steps):\n",
    "    \"\"\"Simulate the given number of time steps.\n",
    "    \n",
    "    state: State object\n",
    "    p1: probability of an Augustana->Wellesley customer arrival\n",
    "    p2: probability of a Wellesley->Augustana customer arrival\n",
    "    num_steps: number of time steps\n",
    "    \"\"\"\n",
    "    results = pd.Series([],dtype=object)\n",
    "    results.name = 'Number of Bikes at Augie'\n",
    "    results.index.name = 'Time Step'\n",
    "    results[0] = state.augie\n",
    "    \n",
    "    for i in range(num_steps):\n",
    "        change_func(state,p1,p2)\n",
    "        results[i+1] = state.augie\n",
    "    results.plot(xlabel=results.index.name, ylabel=results.name,\n",
    "            title='Augie-Moline Bikeshare',\n",
    "            legend=True);"
   ]
  },
  {
   "cell_type": "code",
   "execution_count": 19,
   "id": "instrumental-copyright",
   "metadata": {
    "tags": []
   },
   "outputs": [],
   "source": [
    "def change_func(state, p1, p2):\n",
    "    \"\"\"Simulate one time step.\n",
    "    \n",
    "    state: bikeshare State object\n",
    "    p1: probability of an Augustana->Moline ride\n",
    "    p2: probability of a Moline->Augustana ride\n",
    "    \"\"\"\n",
    "    if flip(p1):\n",
    "        bike_to_moline(state)\n",
    "    \n",
    "    if flip(p2):\n",
    "        bike_to_augie(state)"
   ]
  },
  {
   "cell_type": "code",
   "execution_count": 20,
   "id": "improved-renaissance",
   "metadata": {
    "tags": []
   },
   "outputs": [],
   "source": [
    "def bike_to_augie(state):\n",
    "    \"\"\"Move one bike from Moline to Augustana.\n",
    "    \n",
    "    state: bikeshare State object\n",
    "    \"\"\"\n",
    "    if state.moline == 0:\n",
    "        state.moline_empty += 1\n",
    "        return\n",
    "    state.moline -= 1\n",
    "    state.augie += 1"
   ]
  },
  {
   "cell_type": "code",
   "execution_count": 21,
   "id": "unavailable-maker",
   "metadata": {
    "tags": []
   },
   "outputs": [],
   "source": [
    "def bike_to_moline(state):\n",
    "    \"\"\"Move one bike from Augustana to Moline.\n",
    "    \n",
    "    state: bikeshare State object\n",
    "    \"\"\"\n",
    "    state.augie -= 1\n",
    "    state.moline += 1"
   ]
  },
  {
   "cell_type": "markdown",
   "id": "bigger-rapid",
   "metadata": {},
   "source": [
    "### Exercise 1\n",
    "\n",
    " Modify `bike_to_moline` so it checks whether a bike is available at Augustana.  If not, it should add one to `augie_empty`.\n",
    "\n",
    "To test it, create a `State` that initializes `augie` and `augie_empty` to `0`, run `bike_to_moline`, and check the result."
   ]
  },
  {
   "cell_type": "code",
   "execution_count": 22,
   "id": "phantom-carter",
   "metadata": {
    "tags": []
   },
   "outputs": [],
   "source": [
    "# Define new bike_to_moline\n",
    "def bike_to_moline(state):\n",
    "    \"\"\"Move one bike from Augustana to Moline.\n",
    "    \n",
    "    state: bikeshare State object\n",
    "    \"\"\"\n",
    "    if state.augie == 0:\n",
    "        state.augie_empty += 1\n",
    "        return\n",
    "    state.moline += 1\n",
    "    state.augie -= 1"
   ]
  },
  {
   "cell_type": "code",
   "execution_count": 23,
   "id": "adopted-contrary",
   "metadata": {},
   "outputs": [
    {
     "data": {
      "text/html": [
       "<div>\n",
       "<style scoped>\n",
       "    .dataframe tbody tr th:only-of-type {\n",
       "        vertical-align: middle;\n",
       "    }\n",
       "\n",
       "    .dataframe tbody tr th {\n",
       "        vertical-align: top;\n",
       "    }\n",
       "\n",
       "    .dataframe thead th {\n",
       "        text-align: right;\n",
       "    }\n",
       "</style>\n",
       "<table border=\"1\" class=\"dataframe\">\n",
       "  <thead>\n",
       "    <tr style=\"text-align: right;\">\n",
       "      <th></th>\n",
       "      <th>Number of Bikes</th>\n",
       "    </tr>\n",
       "  </thead>\n",
       "  <tbody>\n",
       "    <tr>\n",
       "      <th>augie</th>\n",
       "      <td>0</td>\n",
       "    </tr>\n",
       "    <tr>\n",
       "      <th>moline</th>\n",
       "      <td>12</td>\n",
       "    </tr>\n",
       "    <tr>\n",
       "      <th>augie_empty</th>\n",
       "      <td>1</td>\n",
       "    </tr>\n",
       "    <tr>\n",
       "      <th>moline_empty</th>\n",
       "      <td>0</td>\n",
       "    </tr>\n",
       "  </tbody>\n",
       "</table>\n",
       "</div>"
      ],
      "text/plain": [
       "              Number of Bikes\n",
       "augie                       0\n",
       "moline                     12\n",
       "augie_empty                 1\n",
       "moline_empty                0"
      ]
     },
     "execution_count": 23,
     "metadata": {},
     "output_type": "execute_result"
    }
   ],
   "source": [
    "# Test function\n",
    "bikeshare = pd.Series(dict(augie=0,moline=12,augie_empty=0,moline_empty=0),name=\"Number of Bikes\")\n",
    "bike_to_moline(bikeshare)\n",
    "pd.DataFrame(bikeshare)"
   ]
  },
  {
   "cell_type": "markdown",
   "id": "possible-initial",
   "metadata": {},
   "source": [
    "### Exercise 2\n",
    "\n",
    " Now run the simulation with parameters `p1=0.3`, `p2=0.2`, and `num_steps=60`, and confirm that the number of bikes is never negative.\n",
    "\n",
    "Start with this initial state listed below.  You may need to use a higher value for num_steps to check the solution."
   ]
  },
  {
   "cell_type": "code",
   "execution_count": 24,
   "id": "eleven-constraint",
   "metadata": {},
   "outputs": [],
   "source": [
    "# This is the initial state\n",
    "bikeshare = pd.Series(dict(augie=10,moline=2,augie_empty=0,\n",
    "                           moline_empty=0),name=\"Number of Bikes\")"
   ]
  },
  {
   "cell_type": "code",
   "execution_count": 25,
   "id": "immune-shock",
   "metadata": {},
   "outputs": [
    {
     "data": {
      "text/html": [
       "<div>\n",
       "<style scoped>\n",
       "    .dataframe tbody tr th:only-of-type {\n",
       "        vertical-align: middle;\n",
       "    }\n",
       "\n",
       "    .dataframe tbody tr th {\n",
       "        vertical-align: top;\n",
       "    }\n",
       "\n",
       "    .dataframe thead th {\n",
       "        text-align: right;\n",
       "    }\n",
       "</style>\n",
       "<table border=\"1\" class=\"dataframe\">\n",
       "  <thead>\n",
       "    <tr style=\"text-align: right;\">\n",
       "      <th></th>\n",
       "      <th>Number of Bikes</th>\n",
       "    </tr>\n",
       "  </thead>\n",
       "  <tbody>\n",
       "    <tr>\n",
       "      <th>augie</th>\n",
       "      <td>11</td>\n",
       "    </tr>\n",
       "    <tr>\n",
       "      <th>moline</th>\n",
       "      <td>1</td>\n",
       "    </tr>\n",
       "    <tr>\n",
       "      <th>augie_empty</th>\n",
       "      <td>0</td>\n",
       "    </tr>\n",
       "    <tr>\n",
       "      <th>moline_empty</th>\n",
       "      <td>1</td>\n",
       "    </tr>\n",
       "  </tbody>\n",
       "</table>\n",
       "</div>"
      ],
      "text/plain": [
       "              Number of Bikes\n",
       "augie                      11\n",
       "moline                      1\n",
       "augie_empty                 0\n",
       "moline_empty                1"
      ]
     },
     "execution_count": 25,
     "metadata": {},
     "output_type": "execute_result"
    },
    {
     "data": {
      "image/png": "[encoded data removed]",
      "text/plain": [
       "<Figure size 432x288 with 1 Axes>"
      ]
     },
     "metadata": {
      "needs_background": "light"
     },
     "output_type": "display_data"
    }
   ],
   "source": [
    "# Test run_simulation\n",
    "run_simulation(bikeshare,0.3,0.2,60)\n",
    "pd.DataFrame(bikeshare)"
   ]
  },
  {
   "cell_type": "markdown",
   "id": "d95c87ce",
   "metadata": {},
   "source": [
    "### Exercise 3\n",
    "\n",
    "As another metric, we might be interested in the time until the first customer arrives and doesn't find a bike.  To make that work, we have to add a \"clock\" to keep track of how many time steps have elapsed:\n",
    "\n",
    "1. Create a new state object with an additional state variable, `clock`, initialized to 0. \n",
    "\n",
    "2. Write a modified version of `change_func` that adds one to the clock each time it is invoked.\n",
    "\n",
    "Test your code by running the simulation and check the value of `clock` at the end."
   ]
  },
  {
   "cell_type": "code",
   "execution_count": 26,
   "id": "4db05050",
   "metadata": {},
   "outputs": [],
   "source": [
    "# Create a state object\n",
    "bikeshare = pd.Series(dict(augie=10,moline=2,augie_empty=0,moline_empty=0,\n",
    "                           clock=0),name=\"Number of Bikes\")"
   ]
  },
  {
   "cell_type": "code",
   "execution_count": 27,
   "id": "8419f352",
   "metadata": {},
   "outputs": [],
   "source": [
    "# Write a modified version of \"change_func\"\n",
    "\n",
    "def change_func(state, p1, p2):\n",
    "    \"\"\"Simulate one minute of time.\n",
    "    \n",
    "    state: bikeshare State object\n",
    "    p1: probability of an Augustana->Moline customer arrival\n",
    "    p2: probability of a Moline->Augustana customer arrival\n",
    "    \"\"\"\n",
    "    state.clock += 1\n",
    "    \n",
    "    if flip(p1):\n",
    "        bike_to_moline(state)\n",
    "    \n",
    "    if flip(p2):\n",
    "        bike_to_augie(state)"
   ]
  },
  {
   "cell_type": "code",
   "execution_count": 28,
   "id": "009aae48",
   "metadata": {},
   "outputs": [
    {
     "data": {
      "text/html": [
       "<div>\n",
       "<style scoped>\n",
       "    .dataframe tbody tr th:only-of-type {\n",
       "        vertical-align: middle;\n",
       "    }\n",
       "\n",
       "    .dataframe tbody tr th {\n",
       "        vertical-align: top;\n",
       "    }\n",
       "\n",
       "    .dataframe thead th {\n",
       "        text-align: right;\n",
       "    }\n",
       "</style>\n",
       "<table border=\"1\" class=\"dataframe\">\n",
       "  <thead>\n",
       "    <tr style=\"text-align: right;\">\n",
       "      <th></th>\n",
       "      <th>Number of Bikes</th>\n",
       "    </tr>\n",
       "  </thead>\n",
       "  <tbody>\n",
       "    <tr>\n",
       "      <th>augie</th>\n",
       "      <td>12</td>\n",
       "    </tr>\n",
       "    <tr>\n",
       "      <th>moline</th>\n",
       "      <td>0</td>\n",
       "    </tr>\n",
       "    <tr>\n",
       "      <th>augie_empty</th>\n",
       "      <td>0</td>\n",
       "    </tr>\n",
       "    <tr>\n",
       "      <th>moline_empty</th>\n",
       "      <td>1</td>\n",
       "    </tr>\n",
       "    <tr>\n",
       "      <th>clock</th>\n",
       "      <td>60</td>\n",
       "    </tr>\n",
       "  </tbody>\n",
       "</table>\n",
       "</div>"
      ],
      "text/plain": [
       "              Number of Bikes\n",
       "augie                      12\n",
       "moline                      0\n",
       "augie_empty                 0\n",
       "moline_empty                1\n",
       "clock                      60"
      ]
     },
     "execution_count": 28,
     "metadata": {},
     "output_type": "execute_result"
    },
    {
     "data": {
      "image/png": "[encoded data removed]",
      "text/plain": [
       "<Figure size 432x288 with 1 Axes>"
      ]
     },
     "metadata": {
      "needs_background": "light"
     },
     "output_type": "display_data"
    }
   ],
   "source": [
    "# Run the new simulation and print out bikeshare's variables\n",
    "\n",
    "run_simulation(bikeshare, 0.4, 0.2, 60)\n",
    "pd.DataFrame(bikeshare)"
   ]
  },
  {
   "cell_type": "markdown",
   "id": "06623303",
   "metadata": {},
   "source": [
    "### Exercise 4\n",
    "\n",
    "Continuing the previous exercise, let's record the time when the first customer arrives and doesn't find a bike.\n",
    "\n",
    "1. Create a new state object with an additional state variable, `t_first_empty`, initialized to -1 as a special value to indicate that it has not been set. \n",
    "\n",
    "2. Write a modified version of `change_func` that checks whether`augie_empty` and `moline_empty` are 0.  If not, it should set `t_first_empty` to `clock` (but only if `t_first_empty` has not already been set).\n",
    "\n",
    "Test your code by running the simulation and printing the values of augie_empty, moline_empty, and t_first_empty at the end.\n"
   ]
  },
  {
   "cell_type": "code",
   "execution_count": 29,
   "id": "89087281",
   "metadata": {},
   "outputs": [],
   "source": [
    "# Create a state object 'bikeshare' but now with 6 parameters\n",
    "bikeshare = pd.Series(dict(augie=10,moline=2,augie_empty=0,moline_empty=0,\n",
    "                           clock=0,t_first_empty=-1),name=\"Number of Bikes\")"
   ]
  },
  {
   "cell_type": "code",
   "execution_count": 30,
   "id": "97b86f98",
   "metadata": {},
   "outputs": [],
   "source": [
    "# Rewrite 'change_func' as described\n",
    "\n",
    "def change_func(state, p1, p2):\n",
    "    \"\"\"Simulate one minute of time.\n",
    "    \n",
    "    state: bikeshare State object\n",
    "    p1: probability of an Augustana->Moline customer arrival\n",
    "    p2: probability of a Moline->Augustana customer arrival\n",
    "    \"\"\"\n",
    "    state.clock += 1\n",
    "    \n",
    "    if flip(p1):\n",
    "        bike_to_moline(state)\n",
    "    \n",
    "    if flip(p2):\n",
    "        bike_to_augie(state)\n",
    "        \n",
    "    if state.t_first_empty != -1:\n",
    "        return\n",
    "    \n",
    "    if state.augie_empty + state.moline_empty > 0:\n",
    "        state.t_first_empty = state.clock"
   ]
  },
  {
   "cell_type": "code",
   "execution_count": 31,
   "id": "fec9ad8c",
   "metadata": {},
   "outputs": [
    {
     "data": {
      "text/plain": [
       "augie             0\n",
       "moline           12\n",
       "augie_empty       5\n",
       "moline_empty      0\n",
       "clock            60\n",
       "t_first_empty    34\n",
       "Name: Number of Bikes, dtype: int64"
      ]
     },
     "execution_count": 31,
     "metadata": {},
     "output_type": "execute_result"
    },
    {
     "data": {
      "image/png": "[encoded data removed]",
      "text/plain": [
       "<Figure size 432x288 with 1 Axes>"
      ]
     },
     "metadata": {
      "needs_background": "light"
     },
     "output_type": "display_data"
    }
   ],
   "source": [
    "# Run the new simulation and print out bikeshare's variables\n",
    "# Does the value for 't_first_empty' make sense with the plot?\n",
    "\n",
    "run_simulation(bikeshare, 0.4, 0.2, 60)\n",
    "bikeshare"
   ]
  },
  {
   "cell_type": "code",
   "execution_count": null,
   "id": "12f1f57e",
   "metadata": {},
   "outputs": [],
   "source": []
  }
 ],
 "metadata": {
  "celltoolbar": "Tags",
  "kernelspec": {
   "display_name": "Python 3",
   "language": "python",
   "name": "python3"
  },
  "language_info": {
   "codemirror_mode": {
    "name": "ipython",
    "version": 3
   },
   "file_extension": ".py",
   "mimetype": "text/x-python",
   "name": "python",
   "nbconvert_exporter": "python",
   "pygments_lexer": "ipython3",
   "version": "3.8.8"
  }
 },
 "nbformat": 4,
 "nbformat_minor": 5
}
