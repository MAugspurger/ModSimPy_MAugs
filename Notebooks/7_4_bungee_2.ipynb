{
 "cells": [
  {
   "cell_type": "markdown",
   "metadata": {},
   "source": [
    "# Bungee Dunk Revisited"
   ]
  },
  {
   "cell_type": "markdown",
   "metadata": {},
   "source": [
    "*Modeling and Simulation in Python*\n",
    "\n",
    "Copyright 2021 Allen Downey, (License: [Creative Commons Attribution-NonCommercial-ShareAlike 4.0 International](https://creativecommons.org/licenses/by-nc-sa/4.0/))\n",
    "\n",
    "Revised, Mike Augspurger (2021-present)"
   ]
  },
  {
   "cell_type": "code",
   "execution_count": 81,
   "metadata": {
    "tags": []
   },
   "outputs": [],
   "source": [
    "# import functions from modsim\n",
    "import sys\n",
    "sys.path.append('..\\\\..\\\\ModSimPy_Directory')\n",
    "from ModSimPy_Functions.modsim import *\n",
    "\n",
    "import pandas as pd"
   ]
  },
  {
   "cell_type": "markdown",
   "metadata": {},
   "source": [
    "In the previous case study, we simulated a bungee jump with a model that took into account gravity, air resistance, and the spring force of the bungee cord, but we ignored the weight of the cord.\n",
    "\n",
    "It is tempting to say that the weight of the cord doesn't matter because it falls along with the jumper.  But that intuition is incorrect, as explained by [Heck, Uylings, and Kędzierska](http://iopscience.iop.org/article/10.1088/0031-9120/45/1/007).  As the cord falls, it transfers energy to the jumper.   They derive a differential equation that relates the acceleration of the jumper to position and velocity:\n",
    "\n",
    "$a = g + \\frac{\\mu v^2/2}{\\mu(L+y) + 2L}$ \n",
    "\n",
    "where $a$ is the net acceleration of the jumper, $g$ is acceleration due to gravity, $v$ is the velocity of the jumper, $y$ is the position of the jumper relative to the starting point (usually negative), $L$ is the length of the cord, and $\\mu$ is the mass ratio of the cord and jumper.\n",
    "\n",
    "How does the behavior of the system change as we vary the mass of the cord? How does the acceleration change as the jumper falls? When the mass of the cord equals the mass of the jumper, what is the net effect on the lowest point in the jump?\n",
    "\n",
    "If you don't believe this model is correct, [this video might convince you](https://www.youtube.com/watch?v=X-QFAB0gEtE)."
   ]
  },
  {
   "cell_type": "markdown",
   "metadata": {},
   "source": [
    "Following the previous case study, we'll model the jump with the following assumptions:\n",
    "\n",
    "1. Initially the bungee cord hangs from a crane with the attachment point 80 m above a cup of tea.\n",
    "\n",
    "2. Until the cord is fully extended, it applies a force to the jumper as explained above.\n",
    "\n",
    "3. After the cord is fully extended, it obeys [Hooke's Law](https://en.wikipedia.org/wiki/Hooke%27s_law); that is, it applies a force to the jumper proportional to the extension of the cord beyond its resting length.\n",
    "\n",
    "4. The jumper is subject to drag force proportional to the square of their velocity, in the opposite of their direction of motion.\n",
    "\n",
    "First I'll create a `params` object to contain the quantities we'll need:\n",
    "\n",
    "1. Let's assume that the jumper's mass is 75 kg and the cord's mass is also 75 kg, so `mu=1`.\n",
    "\n",
    "2. The jumpers's frontal area is 1 square meter, and terminal velocity is 60 m/s.  I'll use these values to back out the coefficient of drag.\n",
    "\n",
    "3. The length of the bungee cord is `L = 25 m`.\n",
    "\n",
    "4. The spring constant of the cord is `k = 40 N / m` when the cord is stretched, and 0 when it's compressed.\n",
    "\n",
    "I adopt the coordinate system and most of the variable names from [Heck, Uylings, and Kędzierska](http://iopscience.iop.org/article/10.1088/0031-9120/45/1/007)."
   ]
  },
  {
   "cell_type": "code",
   "execution_count": 82,
   "metadata": {},
   "outputs": [],
   "source": [
    "params = dict(y_attach = 80,   # m,\n",
    "                 v_init = 0,     # m / s,\n",
    "                 g = 9.8,        # m/s**2,\n",
    "                 m_person = 75,   # kg,\n",
    "                 m_cord = 75,    # kg\n",
    "                 area = 1,       # m**2,\n",
    "                 rho = 1.2,      # kg/m**3,\n",
    "                 v_term = 60,    # m / s,\n",
    "                 L = 25,         # m,\n",
    "                 k = 40)         # N / m"
   ]
  },
  {
   "cell_type": "markdown",
   "metadata": {},
   "source": [
    "Now here's a version of `make_system` that takes a `params` object as a parameter.\n",
    "\n",
    "`make_system` uses the given value of `v_term` to compute the drag coefficient `C_d`.\n",
    "\n",
    "It also computes `mu` and the initial `State` object."
   ]
  },
  {
   "cell_type": "code",
   "execution_count": 83,
   "metadata": {},
   "outputs": [],
   "source": [
    "def make_system(params):\n",
    "    \"\"\"Makes a System object for the given params.\n",
    "    \n",
    "    params: Params object\n",
    "    \n",
    "    returns: System object\n",
    "    \"\"\"\n",
    "    y_attach, v_init, g, m_person, m_cord, area, rho, v_term, L, k = params.values()\n",
    "    \n",
    "    # back out the coefficient of drag\n",
    "    C_d = 2 * m_person * g / (rho * area * v_term**2)\n",
    "    \n",
    "    mu = m_cord / m_person\n",
    "    init = pd.Series(dict(y=y_attach, v=v_init))\n",
    "    t_end = 8\n",
    "\n",
    "    return dict(y_attach=y_attach, v_init=v_init, g=g,\n",
    "                m_person=m_person, m_cord=m_cord, area=area, rho=rho,\n",
    "                v_term=v_term, L=L, k=k,mu=mu,\n",
    "                C_d=C_d, init=init, t_end=t_end)"
   ]
  },
  {
   "cell_type": "markdown",
   "metadata": {},
   "source": [
    "Let's make a `system`"
   ]
  },
  {
   "cell_type": "code",
   "execution_count": 84,
   "metadata": {},
   "outputs": [],
   "source": [
    "system1 = make_system(params)"
   ]
  },
  {
   "cell_type": "markdown",
   "metadata": {},
   "source": [
    "`drag_force` computes drag as a function of velocity:"
   ]
  },
  {
   "cell_type": "code",
   "execution_count": 85,
   "metadata": {},
   "outputs": [],
   "source": [
    "def drag_force(v, system):\n",
    "    \"\"\"Computes drag force in the opposite direction of `v`.\n",
    "    \n",
    "    v: velocity\n",
    "    \n",
    "    returns: drag force in N\n",
    "    \"\"\"\n",
    "    rho, C_d, area = system['rho'], system['C_d'], system['area']\n",
    "\n",
    "    f_drag = -np.sign(v) * rho * v**2 * C_d * area / 2\n",
    "    return f_drag"
   ]
  },
  {
   "cell_type": "markdown",
   "metadata": {},
   "source": [
    "Here's drag force at 20 m/s."
   ]
  },
  {
   "cell_type": "code",
   "execution_count": 86,
   "metadata": {},
   "outputs": [
    {
     "data": {
      "text/plain": [
       "-81.66666666666667"
      ]
     },
     "execution_count": 86,
     "metadata": {},
     "output_type": "execute_result"
    }
   ],
   "source": [
    "drag_force(20, system1)"
   ]
  },
  {
   "cell_type": "markdown",
   "metadata": {},
   "source": [
    "The following function computes the acceleration of the jumper due to tension in the cord.\n",
    "\n",
    "$a_{cord} = \\frac{\\mu v^2/2}{\\mu(L+y) + 2L}$ "
   ]
  },
  {
   "cell_type": "code",
   "execution_count": 121,
   "metadata": {},
   "outputs": [],
   "source": [
    "def cord_acc(y, v, system):\n",
    "    \"\"\"Computes the force of the bungee cord on the jumper:\n",
    "    \n",
    "    y: height of the jumper\n",
    "    v: velocity of the jumpter\n",
    "    \n",
    "    returns: acceleration in m/s\n",
    "    \n",
    "    \"\"\"\n",
    "    L, mu = system['L'], system['mu']\n",
    "    \n",
    "    a_cord = -(mu* v**2 * 0.5) / (2*L + (mu*(L+y)))\n",
    "    print('y',y,'v',v,)\n",
    "    print('numerator', v**2 * 0.5, 'denom', 2*L + (mu*(L+y)))\n",
    "    return a_cord"
   ]
  },
  {
   "cell_type": "markdown",
   "metadata": {},
   "source": [
    "Here's acceleration due to tension in the cord if we're going 20 m/s after falling 20 m."
   ]
  },
  {
   "cell_type": "code",
   "execution_count": 99,
   "metadata": {},
   "outputs": [
    {
     "data": {
      "text/plain": [
       "-3.6363636363636362"
      ]
     },
     "execution_count": 99,
     "metadata": {},
     "output_type": "execute_result"
    }
   ],
   "source": [
    "y = -20\n",
    "v = -20\n",
    "cord_acc(y, v, system1)"
   ]
  },
  {
   "cell_type": "markdown",
   "metadata": {},
   "source": [
    "Now here's the slope function:"
   ]
  },
  {
   "cell_type": "code",
   "execution_count": 95,
   "metadata": {},
   "outputs": [],
   "source": [
    "def slope_func1(t, state, system):\n",
    "    \"\"\"Compute derivatives of the state.\n",
    "    \n",
    "    state: position, velocity\n",
    "    t: time\n",
    "    system: System object containing g, rho,\n",
    "            C_d, area, and mass\n",
    "    \n",
    "    returns: derivatives of y and v\n",
    "    \"\"\"\n",
    "    y, v = state\n",
    "    m_person, g = system['m_person'], system['g']\n",
    "    \n",
    "    a_drag = drag_force(v, system) / m_person\n",
    "    a_cord = cord_acc(y, v, system)\n",
    "    print(a_drag,a_cord,y,v)\n",
    "    dvdt = -g + a_cord + a_drag\n",
    "    \n",
    "    return v, dvdt"
   ]
  },
  {
   "cell_type": "markdown",
   "metadata": {},
   "source": [
    "As always, let's test the slope function with the initial params."
   ]
  },
  {
   "cell_type": "code",
   "execution_count": 96,
   "metadata": {},
   "outputs": [
    {
     "name": "stdout",
     "output_type": "stream",
     "text": [
      "0.0 -0.0 80 0\n"
     ]
    },
    {
     "data": {
      "text/plain": [
       "(0, -9.8)"
      ]
     },
     "execution_count": 96,
     "metadata": {},
     "output_type": "execute_result"
    }
   ],
   "source": [
    "slope_func1(0, system1['init'], system1)"
   ]
  },
  {
   "cell_type": "markdown",
   "metadata": {},
   "source": [
    "We'll need an event function to stop the simulation when we get to the end of the cord."
   ]
  },
  {
   "cell_type": "code",
   "execution_count": 75,
   "metadata": {},
   "outputs": [],
   "source": [
    "def event_func1(t, state, system):\n",
    "    \"\"\"Run until y=-L.\n",
    "    \n",
    "    state: position, velocity\n",
    "    t: time\n",
    "    system: System object containing g, rho,\n",
    "            C_d, area, and mass\n",
    "    \n",
    "    returns: difference between y and y_attach-L\n",
    "    \"\"\"\n",
    "    y, v = state   \n",
    "    return y - (system['y_attach'] - system['L'])"
   ]
  },
  {
   "cell_type": "markdown",
   "metadata": {},
   "source": [
    "We can test it with the initial conditions."
   ]
  },
  {
   "cell_type": "code",
   "execution_count": 76,
   "metadata": {},
   "outputs": [
    {
     "data": {
      "text/plain": [
       "0.0"
      ]
     },
     "execution_count": 76,
     "metadata": {},
     "output_type": "execute_result"
    }
   ],
   "source": [
    "event_func1(0, system1['init'], system1)"
   ]
  },
  {
   "cell_type": "markdown",
   "metadata": {},
   "source": [
    "And then run the simulation."
   ]
  },
  {
   "cell_type": "code",
   "execution_count": 36,
   "metadata": {},
   "outputs": [
    {
     "data": {
      "text/plain": [
       "'A termination event occurred.'"
      ]
     },
     "execution_count": 36,
     "metadata": {},
     "output_type": "execute_result"
    }
   ],
   "source": [
    "results1, details1 = run_solve_ivp(system1, slope_func1, \n",
    "                                  events=event_func1)\n",
    "details1.message"
   ]
  },
  {
   "cell_type": "markdown",
   "metadata": {},
   "source": [
    "Here's the plot of position as a function of time."
   ]
  },
  {
   "cell_type": "code",
   "execution_count": 54,
   "metadata": {},
   "outputs": [
    {
     "data": {
      "image/png": "[encoded data removed]",
      "text/plain": [
       "<Figure size 432x288 with 1 Axes>"
      ]
     },
     "metadata": {
      "needs_background": "light"
     },
     "output_type": "display_data"
    }
   ],
   "source": [
    "def plot_position(results,**options):\n",
    "    results.y.plot(xlabel='Time (s)',\n",
    "                   ylabel='Position (m)',\n",
    "                  title='Position of Jumper',**options)\n",
    "    \n",
    "plot_position(results1)"
   ]
  },
  {
   "cell_type": "markdown",
   "metadata": {},
   "source": [
    "We can use `min` to find the lowest point:"
   ]
  },
  {
   "cell_type": "code",
   "execution_count": 39,
   "metadata": {},
   "outputs": [
    {
     "data": {
      "text/plain": [
       "55.0"
      ]
     },
     "execution_count": 39,
     "metadata": {},
     "output_type": "execute_result"
    }
   ],
   "source": [
    "min(results1.y)"
   ]
  },
  {
   "cell_type": "markdown",
   "metadata": {},
   "source": [
    "As expected, Phase 1 ends when the jumper reaches an altitude of 55 m."
   ]
  },
  {
   "cell_type": "markdown",
   "metadata": {},
   "source": [
    "## Phase 2\n",
    "\n",
    "Once the jumper has fallen more than the length of the cord, acceleration due to energy transfer from the cord stops abruptly.  As the cord stretches, it starts to exert a spring force.  So let's simulate this second phase."
   ]
  },
  {
   "cell_type": "markdown",
   "metadata": {},
   "source": [
    "`spring_force` computes the force of the cord on the jumper:"
   ]
  },
  {
   "cell_type": "code",
   "execution_count": 40,
   "metadata": {},
   "outputs": [],
   "source": [
    "def spring_force(y, system):\n",
    "    \"\"\"Computes the force of the bungee cord on the jumper:\n",
    "    \n",
    "    y: height of the jumper\n",
    "    \n",
    "    Uses these variables from system:\n",
    "    y_attach: height of the attachment point\n",
    "    L: resting length of the cord\n",
    "    k: spring constant of the cord\n",
    "    \n",
    "    returns: force in N\n",
    "    \"\"\"\n",
    "    L, k = system['L'], system['k']\n",
    "    \n",
    "    distance_fallen = system['y_attach'] - y\n",
    "    extension = distance_fallen - L\n",
    "    f_spring = k * extension\n",
    "    return f_spring"
   ]
  },
  {
   "cell_type": "markdown",
   "metadata": {},
   "source": [
    "The spring force is 0 until the cord is fully extended.  When it is extended 1 m, the spring force is 40 N. "
   ]
  },
  {
   "cell_type": "code",
   "execution_count": 41,
   "metadata": {},
   "outputs": [
    {
     "data": {
      "text/plain": [
       "0"
      ]
     },
     "execution_count": 41,
     "metadata": {},
     "output_type": "execute_result"
    }
   ],
   "source": [
    "spring_force(55, system1)"
   ]
  },
  {
   "cell_type": "code",
   "execution_count": 42,
   "metadata": {},
   "outputs": [
    {
     "data": {
      "text/plain": [
       "-40"
      ]
     },
     "execution_count": 42,
     "metadata": {},
     "output_type": "execute_result"
    }
   ],
   "source": [
    "spring_force(56, system1)"
   ]
  },
  {
   "cell_type": "markdown",
   "metadata": {},
   "source": [
    "The slope function for Phase 2 includes the spring force, and drops the acceleration due to the cord."
   ]
  },
  {
   "cell_type": "code",
   "execution_count": 43,
   "metadata": {},
   "outputs": [],
   "source": [
    "def slope_func2(t, state, system):\n",
    "    \"\"\"Compute derivatives of the state.\n",
    "    \n",
    "    state: position, velocity\n",
    "    t: time\n",
    "    system: System object containing g, rho,\n",
    "            C_d, area, and mass\n",
    "    \n",
    "    returns: derivatives of y and v\n",
    "    \"\"\"\n",
    "    y, v = state\n",
    "    m_person, g = system['m_person'], system['g']\n",
    "    \n",
    "    a_drag = drag_force(v, system) / m_person\n",
    "    a_spring = spring_force(y, system) / m_person\n",
    "    dvdt = -g + a_drag + a_spring\n",
    "    \n",
    "    return v, dvdt"
   ]
  },
  {
   "cell_type": "markdown",
   "metadata": {},
   "source": [
    "The initial state for Phase 2 is the final state from Phase 1."
   ]
  },
  {
   "cell_type": "code",
   "execution_count": 44,
   "metadata": {},
   "outputs": [
    {
     "data": {
      "text/plain": [
       "2.251931314077621"
      ]
     },
     "execution_count": 44,
     "metadata": {},
     "output_type": "execute_result"
    }
   ],
   "source": [
    "t_final = results1.index[-1]\n",
    "t_final"
   ]
  },
  {
   "cell_type": "code",
   "execution_count": 45,
   "metadata": {},
   "outputs": [
    {
     "data": {
      "text/plain": [
       "y    55.000000\n",
       "v   -22.385531\n",
       "Name: 2.251931314077621, dtype: float64"
      ]
     },
     "execution_count": 45,
     "metadata": {},
     "output_type": "execute_result"
    }
   ],
   "source": [
    "state_final = results1.iloc[-1]\n",
    "state_final"
   ]
  },
  {
   "cell_type": "markdown",
   "metadata": {},
   "source": [
    "And that gives me the starting conditions for Phase 2."
   ]
  },
  {
   "cell_type": "code",
   "execution_count": 50,
   "metadata": {},
   "outputs": [],
   "source": [
    "system2 = system1.copy()\n",
    "system2.update(dict(t_0=t_final, init=state_final))"
   ]
  },
  {
   "cell_type": "markdown",
   "metadata": {},
   "source": [
    "Here's how we run Phase 2, setting the direction of the event function so it doesn't stop the simulation immediately. "
   ]
  },
  {
   "cell_type": "code",
   "execution_count": 51,
   "metadata": {},
   "outputs": [
    {
     "data": {
      "text/plain": [
       "'The solver successfully reached the end of the integration interval.'"
      ]
     },
     "execution_count": 51,
     "metadata": {},
     "output_type": "execute_result"
    }
   ],
   "source": [
    "results2, details2 = run_solve_ivp(system2, slope_func2)\n",
    "details2.message"
   ]
  },
  {
   "cell_type": "code",
   "execution_count": 52,
   "metadata": {},
   "outputs": [
    {
     "data": {
      "text/plain": [
       "8.0"
      ]
     },
     "execution_count": 52,
     "metadata": {},
     "output_type": "execute_result"
    }
   ],
   "source": [
    "t_final = results2.index[-1]\n",
    "t_final"
   ]
  },
  {
   "cell_type": "markdown",
   "metadata": {},
   "source": [
    "We can plot the results on the same axes."
   ]
  },
  {
   "cell_type": "code",
   "execution_count": 55,
   "metadata": {},
   "outputs": [
    {
     "data": {
      "image/png": "[encoded data removed]",
      "text/plain": [
       "<Figure size 432x288 with 1 Axes>"
      ]
     },
     "metadata": {
      "needs_background": "light"
     },
     "output_type": "display_data"
    }
   ],
   "source": [
    "plot_position(results1, label='Phase 1')\n",
    "plot_position(results2, label='Phase 2')"
   ]
  },
  {
   "cell_type": "markdown",
   "metadata": {},
   "source": [
    "And get the lowest position from Phase 2."
   ]
  },
  {
   "cell_type": "code",
   "execution_count": 56,
   "metadata": {},
   "outputs": [
    {
     "data": {
      "text/plain": [
       "4.430610945976474"
      ]
     },
     "execution_count": 56,
     "metadata": {},
     "output_type": "execute_result"
    }
   ],
   "source": [
    "min(results2.y)"
   ]
  },
  {
   "cell_type": "markdown",
   "metadata": {},
   "source": [
    "To see how big the effect of the cord is, I'll collect the previous code in a function."
   ]
  },
  {
   "cell_type": "code",
   "execution_count": 57,
   "metadata": {},
   "outputs": [],
   "source": [
    "def run_two_phases(params):\n",
    "    system1 = make_system(params)\n",
    "    results1, details1 = run_solve_ivp(system1, slope_func1, \n",
    "                                       events=event_func1)\n",
    "    t_final = results1.index[-1]\n",
    "    state_final = results1.iloc[-1]\n",
    "    \n",
    "    system2 = system1.copy()\n",
    "    system2.update(dict(t_0=t_final, init=state_final))\n",
    "    results2, details2 = run_solve_ivp(system2, slope_func2)\n",
    "    return results1.append(results2)"
   ]
  },
  {
   "cell_type": "markdown",
   "metadata": {},
   "source": [
    "Now we can run both phases and get the results in a single `DataFrame`."
   ]
  },
  {
   "cell_type": "code",
   "execution_count": 58,
   "metadata": {},
   "outputs": [],
   "source": [
    "results = run_two_phases(params)"
   ]
  },
  {
   "cell_type": "code",
   "execution_count": 59,
   "metadata": {
    "scrolled": true
   },
   "outputs": [
    {
     "data": {
      "image/png": "[encoded data removed]",
      "text/plain": [
       "<Figure size 432x288 with 1 Axes>"
      ]
     },
     "metadata": {
      "needs_background": "light"
     },
     "output_type": "display_data"
    }
   ],
   "source": [
    "plot_position(results)"
   ]
  },
  {
   "cell_type": "code",
   "execution_count": 60,
   "metadata": {},
   "outputs": [],
   "source": [
    "params_no_cord = params.copy()\n",
    "params_no_cord.update(dict(m_cord=1))\n",
    "results_no_cord = run_two_phases(params_no_cord);"
   ]
  },
  {
   "cell_type": "code",
   "execution_count": 61,
   "metadata": {
    "scrolled": true
   },
   "outputs": [
    {
     "data": {
      "image/png": "[encoded data removed]",
      "text/plain": [
       "<Figure size 432x288 with 1 Axes>"
      ]
     },
     "metadata": {
      "needs_background": "light"
     },
     "output_type": "display_data"
    }
   ],
   "source": [
    "plot_position(results, label='m_cord = 75 kg')\n",
    "plot_position(results_no_cord, label='m_cord = 1 kg')"
   ]
  },
  {
   "cell_type": "code",
   "execution_count": 62,
   "metadata": {},
   "outputs": [
    {
     "data": {
      "text/plain": [
       "5.398206928211416"
      ]
     },
     "execution_count": 62,
     "metadata": {},
     "output_type": "execute_result"
    }
   ],
   "source": [
    "min(results_no_cord.y)"
   ]
  },
  {
   "cell_type": "code",
   "execution_count": 63,
   "metadata": {},
   "outputs": [
    {
     "data": {
      "text/plain": [
       "-0.9675959822349425"
      ]
     },
     "execution_count": 63,
     "metadata": {},
     "output_type": "execute_result"
    }
   ],
   "source": [
    "diff = min(results.y) - min(results_no_cord.y)\n",
    "diff"
   ]
  },
  {
   "cell_type": "markdown",
   "metadata": {},
   "source": [
    "The difference is about a meter, which could certainly be the difference between a successful bungee dunk and a bad day."
   ]
  },
  {
   "cell_type": "code",
   "execution_count": 114,
   "metadata": {},
   "outputs": [
    {
     "data": {
      "text/plain": [
       "True"
      ]
     },
     "execution_count": 114,
     "metadata": {},
     "output_type": "execute_result"
    }
   ],
   "source": [
    "results.iloc[90:150]\n",
    "type('y')\n",
    "isinstance('y',str)"
   ]
  },
  {
   "cell_type": "code",
   "execution_count": 122,
   "metadata": {},
   "outputs": [
    {
     "name": "stdout",
     "output_type": "stream",
     "text": [
      "y 80.0 v 0.0\n",
      "numerator 0.0 denom 155.0\n",
      "y 79.99751511358326 v -0.220689452986604\n",
      "numerator 0.02435191732976325 denom 154.99751511358326\n",
      "y 79.99006044189933 v -0.44138001099760404\n",
      "numerator 0.09740815705412254 denom 154.99006044189935\n",
      "y 79.97763594763691 v -0.6620727799849395\n",
      "numerator 0.21917018299849306 denom 154.9776359476369\n",
      "y 79.9602415684881 v -0.882768869560272\n",
      "numerator 0.38964043853236024 denom 154.9602415684881\n",
      "y 79.93787721713707 v -1.1034693932113198\n",
      "numerator 0.6088223508770791 denom 154.93787721713707\n",
      "y 79.91054248668603 v -1.3241760515595073\n",
      "numerator 0.8767211077618635 denom 154.91054248668604\n",
      "y 79.87823699833218 v -1.544890432076996\n",
      "numerator 1.1933432235615238 denom 154.87823699833217\n",
      "y 79.84096072687434 v -1.7656133780460221\n",
      "numerator 1.5586953003675428 denom 154.84096072687436\n",
      "y 79.79871360859278 v -1.9863457744816593\n",
      "numerator 1.9727847679005714 denom 154.79871360859278\n",
      "y 79.75149554085048 v -2.207088548925877\n",
      "numerator 2.4356199313998665 denom 154.7514955408505\n",
      "y 79.69930638209324 v -2.427842671447541\n",
      "numerator 2.947210018650767 denom 154.69930638209325\n",
      "y 79.64214595184957 v -2.648609154642413\n",
      "numerator 3.507565227027799 denom 154.64214595184956\n",
      "y 79.58001403073075 v -2.8693890536331477\n",
      "numerator 4.116696770554865 denom 154.58001403073075\n",
      "y 79.51291036043084 v -3.090183466069299\n",
      "numerator 4.774616926984033 denom 154.51291036043085\n",
      "y 79.44083464372662 v -3.3109935321273136\n",
      "numerator 5.481339084894452 denom 154.44083464372662\n",
      "y 79.36378654447765 v -3.5318204345105357\n",
      "numerator 6.236877790813095 denom 154.36378654447765\n",
      "y 79.28176568762625 v -3.752665398449205\n",
      "numerator 7.041248796358966 denom 154.28176568762626\n",
      "y 79.1947716591975 v -3.9735296917004566\n",
      "numerator 7.894469105412563 denom 154.1947716591975\n",
      "y 79.10280400629921 v -4.194414624548321\n",
      "numerator 8.796557021312415 denom 154.1028040062992\n",
      "y 79.00586223712199 v -4.415321549803722\n",
      "numerator 9.747532194080572 denom 154.005862237122\n",
      "y 78.90394582093917 v -4.636251862804485\n",
      "numerator 10.74741566767903 denom 153.90394582093916\n",
      "y 78.79705418810686 v -4.857207001415327\n",
      "numerator 11.796229927299038 denom 153.79705418810687\n",
      "y 78.6851867300639 v -5.078188446027861\n",
      "numerator 12.89399894668543 denom 153.6851867300639\n",
      "y 78.56834279933194 v -5.299197719560595\n",
      "numerator 14.040748235498103 denom 153.56834279933196\n",
      "y 78.44652170951534 v -5.520236387458935\n",
      "numerator 15.236504886712837 denom 153.44652170951534\n",
      "y 78.31972273530124 v -5.741306057695179\n",
      "numerator 16.48129762406368 denom 153.31972273530124\n",
      "y 78.18794511245952 v -5.962408380768527\n",
      "numerator 17.775156849529385 denom 153.18794511245952\n",
      "y 78.05118803784282 v -6.183545049705066\n",
      "numerator 19.118114690866015 denom 153.05118803784282\n",
      "y 77.90945066938656 v -6.404717800057786\n",
      "numerator 20.510205049188524 denom 152.90945066938656\n",
      "y 77.76273212610892 v -6.625928409906573\n",
      "numerator 21.95146364660352 denom 152.76273212610892\n",
      "y 77.61103148811078 v -6.8471786998582\n",
      "numerator 23.441928073895916 denom 152.61103148811077\n",
      "y 77.45434779657585 v -7.0684705330463435\n",
      "numerator 24.98163783827223 denom 152.45434779657586\n",
      "y 77.29268005377055 v -7.289805815131576\n",
      "numerator 26.57063441116307 denom 152.29268005377054\n",
      "y 77.12602722304409 v -7.51118649430136\n",
      "numerator 28.208961276087578 denom 152.1260272230441\n",
      "y 76.9543882288284 v -7.732614561270056\n",
      "numerator 29.89666397658285 denom 151.9543882288284\n",
      "y 76.77776195663823 v -7.954092049278924\n",
      "numerator 31.6337901642011 denom 151.77776195663824\n",
      "y 76.596147253071 v -8.175621034096118\n",
      "numerator 33.42038964657743 denom 151.596147253071\n",
      "y 76.40954292580695 v -8.397203634016684\n",
      "numerator 35.2565144355715 denom 151.40954292580693\n",
      "y 76.21794774360906 v -8.618842009862561\n",
      "numerator 37.14221879548586 denom 151.21794774360905\n",
      "y 76.02136043632308 v -8.840538364982597\n",
      "numerator 39.07755929136459 denom 151.02136043632308\n",
      "y 75.8197796948775 v -9.062294945252527\n",
      "numerator 41.062594837374746 denom 150.8197796948775\n",
      "y 75.61320417128357 v -9.284114039074979\n",
      "numerator 43.097386745274555 denom 150.61320417128357\n",
      "y 75.40163247863532 v -9.505997977379476\n",
      "numerator 45.18199877297134 denom 150.40163247863532\n",
      "y 75.18506319110949 v -9.727949133622445\n",
      "numerator 47.31649717317284 denom 150.1850631911095\n",
      "y 74.96349484396563 v -9.949969923787208\n",
      "numerator 49.50095074213501 denom 149.96349484396563\n",
      "y 74.73692593354603 v -10.17206280638397\n",
      "numerator 51.735430868510065 denom 149.73692593354605\n",
      "y 74.50535491727572 v -10.394230282449843\n",
      "numerator 54.02001158229868 denom 149.50535491727572\n",
      "y 74.2687802136625 v -10.61647489554884\n",
      "numerator 56.35476960390938 denom 149.2687802136625\n",
      "y 74.02720020229692 v -10.838799231771855\n",
      "numerator 58.739784393329074 denom 149.0272002022969\n",
      "y 73.78061322385231 v -11.061205919736683\n",
      "numerator 61.17513819940891 denom 148.7806132238523\n",
      "y 73.529012757709 v -11.283704016820884\n",
      "numerator 63.66098816960988 denom 148.52901275770898\n",
      "y 73.2723819387771 v -11.506316277004583\n",
      "numerator 66.19765713323031 denom 148.2723819387771\n",
      "y 73.0107202323461 v -11.729043832832083\n",
      "numerator 68.78523461624816 denom 148.0107202323461\n",
      "y 72.7440282787346 v -11.951886262619064\n",
      "numerator 71.42379261729116 denom 147.74402827873462\n",
      "y 72.47230648427457 v -12.17484345622197\n",
      "numerator 74.11340659175546 denom 147.47230648427455\n",
      "y 72.19555502131128 v -12.397915615038007\n",
      "numerator 76.85415579880163 denom 147.1955550213113\n",
      "y 71.91377382820332 v -12.621103252005156\n",
      "numerator 79.64612364888757 denom 146.91377382820332\n",
      "y 71.62696260932262 v -12.844407191602162\n",
      "numerator 82.48939805184067 denom 146.62696260932262\n",
      "y 71.33512083505441 v -13.067828569848537\n",
      "numerator 85.38407176547483 denom 146.3351208350544\n",
      "y 71.03824774179725 v -13.291368834304555\n",
      "numerator 88.33024274476121 denom 146.03824774179725\n",
      "y 70.73634233196302 v -13.515029744071265\n",
      "numerator 91.32801449156551 denom 145.73634233196302\n",
      "y 70.42940337397691 v -13.738813369790481\n",
      "numerator 94.37749640496683 denom 145.42940337397692\n",
      "y 70.11742940227745 v -13.962722093644782\n",
      "numerator 97.47880413217806 denom 145.11742940227745\n",
      "y 69.80041871731649 v -14.186758609357511\n",
      "numerator 100.63205992008973 denom 144.8004187173165\n",
      "y 69.47836938555919 v -14.410925922192787\n",
      "numerator 103.83739296746401 denom 144.47836938555918\n",
      "y 69.15127923948404 v -14.635227348955487\n",
      "numerator 107.09493977780733 denom 144.15127923948404\n",
      "y 68.81914587758284 v -14.859666517991258\n",
      "numerator 110.40484451295521 denom 143.81914587758286\n",
      "y 68.48196666436073 v -15.084247369186516\n",
      "numerator 113.76725934740516 denom 143.48196666436073\n",
      "y 68.13973873033613 v -15.30897415396844\n",
      "numerator 117.18234482343686 denom 143.13973873033615\n",
      "y 67.79245897204086 v -15.533851435304983\n",
      "numerator 120.65027020706334 denom 142.79245897204086\n",
      "y 67.44012405201997 v -15.758884087704859\n",
      "numerator 124.1712138448587 denom 142.44012405201997\n",
      "y 67.0827303988319 v -15.984077297217548\n",
      "numerator 127.7453635217127 denom 142.0827303988319\n",
      "y 66.72027420704838 v -16.2094365614333\n",
      "numerator 131.3729168195653 denom 141.72027420704836\n",
      "y 66.35275143725445 v -16.434967689483134\n",
      "numerator 135.0540814771773 denom 141.35275143725445\n",
      "y 65.9801578160485 v -16.66067680203883\n",
      "numerator 138.7890757509974 denom 140.98015781604852\n",
      "y 65.60248883604224 v -16.886570331312942\n",
      "numerator 142.57812877718925 denom 140.60248883604226\n",
      "y 65.21973975586066 v -17.11265502105878\n",
      "numerator 146.42148093488416 denom 140.21973975586064\n",
      "y 64.83190560014214 v -17.338937926570445\n",
      "numerator 150.3193842107315 denom 139.83190560014214\n",
      "y 64.4389811595383 v -17.56542641468277\n",
      "numerator 154.27210256481757 denom 139.4389811595383\n",
      "y 64.04096099071415 v -17.792128163771377\n",
      "numerator 158.2799122980333 denom 139.04096099071415\n",
      "y 63.637839416348 v -18.019051163752664\n",
      "numerator 162.3431024209681 denom 138.63783941634802\n",
      "y 63.22961052513146 v -18.246203716083766\n",
      "numerator 166.46197502441453 denom 138.22961052513148\n",
      "y 62.816268171769494 v -18.473594433762614\n",
      "numerator 170.63684565157251 denom 137.81626817176948\n",
      "y 62.39780597698035 v -18.701232241327887\n",
      "numerator 174.8680436720408 denom 137.39780597698035\n",
      "y 61.97421732749564 v -18.92912637485905\n",
      "numerator 179.15591265769223 denom 136.97421732749564\n",
      "y 61.54549537606025 v -19.157286381976306\n",
      "numerator 183.5008107605274 denom 136.54549537606025\n",
      "y 61.11163304143244 v -19.385722121840654\n",
      "numerator 187.90311109261106 denom 136.11163304143244\n",
      "y 60.67262300838375 v -19.61444376515385\n",
      "numerator 192.3632021081914 denom 135.67262300838377\n",
      "y 60.22845772769905 v -19.843461794158408\n",
      "numerator 196.8814879881122 denom 135.22845772769904\n",
      "y 59.779129416176545 v -20.072787002637618\n",
      "numerator 201.45838902662885 denom 134.77912941617654\n",
      "y 59.32463005662775 v -20.30243049591554\n",
      "numerator 206.09434202074067 denom 134.32463005662774\n",
      "y 58.86495139787751 v -20.532403690856988\n",
      "numerator 210.78980066215883 denom 133.86495139787752\n",
      "y 58.40008495476397 v -20.76271831586756\n",
      "numerator 215.54523593203112 denom 133.40008495476397\n",
      "y 57.93002200813863 v -20.9933864108936\n",
      "numerator 220.36113649854602 denom 132.93002200813862\n",
      "y 57.454753604866276 v -21.224420327422244\n",
      "numerator 225.23800911754728 denom 132.45475360486628\n",
      "y 56.97427055782504 v -21.455832728481383\n",
      "numerator 230.17637903628642 denom 131.97427055782504\n",
      "y 56.48856344590637 v -21.687636588639656\n",
      "numerator 235.17679040045076 denom 131.48856344590638\n",
      "y 55.99762261401503 v -21.919845194006506\n",
      "numerator 240.23980666460506 denom 130.99762261401503\n",
      "y 55.50143817306909 v -22.15247214223212\n",
      "numerator 245.3660110061851 denom 130.5014381730691\n"
     ]
    },
    {
     "data": {
      "image/png": "[encoded data removed]",
      "text/plain": [
       "<Figure size 432x288 with 1 Axes>"
      ]
     },
     "metadata": {
      "needs_background": "light"
     },
     "output_type": "display_data"
    }
   ],
   "source": [
    "accel = pd.DataFrame([],index=results.index,\n",
    "                     columns=[\"Drag\",\"Gravity\",\"Cord\",\"Total\",\"Zero\"])\n",
    "for t1 in results.index:\n",
    "    y, v = results.loc[t1]\n",
    "    if not isinstance(y,str):\n",
    "        drag = drag_force(v,system1)/system1['m_person']\n",
    "        grav = -9.8\n",
    "\n",
    "        if y > 55:\n",
    "            cord = cord_acc(y,v,system1)\n",
    "        else:\n",
    "            cord = spring_force(y,system1)/system1['m_person']\n",
    "        total = drag + grav + cord\n",
    "        accel.loc[t1]= [drag,grav,cord,total,0.0]\n",
    "accel.plot(title='Accleration due to different forces');"
   ]
  },
  {
   "cell_type": "code",
   "execution_count": null,
   "metadata": {},
   "outputs": [],
   "source": []
  }
 ],
 "metadata": {
  "kernelspec": {
   "display_name": "Python 3",
   "language": "python",
   "name": "python3"
  },
  "language_info": {
   "codemirror_mode": {
    "name": "ipython",
    "version": 3
   },
   "file_extension": ".py",
   "mimetype": "text/x-python",
   "name": "python",
   "nbconvert_exporter": "python",
   "pygments_lexer": "ipython3",
   "version": "3.8.8"
  }
 },
 "nbformat": 4,
 "nbformat_minor": 2
}
