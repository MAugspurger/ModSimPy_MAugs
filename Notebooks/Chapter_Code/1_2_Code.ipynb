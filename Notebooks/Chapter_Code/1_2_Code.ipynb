{
  "cells": [
    {
      "cell_type": "markdown",
      "metadata": {
        "id": "view-in-github",
        "colab_type": "text"
      },
      "source": [
        "<a href=\"https://colab.research.google.com/github/MAugspurger/ModSimPy_MAugs/blob/main/Notebooks/Chapter_Code/1_2_Code.ipynb\" target=\"_parent\"><img src=\"https://colab.research.google.com/assets/colab-badge.svg\" alt=\"Open In Colab\"/></a>"
      ]
    },
    {
      "cell_type": "code",
      "source": [
        "import pandas as pd\n",
        "import numpy.random as npr"
      ],
      "metadata": {
        "id": "55LOJx3V1jxk"
      },
      "id": "55LOJx3V1jxk",
      "execution_count": null,
      "outputs": []
    },
    {
      "cell_type": "code",
      "source": [
        "def bike_to_augie():\n",
        "    bikeshare.moline -= 1\n",
        "    bikeshare.augie += 1\n",
        "\n",
        "def bike_to_moline():\n",
        "    bikeshare.moline += 1\n",
        "    bikeshare.augie -= 1\n",
        "\n",
        "def change_func(ptm, pta):\n",
        "    if npr.random() < ptm:\n",
        "        bike_to_moline()\n",
        "\n",
        "    if npr.random() < pta:\n",
        "        bike_to_augie()"
      ],
      "metadata": {
        "id": "IYreGDsY1kxS"
      },
      "id": "IYreGDsY1kxS",
      "execution_count": null,
      "outputs": []
    }
  ],
  "metadata": {
    "celltoolbar": "Tags",
    "kernelspec": {
      "display_name": "Python 3",
      "language": "python",
      "name": "python3"
    },
    "language_info": {
      "codemirror_mode": {
        "name": "ipython",
        "version": 3
      },
      "file_extension": ".py",
      "mimetype": "text/x-python",
      "name": "python",
      "nbconvert_exporter": "python",
      "pygments_lexer": "ipython3",
      "version": "3.8.8"
    },
    "colab": {
      "provenance": [],
      "toc_visible": true,
      "include_colab_link": true
    }
  },
  "nbformat": 4,
  "nbformat_minor": 5
}