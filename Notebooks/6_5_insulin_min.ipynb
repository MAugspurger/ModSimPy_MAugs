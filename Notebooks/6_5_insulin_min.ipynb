{
 "cells": [
  {
   "cell_type": "markdown",
   "metadata": {},
   "source": [
    "# The Insulin Minimal Model"
   ]
  },
  {
   "cell_type": "markdown",
   "metadata": {},
   "source": [
    "*Modeling and Simulation in Python*\n",
    "\n",
    "Copyright 2021 Allen Downey, (License: [Creative Commons Attribution-NonCommercial-ShareAlike 4.0 International](https://creativecommons.org/licenses/by-nc-sa/4.0/))\n",
    "\n",
    "Revised, Mike Augspurger (2021-present)"
   ]
  },
  {
   "cell_type": "code",
   "execution_count": 1,
   "metadata": {
    "tags": []
   },
   "outputs": [],
   "source": [
    "# import functions from modsim\n",
    "import sys\n",
    "sys.path.append('..\\\\..\\\\ModSimPy_Directory')\n",
    "from ModSimPy_Functions.modsim import *\n",
    "\n",
    "import pandas as pd\n",
    "\n",
    "# Upload the data for this model\n",
    "data = pd.read_csv('../Images_and_Data/Data/glucose_insulin.csv', \n",
    "                   index_col='time');"
   ]
  },
  {
   "cell_type": "markdown",
   "metadata": {},
   "source": [
    "### The Insulin Model\n",
    "\n",
    "In Chapter 17 I present the glucose minimal model; in Chapter 18 we implemented it using `run_simulation` and `run_solve_ivp`.\n",
    "In this case study, we'll implement the other half of the Minimal Model, which describes the concentration of insulin.\n",
    "\n",
    "In the insulin minimal model, the concentration of insulin, $I$, is governed by this differential equation:\n",
    "\n",
    "$ \\frac{dI}{dt} = -k I(t) + \\gamma (G(t) - G_T) t $\n",
    "\n",
    "where $G(t)$ is the concentration of glucose at time $t$, and\n",
    "$k$, $\\gamma$, and $G_T$ are positive-valued parameters:\n",
    "\n",
    "* $k$ controls the rate of insulin disappearance.\n",
    "\n",
    "* $G_T$ determines the glucose threshold: when $G(t)$ exceeds this threshold, it causes insulin to appear; when $G(t)$ is below this threshold, it causes insulin to disappear.\n",
    "\n",
    "* $\\gamma$ controls how quickly insulin appears or disappears when the concentration of glucose is elevated or depressed.\n",
    " \n",
    "Notice that this equation depends on time, $t$, since the initial injection.  It has the effect of increasing glucose sensitivity over time.  \n",
    "\n",
    "In addition to the three parameters in the equation, we will also consider the initial concentration of insulin, $I_0$, to be a free parameter; that is, we will choose the value of $I_0$, and the other parameters, that best fit the data."
   ]
  },
  {
   "cell_type": "markdown",
   "metadata": {},
   "source": [
    "#### A Little Hint\n",
    "\n",
    "As you implement this model, recognize that we will be following the same path that we followed in chapter 18 and in the \"Glucose Minimal\" case study.  In other words, you have a structure in place, so use cut-and-paste liberally.  \n",
    "\n",
    "For each part of the implementation, you'll need to think about what has changed, and adapt your code to those changes."
   ]
  },
  {
   "cell_type": "markdown",
   "metadata": {},
   "source": [
    "#### Part 1\n",
    "\n",
    "Write a version of `make_system` that takes the parameters of the model (`I0`, `k`, `gamma`, and `G_T`) as parameters, along with a `DataFrame` containing the measurements, and returns a `System` object suitable for use with `run_solve_ivp`.\n",
    "\n",
    "Use it to make a `System` object with the parameters listed below.\n",
    "\n",
    "Consider what has changed from the glucose model.  Before we used measured data about the insulin levels (`data.insulin`) to define `I` in update function (which you'll code in part 2).  Here, we want to use measured values of glucose to use in the update function.\n",
    "\n",
    "For simplicity's sake, hard code `dt = 1` in the system made by `make_system`."
   ]
  },
  {
   "cell_type": "code",
   "execution_count": 2,
   "metadata": {},
   "outputs": [],
   "source": [
    "# Here are our initial parameters\n",
    "I0 = 360   \n",
    "k = 0.25\n",
    "gamma = 0.005\n",
    "G_T = 80\n",
    "\n",
    "params = I0, k, gamma, G_T"
   ]
  },
  {
   "cell_type": "code",
   "execution_count": 6,
   "metadata": {},
   "outputs": [],
   "source": [
    "# Define make_system\n",
    "\n",
    "def make_system(params, data):\n",
    "    I0, k, gamma, G_T = params\n",
    "    \n",
    "    t_0 = data.index[0]\n",
    "    t_end = data.index[-1]\n",
    "    \n",
    "    G = interpolate(data.glucose)\n",
    "    \n",
    "    init = pd.Series(dict(I=I0))\n",
    "    \n",
    "    return dict(init=init, params=params,\n",
    "                  G=G,\n",
    "                  t_0=t_0, t_end=t_end, dt=1)"
   ]
  },
  {
   "cell_type": "code",
   "execution_count": 7,
   "metadata": {},
   "outputs": [],
   "source": [
    "# Create a system\n",
    "system = make_system(params,data)"
   ]
  },
  {
   "cell_type": "markdown",
   "metadata": {},
   "source": [
    "####  Part 2\n",
    "\n",
    "Write a slope function that takes a time stamp, a `State` object, and a `System` object, and returns the derivative of `I` with respect to time.  Test your function with the initial conditions from `system`.\n",
    "\n",
    "In this step, you are discretizing the differential equation--that is, you are finding the slope of the curve by evaluating the variable values at a discrete time step."
   ]
  },
  {
   "cell_type": "code",
   "execution_count": 8,
   "metadata": {},
   "outputs": [],
   "source": [
    "# Define the slope_function\n",
    "\n",
    "def slope_func(t, state, system):\n",
    "    I = state\n",
    "    I0, k, gamma, G_T = system['params'] \n",
    "    G = system['G']\n",
    "        \n",
    "    dIdt = -k*I + gamma*(G(t) - G_T)*t\n",
    "    \n",
    "    return dIdt"
   ]
  },
  {
   "cell_type": "code",
   "execution_count": 10,
   "metadata": {},
   "outputs": [
    {
     "data": {
      "text/plain": [
       "I   -90.0\n",
       "dtype: float64"
      ]
     },
     "execution_count": 10,
     "metadata": {},
     "output_type": "execute_result"
    }
   ],
   "source": [
    "# Test the function\n",
    "dIdt = slope_func(0,system['init'],system)\n",
    "dIdt"
   ]
  },
  {
   "cell_type": "markdown",
   "metadata": {},
   "source": [
    "#### Part 3 \n",
    "\n",
    "Run `run_solve_ivp` with your `System` object and slope function, and plot the results, along with the measured insulin levels.  Use the keyword argument `t_eval=data.index` so the results are evaluated as the same time stamps as the data.\n",
    "\n",
    "`run_solve_ivp` takes takes the slope that is calculated by `slope_func`, and creates a curve out of it.  For each step, it finds the slope, and goes up or down at that rate until the next evaluation point.  \n",
    "\n",
    "It would be like if someone gave you directions while you were blind-folded: \"go 10 feet at an angle 30 degrees to the left... now go 15 feet at an angle 10 degrees to the right... etc...\"   The path that you followed would be the function curve created by `run_solve_ivp`.  In doing so, it approximates a curve that solves the differential equation discretized by `slope_func`."
   ]
  },
  {
   "cell_type": "code",
   "execution_count": 11,
   "metadata": {},
   "outputs": [
    {
     "data": {
      "text/plain": [
       "  message: 'The solver successfully reached the end of the integration interval.'\n",
       "     nfev: 314\n",
       "     njev: 0\n",
       "      nlu: 0\n",
       "      sol: <scipy.integrate._ivp.common.OdeSolution object at 0x00000230F589ACD0>\n",
       "   status: 0\n",
       "  success: True\n",
       "        t: array([  0,   2,   4,   6,   8,  10,  12,  14,  16,  19,  22,  27,  32,\n",
       "        42,  52,  62,  72,  82,  92, 102, 122, 142, 162, 182], dtype=int64)\n",
       " t_events: None\n",
       "        y: array([[360.        , 219.90637007, 139.03445992,  91.81783375,\n",
       "         64.87807847,  49.79677453,  41.87557233,  38.53062088,\n",
       "         37.62029626,  39.00527365,  40.34798607,  42.51821556,\n",
       "         42.2473803 ,  38.66557102,  30.74804676,  19.74590067,\n",
       "          9.74133502,  -0.4454309 ,   0.76127436,   2.42542876,\n",
       "          4.26977198,   5.53323372,  13.9911141 ,  32.13524982]])\n",
       " y_events: None"
      ]
     },
     "execution_count": 11,
     "metadata": {},
     "output_type": "execute_result"
    }
   ],
   "source": [
    "# Call run_solve_ivp\n",
    "results, details = run_solve_ivp(system, slope_func,\n",
    "                                  t_eval=data.index)\n",
    "details"
   ]
  },
  {
   "cell_type": "code",
   "execution_count": 13,
   "metadata": {},
   "outputs": [
    {
     "data": {
      "image/png": "[encoded data removed]",
      "text/plain": [
       "<Figure size 432x288 with 1 Axes>"
      ]
     },
     "metadata": {
      "needs_background": "light"
     },
     "output_type": "display_data"
    }
   ],
   "source": [
    "# Plot the results along with measured insulin\n",
    "data.insulin.plot(style='--', label='measured values',\n",
    "                 legend=True)\n",
    "results.I.plot(style='-', label='solve ivp',color='C1',\n",
    "               xlabel='Time (min)',\n",
    "               ylabel='Concentration (mg/dL)',\n",
    "              legend=True);"
   ]
  },
  {
   "cell_type": "markdown",
   "metadata": {},
   "source": [
    "#### Part 4\n",
    "\n",
    "Write an error function that takes a sequence of parameters as an argument, along with the `DataFrame` containing the measurements.  It should make a `System` object with the given parameters, call `run_solve_ivp`, and compute the difference between the results of the simulation and the measured values.  Test your error function by calling it given parameters.\n",
    "\n",
    "Hint: As we did with the glucose model, you might want to drop the first 2-3 elements from the sequence of errors."
   ]
  },
  {
   "cell_type": "code",
   "execution_count": 14,
   "metadata": {},
   "outputs": [],
   "source": [
    "# Write the error function\n",
    "\n",
    "def error_func(params, data):\n",
    "    \"\"\"Computes an array of errors to be minimized.\n",
    "    \n",
    "    params: sequence of parameters\n",
    "    data: DataFrame of values to be matched\n",
    "    \n",
    "    returns: array of errors\n",
    "    \"\"\"\n",
    "    \n",
    "    # make a System with the given parameters\n",
    "    system = make_system(params, data)\n",
    "    \n",
    "    # solve the ODE\n",
    "    results, details = run_solve_ivp(system, slope_func, \n",
    "                                     t_eval=data.index)\n",
    "    \n",
    "    # compute the difference between the model\n",
    "    # results and actual data\n",
    "    errors = results.I - data.insulin\n",
    "    return errors.iloc[3:]"
   ]
  },
  {
   "cell_type": "code",
   "execution_count": 15,
   "metadata": {},
   "outputs": [
    {
     "data": {
      "text/plain": [
       "6       6.817834\n",
       "8      13.878078\n",
       "10      0.796775\n",
       "12     -3.124428\n",
       "14     -2.469379\n",
       "16      2.620296\n",
       "19      9.005274\n",
       "22     10.347986\n",
       "27     15.518216\n",
       "32     12.247380\n",
       "42     16.665571\n",
       "52     15.748047\n",
       "62      4.745901\n",
       "72     -1.258665\n",
       "82    -10.445431\n",
       "92     -7.238726\n",
       "102    -8.574571\n",
       "122    -2.730228\n",
       "142    -2.466766\n",
       "162     5.991114\n",
       "182    25.135250\n",
       "dtype: float64"
      ]
     },
     "execution_count": 15,
     "metadata": {},
     "output_type": "execute_result"
    }
   ],
   "source": [
    "# Test the function\n",
    "error_func(params,data)"
   ]
  },
  {
   "cell_type": "markdown",
   "metadata": {},
   "source": [
    "#### Part 5\n",
    "\n",
    "Use `leastsq` to find the parameters that best fit the data.  Make a `System` object with those parameters, run it, and plot the results along with the measurements.\n",
    "\n",
    "`leastsq` solves an optimization problem: it tries to minimize the difference between the curve created by the measured data and the curve created by the simulation.  In doing so, it defines the best parameters to make the model match the real world data."
   ]
  },
  {
   "cell_type": "code",
   "execution_count": 16,
   "metadata": {},
   "outputs": [
    {
     "data": {
      "text/plain": [
       "array([3.03860616e+02, 2.32070287e-01, 3.28924261e-03, 7.93491977e+01])"
      ]
     },
     "execution_count": 16,
     "metadata": {},
     "output_type": "execute_result"
    }
   ],
   "source": [
    "# Use leastsq to find the best_params\n",
    "\n",
    "best_params,fit_details = leastsq(error_func,params,data)\n",
    "best_params"
   ]
  },
  {
   "cell_type": "code",
   "execution_count": 18,
   "metadata": {},
   "outputs": [],
   "source": [
    "# Redefine params as best_params and rerun simulation\n",
    "system['params'] = best_params\n",
    "\n",
    "results2, details = run_solve_ivp(system, slope_func,\n",
    "                                  t_eval=data.index)"
   ]
  },
  {
   "cell_type": "code",
   "execution_count": 20,
   "metadata": {
    "scrolled": true
   },
   "outputs": [
    {
     "data": {
      "image/png": "[encoded data removed]",
      "text/plain": [
       "<Figure size 432x288 with 1 Axes>"
      ]
     },
     "metadata": {
      "needs_background": "light"
     },
     "output_type": "display_data"
    }
   ],
   "source": [
    "# Plot the results of both simulations along with measured insulin data\n",
    "data.insulin.plot(style='--', label='measured values',\n",
    "                  legend=True)\n",
    "results.I.plot(style='-', label='solve ivp',color='C1',\n",
    "               legend=True)\n",
    "results2.I.plot(style='-', label='solve ivp_improved',color='C2',\n",
    "                xlabel='Time (min)',\n",
    "                ylabel='Concentration (mg/dL)',\n",
    "               legend=True);"
   ]
  },
  {
   "cell_type": "code",
   "execution_count": 21,
   "metadata": {},
   "outputs": [
    {
     "name": "stdout",
     "output_type": "stream",
     "text": [
      "2307.526515535401 1174.5320132993395\n"
     ]
    }
   ],
   "source": [
    "# Compare the errors\n",
    "\n",
    "from numpy import sum\n",
    "\n",
    "errors_orig = results.I - data.insulin\n",
    "sum_orig =sum(errors_orig.iloc[3:]**2)\n",
    "\n",
    "errors_lsq = results2.I - data.insulin\n",
    "sum_lsq =sum(errors_lsq.iloc[3:]**2)\n",
    "\n",
    "print(sum_orig,sum_lsq)"
   ]
  }
 ],
 "metadata": {
  "kernelspec": {
   "display_name": "Python 3",
   "language": "python",
   "name": "python3"
  },
  "language_info": {
   "codemirror_mode": {
    "name": "ipython",
    "version": 3
   },
   "file_extension": ".py",
   "mimetype": "text/x-python",
   "name": "python",
   "nbconvert_exporter": "python",
   "pygments_lexer": "ipython3",
   "version": "3.8.8"
  }
 },
 "nbformat": 4,
 "nbformat_minor": 2
}
