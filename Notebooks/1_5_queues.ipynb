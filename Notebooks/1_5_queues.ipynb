{
 "cells": [
  {
   "cell_type": "markdown",
   "metadata": {},
   "source": [
    "# Chapter 1.5:  One Queue or Two"
   ]
  },
  {
   "cell_type": "markdown",
   "metadata": {},
   "source": [
    "*Modeling and Simulation in Python*\n",
    "\n",
    "Copyright 2021 Allen Downey, (License: [Creative Commons Attribution-NonCommercial-ShareAlike 4.0 International](https://creativecommons.org/licenses/by-nc-sa/4.0/))\n",
    "\n",
    "Revised, Mike Augspurger (2021-present)"
   ]
  },
  {
   "cell_type": "code",
   "execution_count": 1,
   "metadata": {
    "tags": []
   },
   "outputs": [],
   "source": [
    "# import libraries\n",
    "import sys\n",
    "sys.path.append('..\\\\..\\\\ModSimPy_Directory')\n",
    "from ModSimPy_Functions.modsim import *\n",
    "\n",
    "import pandas as pd"
   ]
  },
  {
   "cell_type": "markdown",
   "metadata": {},
   "source": [
    "This notebook presents a case study from *Modeling and Simulation in Python*.  It explores a question related to queueing theory, which is the study of systems that involve waiting in lines, also known as \"queues\".\n",
    "\n",
    "Suppose you are designing the checkout area for a new store.  There is room for two checkout counters and a waiting area for customers.  You can make two lines, one for each counter, or one line that serves both counters.\n",
    "\n",
    "In theory, you might expect a single line to be better, but it has some practical drawbacks: in order to maintain a single line, you would have to install rope barriers, and customers might be put off by what seems to be a longer line, even if it moves faster.\n",
    "\n",
    "So you'd like to check whether the single line is really better and by how much.  Simulation can help answer this question.\n",
    "\n",
    "This figure shows the three scenarios we'll consider:\n",
    "\n",
    "<img src=\"../Images_and_Data/Images/queues.PNG\" style=\"width: 500px;\"/>\n",
    "*One queue, one server (left), one queue, two servers (middle), two\n",
    "queues, two servers (right).*"
   ]
  },
  {
   "cell_type": "markdown",
   "metadata": {},
   "source": [
    "As we did in the bikeshare model, we'll assume that a customer is equally likely to arrive during any timestep.  I'll denote this probability using the Greek letter lambda, $\\lambda$, or the variable name `lam`.  The value of $\\lambda$ probably varies from day to day, so we'll have to consider a range of possibilities.\n",
    "\n",
    "Based on data from other stores, you know that it takes 5 minutes for a customer to check out, on average.  But checkout times are highly variable: most customers take less than 5 minutes, but some take substantially more.  A simple way to model this variability is to assume that when a customer is checking out, they have the same probability of finishing up during each time step.  I'll denote this probability using the Greek letter mu, $\\mu$, or the variable name `mu`.\n",
    "\n",
    "If we choose $\\mu=1/5$, the average number of time steps for each checkout will be 5 minutes, which is consistent with the data.  Most people take less than 5 minutes, but a few take substantially longer, which is probably not a bad model of the distribution in real stores.\n",
    "\n",
    "Let's implement the model!"
   ]
  },
  {
   "cell_type": "markdown",
   "metadata": {},
   "source": [
    "## One server, one queue\n",
    "\n",
    "### Part 1\n",
    "\n",
    "Up until now, we have simply entered many of the parameters of our model (`p1`,`p2`,`num_steps`) into our functions when we ran the simulations.  Let's start to put those parameters into a container: we'll use the `dictionary`, the Python object that stores a group of key-value pairs.\n",
    "\n",
    "Here's a function called `make_system` that takes `lam` and `mu` as parameters and returns a `System` object with variables `lam`, `mu`, and `duration`.  Set `duration`, which is the number of time steps to simulate, to 10 hours, expressed in minutes. "
   ]
  },
  {
   "cell_type": "code",
   "execution_count": 2,
   "metadata": {},
   "outputs": [],
   "source": [
    "# Define make_system\n",
    "def make_system(lam,mu):\n",
    "    system = dict(lam=lam, mu=mu, duration=600)\n",
    "    return system"
   ]
  },
  {
   "cell_type": "markdown",
   "metadata": {},
   "source": [
    "Test this function by creating a `System` object with `lam=1/8` and `mu=1/5`."
   ]
  },
  {
   "cell_type": "code",
   "execution_count": 3,
   "metadata": {},
   "outputs": [
    {
     "data": {
      "text/plain": [
       "{'lam': 0.125, 'mu': 0.2, 'duration': 600}"
      ]
     },
     "execution_count": 3,
     "metadata": {},
     "output_type": "execute_result"
    }
   ],
   "source": [
    "# Test function\n",
    "system = make_system(1/8,1/5)\n",
    "system"
   ]
  },
  {
   "cell_type": "markdown",
   "metadata": {},
   "source": [
    "### Part 2\n",
    "\n",
    "Write an change function that takes as parameters `x`, which is the total number of customer in the store, including the one checking out and `system`, which is a `dictionary`.\n",
    "\n",
    "If there's a customer checking out, it should use `flip` to decide whether they are done.  And it should use `flip` to decide if a new customer has arrived.\n",
    "\n",
    "It should return the total number of customers at the end of the time step.\n",
    "\n",
    "To use `lam` or `mu` from the `system`, you'll need to call for the value of those keys, using this syntax: `system['mu']` or `system['lam']`."
   ]
  },
  {
   "cell_type": "code",
   "execution_count": 4,
   "metadata": {},
   "outputs": [],
   "source": [
    "# Define change function\n",
    "def change_func(x,system):\n",
    "\n",
    "    if x > 0:\n",
    "        if flip(system['mu']):\n",
    "            x -= 1\n",
    "            \n",
    "    # The addition of new custormers happens second.\n",
    "    # This assumes that a newly arrived customer can not be served in \n",
    "    # the minute that s/he arrives.\n",
    "    if flip(system['lam']):\n",
    "        x += 1\n",
    "    return x"
   ]
  },
  {
   "cell_type": "markdown",
   "metadata": {},
   "source": [
    "Test your function by calling it with `x=1`, `t=0`, and the `System` object you created.  If you run it a few times, you should see different results."
   ]
  },
  {
   "cell_type": "code",
   "execution_count": 5,
   "metadata": {},
   "outputs": [
    {
     "data": {
      "text/plain": [
       "1"
      ]
     },
     "execution_count": 5,
     "metadata": {},
     "output_type": "execute_result"
    }
   ],
   "source": [
    "# Test change_function\n",
    "x = 1\n",
    "result = change_func(x,system)\n",
    "result"
   ]
  },
  {
   "cell_type": "markdown",
   "metadata": {},
   "source": [
    "### Part 3\n",
    "\n",
    "Now we can run the simulation.  Here's a version of `run_simulation` that creates a time `Series` with the total number of customers in the store, including the one checking out."
   ]
  },
  {
   "cell_type": "code",
   "execution_count": 6,
   "metadata": {},
   "outputs": [],
   "source": [
    "def run_simulation(system, change_func):\n",
    "    \"\"\"Simulate a queueing system.\n",
    "    \n",
    "    system: System object\n",
    "    change_func: function object\n",
    "    \"\"\"\n",
    "    x = 0\n",
    "    results = pd.Series([],dtype=object)\n",
    "    results[0] = x\n",
    "    \n",
    "    for t in linspace(0, system['duration'],system['duration']+1):\n",
    "        x = change_func(x,system)\n",
    "        results[t+1] = x\n",
    "\n",
    "    return results"
   ]
  },
  {
   "cell_type": "markdown",
   "metadata": {},
   "source": [
    "Call `run_simulation` with your change function and plot the results."
   ]
  },
  {
   "cell_type": "code",
   "execution_count": 7,
   "metadata": {},
   "outputs": [
    {
     "data": {
      "image/png": "[encoded data removed]",
      "text/plain": [
       "<Figure size 432x288 with 1 Axes>"
      ]
     },
     "metadata": {
      "needs_background": "light"
     },
     "output_type": "display_data"
    }
   ],
   "source": [
    "# Plot results\n",
    "results = run_simulation(system,change_func)\n",
    "results.plot(label='customers in store',color='C3',\n",
    "             title='Customers in store',xlabel='time',\n",
    "             ylabel='Number of customers');"
   ]
  },
  {
   "cell_type": "markdown",
   "metadata": {},
   "source": [
    "After the simulation, we can compute `L`, which is the average number of customers in the system, and `W`, which is the average time customers spend in the store.  `L` and `W` are related by Little's Law:\n",
    "\n",
    "$L = \\lambda W$\n",
    "\n",
    "Where $\\lambda$ is the arrival rate.  Here's a function that computes them."
   ]
  },
  {
   "cell_type": "code",
   "execution_count": 8,
   "metadata": {},
   "outputs": [],
   "source": [
    "def compute_metrics(results, system):\n",
    "    \"\"\"Compute average number of customers and wait time.\n",
    "    \n",
    "    results: Series of queue lengths\n",
    "    system: System object\n",
    "    \n",
    "    returns: L, W\n",
    "    \"\"\"\n",
    "    L = results.mean()\n",
    "    W = L / system['lam']\n",
    "    return L, W"
   ]
  },
  {
   "cell_type": "markdown",
   "metadata": {},
   "source": [
    "Call `compute_metrics` with the results from your simulation."
   ]
  },
  {
   "cell_type": "code",
   "execution_count": 9,
   "metadata": {},
   "outputs": [
    {
     "data": {
      "text/plain": [
       "2.014950166112957"
      ]
     },
     "execution_count": 9,
     "metadata": {},
     "output_type": "execute_result"
    }
   ],
   "source": [
    "# Call compute_metrics\n",
    "metrics = compute_metrics(results,system)\n",
    "metrics[0]\n"
   ]
  },
  {
   "cell_type": "markdown",
   "metadata": {},
   "source": [
    "### Part 4\n",
    "\n",
    "We want to understand how the store responds to different arrival rates, so we will sweep through possible values for $\\lambda$.\n",
    "\n",
    "If we sweep through values for $\\lambda$ (the arrival rate), we want to consider only values that are realistic. Consider, for example, that if customers arrive faster than the completion rate (that is, $\\lambda > \\mu$), the queue grows without bound.  In that case the metrics `L` and `W` just depend on how long the store is open, and the result isn't very interesting.  Likewise, if $\\lambda$ is much less than $\\mu$, the store essentially stays empty: again, not very interesting.\n",
    "\n",
    "So we want values that are a significant fraction of $\\mu$.   To keep our model as general as we can (to allow for changes in $\\mu$, let's sweep through a range of possibilities defined by $\\mu$.  Set the simulation to sweep through $\\lambda$ values that range from 10% to 80% of the completion rate, $\\mu$.  \n",
    "\n",
    "First, create an array of values for `lam`."
   ]
  },
  {
   "cell_type": "code",
   "execution_count": 10,
   "metadata": {},
   "outputs": [],
   "source": [
    "# Create values for lam\n",
    "mu = 1/5\n",
    "lam_array = linspace(0.1*mu,0.8*mu,15)\n"
   ]
  },
  {
   "cell_type": "markdown",
   "metadata": {},
   "source": [
    "Write a function that takes an array of values for `lam`, a single value for `mu`, and an change function.\n",
    "\n",
    "For each value of `lam`, it should run a simulation, compute `L` and `W`, and store the value of `W` in a sweep `Series`.\n",
    "\n",
    "It should return the sweep `Series`."
   ]
  },
  {
   "cell_type": "code",
   "execution_count": 11,
   "metadata": {},
   "outputs": [],
   "source": [
    "# Define sweeping function\n",
    "def sweep_func(lam,mu,change_func):\n",
    "    sweep = pd.Series([],dtype=object)\n",
    "    for lam1 in lam_array:\n",
    "        system['lam'] = lam1\n",
    "        results = run_simulation(system,change_func)\n",
    "        metrics = compute_metrics(results,system)\n",
    "        sweep[lam1] = metrics[1]\n",
    "    return sweep\n",
    "        "
   ]
  },
  {
   "cell_type": "markdown",
   "metadata": {},
   "source": [
    "Call your function to generate a sweep `Series`, and plot it.  Note: depending on how many alpha values you are sweeping through, this might take a couple minutes.  You can tell that a calculation is in process by noting the hourglass icon in the browser tab for this notebook."
   ]
  },
  {
   "cell_type": "code",
   "execution_count": 12,
   "metadata": {},
   "outputs": [
    {
     "data": {
      "image/png": "[encoded data removed]",
      "text/plain": [
       "<Figure size 432x288 with 1 Axes>"
      ]
     },
     "metadata": {
      "needs_background": "light"
     },
     "output_type": "display_data"
    }
   ],
   "source": [
    "# Generate solution and plot\n",
    "sweep_results = sweep_func(lam_array,mu,change_func)\n",
    "\n",
    "sweep_results.plot(label='Results',color='C2',legend=True,\n",
    "                   title='Wait time vs. arrival rate',\n",
    "                   xlabel='Arrival rate alpha',\n",
    "                   ylabel='Average time in store');"
   ]
  },
  {
   "cell_type": "markdown",
   "metadata": {},
   "source": [
    "If we imagine that this range of values represents arrival rates on different days, we can use the average value of `W`, for a range of values of `lam`, to compare different queueing strategies."
   ]
  },
  {
   "cell_type": "code",
   "execution_count": 13,
   "metadata": {},
   "outputs": [
    {
     "data": {
      "text/plain": [
       "8.719906078294782"
      ]
     },
     "execution_count": 13,
     "metadata": {},
     "output_type": "execute_result"
    }
   ],
   "source": [
    "# Find the average wait time W for this queuing strategy\n",
    "sweep_results.mean()"
   ]
  },
  {
   "cell_type": "markdown",
   "metadata": {},
   "source": [
    "### Part 5 (Analysis)\n",
    "\n",
    "The model I chose for this system is a common model in queueing theory, in part because many of its properties can be derived analytically.\n",
    "\n",
    "In particular, we can derive the average time in the store as a function of $\\mu$ and $\\lambda$:\n",
    "\n",
    "$W = 1 / (\\mu - \\lambda)$\n",
    "\n",
    "The following function plots the theoretical value of $W$ as a function of $\\lambda$."
   ]
  },
  {
   "cell_type": "code",
   "execution_count": 16,
   "metadata": {},
   "outputs": [],
   "source": [
    "def plot_W(lam_array, mu):\n",
    "    \"\"\"Plot the theoretical mean wait time.\n",
    "    \n",
    "    lam_array: array of values for `lam`\n",
    "    mu: probability of finishing a checkout\n",
    "    \"\"\"\n",
    "    W_array = 1 / (mu - lam_array)\n",
    "    # Transform this array into a pd.Series\n",
    "    W_series = pd.Series(data=W_array, index=lam_array)\n",
    "    W_series.plot(style='-', label='analysis',legend=True)"
   ]
  },
  {
   "cell_type": "markdown",
   "metadata": {},
   "source": [
    "Use this function to plot the theoretical results, then plot your simulation results again on the same graph.  How do they compare?"
   ]
  },
  {
   "cell_type": "code",
   "execution_count": 1,
   "metadata": {},
   "outputs": [
    {
     "ename": "NameError",
     "evalue": "name 'plot_W' is not defined",
     "output_type": "error",
     "traceback": [
      "\u001b[1;31m---------------------------------------------------------------------------\u001b[0m",
      "\u001b[1;31mNameError\u001b[0m                                 Traceback (most recent call last)",
      "\u001b[1;32m<ipython-input-1-cbf020b56234>\u001b[0m in \u001b[0;36m<module>\u001b[1;34m\u001b[0m\n\u001b[0;32m      1\u001b[0m \u001b[1;31m# Compare simulation to theoretical results on a plot\u001b[0m\u001b[1;33m\u001b[0m\u001b[1;33m\u001b[0m\u001b[1;33m\u001b[0m\u001b[0m\n\u001b[1;32m----> 2\u001b[1;33m \u001b[0mplot_W\u001b[0m\u001b[1;33m(\u001b[0m\u001b[0mlam_array\u001b[0m\u001b[1;33m,\u001b[0m\u001b[0mmu\u001b[0m\u001b[1;33m)\u001b[0m\u001b[1;33m\u001b[0m\u001b[1;33m\u001b[0m\u001b[0m\n\u001b[0m\u001b[0;32m      3\u001b[0m sweep_results.plot(label=\"simulation\", \n\u001b[0;32m      4\u001b[0m                    \u001b[0mtitle\u001b[0m\u001b[1;33m=\u001b[0m\u001b[1;34m'Comparison of theoretical and simulation results'\u001b[0m\u001b[1;33m,\u001b[0m\u001b[1;33m\u001b[0m\u001b[1;33m\u001b[0m\u001b[0m\n\u001b[0;32m      5\u001b[0m                    \u001b[0mxlabel\u001b[0m\u001b[1;33m=\u001b[0m\u001b[1;34m'Arrival rate alpha'\u001b[0m\u001b[1;33m,\u001b[0m\u001b[0mylabel\u001b[0m\u001b[1;33m=\u001b[0m\u001b[1;34m'Average Time in store'\u001b[0m\u001b[1;33m,\u001b[0m\u001b[1;33m\u001b[0m\u001b[1;33m\u001b[0m\u001b[0m\n",
      "\u001b[1;31mNameError\u001b[0m: name 'plot_W' is not defined"
     ]
    }
   ],
   "source": [
    "# Compare simulation to theoretical results on a plot\n",
    "plot_W(lam_array,mu)\n",
    "sweep_results.plot(label=\"simulation\", \n",
    "                   title='Comparison of theoretical and simulation results',\n",
    "                   xlabel='Arrival rate alpha',ylabel='Average Time in store',\n",
    "                  legend=True);"
   ]
  },
  {
   "cell_type": "markdown",
   "metadata": {},
   "source": [
    "Now let's try the other two queueing strategies:\n",
    "\n",
    "1.  One queue with two checkout counters.\n",
    "2.  Two queues, one for each counter.\n",
    "\n",
    "The following figure shows the three scenarios:\n",
    "\n",
    "<img src=\"../Images_and_Data/Images/queues.PNG\" style=\"width: 500px;\"/>\n",
    "\n",
    "### Part 6 (One queue, two servers)\n",
    "\n",
    "Write an change function for one queue with two servers."
   ]
  },
  {
   "cell_type": "code",
   "execution_count": null,
   "metadata": {},
   "outputs": [],
   "source": [
    "# Define the new change function\n",
    "def change_1q_2s(x,system):\n",
    "    \n",
    "    if x > 0:\n",
    "        if flip(system['mu']):\n",
    "            x -= 1\n",
    "    if x > 0:\n",
    "        if flip(system['mu']):\n",
    "            x -= 1\n",
    "    # The addition of new custormers happens second.\n",
    "    # This assumes that a newly arrived customer can not be served in \n",
    "    # the minute that s/he arrives.\n",
    "    if flip(system['lam']):\n",
    "        x += 1\n",
    "        \n",
    "    return x"
   ]
  },
  {
   "cell_type": "markdown",
   "metadata": {},
   "source": [
    "Use this change function to simulate the system, plot the results, and print the metrics."
   ]
  },
  {
   "cell_type": "code",
   "execution_count": null,
   "metadata": {},
   "outputs": [],
   "source": [
    "# Simulate, plot results, and print metrics\n",
    "lam = 1/8\n",
    "mu = 1/5\n",
    "system_1q_2s = make_system(lam,mu)\n",
    "\n",
    "results_1q_2s = run_simulation(system_1q_2s,change_1q_2s)\n",
    "results_1q_2s.plot(label='customers in store',color='C3',\n",
    "                   title='Customers in store',xlabel='time',\n",
    "                   ylabel='Number of customers',legend=True)\n",
    "\n",
    "metrics = compute_metrics(results_1q_2s,system)\n",
    "print('The average number of customers in the store is',metrics[0],\n",
    "      '.  The average wait time is', metrics[1])"
   ]
  },
  {
   "cell_type": "markdown",
   "metadata": {},
   "source": [
    "Since we have two checkout counters now, we can consider values for $\\lambda$ that exceed $\\mu$.\n",
    "\n",
    "Create a new array of values for `lam` from 10% to 160% of `mu`."
   ]
  },
  {
   "cell_type": "code",
   "execution_count": null,
   "metadata": {},
   "outputs": [],
   "source": [
    "# Create new array\n",
    "lam_array_1q_2s = linspace(0.1*mu,1.6*mu,29)"
   ]
  },
  {
   "cell_type": "markdown",
   "metadata": {},
   "source": [
    "Use your sweep function to simulate the two server, one queue scenario with a range of values for `lam`.\n",
    "\n",
    "Plot the results and print the average value of `W` across all values of `lam`."
   ]
  },
  {
   "cell_type": "code",
   "execution_count": null,
   "metadata": {},
   "outputs": [],
   "source": [
    "# Generate solution and plot\n",
    "sweep_results_1q_2s = sweep_func(lam_array_1q_2s,mu,change_1q_2s)\n",
    "\n",
    "sweep_results_1q_2s.plot(label='Results',color='C2',\n",
    "                         title='Wait time vs. arrival rate',\n",
    "                         xlabel='Arrival rate alpha',\n",
    "                         ylabel='Average time in store',\n",
    "                        legend=True);"
   ]
  },
  {
   "cell_type": "code",
   "execution_count": null,
   "metadata": {},
   "outputs": [],
   "source": [
    "# Find mean value of wait time\n",
    "sweep_results_1q_2s.mean()"
   ]
  },
  {
   "cell_type": "markdown",
   "metadata": {},
   "source": [
    "### Part 7 (Two queues, two servers)\n",
    "\n",
    "To simulate the scenario with two separate queues, we need two state variables to keep track of customers in each queue.\n",
    "\n",
    "Write an change function that takes `x1`, `x2`, and `system` as parameters and returns `x1` and `x2` as return values.  If you are not sure how to return more than one return value, see `compute_metrics`.\n",
    "\n",
    "You want to keep track of the customers separately, which means you need to consider which queue a customer will join when s/he arrives."
   ]
  },
  {
   "cell_type": "code",
   "execution_count": null,
   "metadata": {},
   "outputs": [],
   "source": [
    "# Create an change function for 2 queues\n",
    "def change_2q_2s(x1,x2,system):\n",
    " \n",
    "    if x1 > 0:\n",
    "        if flip(system['mu']):\n",
    "            x1 -= 1\n",
    "    if x2 > 0:\n",
    "        if flip(system['mu']):\n",
    "            x2 -= 1\n",
    "            \n",
    "    # The following assumes that the arriving customer will \n",
    "    # join the shortest line\n",
    "    if flip(system['lam']):\n",
    "        if x1 > x2:\n",
    "            x2 += 1\n",
    "        else:\n",
    "            x1 += 1\n",
    "\n",
    "    \n",
    "    return x1, x2"
   ]
  },
  {
   "cell_type": "markdown",
   "metadata": {},
   "source": [
    "Write a version of `run_simulation` that works with this change function."
   ]
  },
  {
   "cell_type": "code",
   "execution_count": null,
   "metadata": {},
   "outputs": [],
   "source": [
    "# Define new run_simulation\n",
    "def run_simulation_2q_2s(system, change_func):\n",
    "    \"\"\"Simulates a queueing system with 2 queues.\n",
    "    \n",
    "    system: System object\n",
    "    change_func: function object\n",
    "    \"\"\"\n",
    "    x1 = 0\n",
    "    x2 = 0\n",
    "    results = pd.Series([],dtype=object)\n",
    "    results[0] = x1 + x2\n",
    "    \n",
    "    for t in linspace(0, system['duration'],system['duration']+1):\n",
    "        x1,x2 = change_func(x1,x2,system)\n",
    "        results[t+1] = x1 + x2\n",
    "    return results"
   ]
  },
  {
   "cell_type": "markdown",
   "metadata": {},
   "source": [
    "Test your functions by running a simulation with a single value of `lam`."
   ]
  },
  {
   "cell_type": "code",
   "execution_count": null,
   "metadata": {},
   "outputs": [],
   "source": [
    "# Simulate, plot results, and print metrics\n",
    "lam = 1/8\n",
    "mu = 1/5\n",
    "system_2q_2s = make_system(lam,mu)\n",
    "\n",
    "results_2q_2s = run_simulation_2q_2s(system,change_2q_2s)\n",
    "\n",
    "results_2q_2s.plot(label='customers in store',color='C3',\n",
    "                   title='Customers in store',xlabel='time',\n",
    "                   ylabel='Number of customers',\n",
    "                  legend=True);\n",
    "\n",
    "metrics = compute_metrics(results_2q_2s,system_2q_2s)\n",
    "print('The average number of customers in the store is',metrics[0],\n",
    "      '.  The average wait time is', metrics[1])"
   ]
  },
  {
   "cell_type": "markdown",
   "metadata": {},
   "source": [
    "Sweep a range of values for `lam`, plot the results, and print the average wait time across all values of `lam`.\n",
    "\n",
    "How do the results compare to the scenario with one queue and two servers?"
   ]
  },
  {
   "cell_type": "code",
   "execution_count": null,
   "metadata": {
    "scrolled": true
   },
   "outputs": [],
   "source": [
    "# Create new array\n",
    "lam_array_2q_2s = linspace(0.1*mu,1.6*mu,29)\n",
    "\n",
    "# Define new sweeping function\n",
    "def sweep_func_2q_2s(lam,mu,change_func):\n",
    "    sweep = pd.Series([],dtype=object)\n",
    "    for lam1 in lam_array:\n",
    "        system['lam'] = lam1\n",
    "        results = run_simulation_2q_2s(system,change_func)\n",
    "        metrics = compute_metrics(results,system)\n",
    "        sweep[lam1] = metrics[1]\n",
    "    return sweep\n",
    "\n",
    "# Generate solution and plot\n",
    "sweep_results_2q_2s = sweep_func_2q_2s(lam_array_2q_2s,mu,change_2q_2s)\n",
    "\n",
    "sweep_results_2q_2s.plot(label='2 queue Results',color='C2',\n",
    "                         title='Wait time vs. arrival rate',\n",
    "                         xlabel='Arrival rate alpha',\n",
    "                         ylabel='Average time in store',\n",
    "                        legend=True);\n"
   ]
  },
  {
   "cell_type": "code",
   "execution_count": null,
   "metadata": {},
   "outputs": [],
   "source": [
    "print('The average wait time across arrival rates for the 1 queue/ 2 server model is',\n",
    "      sweep_results_1q_2s.mean(),\n",
    "     'The average wait time for the 2 queue/ 2 server model is ',\n",
    "      sweep_results_2q_2s.mean())"
   ]
  },
  {
   "cell_type": "code",
   "execution_count": null,
   "metadata": {},
   "outputs": [],
   "source": []
  }
 ],
 "metadata": {
  "kernelspec": {
   "display_name": "Python 3",
   "language": "python",
   "name": "python3"
  },
  "language_info": {
   "codemirror_mode": {
    "name": "ipython",
    "version": 3
   },
   "file_extension": ".py",
   "mimetype": "text/x-python",
   "name": "python",
   "nbconvert_exporter": "python",
   "pygments_lexer": "ipython3",
   "version": "3.8.8"
  }
 },
 "nbformat": 4,
 "nbformat_minor": 2
}
