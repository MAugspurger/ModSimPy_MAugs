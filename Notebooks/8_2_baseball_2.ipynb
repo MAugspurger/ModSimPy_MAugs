{
 "cells": [
  {
   "cell_type": "markdown",
   "id": "foreign-pepper",
   "metadata": {},
   "source": [
    "# Chapter 8.2: Baseball II (Optimization)"
   ]
  },
  {
   "cell_type": "markdown",
   "id": "imported-table",
   "metadata": {
    "tags": []
   },
   "source": [
    "*Modeling and Simulation in Python*\n",
    "\n",
    "Copyright 2021 Allen Downey, (License: [Creative Commons Attribution-NonCommercial-ShareAlike 4.0 International](https://creativecommons.org/licenses/by-nc-sa/4.0/))\n",
    "\n",
    "Revised, Mike Augspurger (2021-present)"
   ]
  },
  {
   "cell_type": "code",
   "execution_count": 1,
   "id": "electoral-turkey",
   "metadata": {
    "tags": []
   },
   "outputs": [],
   "source": [
    "# import functions from modsim\n",
    "import sys\n",
    "sys.path.append('..\\\\..\\\\ModSimPy_Directory')\n",
    "from ModSimPy_Functions.modsim import *\n",
    "from ModSimPy_Functions.chap08 import *\n",
    "\n",
    "import pandas as pd\n",
    "import numpy as np\n"
   ]
  },
  {
   "cell_type": "markdown",
   "id": "angry-pledge",
   "metadata": {},
   "source": [
    "In the previous chapter we developed a model of the flight of a\n",
    "baseball, including gravity and a simple version of drag, but neglecting spin, Magnus force, and the dependence of the coefficient of drag on velocity.\n",
    "\n",
    "In this chapter we apply that model to an optimization problem. In general, *optimization* is a process for improving a design by searching for the parameters that maximize a benefit or minimize a cost. For example, in this chapter we'll find the angle you should hit a baseball to maximize the distance it travels. And we'll use a new function, called `maximize_scalar` that searches for this angle efficiently."
   ]
  },
  {
   "cell_type": "markdown",
   "id": "decent-birth",
   "metadata": {},
   "source": [
    "## The Manny Ramirez Problem\n",
    "\n",
    "Manny Ramirez is a former member of the Boston Red Sox (an American\n",
    "baseball team) who was notorious for his relaxed attitude and taste for practical jokes. Our objective in this chapter is to solve the following Manny-inspired problem:\n",
    "\n",
    "> What is the minimum effort required to hit a home run in Fenway Park?\n",
    "\n",
    "Fenway Park is a baseball stadium in Boston, Massachusetts. One of its\n",
    "most famous features is the \"Green Monster\", which is a wall in left\n",
    "field that is unusually close to home plate, only 310 feet away. To\n",
    "compensate for the short distance, the wall is unusually high, at 37\n",
    "feet (see <http://modsimpy.com/wally>).\n",
    "\n",
    "Starting with `params` from the previous chapter, I'll make a new `Params` object with two additional parameters, `wall_distance` and `wall_height`, in meters."
   ]
  },
  {
   "cell_type": "code",
   "execution_count": 2,
   "id": "finite-warrant",
   "metadata": {},
   "outputs": [],
   "source": [
    "# Convert feet to meters\n",
    "feet_to_meter = 0.3048\n",
    "params = dict(\n",
    "    x = 0,          # m\n",
    "    y = 1,          # m\n",
    "    angle = 45,     # degree\n",
    "    speed = 40,  # m / s\n",
    "\n",
    "    mass = 145e-3,    # kg \n",
    "    diameter = 73e-3, # m \n",
    "    C_d = 0.33,       # dimensionless\n",
    "\n",
    "    rho = 1.2,      # kg/m**3\n",
    "    g = 9.8,        # m/s**2\n",
    "    t_end = 10,    # s\n",
    "    \n",
    "    wall_distance= 310*feet_to_meter,     # m\n",
    "    wall_height= 37 * feet_to_meter)      # m"
   ]
  },
  {
   "cell_type": "markdown",
   "id": "d20a8bbc",
   "metadata": {},
   "source": [
    "We'll need to adjust the `make_system` function:"
   ]
  },
  {
   "cell_type": "code",
   "execution_count": 3,
   "id": "8d909ae4",
   "metadata": {},
   "outputs": [],
   "source": [
    "def make_system(params):\n",
    "    \n",
    "    x, y, angle, speed, mass, diameter, C_d, rho, g, t_end, wall_distance, wall_height = params.values()\n",
    "    \n",
    "    # convert angle to degrees\n",
    "    theta = np.deg2rad(angle)\n",
    "    \n",
    "    # compute x and y components of velocity\n",
    "    vx, vy = pol2cart(theta, speed)\n",
    "    \n",
    "    # make the initial state\n",
    "    init = pd.Series(dict(x=x, y=y, vx=vx, vy=vy))\n",
    "    \n",
    "    # compute the frontal area\n",
    "    area = np.pi * (diameter/2)**2\n",
    "\n",
    "    return dict(C_d=C_d, rho=rho, g=g, t_end=t_end,\n",
    "                  mass=mass,wall_distance=wall_distance,\n",
    "                  wall_height=wall_height,init = init,\n",
    "                  area = area)"
   ]
  },
  {
   "cell_type": "markdown",
   "id": "exposed-diving",
   "metadata": {},
   "source": [
    "The answer we want is the minimum speed at which a ball can leave home plate and still go over the Green Monster. We'll proceed in the\n",
    "following steps:\n",
    "\n",
    "1.  For a given speed, we'll find the optimal *launch angle*, that is, the angle the ball should leave home plate to maximize its height when it reaches the wall.\n",
    "\n",
    "2.  Then we'll find the minimum speed that clears the wall, given\n",
    "    that it has the optimal launch angle."
   ]
  },
  {
   "cell_type": "markdown",
   "id": "received-diamond",
   "metadata": {},
   "source": [
    "## Finding the Range\n",
    "\n",
    "Suppose we want to find the launch angle that maximizes *range*, that is, the distance the ball travels in the air before landing. We'll use a function in the ModSim library, `maximize_scalar`, which takes a function and finds its maximum.\n",
    "\n",
    "The function we pass to `maximize_scalar` should take launch angle in degrees, simulate the flight of a ball launched at that angle, and return the distance the ball travels along the $x$ axis."
   ]
  },
  {
   "cell_type": "code",
   "execution_count": 11,
   "id": "forty-knitting",
   "metadata": {},
   "outputs": [],
   "source": [
    "def range_func(angle, params):\n",
    "    params_var = params.copy()\n",
    "    params_var.update(angle=angle)\n",
    "    system = make_system(params_var)\n",
    "    results, details = run_solve_ivp(system, slope_func,\n",
    "                                     events=event_func)\n",
    "    x_dist = results.iloc[-1].x\n",
    "    return x_dist"
   ]
  },
  {
   "cell_type": "markdown",
   "id": "exact-cigarette",
   "metadata": {},
   "source": [
    "`range_func` makes a new `system` object with the given value of\n",
    "`angle`. Then it calls `run_solve_ivp` and\n",
    "returns the final value of `x` from the results.\n",
    "\n",
    "In short, it tells us how far a ball will travel at the angle and speed given by the parameters.\n",
    "\n",
    "We can call `range_func` directly like this:"
   ]
  },
  {
   "cell_type": "code",
   "execution_count": 12,
   "id": "senior-counter",
   "metadata": {},
   "outputs": [
    {
     "data": {
      "text/plain": [
       "99.31829628352213"
      ]
     },
     "execution_count": 12,
     "metadata": {},
     "output_type": "execute_result"
    }
   ],
   "source": [
    "range_func(45, params)"
   ]
  },
  {
   "cell_type": "markdown",
   "id": "paperback-passing",
   "metadata": {},
   "source": [
    "With launch angle 45°, the ball lands about 99 meters from home plate.\n",
    "\n",
    "Now we can sweep a sequence of angles like this:"
   ]
  },
  {
   "cell_type": "code",
   "execution_count": 14,
   "id": "biological-evans",
   "metadata": {
    "tags": []
   },
   "outputs": [],
   "source": [
    "angles = linspace(20, 80, 21)\n",
    "sweep = pd.Series([],dtype=np.float64)\n",
    "\n",
    "for angle in angles:\n",
    "    x_dist = range_func(angle, params)\n",
    "    sweep[angle] = x_dist"
   ]
  },
  {
   "cell_type": "markdown",
   "id": "premium-contribution",
   "metadata": {},
   "source": [
    "Here's what the results look like."
   ]
  },
  {
   "cell_type": "code",
   "execution_count": 16,
   "id": "experienced-providence",
   "metadata": {},
   "outputs": [
    {
     "data": {
      "image/png": "[encoded data removed]",
      "text/plain": [
       "<Figure size 432x288 with 1 Axes>"
      ]
     },
     "metadata": {
      "needs_background": "light"
     },
     "output_type": "display_data"
    }
   ],
   "source": [
    "sweep.plot(xlabel='Launch angle (degree)',\n",
    "         ylabel='Range (meter)',marker='.');"
   ]
  },
  {
   "cell_type": "markdown",
   "id": "conscious-blade",
   "metadata": {},
   "source": [
    "The dots represent actual data points determined by `range_func`.\n",
    "\n",
    "It looks like the range is maximized when the initial angle is near 40°.\n",
    "\n",
    "To find the optimal angle more precisely and more efficiently, we can use an ModSimPy algorithm called `maximize_scalar`.  Notice that range function has two arguments: `angle` and `params`.  `Maximize_scalar` is called here maximize the value of `range_func` over a range of possible values for the first argument `angle`.  `params` is included because this is necessary to run `range_func`, and `bounds` tells the function to test values for angle from 0 to 90."
   ]
  },
  {
   "cell_type": "code",
   "execution_count": 17,
   "id": "invisible-jaguar",
   "metadata": {},
   "outputs": [],
   "source": [
    "res = maximize_scalar(range_func, params, bounds=[0, 90])"
   ]
  },
  {
   "cell_type": "markdown",
   "id": "czech-command",
   "metadata": {},
   "source": [
    "* The first parameter is `range_func`, the function we want to maximize.  This is maximized by adjusting the first parameter in that function (that is, `angle` is the first parameter in `range_func`). \n",
    "\n",
    "* The final parameter is the range of values we want to search; in this case, it's the range of angles from 0° to 90°. \n",
    "\n",
    "The return value from `maximize_scalar` is an object that contains the\n",
    "results, including `x`, which is the angle that yielded the maximum\n",
    "range, and `fun`, which is the range when the ball is launched at the optimal angle."
   ]
  },
  {
   "cell_type": "code",
   "execution_count": 20,
   "id": "vocal-nerve",
   "metadata": {},
   "outputs": [
    {
     "data": {
      "text/plain": [
       "     fun: 100.12417043314979\n",
       " message: 'Solution found.'\n",
       "    nfev: 10\n",
       "  status: 0\n",
       " success: True\n",
       "       x: 40.879287138759004"
      ]
     },
     "execution_count": 20,
     "metadata": {},
     "output_type": "execute_result"
    }
   ],
   "source": [
    "res"
   ]
  },
  {
   "cell_type": "code",
   "execution_count": 21,
   "id": "figured-uniform",
   "metadata": {},
   "outputs": [
    {
     "data": {
      "text/plain": [
       "(40.879287138759004, 100.12417043314979)"
      ]
     },
     "execution_count": 21,
     "metadata": {},
     "output_type": "execute_result"
    }
   ],
   "source": [
    "res.x, res.fun"
   ]
  },
  {
   "cell_type": "markdown",
   "id": "shaped-southeast",
   "metadata": {},
   "source": [
    "For these parameters, the optimal angle is about 41°, which yields a range of 100 m.\n",
    "Now we have what we need to finish the problem; the last step is to find the minimum velocity needed to get the ball over the wall. In the exercises at the end of the chapter, I provide some suggestions. Then it's up to you!"
   ]
  },
  {
   "cell_type": "markdown",
   "id": "temporal-extension",
   "metadata": {},
   "source": [
    "## Summary\n",
    "\n",
    "This chapter introduces an new tool, `maximize_scalar`, that provides an efficient way to search for the maximum of a function. We used it to find the launch angle that maximizes the distance a baseball flies through the air, given its initial velocity.\n",
    "\n",
    "If you enjoy this example, you might be interested in this paper: \"How to hit home runs: Optimum baseball bat swing parameters for maximum range trajectories\", by Sawicki, Hubbard, and Stronge, at <http://modsimpy.com/runs>.\n",
    "\n",
    "In the next chapter, we start a new topic: rotation!"
   ]
  },
  {
   "cell_type": "markdown",
   "id": "handmade-rhythm",
   "metadata": {},
   "source": [
    "### Exercise 1\n",
    "\n",
    "Let's finish off the Manny Ramirez problem:\n",
    "\n",
    "> What is the minimum effort required to hit a home run in Fenway Park?\n",
    "\n",
    "Although the problem asks for a minimum, it is not an optimization problem.  Rather, we want to solve for the initial speed that just barely gets the ball to the top of the wall, given that it is launched at the optimal angle.\n",
    "\n",
    "And we have to be careful about what we mean by \"optimal\".  For this problem, we don't want the longest range; we want the maximum height at the point where it reaches the wall.\n",
    "\n",
    "If you are ready to solve the problem on your own, go ahead.  Otherwise I will walk you through the process with an outline and some starter code.\n",
    "\n",
    "As a first step, write an `event_func` that stops the simulation when the ball reaches the wall at `wall_distance`, which is a parameter in `params`.\n",
    "Test your function with the initial conditions."
   ]
  },
  {
   "cell_type": "code",
   "execution_count": 22,
   "id": "studied-association",
   "metadata": {},
   "outputs": [],
   "source": [
    "# Define the event_func\n",
    "\n",
    "def event_func(t,state,system):\n",
    "    x,y,vx,vy = state\n",
    "    return x - system['wall_distance']"
   ]
  },
  {
   "cell_type": "code",
   "execution_count": 32,
   "id": "developmental-alabama",
   "metadata": {},
   "outputs": [
    {
     "data": {
      "text/plain": [
       "-94.488"
      ]
     },
     "execution_count": 32,
     "metadata": {},
     "output_type": "execute_result"
    }
   ],
   "source": [
    "# Test event function\n",
    "system = make_system(params)\n",
    "event_func(0,system['init'],system)"
   ]
  },
  {
   "cell_type": "markdown",
   "id": "novel-appointment",
   "metadata": {},
   "source": [
    "Next, write a function called `height_func` that takes a launch angle, simulates the flight of a baseball, and returns the height of the baseball when it reaches the wall.\n",
    "Test your function with the initial conditions."
   ]
  },
  {
   "cell_type": "code",
   "execution_count": 33,
   "id": "ignored-decrease",
   "metadata": {},
   "outputs": [],
   "source": [
    "# Define height function\n",
    "def height_func(angle,params):\n",
    "    params_var = params.copy()\n",
    "    params_var.update(angle=angle)\n",
    "    system = make_system(params_var)\n",
    "    results, details = run_solve_ivp(system, slope_func,\n",
    "                                     events=event_func)\n",
    "    height_at_wall = results.iloc[-1].y\n",
    "    return height_at_wall"
   ]
  },
  {
   "cell_type": "code",
   "execution_count": 34,
   "id": "western-communist",
   "metadata": {},
   "outputs": [
    {
     "data": {
      "text/plain": [
       "6.968278259866793"
      ]
     },
     "execution_count": 34,
     "metadata": {},
     "output_type": "execute_result"
    }
   ],
   "source": [
    "# Test height_function\n",
    "height_func(45,params)"
   ]
  },
  {
   "cell_type": "markdown",
   "id": "located-lawsuit",
   "metadata": {},
   "source": [
    "We know the ball that leaves the bat at 45 degrees travels about 99 meters, so it makes sense that it would be about 7 m above the ground when it passed the 94.5 m mark (that is, the location of the wall).\n",
    "\n",
    "We now have a function that will tell us the height of the ball when it reaches the wall.  If we use this function in `maximize_scalar`, we can find the angle that will maximize this height.  Is it higher or lower than the angle that maximizes range?"
   ]
  },
  {
   "cell_type": "code",
   "execution_count": 35,
   "id": "duplicate-madison",
   "metadata": {},
   "outputs": [
    {
     "name": "stdout",
     "output_type": "stream",
     "text": [
      "43.105080979218556 7.217049532932855\n"
     ]
    }
   ],
   "source": [
    "# Find the optimal angle\n",
    "params['speed'] = 40\n",
    "max_ang = maximize_scalar(height_func,params,bounds=[0,90])\n",
    "print(max_ang.x, max_ang.fun)"
   ]
  },
  {
   "cell_type": "markdown",
   "id": "interpreted-telephone",
   "metadata": {},
   "source": [
    "The angle that maximizes the height at the wall is a little higher than the angle that maximizes range.\n",
    "\n",
    "We have maximized the height for a ball that has an initial velocity of 40 m/s.  Now, let's find the lowest speed that makes the height at the wall exactly 37 feet.  Essentially, we need to sweep through two parameters, angle and speed, to find the combination that will get us the lowest speed.\n",
    "\n",
    "We have the tool to optimize the angle for a given speed.  Now we will use `root scalar` and an error function to find the lowest speed whose maximum height clears the wall.\n",
    "\n",
    "Write an error function that takes a speed and a `system` object as parameters.  It should use `maximize_scalar` to find the angle that will produce the highest possible height of the ball at the wall, for the given speed.  Then it should return the difference between that optimal height and `wall_height`, which is a parameter in `params`.\n",
    "\n",
    "This is the error function that we will try to set to zero with `root scalar`."
   ]
  },
  {
   "cell_type": "code",
   "execution_count": 40,
   "id": "34a4d1c8",
   "metadata": {},
   "outputs": [],
   "source": [
    "# Define the error function\n",
    "\n",
    "def error_func(speed,params):\n",
    "    params_var = params.copy()\n",
    "    params_var.update(speed=speed)\n",
    "    \n",
    "    # For a given speed, find the angle that gives the maximum height at the wall\n",
    "    max_ang = maximize_scalar(height_func,params_var,bounds=[0,90])\n",
    "    print(\"Speed\",speed,\"Angle\", max_ang.x, \"Height\", max_ang.fun)\n",
    "    \n",
    "    # Return the difference between the top of the wall and the optimal height\n",
    "    # of the ball at the wall: this is what root_scalar will try to make zero\n",
    "    return max_ang.fun - system['wall_height']"
   ]
  },
  {
   "cell_type": "code",
   "execution_count": 41,
   "id": "egyptian-shadow",
   "metadata": {},
   "outputs": [
    {
     "name": "stdout",
     "output_type": "stream",
     "text": [
      "Speed 40 Angle 43.105080979218556 Height 7.217049532932855\n"
     ]
    },
    {
     "data": {
      "text/plain": [
       "-4.060550467067147"
      ]
     },
     "execution_count": 41,
     "metadata": {},
     "output_type": "execute_result"
    }
   ],
   "source": [
    "# Test function\n",
    "error_func(40,params)"
   ]
  },
  {
   "cell_type": "markdown",
   "id": "reserved-shelter",
   "metadata": {},
   "source": [
    "Then use `root_scalar` to find the answer to the problem, the minimum speed that gets the ball out of the park."
   ]
  },
  {
   "cell_type": "code",
   "execution_count": 42,
   "id": "sustainable-supply",
   "metadata": {},
   "outputs": [
    {
     "name": "stdout",
     "output_type": "stream",
     "text": [
      "Speed 10 Angle 86.72124468572068 Height -247.91663975523943\n",
      "Speed 10.0 Angle 86.72124468572068 Height -247.91663975523943\n",
      "Speed 50.0 Angle 52.22315471733168 Height 41.507789540329604\n",
      "Speed 45.82202654918841 Angle 48.870201446357036 Height 28.308542158265958\n",
      "Speed 40.763578911688 Angle 43.940206882010685 Height 10.21581411345618\n",
      "Speed 41.06043786496562 Angle 44.25822094692066 Height 11.359681294555774\n",
      "Speed 41.03913594496292 Angle 44.23552443791914 Height 11.277995193258526\n",
      "Speed 41.037083988164675 Angle 44.23333713788136 Height 11.270123393937599\n"
     ]
    },
    {
     "data": {
      "text/plain": [
       "      converged: True\n",
       "           flag: 'converged'\n",
       " function_calls: 7\n",
       "     iterations: 6\n",
       "           root: 41.03913594496292"
      ]
     },
     "execution_count": 42,
     "metadata": {},
     "output_type": "execute_result"
    }
   ],
   "source": [
    "# Call root_scalar to find the angle and minimum speed to clear wall\n",
    "res = root_scalar(error_func,params,bracket=[10,50])\n",
    "res\n"
   ]
  },
  {
   "cell_type": "markdown",
   "id": "approved-fiction",
   "metadata": {},
   "source": [
    "And just to check, run `error_func` with the value you found."
   ]
  },
  {
   "cell_type": "code",
   "execution_count": 39,
   "id": "thick-jungle",
   "metadata": {},
   "outputs": [
    {
     "name": "stdout",
     "output_type": "stream",
     "text": [
      "Speed 41.0391 Angle 44.235486121894446 Height 11.277857304580827\n"
     ]
    },
    {
     "data": {
      "text/plain": [
       "0.0002573045808258456"
      ]
     },
     "execution_count": 39,
     "metadata": {},
     "output_type": "execute_result"
    }
   ],
   "source": [
    "# Check with error_function\n",
    "error_func(41.0391,params)"
   ]
  }
 ],
 "metadata": {
  "celltoolbar": "Tags",
  "kernelspec": {
   "display_name": "Python 3",
   "language": "python",
   "name": "python3"
  },
  "language_info": {
   "codemirror_mode": {
    "name": "ipython",
    "version": 3
   },
   "file_extension": ".py",
   "mimetype": "text/x-python",
   "name": "python",
   "nbconvert_exporter": "python",
   "pygments_lexer": "ipython3",
   "version": "3.8.8"
  }
 },
 "nbformat": 4,
 "nbformat_minor": 5
}
