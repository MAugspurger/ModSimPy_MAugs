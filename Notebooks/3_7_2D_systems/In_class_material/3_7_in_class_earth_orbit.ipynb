{
  "cells": [
    {
      "cell_type": "markdown",
      "metadata": {
        "id": "G9BTdULhMS7Z"
      },
      "source": [
        "# Orbiting the Sun: Using Vectors with Force"
      ]
    },
    {
      "cell_type": "markdown",
      "metadata": {
        "id": "_ZEd9mYCMS7e"
      },
      "source": [
        "*Modeling and Simulation in Python*\n",
        "\n",
        "Copyright 2021 Allen Downey, (License: [Creative Commons Attribution-NonCommercial-ShareAlike 4.0 International](https://creativecommons.org/licenses/by-nc-sa/4.0/))\n",
        "\n",
        "Revised, Mike Augspurger (2021-present)"
      ]
    },
    {
      "cell_type": "markdown",
      "metadata": {
        "id": "XYkyQ54-MS7h"
      },
      "source": [
        "The shape of the Earth's orbit is a result the dynamics that control that orbit: the inertia of the earth and the forces of gravity from the sun cause it to orbit in an elliptical fashion.  We can model these forces to see how they cause this particular orbit.\n",
        "\n",
        "<br>\n",
        "<center>\n",
        "<img src = https://github.com/MAugspurger/ModSimPy_MAugs/raw/main/Images_and_Data/Images/3_7/ellipse.PNG width = 400>\n",
        "</center>\n",
        "<br>\n",
        "\n",
        "At perihelion, where the earth and sun are closest, the distance from the Earth to the Sun is 147.09 million km and its velocity is 30,290 m/s.  Here are the parameters:"
      ]
    },
    {
      "cell_type": "code",
      "execution_count": null,
      "metadata": {
        "id": "h6PEwe9RMS7i"
      },
      "outputs": [],
      "source": [
        "G = 6.6743e-11     # gravitational constant N / kg**2 * m**2\n",
        "mS = 1.989e30      # mass of the Sun kg\n",
        "mE = 5.972e24      # mass of the Earth kg\n",
        "t_end = 3.154e7    # one year in seconds\n",
        "r_0 = 147.09e9     # initial distance m\n",
        "v_0 = 30.29e3     # initial velocity m/s\n",
        "dt = 1.0e4       # time step size s"
      ]
    },
    {
      "cell_type": "markdown",
      "metadata": {
        "id": "7y7EXpENMS7j"
      },
      "source": [
        "### Part 1: Making a state\n",
        "\n",
        "Put the initial conditions in a `state` dictionary with variables `x`, `y`, `vx`, and `vy`.\n",
        "\n",
        "<br>\n",
        "\n",
        "To determine the initial values, draw a picture of the orbit, and add a coordinate system with the sun at the center.  At `t =  0`, the earth will be at the perihelion."
      ]
    },
    {
      "cell_type": "code",
      "execution_count": null,
      "metadata": {
        "id": "fYWlJooTMS7j"
      },
      "outputs": [],
      "source": [
        "# Create state dictionary with the 4 state variables\n"
      ]
    },
    {
      "cell_type": "markdown",
      "source": [
        "### Part 2: Making a system\n",
        "\n",
        "Now create a `system` dictionary that holds the system parameters."
      ],
      "metadata": {
        "id": "Y8h4me1m-P4r"
      }
    },
    {
      "cell_type": "code",
      "execution_count": null,
      "metadata": {
        "id": "ZaBep8veMS7l"
      },
      "outputs": [],
      "source": [
        "# Create the system"
      ]
    },
    {
      "cell_type": "markdown",
      "metadata": {
        "id": "PSxlRDNDMS7m"
      },
      "source": [
        "### Part 3: A gravitation function\n",
        "\n",
        "Write a function called `universal_gravitation` that takes `State` and a `System` and returns the gravitational force of the Sun on the Earth as a vector (a Series with two components, just like we did in the baseball notebooks: look there to remember how to do this).  \n",
        "\n",
        "<br>\n",
        "\n",
        "A couple tips:\n",
        "<br>\n",
        "* You'll need to use Newton's law of gravitation (with the gravitational constant `G`).\n",
        "* Be careful with your signs.  This is the force on the earth, so make sure those force vectors will point in the right direction all the way around the orbit.\n",
        "* You'll need to find the magnitude of the force and its direction.  The force vector will the magnitude multiplied by a \"unit vector\": a vector of length one that points in the correct direction.  Notebook 3.7.1 can help you create the unit vector.\n"
      ]
    },
    {
      "cell_type": "code",
      "execution_count": null,
      "metadata": {
        "id": "GiuKa_0oMS7o"
      },
      "outputs": [],
      "source": [
        "# Define and test universal_gravitation\n",
        "\n",
        "def universal_gravitation(state,system):\n",
        "\n",
        "    return grav_vec\n"
      ]
    },
    {
      "cell_type": "markdown",
      "source": [
        "Test your function with the initial conditions; the result should be a Vector with approximate components:\n",
        "\n",
        "```\n",
        "x   -3.66e+22\n",
        "y   0\n",
        "```"
      ],
      "metadata": {
        "id": "yfn1MtIx_Q-q"
      }
    },
    {
      "cell_type": "code",
      "source": [
        "# Test your function here\n",
        "universal_gravitation(state,system)"
      ],
      "metadata": {
        "id": "-OwZyMmw_QNL"
      },
      "execution_count": null,
      "outputs": []
    },
    {
      "cell_type": "markdown",
      "metadata": {
        "id": "bk2LtO5BMS7p"
      },
      "source": [
        "### Part 4: Making a change function\n",
        "\n",
        "Write a function function that takes a timestamp, a `state`, and a `system` and computes the derivatives of the state variables.  This will not be long function, since there is only one force.  Start with the change function from 3.7.1 as a starting point."
      ]
    },
    {
      "cell_type": "code",
      "execution_count": null,
      "metadata": {
        "id": "k7_9ruuMMS7p"
      },
      "outputs": [],
      "source": [
        "# Define the change function\n",
        "\n",
        "def change_func(t,state,system):\n",
        "\n",
        "\n",
        "\n",
        "\n",
        "    return pd.Series(dict(x=x, y=y, vx=vx, vy=vy))"
      ]
    },
    {
      "cell_type": "markdown",
      "source": [
        "\n",
        "Test your function with the initial conditions.  The result should be a sequence of four values: you should see a small (relatively!) positive change in the y-position, and a small velocity in the negative x-position.  The x-position and y-velocity will be slightly changed, but the changes will be very small (and maybe unnoticeable)."
      ],
      "metadata": {
        "id": "zxB7Sm-bAfsL"
      }
    },
    {
      "cell_type": "code",
      "source": [
        "# Test your function here\n",
        "change_func(0, state, system)"
      ],
      "metadata": {
        "id": "4jja0HvXAgl0"
      },
      "execution_count": null,
      "outputs": []
    },
    {
      "cell_type": "markdown",
      "metadata": {
        "id": "SQK0HVYJMS7q"
      },
      "source": [
        "### Part 5: Running the simulation\n",
        "\n",
        "Your `run_simulation()` function will look a lot like the ones we used in the baseball notebooks.  But copy that code here and read through it to consider whether you need to make any changes."
      ]
    },
    {
      "cell_type": "code",
      "execution_count": null,
      "metadata": {
        "id": "JEUf0H3hMS7q"
      },
      "outputs": [],
      "source": [
        "# Define your run_simulation function"
      ]
    },
    {
      "cell_type": "markdown",
      "metadata": {
        "id": "0Tiqbi1vMS7r"
      },
      "source": [
        "### Part 6: Plotting the results\n",
        "\n",
        "You can use the following function to plot the results."
      ]
    },
    {
      "cell_type": "code",
      "execution_count": null,
      "metadata": {
        "id": "mOU_8wQSMS7r"
      },
      "outputs": [],
      "source": [
        "from matplotlib.pyplot import plot\n",
        "\n",
        "def plot_trajectory(results):\n",
        "    x = results.x.values / 1e9\n",
        "    y = results.y.values / 1e9\n",
        "\n",
        "    trajectory = pd.Series(data = y, index = x)\n",
        "    trajectory.plot(label='orbit',\n",
        "                    xlabel='x distance (million km)',\n",
        "                    ylabel='y distance (million km)',\n",
        "                   legend=True)\n",
        "    # Plot a dot at the center of the orbit\n",
        "    plot(0, 0, 'yo')\n"
      ]
    },
    {
      "cell_type": "code",
      "execution_count": null,
      "metadata": {
        "id": "sxLnLTTHMS7s"
      },
      "outputs": [],
      "source": [
        "# Call plot_trajectory here"
      ]
    },
    {
      "cell_type": "markdown",
      "metadata": {
        "id": "Y6J-3QPRMS7s"
      },
      "source": [
        "You will probably see that the earth does not end up back where it started, as we expect it to after one year.  Let's compute the position here.  In the cell below, calculate how far off the ending point of the simulation is from where it should be, in both the x- and y- directions:"
      ]
    },
    {
      "cell_type": "code",
      "execution_count": null,
      "metadata": {
        "id": "wxnMCfRGMS7t"
      },
      "outputs": [],
      "source": [
        "# Determine the position error in the x- and y- directions\n"
      ]
    },
    {
      "cell_type": "markdown",
      "source": [
        "Now calculate the magnitude of this position error.  If you're not sure how, look back at how you found the magnitude of a vector to get the unit vector."
      ],
      "metadata": {
        "id": "PEvSyXXSCs74"
      }
    },
    {
      "cell_type": "code",
      "execution_count": null,
      "metadata": {
        "id": "iMF2OVnEMS7t"
      },
      "outputs": [],
      "source": [
        "# Find the magnitude of the position error\n"
      ]
    },
    {
      "cell_type": "markdown",
      "metadata": {
        "id": "LPi4WJzMMS7u"
      },
      "source": [
        "### Part 6 Analysis\n",
        "\n"
      ]
    },
    {
      "cell_type": "markdown",
      "source": [
        "✅ ✅  A.  One problem with our simulation might be the size of the our time step `dt`.  Rerun the simulation using a couple smaller time steps, and check the error in position.  Report your results.  Does a smaller time step improve the error each time?"
      ],
      "metadata": {
        "id": "hsZYhHN4BwPr"
      }
    },
    {
      "cell_type": "markdown",
      "source": [
        "✅ ✅  Put your answer to A here"
      ],
      "metadata": {
        "id": "HaEVeq4RCbam"
      }
    },
    {
      "cell_type": "markdown",
      "source": [
        "✅ ✅ B. What is the length of the aphelion of this orbit (see the image above).  Try to create some code to identify this value.  This could be as short as one line"
      ],
      "metadata": {
        "id": "kN1u1Al8Ci04"
      }
    },
    {
      "cell_type": "code",
      "source": [
        "# Find the Aphelion of the orbit"
      ],
      "metadata": {
        "id": "ce3s01MvD4Hj"
      },
      "execution_count": null,
      "outputs": []
    },
    {
      "cell_type": "markdown",
      "source": [
        "✅ ✅ Report your value for B here."
      ],
      "metadata": {
        "id": "2uS7Ke52CfuV"
      }
    }
  ],
  "metadata": {
    "kernelspec": {
      "display_name": "Python 3",
      "language": "python",
      "name": "python3"
    },
    "language_info": {
      "codemirror_mode": {
        "name": "ipython",
        "version": 3
      },
      "file_extension": ".py",
      "mimetype": "text/x-python",
      "name": "python",
      "nbconvert_exporter": "python",
      "pygments_lexer": "ipython3",
      "version": "3.8.8"
    },
    "colab": {
      "provenance": []
    }
  },
  "nbformat": 4,
  "nbformat_minor": 0
}