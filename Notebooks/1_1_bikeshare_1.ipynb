{
 "cells": [
  {
   "cell_type": "markdown",
   "id": "victorian-latitude",
   "metadata": {},
   "source": [
    "# 1.1: Bikeshare I (A Basic Model)"
   ]
  },
  {
   "cell_type": "markdown",
   "id": "imported-table",
   "metadata": {
    "tags": []
   },
   "source": [
    "*Modeling and Simulation in Python*\n",
    "\n",
    "Copyright 2021 Allen Downey, (License: [Creative Commons Attribution-NonCommercial-ShareAlike 4.0 International](https://creativecommons.org/licenses/by-nc-sa/4.0/))\n",
    "\n",
    "Revised, Mike Augspurger (2021-present)"
   ]
  },
  {
   "cell_type": "code",
   "execution_count": null,
   "id": "progressive-typing",
   "metadata": {
    "tags": []
   },
   "outputs": [],
   "source": [
    "''' \n",
    "***You can read this section if you are interested\n",
    "in how Python works, but it is not crucial to our work***\n",
    "\n",
    "For many of the chapters, we will want to import ready-made\n",
    "functions.  Some of these are functions that we have\n",
    "created.  These 'homemade functions' are stored in files \n",
    "called modsim.py and chap0x.py, which are found in \n",
    "Notebooks/ModSimPy_Functions.\n",
    "\n",
    "Other imported functions are imported from standard\n",
    "libraries of functions, such as 'pandas,' which is a well-known\n",
    "data analysis library.\n",
    "\n",
    "The code here checks to see if those files exist,\n",
    "and if not, it creates a 'ModSimPy_Functions' folder,\n",
    "and downloads the requested files from my github account.\n",
    "\n",
    "Once the files are there, the \"import\" line\n",
    "pulls a set of ready-made functions into the notebook\n",
    "so that they can be used whenever necessary\n",
    "To look at these functions, feel free to open\n",
    "Notebooks/ModSimPy_functions/modsim.py \n",
    "'''\n",
    "\n",
    "\n",
    "# This section defines a function that downloads any \n",
    "# missing ModSimPy files\n",
    "from os.path import basename, exists\n",
    "from os import mkdir\n",
    "\n",
    "def download(url,folder):\n",
    "    filename = folder + basename(url)\n",
    "    if not exists(folder):\n",
    "        mkdir(folder)\n",
    "    # fetches the file at the given url if it is not already present\n",
    "    if not exists(filename):\n",
    "        from urllib.request import urlretrieve\n",
    "        local, _ = urlretrieve(url, filename)\n",
    "        print('Downloaded ' + local)\n",
    "\n",
    "# This line runs the 'download' function that is defined above,\n",
    "# and provides the url address from which the file should be\n",
    "# downloaded.\n",
    "download('https://github.com/MAugspurger/ModSimPy_MAugs/raw/main/Notebooks/'\n",
    "        + 'ModSimPy_Functions/modsim.py', 'ModSimPy_Functions/')\n",
    "\n",
    "# Now that we know the file is where it should be, we can\n",
    "# import the file.  The asterisk (*) tells the program to import\n",
    "# all of the functions from that file\n",
    "from ModSimPy_Functions.modsim import *\n",
    "\n",
    "# Now we'll import the standard 'pandas' library and give it a nickname\n",
    "import pandas as pd"
   ]
  },
  {
   "cell_type": "markdown",
   "id": "unlimited-antenna",
   "metadata": {},
   "source": [
    "### Modeling Basics\n",
    "\n",
    "Most models attempt to describe some system that changes over time.  How does the population grow? When will the company start to make a profit? How does the rocket re-enter the atmosphere?  What happens when we put a bunch of 18-wheelers on the bridge?  \n",
    "\n",
    "All of these processes consist of two parts:\n",
    "\n",
    "1) An initial state (the current population, the company's current financial situation, the rocket in space, etc...).      \n",
    "\n",
    "2) A process of change over time.  \n",
    "\n",
    "Any model will need to define both of these parts.  The initial state is defined by a set of values.  Values that don't change are called *parameters* (e.g. the density of the steel in the bridge, or the mass of the rocket).  Values that do change are called *variables* (e.g. the number of 18-wheelers on the bridge, or the elevation of the rocket).\n",
    "\n",
    "The process of change is defined by a rule, or a set of rules, about how this change occurs.  We will call these rules a *change function*.  Much of this class will be spent exploring different types of change functions (if you look at the schedule on the syllabus, you'll see that the units are defined largely by types of change functions).  These rules might stay the same the whole time, or they might change, gradually or suddenly.  The rules might create random *stochastic* changes, or established *deterministic* changes.\n",
    "\n",
    "The change occurs through *time steps*.  Each time step represents a certain amount of time, and each step represents a change in the variables of the system: these variables are collectively called the *state* of the system.\n",
    "\n",
    "In this chapter, we'll begin to create our first full-fledged model.  In order to do that, we will need to define an initial state and a change function."
   ]
  },
  {
   "cell_type": "markdown",
   "id": "above-denial",
   "metadata": {},
   "source": [
    "## Modeling a Bike Share System\n",
    "\n",
    "Imagine a bike share system for students traveling between Augie and downtown Moline.\n",
    "\n",
    "Suppose the system contains 12 bikes and two bike racks, one at Augie and one at Moline, each with the capacity to hold 12 bikes.  This is our initial state.\n",
    "\n",
    "As students arrive, check out a bike, and ride to the other campus, the number of bikes in each location changes. In the simulation, we'll need to keep track of where the bikes are--that is, we'll need to keep track of the *state* of the system. \n",
    "\n",
    "To do that, we'll use an `object` called a `Series`, which is part of a `Library` of code called Pandas.  A couple definitions:\n",
    "\n",
    "- An `object` is a catch-all term for a \"thing\" in python: a collection of data of any sort.\n",
    "\n",
    "- A `Series` is an object that holds a set of variable values in a table-like form: it's a particular kind of `object`.  We'll see an example of this in action in just a moment.\n",
    "\n",
    "- A `Library` is a set of pre-written code that we can access in our own programs.  You can \"check out\" this pre-written code by \"importing\" it into your code.\n",
    "\n",
    "We'll start by importing the Pandas library (which is a data analysis library), and creating a `Series` called `bikeshare`.  This will be our *state object*: it will hold information about the state of our system."
   ]
  },
  {
   "cell_type": "code",
   "execution_count": null,
   "id": "incorrect-comparison",
   "metadata": {},
   "outputs": [],
   "source": [
    "import pandas as pd\n",
    "\n",
    "bikeshare = pd.Series(dict(augie=10,moline=2),name='Number of Bikes')\n",
    "bikeshare\n"
   ]
  },
  {
   "cell_type": "markdown",
   "id": "living-wayne",
   "metadata": {},
   "source": [
    "Notice the format here (We'll use a lot of cut-and-paste in our programming, so you don't need to memorize this stuff.  But you do want to start paying attention to the format):\n",
    "\n",
    "- The first line imports the library, and gives it the shorthand `pd`.  Importing the library makes all of its objects and methods available to the program, and the shorthand version slims down the code a bit.\n",
    "\n",
    "- The second line creates the `Series` and calls it `bikeshare`.  \n",
    "--The first expression creates a foundational Python object called a `dictionary`, which is a set of label-value pairs. This dictionary contains the data for our `Series`. Notice that each `value` has a `label` (the value '10', for instance, has the label 'Augie').  `name` is a *keyword argument* that describes the meaning of our values: '2' and '10' represent the number of bikes at the two locations.  \n",
    "\n",
    "Together, two variables represent the *state variables*.  The *initial state* indicates that there are 10 bikes at Augie and 2 at Moline. \n",
    "\n",
    "We can read the variables inside a `Series` using the *dot operator*, like this:"
   ]
  },
  {
   "cell_type": "code",
   "execution_count": null,
   "id": "brief-diversity",
   "metadata": {},
   "outputs": [],
   "source": [
    "bikeshare.augie"
   ]
  },
  {
   "cell_type": "markdown",
   "id": "intermediate-midwest",
   "metadata": {},
   "source": [
    "And this:"
   ]
  },
  {
   "cell_type": "code",
   "execution_count": null,
   "id": "designed-brazilian",
   "metadata": {},
   "outputs": [],
   "source": [
    "bikeshare.moline"
   ]
  },
  {
   "cell_type": "markdown",
   "id": "phantom-oklahoma",
   "metadata": {},
   "source": [
    "Or, to display the state variables and their values, you can just enter the name of the object:"
   ]
  },
  {
   "cell_type": "code",
   "execution_count": null,
   "id": "impaired-potter",
   "metadata": {},
   "outputs": [],
   "source": [
    "bikeshare"
   ]
  },
  {
   "cell_type": "markdown",
   "id": "vital-journal",
   "metadata": {},
   "source": [
    "These values make up the *state* of the system."
   ]
  },
  {
   "cell_type": "markdown",
   "id": "fleet-beijing",
   "metadata": {
    "tags": []
   },
   "source": [
    "We can represent our `Series` in a way that looks more like a table by transforming the `Series` into another Pandas object called a `DataFrame` (we'll get to those later: we're just using it as a display tool here):"
   ]
  },
  {
   "cell_type": "code",
   "execution_count": null,
   "id": "basic-fabric",
   "metadata": {
    "tags": []
   },
   "outputs": [],
   "source": [
    "pd.DataFrame(bikeshare)"
   ]
  },
  {
   "cell_type": "markdown",
   "id": "specified-definition",
   "metadata": {
    "tags": []
   },
   "source": [
    "You don't have to use this format, but I think the results look better, and it provides a better visual sense of the nature of a `Series`."
   ]
  },
  {
   "cell_type": "markdown",
   "id": "delayed-ocean",
   "metadata": {},
   "source": [
    "We can update the state by assigning new values to the variables. \n",
    "For example, if a student moves a bike from Augie to Moline, we can figure out the new values and assign them:"
   ]
  },
  {
   "cell_type": "code",
   "execution_count": null,
   "id": "floppy-trainer",
   "metadata": {},
   "outputs": [],
   "source": [
    "# First simple change function\n",
    "bikeshare.augie = 9\n",
    "bikeshare.moline = 3\n",
    "pd.DataFrame(bikeshare)"
   ]
  },
  {
   "cell_type": "markdown",
   "id": "natural-gossip",
   "metadata": {},
   "source": [
    "Or we can use *update operators*, `-=` and `+=`, to subtract 1 from\n",
    "`augie` and add 1 to `moline`:"
   ]
  },
  {
   "cell_type": "code",
   "execution_count": null,
   "id": "hungarian-bride",
   "metadata": {},
   "outputs": [],
   "source": [
    "# Second simple change function\n",
    "bikeshare.augie -= 1\n",
    "bikeshare.moline += 1\n",
    "pd.DataFrame(bikeshare)"
   ]
  },
  {
   "cell_type": "markdown",
   "id": "radical-mills",
   "metadata": {},
   "source": [
    "Try running the last cell again.  What happens to the state of the system?  Now run the cell with the \"first simple change function\" again.\n",
    "\n",
    "Each time you run the cell, it performs the action described by the code, even if you had already run that cell before."
   ]
  },
  {
   "cell_type": "markdown",
   "id": "controversial-opportunity",
   "metadata": {},
   "source": [
    "## Defining Functions\n",
    "\n",
    "So far we have used functions defined in NumPy and the ModSim library. Now we're going to define our own functions.\n",
    "\n",
    "When you are developing code in Jupyter, it is often efficient to write a few lines of code, test them to confirm they do what you intend, and then use them to define a new function. For example, these lines move a bike from Augie to Moline:"
   ]
  },
  {
   "cell_type": "code",
   "execution_count": null,
   "id": "vertical-drawing",
   "metadata": {},
   "outputs": [],
   "source": [
    "bikeshare.augie -= 1\n",
    "bikeshare.moline += 1"
   ]
  },
  {
   "cell_type": "markdown",
   "id": "approximate-rolling",
   "metadata": {},
   "source": [
    "Rather than repeat them every time a bike moves, we can define a new\n",
    "function:"
   ]
  },
  {
   "cell_type": "code",
   "execution_count": null,
   "id": "significant-nutrition",
   "metadata": {},
   "outputs": [],
   "source": [
    "def bike_to_moline():\n",
    "    bikeshare.augie -= 1\n",
    "    bikeshare.moline += 1"
   ]
  },
  {
   "cell_type": "markdown",
   "id": "generous-tracker",
   "metadata": {},
   "source": [
    "`def` is a special word in Python that indicates we are defining a new\n",
    "function. The name of the function is `bike_to_moline`. The empty\n",
    "parentheses indicate that this function requires no additional\n",
    "information when it runs. The colon indicates the beginning of an\n",
    "indented *code block*.\n",
    "\n",
    "The next two lines are the *body* of the function. They have to be\n",
    "indented; by convention, the indentation is four spaces.\n",
    "\n",
    "When you define a function, it has no immediate effect. The body of the\n",
    "function doesn't run until you *call* the function. Here's how to call\n",
    "this function:"
   ]
  },
  {
   "cell_type": "code",
   "execution_count": null,
   "id": "moving-jurisdiction",
   "metadata": {},
   "outputs": [],
   "source": [
    "bike_to_moline()"
   ]
  },
  {
   "cell_type": "markdown",
   "id": "meaningful-christmas",
   "metadata": {},
   "source": [
    "When you call the function, it runs the statements in the body, which\n",
    "update the variables of the `bikeshare` object; you can check by\n",
    "displaying the new state."
   ]
  },
  {
   "cell_type": "code",
   "execution_count": null,
   "id": "proper-symposium",
   "metadata": {},
   "outputs": [],
   "source": [
    "pd.DataFrame(bikeshare)"
   ]
  },
  {
   "cell_type": "markdown",
   "id": "eleven-brook",
   "metadata": {},
   "source": [
    "When you call a function, you have to include the parentheses. If you\n",
    "leave them out, you get this:"
   ]
  },
  {
   "cell_type": "code",
   "execution_count": null,
   "id": "identical-yacht",
   "metadata": {},
   "outputs": [],
   "source": [
    "bike_to_moline"
   ]
  },
  {
   "cell_type": "markdown",
   "id": "premier-youth",
   "metadata": {},
   "source": [
    "This result indicates that `bike_to_moline` is a function. You don't have to know what `__main__` means, but if you see something like this, it probably means that you named a function but didn't actually call it.\n",
    "So don't forget the parentheses."
   ]
  },
  {
   "cell_type": "markdown",
   "id": "brazilian-medicare",
   "metadata": {},
   "source": [
    "## Print Statements\n",
    "\n",
    "As you write more complicated programs, it is easy to lose track of what\n",
    "is going on. One of the most useful tools for debugging is the *print statement*, which displays text in the Jupyter notebook.\n",
    "\n",
    "Normally when Jupyter runs the code in a cell, it displays the value of\n",
    "the last line of code. For example, if you run:"
   ]
  },
  {
   "cell_type": "code",
   "execution_count": null,
   "id": "heavy-patrol",
   "metadata": {},
   "outputs": [],
   "source": [
    "bikeshare.augie\n",
    "bikeshare.moline"
   ]
  },
  {
   "cell_type": "markdown",
   "id": "ancient-projection",
   "metadata": {},
   "source": [
    "Jupyter runs both lines, but it only displays the value of the\n",
    "second. If you want to display more than one value, you can use\n",
    "print statements:"
   ]
  },
  {
   "cell_type": "code",
   "execution_count": null,
   "id": "french-preference",
   "metadata": {},
   "outputs": [],
   "source": [
    "print(bikeshare.augie)\n",
    "print(bikeshare.moline)"
   ]
  },
  {
   "cell_type": "markdown",
   "id": "original-hollywood",
   "metadata": {},
   "source": [
    "When you call the `print` function, you can put a variable in\n",
    "parentheses, as in the previous example, or you can provide a sequence\n",
    "of variables separated by commas, like this:"
   ]
  },
  {
   "cell_type": "code",
   "execution_count": null,
   "id": "alternative-keyboard",
   "metadata": {},
   "outputs": [],
   "source": [
    "print(\"There are\", bikeshare.augie,\"bikes at Augustana, and\", \n",
    "      bikeshare.moline, \"bikes in Moline.\")"
   ]
  },
  {
   "cell_type": "markdown",
   "id": "described-produce",
   "metadata": {},
   "source": [
    "Python looks up the values of the variables and displays them. Notice that when you put letters or numbers inside quotation marks, the letters/ numbers are not treated as variables or numerical values.  These quotation marked `objects` are called `strings`.\n",
    "\n",
    "Print statements are useful for debugging functions. For example, we can\n",
    "add a print statement to `move_bike`, like this:"
   ]
  },
  {
   "cell_type": "code",
   "execution_count": null,
   "id": "robust-holly",
   "metadata": {},
   "outputs": [],
   "source": [
    "def bike_to_moline():\n",
    "    print('Moving a bike to Moline')\n",
    "    bikeshare.augie -= 1\n",
    "    bikeshare.moline += 1"
   ]
  },
  {
   "cell_type": "markdown",
   "id": "vital-lender",
   "metadata": {},
   "source": [
    "Each time we call this version of the function, it displays a message,\n",
    "which can help us keep track of what the program is doing.\n",
    "The message in this example is a *string*, which is a sequence of\n",
    "letters and other symbols in quotes.\n",
    "\n",
    "Just like `bike_to_moline`, we can define a function that moves a\n",
    "bike from Moline to Augustana:"
   ]
  },
  {
   "cell_type": "code",
   "execution_count": null,
   "id": "fifteen-atmosphere",
   "metadata": {},
   "outputs": [],
   "source": [
    "def bike_to_augie():\n",
    "    print('Moving a bike to Augustana')\n",
    "    bikeshare.moline -= 1\n",
    "    bikeshare.augie += 1"
   ]
  },
  {
   "cell_type": "markdown",
   "id": "requested-glasgow",
   "metadata": {},
   "source": [
    "And call it like this:"
   ]
  },
  {
   "cell_type": "code",
   "execution_count": null,
   "id": "matched-narrow",
   "metadata": {},
   "outputs": [],
   "source": [
    "bike_to_augie()\n",
    "\n",
    "pd.DataFrame(bikeshare)"
   ]
  },
  {
   "cell_type": "markdown",
   "id": "sitting-semiconductor",
   "metadata": {},
   "source": [
    "One benefit of defining functions is that you avoid repeating chunks of\n",
    "code, which makes programs smaller. Another benefit is that the name you\n",
    "give the function documents what it does, which makes programs more\n",
    "readable."
   ]
  },
  {
   "cell_type": "markdown",
   "id": "enhanced-maintenance",
   "metadata": {},
   "source": [
    "## If Statements\n",
    "\n",
    "At this point we have functions that simulate moving bikes; now let's think about simulating customers. As a simple model of customer behavior, I will use a random number generator to determine when customers arrive at each station.\n",
    "\n",
    "The ModSim library provides a function called `flip` that generates random \"coin tosses\".\n",
    "When you call it, you provide a probability between 0 and 1, like this:"
   ]
  },
  {
   "cell_type": "code",
   "execution_count": null,
   "id": "illegal-metropolitan",
   "metadata": {},
   "outputs": [],
   "source": [
    "flip(0.7)"
   ]
  },
  {
   "cell_type": "markdown",
   "id": "appropriate-funds",
   "metadata": {},
   "source": [
    "The result is one of two values: `True` with probability 0.7 (in this example) or `False`\n",
    "with probability 0.3. If you run `flip` like this 100 times, you should\n",
    "get `True` about 70 times and `False` about 30 times. But the results\n",
    "are random, so they might differ from these expectations.\n",
    "\n",
    "`True` and `False` are special values defined by Python. \n",
    "They are called *boolean* values because they are\n",
    "related to Boolean algebra (<https://modsimpy.com/boolean>).\n",
    "\n",
    "Note that they are not strings. There is a difference between `True`, which is a boolean value, and `'True'`, which is a string.\n",
    "\n",
    "We can use boolean values to control the behavior of the program, using an *if statement*:"
   ]
  },
  {
   "cell_type": "code",
   "execution_count": null,
   "id": "excessive-murder",
   "metadata": {},
   "outputs": [],
   "source": [
    "if flip(0.5):\n",
    "    print('heads')"
   ]
  },
  {
   "cell_type": "markdown",
   "id": "seventh-profile",
   "metadata": {},
   "source": [
    "If the result from `flip` is `True`, the program displays the string\n",
    "`'heads'`. Otherwise it does nothing.\n",
    "\n",
    "The syntax for `if` statements is similar to the syntax for\n",
    "function definitions: the first line has to end with a colon, and the\n",
    "lines inside the `if` statement have to be indented.\n",
    "\n",
    "Optionally, you can add an *else clause* to indicate what should\n",
    "happen if the result is `False`:"
   ]
  },
  {
   "cell_type": "code",
   "execution_count": null,
   "id": "fundamental-nursing",
   "metadata": {},
   "outputs": [],
   "source": [
    "if flip(0.5):\n",
    "    print('heads')\n",
    "else:\n",
    "    print('tails')    "
   ]
  },
  {
   "cell_type": "markdown",
   "id": "recovered-chemical",
   "metadata": {},
   "source": [
    "If you run the previous cell a few times, it should print `heads` about half the time, and `tails` about half the time.\n",
    "\n",
    "Now we can use `flip` to simulate the arrival of customers who want to\n",
    "borrow a bike. Suppose students arrive at the augie station every two\n",
    "minutes on average.\n",
    "In that case, the chance of an arrival during any one-minute period is 50%, and we can simulate it like this:"
   ]
  },
  {
   "cell_type": "code",
   "execution_count": null,
   "id": "twenty-health",
   "metadata": {},
   "outputs": [],
   "source": [
    "if flip(0.5):\n",
    "    bike_to_moline()"
   ]
  },
  {
   "cell_type": "markdown",
   "id": "difficult-construction",
   "metadata": {},
   "source": [
    "If students arrive at the moline station every three minutes, on average,\n",
    "the chance of an arrival during any one-minute period is 33%, and we can\n",
    "simulate it like this:"
   ]
  },
  {
   "cell_type": "code",
   "execution_count": null,
   "id": "played-character",
   "metadata": {},
   "outputs": [],
   "source": [
    "if flip(0.33):\n",
    "    bike_to_augie()"
   ]
  },
  {
   "cell_type": "markdown",
   "id": "standard-party",
   "metadata": {},
   "source": [
    "We can combine these snippets into a function that simulates a *time step*, which is an interval of time, in this case one minute:"
   ]
  },
  {
   "cell_type": "code",
   "execution_count": null,
   "id": "ecological-colon",
   "metadata": {},
   "outputs": [],
   "source": [
    "# A more interesting change function\n",
    "def change_func():\n",
    "    if flip(0.5):\n",
    "        bike_to_moline()\n",
    "    \n",
    "    if flip(0.33):\n",
    "        bike_to_augie()"
   ]
  },
  {
   "cell_type": "markdown",
   "id": "amateur-exposure",
   "metadata": {},
   "source": [
    "Then we can simulate a time step like this:"
   ]
  },
  {
   "cell_type": "code",
   "execution_count": null,
   "id": "mediterranean-german",
   "metadata": {},
   "outputs": [],
   "source": [
    "change_func()\n",
    "\n",
    "pd.DataFrame(bikeshare)"
   ]
  },
  {
   "cell_type": "markdown",
   "id": "sought-mobile",
   "metadata": {},
   "source": [
    "Depending on the results from `flip`, this function might move a bike to augie, or to moline, or neither, or both.  Run change_func multiple times (by clicking 'shift-enter' in the box above) and note how the state of the system changes.\n",
    "\n",
    "`change_func` is our first fully-formed change function!  We can run this function *n* number of times, and it will simulate the changes in the state of the system over a period of *n* minutes."
   ]
  },
  {
   "cell_type": "markdown",
   "id": "organic-proportion",
   "metadata": {},
   "source": [
    "## Parameters\n",
    "\n",
    "The previous version of `change_func` is fine if the arrival probabilities\n",
    "never change, but in reality they vary over time.\n",
    "\n",
    "So instead of putting the constant values 0.5 and 0.33 in `step`, we can replace them with *parameters*.\n",
    "Parameters are variables whose values are set when a function is called.\n",
    "\n",
    "Here's a version of `change_func` that takes two parameters, `p1` and `p2`:"
   ]
  },
  {
   "cell_type": "code",
   "execution_count": null,
   "id": "hollywood-shopping",
   "metadata": {},
   "outputs": [],
   "source": [
    "def change_func(p1, p2):\n",
    "    if flip(p1):\n",
    "        bike_to_moline()\n",
    "    \n",
    "    if flip(p2):\n",
    "        bike_to_augie()"
   ]
  },
  {
   "cell_type": "markdown",
   "id": "encouraging-arkansas",
   "metadata": {},
   "source": [
    "The values of `p1` and `p2` are not set inside this function; instead,\n",
    "they are provided when the function is called, like this:"
   ]
  },
  {
   "cell_type": "code",
   "execution_count": null,
   "id": "buried-alert",
   "metadata": {},
   "outputs": [],
   "source": [
    "change_func(0.5, 0.33)"
   ]
  },
  {
   "cell_type": "markdown",
   "id": "aggregate-dynamics",
   "metadata": {},
   "source": [
    "The values you provide when you call the function are called\n",
    "*arguments*. The arguments, `0.5` and `0.33` in this example, get\n",
    "assigned to the parameters, `p1` and `p2`, in order. So running this\n",
    "function has the same effect as:"
   ]
  },
  {
   "cell_type": "code",
   "execution_count": null,
   "id": "recognized-denmark",
   "metadata": {},
   "outputs": [],
   "source": [
    "p1 = 0.5\n",
    "p2 = 0.33\n",
    "\n",
    "if flip(p1):\n",
    "    bike_to_moline()\n",
    "    \n",
    "if flip(p2):\n",
    "    bike_to_augie()"
   ]
  },
  {
   "cell_type": "markdown",
   "id": "raised-museum",
   "metadata": {},
   "source": [
    "The advantage of using parameters is that you can call the same function many times, providing different arguments each time.\n",
    "\n",
    "Adding parameters to a function is called *generalization*, because it makes the function more general; without parameters, the function always does the same thing; with parameters, it can do a range of things."
   ]
  },
  {
   "cell_type": "markdown",
   "id": "scenic-african",
   "metadata": {},
   "source": [
    "## For Loops\n",
    "\n",
    "At some point you will get sick of running cells over and over.\n",
    "Fortunately, there is an easy way to repeat a chunk of code, the *for loop*. Here's an example:"
   ]
  },
  {
   "cell_type": "code",
   "execution_count": null,
   "id": "polish-river",
   "metadata": {},
   "outputs": [],
   "source": [
    "for i in range(3):\n",
    "    print(i)\n",
    "    bike_to_moline()"
   ]
  },
  {
   "cell_type": "markdown",
   "id": "compatible-conspiracy",
   "metadata": {},
   "source": [
    "The syntax here should look familiar; the first line ends with a\n",
    "colon, and the lines inside the `for` loop are indented. The other\n",
    "elements of the loop are:\n",
    "\n",
    "-   The words `for` and `in` are special words we have to use in a for\n",
    "    loop.\n",
    "\n",
    "-   `range` is a Python function we use to control the number of times the loop runs.\n",
    "\n",
    "-   `i` is a *loop variable* that gets created when the for loop runs.\n",
    "\n",
    "When this loop runs, it runs the statements inside the loop three times.  The first time, the value of `i` is `0`; the second time, it is `1`; the third time, it is `2`.\n",
    "\n",
    "Each time through the loop, it prints the value of `i` and moves one bike to Moline."
   ]
  },
  {
   "cell_type": "markdown",
   "id": "breeding-groove",
   "metadata": {},
   "source": [
    "## Using a Series to record change\n",
    "\n",
    "When we run a simulation, we often want to save the results for later analysis. We can save those results in a `Series`.\n",
    "\n",
    "In this case, the labels are integers representing minutes; from now on, we'll call the collection of labels in a `Series` the `index`. The variables, or `values`, in this case are the number of bikes at *one* location.\n",
    "\n",
    "Since we have moved a number of bikes around, let's start again with a new state object.  When you run this cell, it overwrites any previously existing values for `bikeshare`."
   ]
  },
  {
   "cell_type": "code",
   "execution_count": null,
   "id": "every-consultation",
   "metadata": {},
   "outputs": [],
   "source": [
    "bikeshare = pd.Series(dict(augie=10,moline=2),name=\"Number of Bikes\")"
   ]
  },
  {
   "cell_type": "markdown",
   "id": "cross-sharp",
   "metadata": {},
   "source": [
    "We can create a new, empty `Series` to keep track of our results.:"
   ]
  },
  {
   "cell_type": "code",
   "execution_count": null,
   "id": "changing-planet",
   "metadata": {},
   "outputs": [],
   "source": [
    "results = pd.Series([],dtype=object)\n",
    "results.name='Number of Bikes at Augie'\n",
    "results.index.name = 'Time (m)'"
   ]
  },
  {
   "cell_type": "markdown",
   "id": "attractive-revision",
   "metadata": {},
   "source": [
    "The first line creates a `Series` with no values: the \"[ ]\" signifies there are no current values, but values might be added later. `dtype` tells it to expect any kind of object in the series.  \n",
    "\n",
    "The next two lines define the values' meaning, and define the meaning of the index: these do not affect the actual labels or values in the `Series`.\n",
    "\n",
    "Now we can add a quantity to our empty `Series` like this:"
   ]
  },
  {
   "cell_type": "code",
   "execution_count": null,
   "id": "aquatic-richardson",
   "metadata": {},
   "outputs": [],
   "source": [
    "results[0] = bikeshare.augie\n",
    "results[0]"
   ]
  },
  {
   "cell_type": "markdown",
   "id": "searching-funeral",
   "metadata": {},
   "source": [
    "The number in brackets is the *label* for the first entry: that is, it is the initial state.\n",
    "\n",
    "We can use a `Series` inside a `for` loop to store the results of the simulation:"
   ]
  },
  {
   "cell_type": "code",
   "execution_count": null,
   "id": "english-titanium",
   "metadata": {},
   "outputs": [],
   "source": [
    "for i in range(3):\n",
    "    print(i)\n",
    "    change_func(0.6, 0.6)\n",
    "    results[i+1] = bikeshare.augie\n",
    "    \n",
    "pd.DataFrame(results)"
   ]
  },
  {
   "cell_type": "markdown",
   "id": "prospective-joining",
   "metadata": {},
   "source": [
    "Each time through the loop, we print the value of `i` and call `step`, which updates `bikeshare`.\n",
    "Then we store the number of bikes at Augustana in `results`. \n",
    "We use the loop variable, `i`, to compute the time stamp, `i+1`.\n",
    "\n",
    "The first time through the loop, the value of `i` is `0`, so the time stamp is `1`.\n",
    "The last time, the value of `i` is `2`, so the time stamp is `3`.\n",
    "\n",
    "When the loop exits, `results` contains 4 time stamps, from 0 through\n",
    "3, and the number of bikes at augie at the end of each time step.  Check to see that the changes that are printed out match the changing number of bikes."
   ]
  },
  {
   "cell_type": "markdown",
   "id": "following-contrary",
   "metadata": {},
   "source": [
    "## Plotting\n",
    "\n",
    "`Series` provides a function called `plot` we can use to plot\n",
    "the results:"
   ]
  },
  {
   "cell_type": "code",
   "execution_count": null,
   "id": "saved-hands",
   "metadata": {},
   "outputs": [],
   "source": [
    "results.plot(xlabel=results.index.name, ylabel=results.name,\n",
    "            title='Augie-Moline Bikeshare',\n",
    "            legend=True);"
   ]
  },
  {
   "cell_type": "markdown",
   "id": "egyptian-korea",
   "metadata": {},
   "source": [
    "The result should be a plot with time on the $x$-axis and the number of bikes on the $y$-axis.\n",
    "Since we only ran three time steps, it might not be very interesting.\n",
    "\n",
    "Technical point: The function `plot`, in addition to making the plot, *returns* the axes of the plot.  The semicolon (;) tells Jupyter not to print this returned value.  Just for fun, remove the semicolon and run the cell again, and see what happens."
   ]
  },
  {
   "cell_type": "markdown",
   "id": "limited-interstate",
   "metadata": {},
   "source": [
    "## Summary\n",
    "\n",
    "This chapter introduces the tools we need to run simulations, record the results, and plot them.\n",
    "\n",
    "We used a `Series` object to represent the state of the system.\n",
    "We used the `flip` function and an `if` statement to simulate a single time step.\n",
    "We used a `for` loop to simulate a series of steps, and another `Series` to record the results.\n",
    "Finally, we used `plot` to plot the results.  That's a lot of stuff!  \n",
    "\n",
    "In the next chapter, we'll start to work on the simulation in order to make it a little more realistic."
   ]
  },
  {
   "cell_type": "markdown",
   "id": "fallen-surprise",
   "metadata": {},
   "source": [
    "## Exercises\n",
    "\n",
    "Before you go on, you might want to work on the following exercises."
   ]
  },
  {
   "cell_type": "markdown",
   "id": "capital-internship",
   "metadata": {},
   "source": [
    "### Exercise 1\n",
    "\n",
    "What happens if you spell the name of a state variable wrong?  Edit the following cell, change the spelling of `moline`, and run it.\n",
    "\n",
    "The error message uses the word *attribute*, which is another name for what we are calling a state variable. "
   ]
  },
  {
   "cell_type": "code",
   "execution_count": null,
   "id": "helpful-zambia",
   "metadata": {},
   "outputs": [],
   "source": [
    "bikeshare = pd.Series(dict(augie=10,moline=2),name=\"Number of Bikes\")\n",
    "\n",
    "bikeshare.moline"
   ]
  },
  {
   "cell_type": "markdown",
   "id": "dirty-multiple",
   "metadata": {},
   "source": [
    "### Exercise 2\n",
    "\n",
    "Make a state object, but this time add a third state variable in addition to `augie` and `moline`.  Call the third variable `rock_island`, with initial value 0, and display the state of the system."
   ]
  },
  {
   "cell_type": "code",
   "execution_count": null,
   "id": "beneficial-mainland",
   "metadata": {},
   "outputs": [],
   "source": [
    "# Solution goes here\n",
    "bikeshare = pd.Series(dict(augie=10,moline=2,rock_island=0),name=\"Number of Bikes\")\n",
    "pd.DataFrame(bikeshare)"
   ]
  },
  {
   "cell_type": "markdown",
   "id": "christian-madrid",
   "metadata": {},
   "source": [
    "### Exercise 3\n",
    "\n",
    "Wrap the code in the chapter in a function named `run_simulation` that takes three parameters, named `p1`, `p2`, and `num_steps`.\n",
    "\n",
    "It should:\n",
    "\n",
    "1. Create a `Series` object to hold the results.\n",
    "\n",
    "2. Use a for loop to run `change_func` the number of times specified by `num_steps`, passing along the specified values of `p1` and `p2`.\n",
    "\n",
    "3. After each step, it should save the number of bikes at augie in the `Series`.\n",
    "\n",
    "4. After the for loop, it should plot the results.\n",
    "\n",
    "To test your function:\n",
    "\n",
    "1. Create a state `Series` with the initial state of the system.\n",
    "\n",
    "2. Call `run_simulation` with parameters `p1=0.3`, `p2=0.2`, and `num_steps=60`.\n",
    "\n",
    "This is challenging, but most of this code is in the chapter above.  Take advantage of cut-and-paste!"
   ]
  },
  {
   "cell_type": "code",
   "execution_count": null,
   "id": "former-frost",
   "metadata": {},
   "outputs": [],
   "source": [
    "# Define the function\n",
    "def run_simulation(p1,p2,num_steps):\n",
    "    results = pd.Series([],dtype=object)\n",
    "    results.name = 'Number of Bikes at Augie'\n",
    "    results.index.name = 'Time Step'\n",
    "    results[0] = bikeshare.augie\n",
    "    \n",
    "    for i in range(num_steps):\n",
    "        change_func(p1,p2)\n",
    "        results[i+1] = bikeshare.augie\n",
    "    results.plot(xlabel=results.index.name, ylabel=results.name,\n",
    "            title='Augie-Moline Bikeshare',\n",
    "            legend=True);\n",
    "        "
   ]
  },
  {
   "cell_type": "code",
   "execution_count": null,
   "id": "spare-honduras",
   "metadata": {},
   "outputs": [],
   "source": [
    "# Test the function with the given values\n",
    "bikeshare = pd.Series(dict(augie=10,moline=2),name=\"Number of Bikes\")\n",
    "run_simulation(0.3,0.2,60)"
   ]
  },
  {
   "cell_type": "markdown",
   "id": "3268ab5f",
   "metadata": {},
   "source": [
    "### Exercise 4\n",
    "\n",
    "In the next chapter, we'll look for ways that we can improve this model.  In preparation, take a moment and try to list 3 aspects of a realistic bikeshare system that this model does not take into account.   Choose one of the aspects that you think might make the biggest difference, and suggest in a couple sentences how you might incorporate that aspect into the model (not in terms of code--just in terms of process).  \n",
    "\n",
    "Put your answer in a Markdown cell below this one. \n"
   ]
  },
  {
   "cell_type": "markdown",
   "id": "instructional-finnish",
   "metadata": {},
   "source": [
    "## Under the Hood\n",
    "\n",
    "This section contains additional information about the functions we've used and pointers to their documentation.\n",
    "\n",
    "You don't need to know anything in this section, so if you are already feeling overwhelmed, you might want to skip it.\n",
    "But if you are curious, read on."
   ]
  },
  {
   "cell_type": "markdown",
   "id": "quick-citizen",
   "metadata": {},
   "source": [
    "### Series objects\n",
    "\n",
    "The `Series` object defined by the Pandas library.  The documentation is at <https://pandas.pydata.org/pandas-docs/stable/reference/api/pandas.Series.html>.\n",
    "\n",
    "`Series` objects provide their own `plot` function, which is why we call it like this:\n",
    "\n",
    "```\n",
    "results.plot()\n",
    "```\n",
    "\n",
    "Instead of like this:\n",
    "\n",
    "```\n",
    "plot(results)\n",
    "```\n",
    "\n",
    "So what makes a `Series` a `Series`?  It is essentially a two-columned table.  The first column is the `index`, and the second column is a variable.  So in the `results` series that we used, the index was the number of minutes that have passed.  In `bikeshare` series, the index is the names of the state variables.  It's easier to understand this by seeing it, so run the following two cells:"
   ]
  },
  {
   "cell_type": "code",
   "execution_count": null,
   "id": "9c23eea1",
   "metadata": {},
   "outputs": [],
   "source": [
    "# Display a bikeshare, which is a state object that is a Series\n",
    "pd.DataFrame(bikeshare)"
   ]
  },
  {
   "cell_type": "code",
   "execution_count": null,
   "id": "aded56a5",
   "metadata": {},
   "outputs": [],
   "source": [
    "# Display a results, which is also a Series\n",
    "pd.DataFrame(results)"
   ]
  },
  {
   "cell_type": "markdown",
   "id": "1f627eec",
   "metadata": {},
   "source": [
    "Both Series are two-column tables.  The variable has different names in each (`Number of Bikes` vs `Number of Bikes at Augie`), and the index of labels is different (variable names vs. `time`).  But the format of both tables is the same. \n",
    "\n",
    "We'll use `Series` (and its big brother, `DataFrame`) often in this course."
   ]
  },
  {
   "cell_type": "markdown",
   "id": "digital-stretch",
   "metadata": {},
   "source": [
    "### Flip\n",
    "\n",
    "The `flip` function uses NumPy's `random` function to generate a random number between 0 and 1, then returns `True` or `False` with the given probability.\n",
    "\n",
    "You can get the source code for `flip` (or any other function) by running the following cell.  You can also open the file called `modsim.py` in the `ModSimPy_Functions` folder to see any of the `modsimpy` functions."
   ]
  },
  {
   "cell_type": "code",
   "execution_count": null,
   "id": "agricultural-midwest",
   "metadata": {},
   "outputs": [],
   "source": [
    "source_code(flip)"
   ]
  }
 ],
 "metadata": {
  "celltoolbar": "Tags",
  "kernelspec": {
   "display_name": "Python 3",
   "language": "python",
   "name": "python3"
  },
  "language_info": {
   "codemirror_mode": {
    "name": "ipython",
    "version": 3
   },
   "file_extension": ".py",
   "mimetype": "text/x-python",
   "name": "python",
   "nbconvert_exporter": "python",
   "pygments_lexer": "ipython3",
   "version": "3.8.8"
  }
 },
 "nbformat": 4,
 "nbformat_minor": 5
}
