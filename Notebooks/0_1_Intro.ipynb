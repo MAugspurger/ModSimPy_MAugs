{
 "cells": [
  {
   "cell_type": "markdown",
   "id": "affecting-malta",
   "metadata": {},
   "source": [
    "# 0.1 Intro to Modeling"
   ]
  },
  {
   "cell_type": "markdown",
   "id": "pressed-palestinian",
   "metadata": {
    "tags": []
   },
   "source": [
    "*Modeling and Simulation in Python*\n",
    "\n",
    "Copyright 2021 Allen Downey, (License: [Creative Commons Attribution-NonCommercial-ShareAlike 4.0 International](https://creativecommons.org/licenses/by-nc-sa/4.0/))\n",
    "\n",
    "Revised, Mike Augspurger (2021-present)"
   ]
  },
  {
   "cell_type": "markdown",
   "id": "confirmed-budapest",
   "metadata": {
    "tags": []
   },
   "source": [
    "## Jupyter\n",
    "\n",
    "Welcome to *Modeling and Simulation for Engineers and Scientists*, and welcome to Jupyter.\n",
    "\n",
    "This is a Jupyter notebook, which is an *integrated development environment* (IDE): all this means is that it provides a convenient and useful environment in which you can write and run Python code.\n",
    "\n",
    "Each notebook is divided into cells.  Each cell contains either text (like this cell) or Python code."
   ]
  },
  {
   "cell_type": "markdown",
   "id": "danish-scope",
   "metadata": {
    "tags": []
   },
   "source": [
    "To run a cell, hold down SHIFT and press ENTER.  \n",
    "\n",
    "* If you run a text cell, Jupyter formats the text and displays the result.\n",
    "\n",
    "* If you run a code cell, Jupyter runs the Python code in the cell and displays the result, if any."
   ]
  },
  {
   "cell_type": "markdown",
   "id": "environmental-wallet",
   "metadata": {
    "tags": []
   },
   "source": [
    "You can add and remove cells from a notebook using the buttons in the toolbar and the items in the menu, both of which you should see at the top of this notebook.\n",
    "\n",
    "Try the following exercises:\n",
    "\n",
    "1.  From the Insert menu select \"Insert cell below\" to add a cell below this one.  By default, you get a code cell, as you can see in the pulldown menu that says \"Code\".  You can also use the `+` in the tool bar to add a cell.\n",
    "\n",
    "\n",
    "2.  In the new cell, add a print statement like `print('Hello')`, and run it by clicking `Shift-Enter`.\n",
    "\n",
    "\n",
    "3.  Add another cell, select the new cell, and then click on the pulldown menu that says \"Code\" and select \"Markdown\".  This makes the new cell a text cell.\n",
    "\n",
    "\n",
    "4.  In the new cell, type `print('Hello')` again, and then run it.\n",
    "\n",
    "\n",
    "5.  Use the arrow buttons in the toolbar to move the cells up and down.\n",
    "\n",
    "\n",
    "6.  Use the cut, copy, and paste buttons to delete, add, and move the cells.\n",
    "\n",
    "\n",
    "7.  You may have noticed that sometimes a cell is outline in blue, and sometimes in green.  Green is the edit mode: if you click in the cell, a cursor should appear, and the cell should turn green.  Now click to the left of the cell, outside of the text box.  Now the cell is outlined in blue, which indicates the command mode is active.  Make a new cell, and put it in command mode, and then click `d` twice quickly.  That is the keyboard shortcut for deleting a cell.  To see all the keyboard shortcuts, put a cell in command mode, and click `p`.\n",
    "\n",
    "\n",
    "8.  As you make changes, Jupyter saves your notebook automatically, but if you want to make sure, you can press the save button, which looks like a floppy disk from the 1990s.\n",
    "\n",
    "\n",
    "9.  Finally, when you are done with a notebook, select \"Close and Halt\" from the File menu."
   ]
  },
  {
   "cell_type": "markdown",
   "id": "successful-kentucky",
   "metadata": {
    "tags": []
   },
   "source": [
    "When you change the contents of a cell, you have to run it again for those changes to have an effect.  If you forget to do that, the results can be confusing, because the code you are looking at is not the code you ran.\n",
    "\n",
    "If you ever lose track of which cells have run, and in what order, you should go to the Kernel menu and select \"Restart & Run All\".  Restarting the kernel means that all of your variables get deleted, and running all the cells means all of your code will run again, in the right order.\n",
    "\n",
    "Select \"Restart & Run All\" now and confirm that it runs all of the cells."
   ]
  },
  {
   "cell_type": "markdown",
   "id": "hourly-financing",
   "metadata": {},
   "source": [
    "## The Modeling Framework\n",
    "\n",
    "This book is about modeling and simulating physical systems. The\n",
    "following diagram shows what I mean by *modeling*:\n",
    "\n",
    "<img src=\"../Images_and_Data/Images/modeling_framework_ch1.PNG\" style=\"width: 400px;\"/>"
   ]
  },
  {
   "cell_type": "markdown",
   "id": "structured-receiver",
   "metadata": {},
   "source": [
    "Starting in the lower left, the *system* is something in the real\n",
    "world we are interested in. \n",
    "To model the system, we have to decide which elements of the real world to include and which we can leave out.\n",
    "This process is called *abstraction*.\n",
    "\n",
    "The result of abstraction is a *model*, which is a description of the system that includes only the features we think are essential. A model\n",
    "can be represented in the form of diagrams and equations, which can be\n",
    "used for mathematical *analysis*. It can also be implemented in the\n",
    "form of a computer program, which can run *simulations*.\n",
    "\n",
    "The result of analysis and simulation might be a *prediction* about\n",
    "what the system will do, an *explanation* of why it behaves the way it\n",
    "does, or a *design* intended to achieve a purpose.\n",
    "\n",
    "We can *validate* predictions and test designs by taking\n",
    "*measurements* from the real world and comparing the *data* we get\n",
    "with the results from analysis and simulation."
   ]
  },
  {
   "cell_type": "markdown",
   "id": "center-accommodation",
   "metadata": {},
   "source": [
    "For any physical system, there are many possible models, each one\n",
    "including and excluding different features, or including different\n",
    "levels of detail. The goal of the modeling process is to find the model\n",
    "best suited to its purpose (prediction, explanation, or design).\n",
    "\n",
    "Sometimes the best model is the most detailed. If we include more\n",
    "features, the model is more realistic, and we expect its predictions to\n",
    "be more accurate.\n",
    "But often a simpler model is better. If we include only the essential\n",
    "features and leave out the rest, we get models that are easier to work\n",
    "with, and the explanations they provide can be clearer and more\n",
    "compelling."
   ]
  },
  {
   "cell_type": "markdown",
   "id": "confirmed-highlight",
   "metadata": {},
   "source": [
    "As an example, suppose someone asks you why the orbit of the Earth is\n",
    "elliptical. If you model the Earth and Sun as point masses (ignoring\n",
    "their actual size), compute the gravitational force between them using\n",
    "Newton's law of universal gravitation, and compute the resulting orbit\n",
    "using Newton's laws of motion, you can show that the result is an\n",
    "ellipse.\n",
    "Of course, the actual orbit of Earth is not a perfect ellipse, because\n",
    "of the gravitational forces of the Moon, Jupiter, and other objects in\n",
    "the solar system, and because Newton's laws of motion are only\n",
    "approximately true (they don't take into account relativistic effects).\n",
    "But adding these features to the model would not improve the\n",
    "explanation; more detail would only be a distraction from the\n",
    "fundamental cause. However, if the goal is to predict the position of\n",
    "the Earth with great precision, including more details might be\n",
    "necessary."
   ]
  },
  {
   "cell_type": "markdown",
   "id": "stretch-geneva",
   "metadata": {},
   "source": [
    "Choosing the best model depends on what the model is for. It is usually\n",
    "a good idea to start with a simple model, even if it is likely to be too\n",
    "simple, and test whether it is good enough for its purpose. Then you can\n",
    "add features gradually, starting with the ones you expect to be most\n",
    "essential. This process is called *iterative modeling*.\n",
    "\n",
    "Comparing results of successive models provides a form of *internal\n",
    "validation*, so you can catch conceptual, mathematical, and software\n",
    "errors. And by adding and removing features, you can tell which ones\n",
    "have the biggest effect on the results, and which can be ignored.\n",
    "\n",
    "Comparing results to data from the real world provides *external\n",
    "validation*, which is generally the strongest test.\n",
    "\n",
    "The modeling framework is pretty abstract; the following example might make it clearer."
   ]
  },
  {
   "cell_type": "markdown",
   "id": "continuing-democrat",
   "metadata": {},
   "source": [
    "## Summary\n",
    "\n",
    "This chapter introduces a modeling framework that consists of three steps:\n",
    "\n",
    "* Abstraction is the process of defining a model by deciding which elements of the real world to include and which can be left out.\n",
    "\n",
    "* Analysis and simulation are ways to use a model to generate predictions, explain why things behave as they do, and design things that behave as we want.\n",
    "\n",
    "* Validation is how we test whether the model is right, often by comparing predictions with measurements from the real world."
   ]
  },
  {
   "cell_type": "markdown",
   "id": "thousand-equation",
   "metadata": {},
   "source": [
    "### Exercise 1\n",
    "\n",
    "Let's apply the vocabulary above to a specific case.  Let's say we wanted to know how long it would take for a penny to fall from the roof of the Empire State building.\n",
    "\n",
    "First, let's consider the system.  In the Markdown cell below, brainstorm a list of real world elements would affect our answer.  What would determine how long it would take the penny to fall?  I thought of 11 factors to consider: try to come up with at least 5."
   ]
  },
  {
   "cell_type": "markdown",
   "id": "ba3c3c05",
   "metadata": {},
   "source": [
    "#### List your answers to exercise 1 here\n",
    "\n",
    "1. magnitude of gravitational force\n",
    "2. density of the air\n",
    "3. orientation of the penny\n",
    "4. wind in the vertical and horizontal direction\n",
    "5. shininess/ smoothness of the penny\n",
    "6. levelness of the ground (are some landing spots higher?)\n",
    "7. height of the person dropping the penny\n",
    "8. moisture in the air\n",
    "9. dirt/gunk on penny\n",
    "10. variation in gravity with height\n",
    "11. contact with other flying objects or sides of buildings"
   ]
  },
  {
   "cell_type": "markdown",
   "id": "7799d539",
   "metadata": {},
   "source": [
    "### Exercise 2\n",
    "\n",
    "Consider your list above, and think about *abstracting* a model.  Create a new markdown cell below, and put each factor into one of the following 3 categories: 1) absolutely essential to consider for any model  2) Could be important if we wanted a very accurate answer  3) Too much trouble or too insignificant to add to most models.\n",
    "\n",
    "Conclude with a couple sentences explaining why you made the decisions you did."
   ]
  },
  {
   "cell_type": "markdown",
   "id": "9f2aec2d",
   "metadata": {},
   "source": [
    "### Exercise 3\n",
    "\n",
    "Finally, let's say you built your model for a penny falling off a building, and created a simulation that gave you the time it took for a penny to fall from the Empire State building.  \n",
    "\n",
    "In a paragraph (written in a markdown cell below this one), explain how you would validate your model.  How could you obtain internal validation?  External validation?  The obvious answer is \"I'd drop a penny off the building and see how long it took to land\": but what are the limitations and problems with this answer? (beyond, of course, \"They'd throw me in the pokey if I did that\")."
   ]
  },
  {
   "cell_type": "code",
   "execution_count": null,
   "id": "995b179a",
   "metadata": {},
   "outputs": [],
   "source": []
  }
 ],
 "metadata": {
  "celltoolbar": "Tags",
  "kernelspec": {
   "display_name": "Python 3",
   "language": "python",
   "name": "python3"
  },
  "language_info": {
   "codemirror_mode": {
    "name": "ipython",
    "version": 3
   },
   "file_extension": ".py",
   "mimetype": "text/x-python",
   "name": "python",
   "nbconvert_exporter": "python",
   "pygments_lexer": "ipython3",
   "version": "3.8.8"
  }
 },
 "nbformat": 4,
 "nbformat_minor": 5
}
