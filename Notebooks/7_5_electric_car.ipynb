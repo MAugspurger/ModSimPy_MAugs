{
 "cells": [
  {
   "cell_type": "markdown",
   "metadata": {},
   "source": [
    "# Electric Car\n",
    "\n",
    "Copyright 2017 Allen Downey, (License: [Creative Commons Attribution-NonCommercial-ShareAlike 4.0 International](https://creativecommons.org/licenses/by-nc-sa/4.0/))\n",
    "\n",
    "Revised, Mike Augspurger (2021-present)\n"
   ]
  },
  {
   "cell_type": "code",
   "execution_count": 1,
   "metadata": {},
   "outputs": [],
   "source": [
    "# import functions from modsim\n",
    "import sys\n",
    "sys.path.append('..\\\\..\\\\ModSimPy_Directory')\n",
    "from ModSimPy_Functions.modsim import *\n",
    "\n",
    "import pandas as pd"
   ]
  },
  {
   "cell_type": "markdown",
   "metadata": {},
   "source": [
    "### Electric car"
   ]
  },
  {
   "cell_type": "markdown",
   "metadata": {},
   "source": [
    "The goal of this case study is to use simulation to guide the design of a car intended to accelerate from standing to 100 kph as quickly as possible, under the constraints of the [Formula SAE Electric](https://www.sae.org/attend/student-events/formula-sae-electric).  The [world record for this event](https://www.youtube.com/watch?annotation_id=annotation_2297602723&feature=iv&src_vid=I-NCH8ct24U&v=n2XiCYA3C9s), using a car that meets the competition requirements, is 1.513 seconds.\n",
    "\n",
    "We'll start with a simple model that takes into account the characteristics of the motor and vehicle:\n",
    "\n",
    "* The motor is an [Emrax 228 high voltage axial flux synchronous permanent magnet motor](http://emrax.com/products/emrax-228/); according to the [data sheet](http://emrax.com/wp-content/uploads/2017/01/emrax_228_technical_data_4.5.pdf), its maximum torque is 240 Nm, at 0 rpm.  But maximum torque decreases with motor speed; at 5000 rpm, maximum torque is 216 Nm.\n",
    "\n",
    "* The motor is connected to the drive axle with a chain drive with speed ratio 13:60 or 1:4.6; that is, the axle rotates once for each 4.6 rotations of the motor.\n",
    "\n",
    "* The radius of the tires is 0.26 meters.\n",
    "\n",
    "* The weight of the vehicle, including driver, is 300 kg.\n",
    "\n",
    "To start, we will assume no slipping between the tires and the road surface, no air resistance, and no rolling resistance.  Then we will relax these assumptions one at a time.\n",
    "\n",
    "* First we'll add drag, assuming that the frontal area of the vehicle is 0.6 square meters, with coefficient of drag 0.6.\n",
    "\n",
    "* Next we'll add rolling resistance, assuming a coefficient of 0.2.\n",
    "\n",
    "* Finally we'll compute the peak acceleration to see if the \"no slip\" assumption is credible.\n",
    "\n",
    "We'll use this model to estimate the potential benefit of possible design improvements, including decreasing drag and rolling resistance, or increasing the speed ratio.\n",
    "\n",
    "We'll start by creating a Params object in base metric units:"
   ]
  },
  {
   "cell_type": "code",
   "execution_count": 39,
   "metadata": {},
   "outputs": [],
   "source": [
    "params = dict(r_wheel=0.26,\n",
    "                speed_ratio=13/60,\n",
    "                C_rr=0.2,\n",
    "                C_d=0.5,\n",
    "                area=0.6,\n",
    "                rho=1.2,\n",
    "                mass=300)"
   ]
  },
  {
   "cell_type": "markdown",
   "metadata": {},
   "source": [
    "`make_system` creates the initial state, `init`, and constructs an `interp1d` object that represents torque as a function of motor speed.  `interpolate_torque` is an object, but it is a function: when given a value in rpms, it will return a value for the torque at that rpm value.  The `extrapolate` option means that even if it is given an rpm value outside the data range (above 5000 rpm, for instance), it will still provide a result."
   ]
  },
  {
   "cell_type": "code",
   "execution_count": 40,
   "metadata": {},
   "outputs": [],
   "source": [
    "from scipy.interpolate import interp1d\n",
    "\n",
    "def make_system(params):\n",
    "    \"\"\"Make a system object.\n",
    "    \n",
    "    params: Params object\n",
    "    \n",
    "    returns: System object\n",
    "    \"\"\"\n",
    "    \n",
    "    r_wheel, speed_ratio, C_rr, C_d, area, rho, mass = params.values()\n",
    "    \n",
    "    init = pd.Series(dict(x=0, v=0))\n",
    "    \n",
    "    rpms = [0, 2000, 5000]\n",
    "    torques = [240, 240, 216]\n",
    "    interpolate_torque = interp1d(rpms,torques,fill_value=\"extrapolate\")\n",
    "    \n",
    "    return dict(r_wheel=r_wheel, speed_ratio=speed_ratio,C_rr=C_rr,\n",
    "                C_d=C_d, area=area, rho=rho, mass=mass, init=init,\n",
    "                  interpolate_torque=interpolate_torque,\n",
    "                  t_end=3)"
   ]
  },
  {
   "cell_type": "markdown",
   "metadata": {},
   "source": [
    "Testing `make_system`"
   ]
  },
  {
   "cell_type": "code",
   "execution_count": 41,
   "metadata": {},
   "outputs": [],
   "source": [
    "system = make_system(params)"
   ]
  },
  {
   "cell_type": "code",
   "execution_count": 42,
   "metadata": {},
   "outputs": [
    {
     "data": {
      "text/plain": [
       "x    0\n",
       "v    0\n",
       "dtype: int64"
      ]
     },
     "execution_count": 42,
     "metadata": {},
     "output_type": "execute_result"
    }
   ],
   "source": [
    "system['init']"
   ]
  },
  {
   "cell_type": "markdown",
   "metadata": {},
   "source": [
    "### Torque and speed\n",
    "\n",
    "The relationship between torque and motor speed is taken from the [Emrax 228 data sheet](http://emrax.com/wp-content/uploads/2017/01/emrax_228_technical_data_4.5.pdf).  The following functions reproduce the red dotted line that represents peak torque, which can only be sustained for a few seconds before the motor overheats."
   ]
  },
  {
   "cell_type": "code",
   "execution_count": 43,
   "metadata": {},
   "outputs": [],
   "source": [
    "def compute_torque(omega, system):\n",
    "    \"\"\"Maximum peak torque as a function of motor speed.\n",
    "    \n",
    "    omega: motor speed in radian/s\n",
    "    system: System object\n",
    "    \n",
    "    returns: torque in Nm\n",
    "    \"\"\"\n",
    "    factor = 60/(2 * 3.1415)\n",
    "    x = omega * factor\n",
    "    interp_torque = system['interpolate_torque']\n",
    "    return interp_torque(x)"
   ]
  },
  {
   "cell_type": "code",
   "execution_count": 44,
   "metadata": {},
   "outputs": [
    {
     "data": {
      "text/plain": [
       "array(240.)"
      ]
     },
     "execution_count": 44,
     "metadata": {},
     "output_type": "execute_result"
    }
   ],
   "source": [
    "compute_torque(0, system)"
   ]
  },
  {
   "cell_type": "code",
   "execution_count": 45,
   "metadata": {},
   "outputs": [
    {
     "data": {
      "text/plain": [
       "array(216.)"
      ]
     },
     "execution_count": 45,
     "metadata": {},
     "output_type": "execute_result"
    }
   ],
   "source": [
    "# To use compute torque, we need to convert rpms to radian/s\n",
    "factor = 60/(2 * 3.1415)\n",
    "omega = 5000/factor\n",
    "\n",
    "compute_torque(omega, system)"
   ]
  },
  {
   "cell_type": "markdown",
   "metadata": {},
   "source": [
    "Plot the whole curve."
   ]
  },
  {
   "cell_type": "code",
   "execution_count": 46,
   "metadata": {},
   "outputs": [
    {
     "data": {
      "image/png": "[encoded data removed]",
      "text/plain": [
       "<Figure size 432x288 with 1 Axes>"
      ]
     },
     "metadata": {
      "needs_background": "light"
     },
     "output_type": "display_data"
    }
   ],
   "source": [
    "from matplotlib.pyplot import plot\n",
    "\n",
    "xs = linspace(0, 525, 21)      # in radian/s\n",
    "taus = [compute_torque(x, system) for x in xs]\n",
    "torque_vs_rpms = pd.Series(data=taus,index=xs,dtype=np.float64)\n",
    "torque_vs_rpms.plot(xlabel='Motor speed (rpm)',\n",
    "         ylabel='Available torque (N m)');\n"
   ]
  },
  {
   "cell_type": "markdown",
   "metadata": {},
   "source": [
    "### Simulation\n",
    "\n",
    "Here's the slope function that computes the maximum possible acceleration of the car as a function of it current speed."
   ]
  },
  {
   "cell_type": "code",
   "execution_count": 47,
   "metadata": {},
   "outputs": [],
   "source": [
    "def slope_func(t,state,system):\n",
    "    \"\"\"Computes the derivatives of the state variables.\n",
    "\n",
    "    t: time\n",
    "    state: State object\n",
    "    system: System object \n",
    "    \n",
    "    returns: sequence of derivatives\n",
    "    \"\"\"\n",
    "    x, v = state\n",
    "    r_wheel, speed_ratio, mass = system['r_wheel'], system['speed_ratio'], system['mass']\n",
    "    \n",
    "    # use velocity, v, to compute angular velocity of the wheel\n",
    "    omega2 = v / r_wheel\n",
    "    \n",
    "    # use the speed ratio to compute motor speed\n",
    "    omega1 = omega2 / speed_ratio\n",
    "    \n",
    "    # look up motor speed to get maximum torque at the motor\n",
    "    tau1 = compute_torque(omega1, system)\n",
    "    \n",
    "    # compute the corresponding torque at the axle\n",
    "    tau2 = tau1 / speed_ratio\n",
    "    \n",
    "    # compute the force of the wheel on the ground\n",
    "    F = tau2 / r_wheel\n",
    "    \n",
    "    # compute acceleration\n",
    "    a = F/mass\n",
    "\n",
    "    return v, a      "
   ]
  },
  {
   "cell_type": "markdown",
   "metadata": {},
   "source": [
    "Testing `slope_func` at linear velocity 10 m/s."
   ]
  },
  {
   "cell_type": "code",
   "execution_count": 48,
   "metadata": {},
   "outputs": [],
   "source": [
    "test_state = pd.Series(dict(x=0, v=10))"
   ]
  },
  {
   "cell_type": "code",
   "execution_count": 49,
   "metadata": {},
   "outputs": [
    {
     "data": {
      "text/plain": [
       "(10, 14.201183431952662)"
      ]
     },
     "execution_count": 49,
     "metadata": {},
     "output_type": "execute_result"
    }
   ],
   "source": [
    "slope_func(0,test_state, system)"
   ]
  },
  {
   "cell_type": "markdown",
   "metadata": {},
   "source": [
    "Now we can run the simulation."
   ]
  },
  {
   "cell_type": "code",
   "execution_count": 50,
   "metadata": {},
   "outputs": [
    {
     "data": {
      "text/plain": [
       "  message: 'The solver successfully reached the end of the integration interval.'\n",
       "     nfev: 44\n",
       "     njev: 0\n",
       "      nlu: 0\n",
       "      sol: <scipy.integrate._ivp.common.OdeSolution object at 0x000001D2C0905550>\n",
       "   status: 0\n",
       "  success: True\n",
       "        t: array([0.00000000e+00, 1.00000000e-04, 1.10000000e-03, 1.11000000e-02,\n",
       "       1.11100000e-01, 1.11110000e+00, 2.61558556e+00, 3.00000000e+00])\n",
       " t_events: None\n",
       "        y: array([[0.00000000e+00, 7.10059172e-08, 8.59171598e-06, 8.74863905e-04,\n",
       "        8.76440947e-02, 8.76105280e+00, 4.75420464e+01, 6.20571626e+01],\n",
       "       [0.00000000e+00, 1.42011834e-03, 1.56213018e-02, 1.57633136e-01,\n",
       "        1.57775148e+00, 1.57400714e+01, 3.54179021e+01, 4.00762083e+01]])\n",
       " y_events: None"
      ]
     },
     "execution_count": 50,
     "metadata": {},
     "output_type": "execute_result"
    }
   ],
   "source": [
    "results, details = run_solve_ivp(system, slope_func)\n",
    "details"
   ]
  },
  {
   "cell_type": "markdown",
   "metadata": {},
   "source": [
    "And look at the results."
   ]
  },
  {
   "cell_type": "code",
   "execution_count": 51,
   "metadata": {
    "scrolled": true
   },
   "outputs": [
    {
     "data": {
      "text/html": [
       "<div>\n",
       "<style scoped>\n",
       "    .dataframe tbody tr th:only-of-type {\n",
       "        vertical-align: middle;\n",
       "    }\n",
       "\n",
       "    .dataframe tbody tr th {\n",
       "        vertical-align: top;\n",
       "    }\n",
       "\n",
       "    .dataframe thead th {\n",
       "        text-align: right;\n",
       "    }\n",
       "</style>\n",
       "<table border=\"1\" class=\"dataframe\">\n",
       "  <thead>\n",
       "    <tr style=\"text-align: right;\">\n",
       "      <th></th>\n",
       "      <th>x</th>\n",
       "      <th>v</th>\n",
       "    </tr>\n",
       "  </thead>\n",
       "  <tbody>\n",
       "    <tr>\n",
       "      <th>2.88</th>\n",
       "      <td>57.334204</td>\n",
       "      <td>38.637454</td>\n",
       "    </tr>\n",
       "    <tr>\n",
       "      <th>2.91</th>\n",
       "      <td>58.498745</td>\n",
       "      <td>38.998443</td>\n",
       "    </tr>\n",
       "    <tr>\n",
       "      <th>2.94</th>\n",
       "      <td>59.674102</td>\n",
       "      <td>39.358563</td>\n",
       "    </tr>\n",
       "    <tr>\n",
       "      <th>2.97</th>\n",
       "      <td>60.860250</td>\n",
       "      <td>39.717818</td>\n",
       "    </tr>\n",
       "    <tr>\n",
       "      <th>3.00</th>\n",
       "      <td>62.057163</td>\n",
       "      <td>40.076208</td>\n",
       "    </tr>\n",
       "  </tbody>\n",
       "</table>\n",
       "</div>"
      ],
      "text/plain": [
       "              x          v\n",
       "2.88  57.334204  38.637454\n",
       "2.91  58.498745  38.998443\n",
       "2.94  59.674102  39.358563\n",
       "2.97  60.860250  39.717818\n",
       "3.00  62.057163  40.076208"
      ]
     },
     "execution_count": 51,
     "metadata": {},
     "output_type": "execute_result"
    }
   ],
   "source": [
    "results.tail()"
   ]
  },
  {
   "cell_type": "markdown",
   "metadata": {},
   "source": [
    "After 3 seconds, the vehicle could be at 40 meters per second, in theory, which is 144 kph."
   ]
  },
  {
   "cell_type": "code",
   "execution_count": 52,
   "metadata": {},
   "outputs": [],
   "source": [
    "v_final = results.iloc[-1]\n",
    "ms_to_km = 3600/1000\n",
    "v_final_kph = v_final * ms_to_km"
   ]
  },
  {
   "cell_type": "markdown",
   "metadata": {},
   "source": [
    "Plotting `x`"
   ]
  },
  {
   "cell_type": "code",
   "execution_count": 54,
   "metadata": {},
   "outputs": [
    {
     "data": {
      "image/png": "[encoded data removed]",
      "text/plain": [
       "<Figure size 432x288 with 1 Axes>"
      ]
     },
     "metadata": {
      "needs_background": "light"
     },
     "output_type": "display_data"
    }
   ],
   "source": [
    "def plot_position(results):\n",
    "    results.x.plot(label='x', xlabel='Time (s)',\n",
    "             ylabel='Position (m)')\n",
    "    \n",
    "plot_position(results)"
   ]
  },
  {
   "cell_type": "markdown",
   "metadata": {},
   "source": [
    "Plotting `v`"
   ]
  },
  {
   "cell_type": "code",
   "execution_count": 55,
   "metadata": {},
   "outputs": [
    {
     "data": {
      "image/png": "[encoded data removed]",
      "text/plain": [
       "<Figure size 432x288 with 1 Axes>"
      ]
     },
     "metadata": {
      "needs_background": "light"
     },
     "output_type": "display_data"
    }
   ],
   "source": [
    "def plot_velocity(results):\n",
    "    results.v.plot(label='x', xlabel='Time (s)',\n",
    "             ylabel='Velocity (m/s)')\n",
    "    \n",
    "plot_velocity(results)"
   ]
  },
  {
   "cell_type": "markdown",
   "metadata": {},
   "source": [
    "### Stopping at 100 kph\n",
    "\n",
    "We'll use an event function to stop the simulation when we reach 100 kph."
   ]
  },
  {
   "cell_type": "code",
   "execution_count": 56,
   "metadata": {},
   "outputs": [],
   "source": [
    "def event_func(t,state, system):\n",
    "    \"\"\"Stops when we get to 100 km/hour.\n",
    "    \n",
    "    state: State object\n",
    "    t: time\n",
    "    system: System object \n",
    "    \n",
    "    returns: difference from 100 km/hour\n",
    "    \"\"\"\n",
    "    x, v = state\n",
    "    \n",
    "    # convert to km/hour\n",
    "    ms_to_km = 3600/1000\n",
    "    v = v * ms_to_km\n",
    "    \n",
    "    return v - 100     "
   ]
  },
  {
   "cell_type": "code",
   "execution_count": 57,
   "metadata": {},
   "outputs": [
    {
     "data": {
      "text/plain": [
       "  message: 'A termination event occurred.'\n",
       "     nfev: 38\n",
       "     njev: 0\n",
       "      nlu: 0\n",
       "      sol: <scipy.integrate._ivp.common.OdeSolution object at 0x000001D2C19F87F0>\n",
       "   status: 1\n",
       "  success: True\n",
       "        t: array([0.00000000e+00, 1.00000000e-04, 1.10000000e-03, 1.11000000e-02,\n",
       "       1.11100000e-01, 1.11110000e+00, 2.00970018e+00])\n",
       " t_events: [array([2.00970018])]\n",
       "        y: array([[0.00000000e+00, 7.10059172e-08, 8.59171598e-06, 8.74863905e-04,\n",
       "        8.76440947e-02, 8.76105280e+00, 2.83786066e+01],\n",
       "       [0.00000000e+00, 1.42011834e-03, 1.56213018e-02, 1.57633136e-01,\n",
       "        1.57775148e+00, 1.57400714e+01, 2.77777778e+01]])\n",
       " y_events: [array([[28.37860655, 27.77777778]])]"
      ]
     },
     "execution_count": 57,
     "metadata": {},
     "output_type": "execute_result"
    }
   ],
   "source": [
    "results, details = run_solve_ivp(system, slope_func, events=event_func)\n",
    "details"
   ]
  },
  {
   "cell_type": "markdown",
   "metadata": {},
   "source": [
    "Here's what the results look like."
   ]
  },
  {
   "cell_type": "code",
   "execution_count": 58,
   "metadata": {},
   "outputs": [
    {
     "data": {
      "image/png": "[encoded data removed]",
      "text/plain": [
       "<Figure size 432x288 with 2 Axes>"
      ]
     },
     "metadata": {
      "needs_background": "light"
     },
     "output_type": "display_data"
    }
   ],
   "source": [
    "from matplotlib.pyplot import subplot\n",
    "\n",
    "subplot(2, 1, 1)\n",
    "plot_position(results)\n",
    "\n",
    "subplot(2, 1, 2)\n",
    "plot_velocity(results)"
   ]
  },
  {
   "cell_type": "markdown",
   "metadata": {},
   "source": [
    "According to this model, we should be able to make this run in just over 2 seconds."
   ]
  },
  {
   "cell_type": "code",
   "execution_count": 61,
   "metadata": {},
   "outputs": [
    {
     "data": {
      "text/plain": [
       "2.0097001757203663"
      ]
     },
     "execution_count": 61,
     "metadata": {},
     "output_type": "execute_result"
    }
   ],
   "source": [
    "t_final = results.index[-1]\n",
    "t_final"
   ]
  },
  {
   "cell_type": "markdown",
   "metadata": {},
   "source": [
    "At the end of the run, the car has gone about 28 meters."
   ]
  },
  {
   "cell_type": "code",
   "execution_count": 63,
   "metadata": {},
   "outputs": [
    {
     "data": {
      "text/plain": [
       "x    28.378607\n",
       "v    27.777778\n",
       "Name: 2.0097001757203663, dtype: float64"
      ]
     },
     "execution_count": 63,
     "metadata": {},
     "output_type": "execute_result"
    }
   ],
   "source": [
    "state = results.iloc[-1]\n",
    "state"
   ]
  },
  {
   "cell_type": "markdown",
   "metadata": {},
   "source": [
    "If we send the final state back to the slope function, we can see that the final acceleration is about 13 $m/s^2$, which is about 1.3 times the acceleration of gravity."
   ]
  },
  {
   "cell_type": "code",
   "execution_count": 64,
   "metadata": {},
   "outputs": [
    {
     "data": {
      "text/plain": [
       "12.918880471747803"
      ]
     },
     "execution_count": 64,
     "metadata": {},
     "output_type": "execute_result"
    }
   ],
   "source": [
    "v, a = slope_func(0,state, system)\n",
    "a "
   ]
  },
  {
   "cell_type": "code",
   "execution_count": 65,
   "metadata": {},
   "outputs": [
    {
     "data": {
      "text/plain": [
       "1.3182531093620207"
      ]
     },
     "execution_count": 65,
     "metadata": {},
     "output_type": "execute_result"
    }
   ],
   "source": [
    "g = 9.8\n",
    "(a / g)"
   ]
  },
  {
   "cell_type": "markdown",
   "metadata": {},
   "source": [
    "It's not easy for a vehicle to accelerate faster than `g`, because that implies a coefficient of friction between the wheels and the road surface that's greater than 1.  But racing tires on dry asphalt can reach a peak coefficient near 1.5.\n",
    "\n",
    "So it's possible that our no slip assumption is valid, but only under ideal conditions, where weight is distributed equally on four tires, and all tires are driving."
   ]
  },
  {
   "cell_type": "markdown",
   "metadata": {},
   "source": [
    "### Exercise 1\n",
    "\n",
    "How much time do we lose because maximum torque decreases as motor speed increases?  Run the model again with no drop off in torque and see how much time it saves."
   ]
  },
  {
   "cell_type": "markdown",
   "metadata": {},
   "source": [
    "## Drag\n",
    "\n",
    "In this section we'll see how much effect drag has on the results.\n",
    "\n",
    "Here's a function to compute drag force, as we saw in Chapter 21."
   ]
  },
  {
   "cell_type": "code",
   "execution_count": 66,
   "metadata": {},
   "outputs": [],
   "source": [
    "def drag_force(v, system):\n",
    "    \"\"\"Computes drag force in the opposite direction of `v`.\n",
    "    \n",
    "    v: velocity\n",
    "    system: System object\n",
    "    \n",
    "    returns: drag force\n",
    "    \"\"\"\n",
    "    rho, C_d, area = system['rho'], system['C_d'], system['area']\n",
    "    \n",
    "    f_drag = -np.sign(v) * rho * v**2 * C_d * area / 2\n",
    "    return f_drag"
   ]
  },
  {
   "cell_type": "markdown",
   "metadata": {},
   "source": [
    "We can test it with a velocity of 20 m/s."
   ]
  },
  {
   "cell_type": "code",
   "execution_count": 67,
   "metadata": {},
   "outputs": [
    {
     "data": {
      "text/plain": [
       "-72.0"
      ]
     },
     "execution_count": 67,
     "metadata": {},
     "output_type": "execute_result"
    }
   ],
   "source": [
    "drag_force(20, system)"
   ]
  },
  {
   "cell_type": "markdown",
   "metadata": {},
   "source": [
    "Here's the resulting acceleration of the vehicle due to drag.\n"
   ]
  },
  {
   "cell_type": "code",
   "execution_count": 69,
   "metadata": {},
   "outputs": [
    {
     "data": {
      "text/plain": [
       "-0.24"
      ]
     },
     "execution_count": 69,
     "metadata": {},
     "output_type": "execute_result"
    }
   ],
   "source": [
    "drag_force(20, system) / system['mass']"
   ]
  },
  {
   "cell_type": "markdown",
   "metadata": {},
   "source": [
    "We can see that the effect of drag is not huge, compared to the acceleration we computed in the previous section, but it is not negligible.\n",
    "\n",
    "Here's a modified slope function that takes drag into account."
   ]
  },
  {
   "cell_type": "code",
   "execution_count": 70,
   "metadata": {},
   "outputs": [],
   "source": [
    "def slope_func2(t, state, system):\n",
    "    \"\"\"Computes the derivatives of the state variables.\n",
    "    \n",
    "    state: State object\n",
    "    t: time\n",
    "    system: System object \n",
    "    \n",
    "    returns: sequence of derivatives\n",
    "    \"\"\"\n",
    "    x, v = state\n",
    "    r_wheel, speed_ratio, mass = system['r_wheel'], system['speed_ratio'], system['mass']\n",
    "    \n",
    "    omega2 = v / r_wheel\n",
    "    omega1 = omega2 / speed_ratio\n",
    "    tau1 = compute_torque(omega1, system)\n",
    "    tau2 = tau1 / speed_ratio\n",
    "    F = tau2 / r_wheel\n",
    "    a_motor = F / mass\n",
    "    a_drag = drag_force(v, system) / mass\n",
    "    \n",
    "    a = a_motor + a_drag\n",
    "    return v, a "
   ]
  },
  {
   "cell_type": "markdown",
   "metadata": {},
   "source": [
    "And here's the next run."
   ]
  },
  {
   "cell_type": "code",
   "execution_count": 71,
   "metadata": {},
   "outputs": [
    {
     "data": {
      "text/plain": [
       "  message: 'A termination event occurred.'\n",
       "     nfev: 38\n",
       "     njev: 0\n",
       "      nlu: 0\n",
       "      sol: <scipy.integrate._ivp.common.OdeSolution object at 0x000001D2C1A741F0>\n",
       "   status: 1\n",
       "  success: True\n",
       "        t: array([0.00000000e+00, 1.00000000e-04, 1.10000000e-03, 1.11000000e-02,\n",
       "       1.11100000e-01, 1.11110000e+00, 2.03392446e+00])\n",
       " t_events: [array([2.03392446])]\n",
       "        y: array([[0.00000000e+00, 7.10059172e-08, 8.59171596e-06, 8.74863752e-04,\n",
       "        8.76425584e-02, 8.74594337e+00, 2.88919477e+01],\n",
       "       [0.00000000e+00, 1.42011834e-03, 1.56213017e-02, 1.57633081e-01,\n",
       "        1.57769617e+00, 1.56861604e+01, 2.77777778e+01]])\n",
       " y_events: [array([[28.89194767, 27.77777778]])]"
      ]
     },
     "execution_count": 71,
     "metadata": {},
     "output_type": "execute_result"
    }
   ],
   "source": [
    "results2, details = run_solve_ivp(system, slope_func2, events=event_func)\n",
    "details"
   ]
  },
  {
   "cell_type": "markdown",
   "metadata": {},
   "source": [
    "The time to reach 100 kph is a bit higher."
   ]
  },
  {
   "cell_type": "code",
   "execution_count": 73,
   "metadata": {},
   "outputs": [
    {
     "data": {
      "text/plain": [
       "2.0339244631366507"
      ]
     },
     "execution_count": 73,
     "metadata": {},
     "output_type": "execute_result"
    }
   ],
   "source": [
    "t_final2 = results2.index[-1]\n",
    "t_final2"
   ]
  },
  {
   "cell_type": "markdown",
   "metadata": {},
   "source": [
    "But the total effect of drag is only about 2/100 seconds."
   ]
  },
  {
   "cell_type": "code",
   "execution_count": 74,
   "metadata": {},
   "outputs": [
    {
     "data": {
      "text/plain": [
       "0.02422428741628435"
      ]
     },
     "execution_count": 74,
     "metadata": {},
     "output_type": "execute_result"
    }
   ],
   "source": [
    "t_final2 - t_final"
   ]
  },
  {
   "cell_type": "markdown",
   "metadata": {},
   "source": [
    "That's not huge, which suggests we might not be able to save much time by decreasing the frontal area, or coefficient of drag, of the car."
   ]
  },
  {
   "cell_type": "markdown",
   "metadata": {},
   "source": [
    "### Rolling resistance"
   ]
  },
  {
   "cell_type": "markdown",
   "metadata": {},
   "source": [
    "Next we'll consider [rolling resistance](https://en.wikipedia.org/wiki/Rolling_resistance), which the force that resists the motion of the car as it rolls on tires.  The cofficient of rolling resistance, `C_rr`, is the ratio of rolling resistance to the normal force between the car and the ground (in that way it is similar to a coefficient of friction).\n",
    "\n",
    "The following function computes rolling resistance."
   ]
  },
  {
   "cell_type": "code",
   "execution_count": 77,
   "metadata": {},
   "outputs": [],
   "source": [
    "def rolling_resistance(system):\n",
    "    \"\"\"Computes force due to rolling resistance.\n",
    "    \n",
    "    system: System object\n",
    "    \n",
    "    returns: force\n",
    "    \"\"\"\n",
    "    return -system['C_rr'] * system['mass']"
   ]
  },
  {
   "cell_type": "markdown",
   "metadata": {},
   "source": [
    "The acceleration due to rolling resistance is 0.2 (it is not a coincidence that it equals `C_rr`)."
   ]
  },
  {
   "cell_type": "code",
   "execution_count": 78,
   "metadata": {},
   "outputs": [
    {
     "data": {
      "text/plain": [
       "-60.0"
      ]
     },
     "execution_count": 78,
     "metadata": {},
     "output_type": "execute_result"
    }
   ],
   "source": [
    "rolling_resistance(system)"
   ]
  },
  {
   "cell_type": "code",
   "execution_count": 80,
   "metadata": {},
   "outputs": [
    {
     "data": {
      "text/plain": [
       "-0.2"
      ]
     },
     "execution_count": 80,
     "metadata": {},
     "output_type": "execute_result"
    }
   ],
   "source": [
    "rolling_resistance(system) / system['mass']"
   ]
  },
  {
   "cell_type": "markdown",
   "metadata": {},
   "source": [
    "Here's a modified slope function that includes drag and rolling resistance."
   ]
  },
  {
   "cell_type": "code",
   "execution_count": 81,
   "metadata": {},
   "outputs": [],
   "source": [
    "def slope_func3(t, state, system):\n",
    "    \"\"\"Computes the derivatives of the state variables.\n",
    "    \n",
    "    state: State object\n",
    "    t: time\n",
    "    system: System object \n",
    "    \n",
    "    returns: sequence of derivatives\n",
    "    \"\"\"\n",
    "    x, v = state\n",
    "    r_wheel, speed_ratio = system['r_wheel'], system['speed_ratio']\n",
    "    mass = system['mass']\n",
    "    \n",
    "    omega2 = v / r_wheel\n",
    "    omega1 = omega2 / speed_ratio\n",
    "    tau1 = compute_torque(omega1, system)\n",
    "    tau2 = tau1 / speed_ratio\n",
    "    F = tau2 / r_wheel\n",
    "    a_motor = F / mass\n",
    "    a_drag = drag_force(v, system) / mass\n",
    "    a_roll = rolling_resistance(system) / mass\n",
    "    \n",
    "    a = a_motor + a_drag + a_roll\n",
    "    return v, a "
   ]
  },
  {
   "cell_type": "markdown",
   "metadata": {},
   "source": [
    "And here's the run."
   ]
  },
  {
   "cell_type": "code",
   "execution_count": 82,
   "metadata": {},
   "outputs": [
    {
     "data": {
      "text/plain": [
       "  message: 'A termination event occurred.'\n",
       "     nfev: 38\n",
       "     njev: 0\n",
       "      nlu: 0\n",
       "      sol: <scipy.integrate._ivp.common.OdeSolution object at 0x000001D2C1A0D130>\n",
       "   status: 1\n",
       "  success: True\n",
       "        t: array([0.00000000e+00, 1.00000000e-04, 1.10000000e-03, 1.11000000e-02,\n",
       "       1.11100000e-01, 1.11110000e+00, 2.06404327e+00])\n",
       " t_events: [array([2.06404327])]\n",
       "        y: array([[0.00000000e+00, 7.00059172e-08, 8.47071596e-06, 8.62542757e-04,\n",
       "        8.64082804e-02, 8.62422560e+00, 2.93304009e+01],\n",
       "       [0.00000000e+00, 1.40011834e-03, 1.54013017e-02, 1.55413082e-01,\n",
       "        1.55547772e+00, 1.54719999e+01, 2.77777778e+01]])\n",
       " y_events: [array([[29.33040085, 27.77777778]])]"
      ]
     },
     "execution_count": 82,
     "metadata": {},
     "output_type": "execute_result"
    }
   ],
   "source": [
    "results3, details = run_solve_ivp(system, slope_func3, events=event_func)\n",
    "details"
   ]
  },
  {
   "cell_type": "markdown",
   "metadata": {},
   "source": [
    "The final time is a little higher, but the total cost of rolling resistance is less than 3/100 seconds."
   ]
  },
  {
   "cell_type": "code",
   "execution_count": 85,
   "metadata": {},
   "outputs": [
    {
     "data": {
      "text/plain": [
       "2.0097001757203663"
      ]
     },
     "execution_count": 85,
     "metadata": {},
     "output_type": "execute_result"
    }
   ],
   "source": [
    "t_final3 = results.index[-1]\n",
    "t_final3"
   ]
  },
  {
   "cell_type": "code",
   "execution_count": 86,
   "metadata": {},
   "outputs": [
    {
     "data": {
      "text/plain": [
       "-0.02422428741628435"
      ]
     },
     "execution_count": 86,
     "metadata": {},
     "output_type": "execute_result"
    }
   ],
   "source": [
    "t_final3 - t_final2"
   ]
  },
  {
   "cell_type": "markdown",
   "metadata": {},
   "source": [
    "So, again, there is probably not much to be gained by decreasing rolling resistance.\n",
    "\n",
    "In fact, it is hard to decrease rolling resistance without also decreasing traction, so that might not help at all."
   ]
  },
  {
   "cell_type": "markdown",
   "metadata": {},
   "source": [
    "### Optimal gear ratio"
   ]
  },
  {
   "cell_type": "markdown",
   "metadata": {},
   "source": [
    "The gear ratio 13:60 is intended to maximize the acceleration of the car without causing the tires to slip.  In this section, we'll consider other gear ratios and estimate their effects on acceleration and time to reach 100 kph.\n",
    "\n",
    "Here's a function that takes a speed ratio as a parameter and returns time to reach 100 kph."
   ]
  },
  {
   "cell_type": "code",
   "execution_count": 89,
   "metadata": {},
   "outputs": [],
   "source": [
    "def time_to_speed(speed_ratio, params):\n",
    "    \"\"\"Computes times to reach 100 kph.\n",
    "    \n",
    "    speed_ratio: ratio of wheel speed to motor speed\n",
    "    params: Params object\n",
    "    \n",
    "    returns: time to reach 100 kph, in seconds\n",
    "    \"\"\"\n",
    "    params_var = params.copy()\n",
    "    params_var.update(dict(speed_ratio=speed_ratio))\n",
    "    system = make_system(params_var)\n",
    "    \n",
    "    results, details = run_solve_ivp(system, slope_func3, events=event_func)\n",
    "    t_final = results.index[-1]\n",
    "    a_initial = slope_func(0,system['init'],system)\n",
    "    return t_final"
   ]
  },
  {
   "cell_type": "markdown",
   "metadata": {},
   "source": [
    "We can test it with the default ratio:"
   ]
  },
  {
   "cell_type": "code",
   "execution_count": 90,
   "metadata": {},
   "outputs": [
    {
     "data": {
      "text/plain": [
       "2.0640432696910427"
      ]
     },
     "execution_count": 90,
     "metadata": {},
     "output_type": "execute_result"
    }
   ],
   "source": [
    "time_to_speed(13/60, params)"
   ]
  },
  {
   "cell_type": "markdown",
   "metadata": {},
   "source": [
    "Now we can try it with different numbers of teeth on the motor gear (assuming that the axle gear has 60 teeth):"
   ]
  },
  {
   "cell_type": "code",
   "execution_count": 91,
   "metadata": {},
   "outputs": [
    {
     "name": "stdout",
     "output_type": "stream",
     "text": [
      "8 1.3224441614228517\n",
      "9 1.4657211832093633\n",
      "10 1.6153527360194635\n",
      "11 1.7650216398221046\n",
      "12 1.9144991690288353\n",
      "13 2.0640432696910427\n",
      "14 2.216934402537965\n",
      "15 2.3701185148613013\n",
      "16 2.524859479344256\n",
      "17 2.6793328748560983\n",
      "18 2.8338338565330097\n"
     ]
    }
   ],
   "source": [
    "for teeth in np.arange(8, 19, 1):\n",
    "    print(teeth, time_to_speed(teeth/60, params))"
   ]
  },
  {
   "cell_type": "markdown",
   "metadata": {},
   "source": [
    "Wow!  The speed ratio has a big effect on the results.  At first glance, it looks like we could break the world record (1.513 seconds) just by decreasing the number of teeth.\n",
    "\n",
    "But before we try it, let's see what effect that has on peak acceleration."
   ]
  },
  {
   "cell_type": "code",
   "execution_count": 94,
   "metadata": {},
   "outputs": [],
   "source": [
    "def initial_acceleration(speed_ratio, params):\n",
    "    \"\"\"Maximum acceleration as a function of speed ratio.\n",
    "    \n",
    "    speed_ratio: ratio of wheel speed to motor speed\n",
    "    params: Params object\n",
    "    \n",
    "    returns: peak acceleration, in m/s^2\n",
    "    \"\"\"\n",
    "    params_var = params.copy()\n",
    "    params_var.update(dict(speed_ratio=speed_ratio))\n",
    "    system = make_system(params_var)\n",
    "    a_initial = slope_func(0,system['init'], system)\n",
    "    return a_initial"
   ]
  },
  {
   "cell_type": "markdown",
   "metadata": {},
   "source": [
    "Here are the results:"
   ]
  },
  {
   "cell_type": "code",
   "execution_count": 95,
   "metadata": {},
   "outputs": [
    {
     "name": "stdout",
     "output_type": "stream",
     "text": [
      "8 (0, 23.076923076923077)\n",
      "9 (0, 20.51282051282051)\n",
      "10 (0, 18.46153846153846)\n",
      "11 (0, 16.783216783216787)\n",
      "12 (0, 15.384615384615385)\n",
      "13 (0, 14.201183431952662)\n",
      "14 (0, 13.186813186813184)\n",
      "15 (0, 12.307692307692308)\n",
      "16 (0, 11.538461538461538)\n",
      "17 (0, 10.85972850678733)\n",
      "18 (0, 10.256410256410255)\n"
     ]
    }
   ],
   "source": [
    "for teeth in np.arange(8, 19, 1):\n",
    "    print(teeth, initial_acceleration(teeth/60, params))"
   ]
  },
  {
   "cell_type": "markdown",
   "metadata": {},
   "source": [
    "As we decrease the speed ratio, the peak acceleration increases.  With 8 teeth on the motor gear, we could break the world record, but only if we can accelerate at 2.3 times the acceleration of gravity, which is impossible without very sticky ties and a vehicle that generates a lot of downforce."
   ]
  },
  {
   "cell_type": "code",
   "execution_count": 96,
   "metadata": {},
   "outputs": [
    {
     "data": {
      "text/plain": [
       "2.354081632653061"
      ]
     },
     "execution_count": 96,
     "metadata": {},
     "output_type": "execute_result"
    }
   ],
   "source": [
    "23.07 / 9.8"
   ]
  },
  {
   "cell_type": "markdown",
   "metadata": {},
   "source": [
    "These results suggest that the most promising way to improve the performance of the car (for this event) would be to improve traction."
   ]
  }
 ],
 "metadata": {
  "kernelspec": {
   "display_name": "Python 3",
   "language": "python",
   "name": "python3"
  },
  "language_info": {
   "codemirror_mode": {
    "name": "ipython",
    "version": 3
   },
   "file_extension": ".py",
   "mimetype": "text/x-python",
   "name": "python",
   "nbconvert_exporter": "python",
   "pygments_lexer": "ipython3",
   "version": "3.8.8"
  }
 },
 "nbformat": 4,
 "nbformat_minor": 2
}
