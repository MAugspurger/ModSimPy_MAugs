{
 "cells": [
  {
   "cell_type": "markdown",
   "id": "a5dea426",
   "metadata": {},
   "source": [
    "# Python Data Storage Objects\n",
    "\n",
    "#### PHYS 200: Modeling and Simulation, Mike Augspuger"
   ]
  },
  {
   "cell_type": "markdown",
   "id": "ca35ebcc",
   "metadata": {},
   "source": [
    "Storing and manipulating data is a large portion of the coding work in simulations.  Python is particularly flexible in how it allows you to store data of all sorts: many storage objects treat data of all different types simply as `objects`, which means a given data storage object can hold many different kinds of \"things\".  \n",
    "\n",
    "This document is intended to give you a reference sheet about different approaches to data storage and manipulation as you parse and write code."
   ]
  },
  {
   "cell_type": "markdown",
   "id": "f4c22b1a",
   "metadata": {},
   "source": [
    "## Foundational Data Types\n",
    "\n",
    "The \"things\" (that is, `objects`) that can be stored within data storage objects range widely.  Here is a list of some of the most common:\n",
    "\n",
    "* `str`:  A string is set of characters stored together that has no numerical value (like a word).\n",
    "* `int`:  Integer\n",
    "* `float`:  This is a decimal numerical value\n",
    "* `Boolean`: A Boolean value is either `True` or `False` (or if used in an equation, `1` or `0`)\n",
    "\n",
    "Beyond these basic data types, though, data storage objects can store *other* data storage objects.  For example, a `list` can store a number of `lists`, or even a list that consists of different data types.\n",
    "\n",
    "*As you read this, remember that a `data object` can be not only the common data types listed above (`str`,`int`, etc...), but also a data storage object itself.*"
   ]
  },
  {
   "cell_type": "markdown",
   "id": "02ccb431",
   "metadata": {},
   "source": [
    "## Tuple\n",
    "\n",
    "* A `tuple` is a simple sequence of data objects.  \n",
    "* It is a built-in Python type (that is, it is always available)\n",
    "* It is *immutable*, which means you cannot change its values.  If you create a `tuple` that is `(5,6,7)`, it will remain that unless you create a completely new `tuple` and give it the same name.\n",
    "* Tuples are useful to store simple, unchanging values.  Because they are immutable, they offer protection against accidental over-writing (your program will give you an error message if you try to change a value).\n",
    "* A tuple is represented in Python by parentheses `( )`."
   ]
  },
  {
   "cell_type": "code",
   "execution_count": null,
   "id": "b4fb6f02",
   "metadata": {},
   "outputs": [],
   "source": [
    "# CREATING tuples\n",
    "\n",
    "# This tuple has 4 items: two integers, a string, and a tuple\n",
    "tuple1 = (5,6,\"oranges\",(8,9,10))\n",
    "# OR\n",
    "tuple1 = 5,6,\"oranges\",(8,9,10)"
   ]
  },
  {
   "cell_type": "code",
   "execution_count": null,
   "id": "211b913d",
   "metadata": {},
   "outputs": [],
   "source": [
    "# ACCESSING data in tuples\n",
    "\n",
    "# Important: Note that the rules here will work for most \n",
    "# sequence-type data storage objects\n",
    "\n",
    "tuple1[0]      # returns the first item in the tuple --> 5\n",
    "tuple1[2]      # returns the third item  --> \"oranges\"\n",
    "tuple1[-1]     # returns the last item --> (8,9,10)\n",
    "tuple1[3][0]   # returns the first item in the fourth item --> 8\n",
    "\n",
    "# Accessing more than one value at a time is called 'slicing':\n",
    "tuple1[:2]     # returns items at index 0 and 1 -->  (5,6)\n",
    "tuple1[1:3]    # returns items at indexes 1 and 2 -->  (6,\"oranges\")\n",
    "\n",
    "# Accessing all the values in one line is called 'unpacking'\n",
    "var1, var2, var3, var4 = tuple1   # var1=5, var3=\"oranges\", etc..\n",
    "\n",
    "# CHANGING the value in a tuple\n",
    "#tuple1[2] = \"apples\"    # This returns an error!  Tuple values \n",
    "                         #  are immutable"
   ]
  },
  {
   "cell_type": "code",
   "execution_count": null,
   "id": "9fc47de0",
   "metadata": {},
   "outputs": [],
   "source": [
    "# MANIPULATING data with tuples\n",
    "\n",
    "# Tuple methods are very limited: these are not meant to be\n",
    "# used for data manipulation\n",
    "# The methods here can also be used with other sequence-like\n",
    "# data storage objects\n",
    "\n",
    "len(tuple1)     # returns the length of the tuple  --> 4\n",
    "type(tuple1)    # returns the data type  --> 'tuple'\n",
    "type(tuple1[2]) # returns the data type of indexed object --> 'str'\n",
    "tuple1.index('oranges')  # returns index value  -->  2\n",
    "tuple2 = tuple1 + (4,5)  # returns (5,6,\"oranges\",(8,9,10),4,5)"
   ]
  },
  {
   "cell_type": "markdown",
   "id": "ee3fe9f1",
   "metadata": {},
   "source": [
    "## Lists\n",
    "\n",
    "* A list is a simple sequence that is a built-in type.\n",
    "* Lists are mutable: its members can be changed.\n",
    "* Lists are more flexible than a tuple for data manipulation.\n",
    "* A list is represented by block parentheses: `[ ]`"
   ]
  },
  {
   "cell_type": "code",
   "execution_count": null,
   "id": "3ed91b75",
   "metadata": {},
   "outputs": [],
   "source": [
    "# CREATING lists\n",
    "list1 = [5,6,\"oranges\",[8,9,10]]"
   ]
  },
  {
   "cell_type": "code",
   "execution_count": null,
   "id": "e55308c7",
   "metadata": {},
   "outputs": [],
   "source": [
    "# ACCESSING and CHANGING data in lists\n",
    "# Use the same indexing rules that you would for a tuple,\n",
    "# but changing values is possible\n",
    "list1[2] = \"apples\"   # replaces \"oranges\" with \"apples\""
   ]
  },
  {
   "cell_type": "code",
   "execution_count": null,
   "id": "224434b8",
   "metadata": {},
   "outputs": [],
   "source": [
    "# MANIPULATING data in lists\n",
    "# These are some common tools, but look up \"Python Lists\" to find more\n",
    "list1.append(11)         # adds item--> [5,6,\"oranges\",[8,9,10],11]\n",
    "lastitem = list1.pop()   # removes last item and returns it  --> 11\n",
    "list1.extend(list2)      # \"appends\" members of list2 to end of list1\n",
    "list1.remove(\"oranges\")  # removes item from list\n",
    "list1.insert(\"apples\",1) # inserts item at given index\n",
    "list1.sort()             # sorts list alphabetically or numerically"
   ]
  },
  {
   "cell_type": "markdown",
   "id": "ed6531e7",
   "metadata": {},
   "source": [
    "## Dictionaries\n",
    "\n",
    "* A `dictionary` is a Python built-in type that maps a set of 'keys' to a set of 'values'\n",
    "* The keys are immutable, but the values can be changed.  Values can be any data type (including `dictionaries`).\n",
    "* In newer versions of Python (3.7+), dictionaries are *ordered*: that is, the keys have a set order.  But they are not generally used when order is important: they are more like a, um, dictionary, that allows you to look up a 'definition' of a key 'word'.\n",
    "* Dictionaries are used primarily to store sets of mostly unchanging variables.  Very useful for storing system parameters, but limited in usefulness for storing data.\n",
    "* Dictionaries are represented by curly parentheses: `{ }`"
   ]
  },
  {
   "cell_type": "code",
   "execution_count": null,
   "id": "a0885a69",
   "metadata": {},
   "outputs": [],
   "source": [
    "# CREATING dictionaries\n",
    "dict1 = {'cheese': 3.45, 'milk': 2.95}\n",
    "dict1 = dict(cheese=3.45,milk=2.95)\n",
    "\n",
    "# This creates a dictionary whose values are a tuple and a list\n",
    "dict2 = dict(oranges=(4,5,6),pears=[7,8,9])"
   ]
  },
  {
   "cell_type": "code",
   "execution_count": null,
   "id": "6416e0c9",
   "metadata": {},
   "outputs": [],
   "source": [
    "# ACCESSING and CHANGING data in dictionaries\n",
    "dict1['butter'] = 4.65     # Adds a new key-value pair\n",
    "item = dict1['milk']       # returns the value for that key --> 2.95\n",
    "item = dict1[1]            # returns ERROR --> cannot use numerical index"
   ]
  },
  {
   "cell_type": "code",
   "execution_count": null,
   "id": "f3647f44",
   "metadata": {},
   "outputs": [],
   "source": [
    "# MANIPULATING data in dictionaries\n",
    "list_keys = dict1.keys()   # returns list of dictionary keys\n",
    "list_vals = dict1.values() # returns list of dictionary values"
   ]
  },
  {
   "cell_type": "markdown",
   "id": "43157864",
   "metadata": {},
   "source": [
    "## Pandas Series\n",
    "\n",
    "* A `pd.Series` is a one dimensional array with index labels. It is much like a two column table, where one column holds the labels and the other column holds the values. \n",
    "* In a sense, they are similar to `dictionaries`: every value in the series is associated with a key/ label.   But they are more manipulable than `dictionaries`, and have a host of useful associated methods and attributes, and so are more appropriate to storing data sets.\n",
    "* The values in a series are accessible using both the label and the index number."
   ]
  },
  {
   "cell_type": "code",
   "execution_count": null,
   "id": "72e41cb9",
   "metadata": {},
   "outputs": [],
   "source": [
    "import pandas as pd\n",
    "\n",
    "# CREATING a pd.Series\n",
    "# To create an empty series, insert an empty list as the data\n",
    "# Assign the dtype 'object' unless you know that you want to use\n",
    "# float values, in which case, assign 'np.float64'\n",
    "series1 = pd.Series([],dtype=object)\n",
    "\n",
    "# Creatig a Series from a dictionary\n",
    "series1 = pd.Series(dict1)\n",
    "series1 = pd.Series(dict(para1=10.0, para2=20.5))\n",
    "series1 = pd.Series({'para1':10.0, 'para2': 20.5})\n",
    "\n",
    "# Create a Series from two arrays or lists\n",
    "# The 'index' is the list of labels.  Both arrays should be same length.\n",
    "series2 = pd.Series(data=array1,index=array2)\n",
    "\n",
    "# Create a Series from the values of 2 Series\n",
    "series3 = pd.Series(data=series1.values,index=series2.values)"
   ]
  },
  {
   "cell_type": "code",
   "execution_count": null,
   "id": "9eab3c33",
   "metadata": {},
   "outputs": [],
   "source": [
    "# ACCESSING or CHANGING data in a Series\n",
    "\n",
    "var1 = series1['para1']     # returns the value for that key --> 10.0\n",
    "var1 = series1.para1        # same as above -->  10.0\n",
    "var1 = series1.iloc[1]      # finds a value by index number --> 20.5\n",
    "var1 = series1[1]           # same as above --> 20.5\n",
    "\n",
    "series3 = series1.append(series2)  # adds key-value pairs in s2 to s1\n",
    "# This only works if the Series was created as an empty list\n",
    "series1[i] = 30.5           # adds the ith value to the series\n",
    "\n",
    "array1 = series1.values     # returns an np.ndarray of the values\n",
    "array1 = series1.index      # returns a pandas list of the labels"
   ]
  },
  {
   "cell_type": "code",
   "execution_count": null,
   "id": "07201cf0",
   "metadata": {},
   "outputs": [],
   "source": [
    "import numpy as np\n",
    "\n",
    "series1 = pd.Series(dict(para1=10.0, para2=20.5))\n",
    "series2 = pd.Series(dict(para3=80.0, para4=30.5))\n",
    "series3 = series1.append(series2)\n",
    "series3"
   ]
  },
  {
   "cell_type": "code",
   "execution_count": null,
   "id": "f9b4d470",
   "metadata": {},
   "outputs": [],
   "source": [
    "# MANIPULATING data in a Series\n",
    "#  There are a ton of associated methods.  But here are some \n",
    "# interesting and/or helpful ones.  Look them up to find details.\n",
    "\n",
    "series1.mean()     # Finds the mean of values. Also max(),median()...\n",
    "series1.plot()     # Plots the series with the index on the x-axis\n",
    "series1.head()     # returns the first rows of the Series: also tail()\n",
    "series1.to_excel() # writes the Series to an excel sheet\n",
    "series1.to_dict()  # converts to dictionary.  Also to_list()\n",
    "series1.interpolate()  # Using interpolation to fill in NaN values"
   ]
  },
  {
   "cell_type": "markdown",
   "id": "8cd4d1e4",
   "metadata": {},
   "source": [
    "## Pandas DataFrame\n",
    "\n",
    "* A `DataFrame` is much like a `Series`, but it has more than one column of values.  In fact, each column in a `DataFrame` is a `Series`.\n",
    "* A `DataFrame` represents a table of data, with one index column of labels, and multiple columns of values.\n",
    "* Many of the methods for `Series` are applicable to `DataFrames`.  Like `Series`, they are very useful for storing and manipulating data."
   ]
  },
  {
   "cell_type": "code",
   "execution_count": null,
   "id": "218f97be",
   "metadata": {},
   "outputs": [],
   "source": [
    "# CREATING a pd.DataFrame\n",
    "\n",
    "# An empty DataFrame\n",
    "empty_frame = pd.DataFrame([],columns=['postion','velocity'])\n",
    "\n",
    "# A populated DataFrame\n",
    "frame1 = pd.DataFrame({'col1': [1,2], 'col2': [3,4]})  # from dictionary\n",
    "frame1 = pd.DataFrame(dict(col1=[1,2],col2=[3,4]))     # from dictionary\n",
    "# from np.ndarray\n",
    "frame1 = pd.DataFrame(np.array([[1,2],[3,4],[5,6]]),columns=['a','b'])"
   ]
  },
  {
   "cell_type": "code",
   "execution_count": null,
   "id": "593216ab",
   "metadata": {},
   "outputs": [],
   "source": [
    "# ACCESSING and CHANGING data in a pd.DataFrame\n",
    "series1 = frame1.iloc[1]   # returns the second row of frame as a Series\n",
    "series1 = frame1.col1      # returns column named col1 as a Series\n",
    "\n",
    "# Adding data to a DataFrame that was created as empty\n",
    "frame1.loc[i] = [col1_value,col2_value,col3_val]\n",
    "\n",
    "# Generally the rules for accessing and manipulating DataFrames\n",
    "# are similar to those for Series.  Check the DataFrame data\n",
    "# sheet for particulars (search for \"Pandas DataFrame\")"
   ]
  },
  {
   "cell_type": "markdown",
   "id": "83f70329",
   "metadata": {},
   "source": [
    "## NumPy ndarrays\n",
    "\n",
    "* NumPy ndarrays are a data storage object found in the NumPy library.  They are the core building block for the NumPy library, which is the premiere library for doing numerical work in Python\n",
    "* The ndarrays ('n-dimensional array') are highly manipulable, cost-efficient (they don't use much memory or processing power), and support a wide-range of computational methods.\n",
    "* We don't use these a lot in this course, but they are good to know about (and they also underly much of the Pandas library)"
   ]
  },
  {
   "cell_type": "code",
   "execution_count": null,
   "id": "b17f5130",
   "metadata": {},
   "outputs": [],
   "source": [
    "# Creating an np.array\n",
    "array1 = np.array([1,2,3,4,5,6])     # 1D array\n",
    "array2 = np.array([[1,2,3],[4,5,6]])   # 2D array"
   ]
  },
  {
   "cell_type": "code",
   "execution_count": null,
   "id": "b9ac608b",
   "metadata": {},
   "outputs": [],
   "source": [
    "# ACCESSING data in an np.array\n",
    "# Indexing works, but you have to get used to the conventions\n",
    "grades = np.array([[93,95],[84,100],[99,87]])\n",
    "grades.shape     # returns (3,2) --> 3 rows, 2 columns\n",
    "grades[1,0]      # returns value in 2nd row, first column -->84\n",
    "grades[-1,1]     # returns value in last row, 2nd column --> 87\n",
    "grades[0]        # returns first row --> [93,95]\n",
    "\n",
    "# There are a bunch of mathematical tools that you can use with np.ndarrays\n",
    "# but I will not go into them here.  Just be aware that this is a\n",
    "# powerful computational tool that underlies a lot of scientific\n",
    "# work in Python.\n"
   ]
  }
 ],
 "metadata": {
  "kernelspec": {
   "display_name": "Python 3",
   "language": "python",
   "name": "python3"
  },
  "language_info": {
   "codemirror_mode": {
    "name": "ipython",
    "version": 3
   },
   "file_extension": ".py",
   "mimetype": "text/x-python",
   "name": "python",
   "nbconvert_exporter": "python",
   "pygments_lexer": "ipython3",
   "version": "3.8.8"
  }
 },
 "nbformat": 4,
 "nbformat_minor": 5
}
