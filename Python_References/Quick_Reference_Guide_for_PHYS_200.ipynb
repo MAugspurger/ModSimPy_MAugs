{
 "cells": [
  {
   "cell_type": "markdown",
   "id": "a5dea426",
   "metadata": {
    "id": "a5dea426"
   },
   "source": [
    "# Python Grammar Reference Guide\n",
    "\n",
    "#### PHYS 200: Modeling and Simulation"
   ]
  },
  {
   "cell_type": "markdown",
   "id": "pressed-palestinian",
   "metadata": {
    "id": "pressed-palestinian",
    "tags": []
   },
   "source": [
    "*Modeling and Simulation in Python*\n",
    "\n",
    "Copyright 2023 Mike Augspurger (License: [Creative Commons Attribution-NonCommercial-ShareAlike 4.0 International](https://creativecommons.org/licenses/by-nc-sa/4.0/))\n",
    "\n",
    "<br>\n",
    "\n",
    "---"
   ]
  },
  {
   "attachments": {},
   "cell_type": "markdown",
   "id": "ca35ebcc",
   "metadata": {
    "id": "ca35ebcc"
   },
   "source": [
    "Learning to implement models in Python involves learning to recognize and manipulate the vocabulary and grammer of a new language. This document is intended to give you a reference sheet as you learn to read and write Python code.\n",
    "\n",
    "<br>\n",
    "\n",
    "<center><img src = https://github.com/MAugspurger/ModSimPy_MAugs/raw/main/Images_and_Data/Images/Support_notebooks/new_language.PNG width = 400></center>"
   ]
  },
  {
   "cell_type": "markdown",
   "id": "dR3QZ69Yloq-",
   "metadata": {
    "id": "dR3QZ69Yloq-"
   },
   "source": [
    "## Data Objects"
   ]
  },
  {
   "cell_type": "markdown",
   "id": "f4c22b1a",
   "metadata": {
    "id": "f4c22b1a"
   },
   "source": [
    "In Python an *object* is \"thing\" that exists in the code, and that \"thing\" can be a simple variable (e.g. the integer $x$) or a much more complicated variable (e.g. a Pandas Dataframe filled with population data called \"world_pop\").  In fact, the \"thing\" can be something other than a variable, like a function.\n",
    "\n",
    "<br>\n",
    "\n",
    "Many of the \"objects\" that we'll be concerned with are used to store data: variables, parameters, experimental data, etc...  We'll refer to these as \"data objects.\"  But different kinds of data objects store information in different ways, and have different capabilities.  And so it's important to recognize that each data object has a `type`.  \n",
    "\n"
   ]
  },
  {
   "cell_type": "markdown",
   "id": "-sIOnGwOde0g",
   "metadata": {
    "id": "-sIOnGwOde0g"
   },
   "source": [
    "### Basic Data Types"
   ]
  },
  {
   "cell_type": "markdown",
   "id": "2cp1KO2forzH",
   "metadata": {
    "id": "2cp1KO2forzH"
   },
   "source": [
    "Some of these data types store a single thing: here are some of the `basic` types (also called \"classes\"):\n",
    "\n",
    "* `str`:  A string is set of characters stored together that has no numerical value (like a word).\n",
    "* `int`:  Integer\n",
    "* `float`:  This is a decimal numerical value\n",
    "* `Boolean`: A Boolean value is either `True` or `False` (or if used in an equation, `1` or `0`)"
   ]
  },
  {
   "cell_type": "code",
   "execution_count": 4,
   "id": "2RDT5SmMoMEw",
   "metadata": {
    "colab": {
     "base_uri": "https://localhost:8080/"
    },
    "executionInfo": {
     "elapsed": 142,
     "status": "ok",
     "timestamp": 1704391604274,
     "user": {
      "displayName": "Mike Augspurger",
      "userId": "10771091410835174509"
     },
     "user_tz": 360
    },
    "id": "2RDT5SmMoMEw",
    "outputId": "7da48d4c-10b8-4105-a8f1-3eb1b8d7875b"
   },
   "outputs": [
    {
     "name": "stdout",
     "output_type": "stream",
     "text": [
      "<class 'str'> <class 'int'> <class 'bool'>\n"
     ]
    }
   ],
   "source": [
    "# If you aren't sure of the type of an object, use type()\n",
    "str_1 = \"word\"\n",
    "int_1 = 12\n",
    "bool_1 = True\n",
    "print(type(str_1), type(int_1), type(bool_1))"
   ]
  },
  {
   "cell_type": "markdown",
   "id": "TfU9En0XqIUT",
   "metadata": {
    "id": "TfU9En0XqIUT"
   },
   "source": [
    "`str_1`, `int_1`, and `bool_1` are all data objects, but each has a different type."
   ]
  },
  {
   "cell_type": "markdown",
   "id": "VQJRtgaRdYoJ",
   "metadata": {
    "id": "VQJRtgaRdYoJ"
   },
   "source": [
    "### Data Storage Types"
   ]
  },
  {
   "cell_type": "markdown",
   "id": "jaONF8keoJ4A",
   "metadata": {
    "id": "jaONF8keoJ4A"
   },
   "source": [
    "Beyond these basic data types, though, data types can store one or more *other* data objects.  Here are the data storage types we'll use most:\n",
    "\n",
    "<br>\n",
    "\n",
    "* `list`: A list stores a simple sequence of data objects. Example: `[4, 7, 11]`.  Note that a 'data object' here can be not only the basic data types listed above (`str`,`int`, etc...), but also a data storage object itself: you can make a list of lists, for instance.   \n",
    "\n",
    "<br>\n",
    "\n",
    "* `dictionary`: A dictionary is a sequence of paired *keys* and *values*.  Think of this as words and definitions (like a dictionary!). Example: `{'eggs': 1.95, 'milk': 2.45, 'bread': 3.15}`\n",
    "\n",
    "\n",
    "<br>\n",
    "\n",
    "* `Series`: This is a data type created in the Pandas library.  It is a two-column list, with an index and values.  It is very similar to a dictionary, but has a lot more capabilities (easy to plot, to change, etc...).\n",
    "\n",
    "<br>\n",
    "\n",
    "<center><img src = https://github.com/MAugspurger/ModSimPy_MAugs/raw/main/Images_and_Data/Images/1_2/Series_ex.PNG width = 120></center>\n",
    "\n",
    "<br>\n",
    "\n",
    "* `DataFrame`: Like a Series, this is a Pandas type.  It is essentially a spreadsheet: there is one column called an index, and then multiple columns with values.\n",
    "\n",
    "<br>\n",
    "\n",
    "<center><img src = https://github.com/MAugspurger/ModSimPy_MAugs/raw/main/Images_and_Data/Images/2_5/dataframe.PNG width = 200></center>\n",
    "<br>\n",
    "\n",
    "* Numpy array: This data storage type is a multidimensional array of numbers.  They are the core building block for the NumPy library, which is the premiere library for doing numerical work in Python.\n",
    "\n",
    "<br>\n",
    "For more information on how to use these, look at the Python Data Objects handout on moodle!"
   ]
  },
  {
   "cell_type": "markdown",
   "id": "gGE9dbXbdmMA",
   "metadata": {
    "id": "gGE9dbXbdmMA"
   },
   "source": [
    "## Grammmar"
   ]
  },
  {
   "attachments": {},
   "cell_type": "markdown",
   "id": "icZry-_h1jTE",
   "metadata": {
    "id": "icZry-_h1jTE"
   },
   "source": [
    "Learn to recognize the common \"syntax\" of Python.  Unlike grammar in a spoken language, this is not flexible: you must use the correct punctuation or your code will not run as you want it to.  This exactness may be frustrating, but it's a big part of learning to think like a computer (that is, thinking logically)!\n",
    "\n",
    "<br>\n",
    "\n",
    "Don't know what a line of code does?  Check the grammar in the line as it will offer clues to how that line of code works!\n",
    "\n",
    "<br>\n",
    "\n",
    "<center><img src = https://github.com/MAugspurger/ModSimPy_MAugs/raw/main/Images_and_Data/Images/Support_notebooks/candlestick.PNG width = 300></center>\n",
    "\n",
    "<div><img src = C:/Users/micha/My\\ Drive/Colab\\ Notebooks/ModSimPy_Directory/Images_and_Data/Images/Support_notebooks/candlestick.PNG width = 300></div>\n",
    "\n",
    "\n",
    " <br>"
   ]
  },
  {
   "cell_type": "markdown",
   "id": "_UKrbth5g-yv",
   "metadata": {
    "id": "_UKrbth5g-yv"
   },
   "source": [
    "### The equal sign = (Part 1, Simple assignment)"
   ]
  },
  {
   "cell_type": "markdown",
   "id": "K19GhGzttR7n",
   "metadata": {
    "id": "K19GhGzttR7n"
   },
   "source": [
    "This one throws people, because we think we know what an equal sign does.  But in Python (and most languages) the equal sign does a lot more than express an equality: it *assigns* a data object to a variable name.   \n",
    "\n",
    "<br>  \n",
    "\n",
    "The data object always goes on the right side; the variable name goes on the left."
   ]
  },
  {
   "cell_type": "code",
   "execution_count": null,
   "id": "fEyEILj22kD_",
   "metadata": {
    "colab": {
     "base_uri": "https://localhost:8080/"
    },
    "executionInfo": {
     "elapsed": 207,
     "status": "ok",
     "timestamp": 1694278843801,
     "user": {
      "displayName": "Mike Augspurger",
      "userId": "10771091410835174509"
     },
     "user_tz": 300
    },
    "id": "fEyEILj22kD_",
    "outputId": "0a04e7dd-bc16-450d-9e47-78a9325ba10a"
   },
   "outputs": [
    {
     "name": "stdout",
     "output_type": "stream",
     "text": [
      "14  is of type  <class 'int'>\n"
     ]
    }
   ],
   "source": [
    "# Simple assignment 1\n",
    "obj_1 = 14\n",
    "# Now the variable 'obj_1' refers to the data object '14' (of type integer)\n",
    "# Python knows this is an integer because there is no decimal point\n",
    "print(obj_1, \" is of type \", type(obj_1))"
   ]
  },
  {
   "cell_type": "code",
   "execution_count": null,
   "id": "BSnf_PL5xG6E",
   "metadata": {
    "colab": {
     "base_uri": "https://localhost:8080/"
    },
    "executionInfo": {
     "elapsed": 213,
     "status": "ok",
     "timestamp": 1694278845814,
     "user": {
      "displayName": "Mike Augspurger",
      "userId": "10771091410835174509"
     },
     "user_tz": 300
    },
    "id": "BSnf_PL5xG6E",
    "outputId": "feac43f2-8c14-40f2-f4e7-3e4ec0d1bf51"
   },
   "outputs": [
    {
     "name": "stdout",
     "output_type": "stream",
     "text": [
      "14.0  is of type  <class 'float'>\n"
     ]
    }
   ],
   "source": [
    "# Simple assignment 2\n",
    "obj_2 = 14.0\n",
    "# Now the variable 'obj_2' refers to the data object '14.0' (of type float)\n",
    "# Python knows this is an float because it has a decimal point\n",
    "print(obj_2, \" is of type \", type(obj_2))"
   ]
  },
  {
   "cell_type": "code",
   "execution_count": 5,
   "id": "rX9euy-WupBD",
   "metadata": {
    "colab": {
     "base_uri": "https://localhost:8080/"
    },
    "executionInfo": {
     "elapsed": 133,
     "status": "ok",
     "timestamp": 1704392883939,
     "user": {
      "displayName": "Mike Augspurger",
      "userId": "10771091410835174509"
     },
     "user_tz": 360
    },
    "id": "rX9euy-WupBD",
    "outputId": "f0cdbcf2-e041-447a-ee3d-e607d793d7c4"
   },
   "outputs": [
    {
     "name": "stdout",
     "output_type": "stream",
     "text": [
      "['cow', 'dog', 'horse']  is of type  <class 'list'>\n"
     ]
    }
   ],
   "source": [
    "# Simple assignment 3\n",
    "obj_3 = [\"cow\", \"dog\", \"horse\"]\n",
    "# Now the variable 'obj_3' refers to the data object of type list\n",
    "# Python knows this is an list because of the brackets\n",
    "print(obj_3, \" is of type \", type(obj_3))"
   ]
  },
  {
   "cell_type": "markdown",
   "id": "NGuoJ3ZiyZjw",
   "metadata": {
    "id": "NGuoJ3ZiyZjw"
   },
   "source": [
    "### Quotation marks \" \""
   ]
  },
  {
   "cell_type": "markdown",
   "id": "lA8Ag6Uw3k46",
   "metadata": {
    "id": "lA8Ag6Uw3k46"
   },
   "source": [
    "Quotation marks (either single ' ' or double \" \" ) indicate that the marks inside them are a string: even if a number is inside quotes, it is a string, and cannot be used as a number."
   ]
  },
  {
   "cell_type": "code",
   "execution_count": null,
   "id": "jiuP3YrX3-hp",
   "metadata": {
    "colab": {
     "base_uri": "https://localhost:8080/"
    },
    "executionInfo": {
     "elapsed": 136,
     "status": "ok",
     "timestamp": 1694278902218,
     "user": {
      "displayName": "Mike Augspurger",
      "userId": "10771091410835174509"
     },
     "user_tz": 300
    },
    "id": "jiuP3YrX3-hp",
    "outputId": "c1cacd8a-ffe3-4259-e02e-e84749933065"
   },
   "outputs": [
    {
     "name": "stdout",
     "output_type": "stream",
     "text": [
      "groovy  is of type  <class 'str'>\n"
     ]
    }
   ],
   "source": [
    "# Assignment of string\n",
    "obj_3 = \"groovy\"\n",
    "# Now the data object \"obj_3\" (of type string) holds the value \"groovy\"\n",
    "# Python knows this is a string because of the quotation marks\n",
    "print(obj_3, \" is of type \", type(str_1))"
   ]
  },
  {
   "cell_type": "code",
   "execution_count": null,
   "id": "nQijukdv5HjY",
   "metadata": {
    "colab": {
     "base_uri": "https://localhost:8080/",
     "height": 210
    },
    "executionInfo": {
     "elapsed": 221,
     "status": "error",
     "timestamp": 1694278966366,
     "user": {
      "displayName": "Mike Augspurger",
      "userId": "10771091410835174509"
     },
     "user_tz": 300
    },
    "id": "nQijukdv5HjY",
    "outputId": "8acc7647-e2e6-4183-a1e8-f9300c98a5ec"
   },
   "outputs": [
    {
     "ename": "TypeError",
     "evalue": "ignored",
     "output_type": "error",
     "traceback": [
      "\u001b[0;31m---------------------------------------------------------------------------\u001b[0m",
      "\u001b[0;31mTypeError\u001b[0m                                 Traceback (most recent call last)",
      "\u001b[0;32m<ipython-input-50-4d92a5450b61>\u001b[0m in \u001b[0;36m<cell line: 4>\u001b[0;34m()\u001b[0m\n\u001b[1;32m      2\u001b[0m \u001b[0;31m# used as a number\u001b[0m\u001b[0;34m\u001b[0m\u001b[0;34m\u001b[0m\u001b[0m\n\u001b[1;32m      3\u001b[0m \u001b[0mobj_4\u001b[0m \u001b[0;34m=\u001b[0m \u001b[0;34m\"325.6\"\u001b[0m\u001b[0;34m\u001b[0m\u001b[0;34m\u001b[0m\u001b[0m\n\u001b[0;32m----> 4\u001b[0;31m \u001b[0mobj_4\u001b[0m \u001b[0;34m+\u001b[0m \u001b[0mobj_2\u001b[0m\u001b[0;34m\u001b[0m\u001b[0;34m\u001b[0m\u001b[0m\n\u001b[0m",
      "\u001b[0;31mTypeError\u001b[0m: can only concatenate str (not \"float\") to str"
     ]
    }
   ],
   "source": [
    "# No matter what is in the quotes, it is a string, and cannot be\n",
    "# used as a number\n",
    "obj_4 = \"325.6\"\n",
    "obj_4 + obj_2\n"
   ]
  },
  {
   "cell_type": "code",
   "execution_count": null,
   "id": "Mzn0_0G15lsQ",
   "metadata": {
    "colab": {
     "base_uri": "https://localhost:8080/"
    },
    "executionInfo": {
     "elapsed": 117,
     "status": "ok",
     "timestamp": 1694279153168,
     "user": {
      "displayName": "Mike Augspurger",
      "userId": "10771091410835174509"
     },
     "user_tz": 300
    },
    "id": "Mzn0_0G15lsQ",
    "outputId": "a72a79fb-8104-451b-8fdc-abaed0436dd7"
   },
   "outputs": [
    {
     "name": "stdout",
     "output_type": "stream",
     "text": [
      "339.6\n",
      "325.6 14.0\n"
     ]
    }
   ],
   "source": [
    "# Look at the error message: \"concatenate\" means \"join together\" or \"add\"\n",
    "# We can change a data type by using functions like \"str()\", \"float()\", and \"int()\"\n",
    "print(float(obj_4) + obj_2)        # Adding two decimal numbers\n",
    "print(obj_4 + \" \" + str(obj_2))    # Joining together two strings"
   ]
  },
  {
   "cell_type": "markdown",
   "id": "4nRSHAs5yXBo",
   "metadata": {
    "id": "4nRSHAs5yXBo"
   },
   "source": [
    "### Parentheses ( )"
   ]
  },
  {
   "cell_type": "markdown",
   "id": "T3TqKOqQpA3R",
   "metadata": {
    "id": "T3TqKOqQpA3R"
   },
   "source": [
    "Parentheses indicate that a function is being called or defined.  *Anytime you see a parentheses* that is directly next to a word (no spaces in between), you need to think about what function is being called, and what that function does.\n"
   ]
  },
  {
   "cell_type": "code",
   "execution_count": null,
   "id": "o9GJnSQe2Ix9",
   "metadata": {
    "colab": {
     "base_uri": "https://localhost:8080/"
    },
    "executionInfo": {
     "elapsed": 115,
     "status": "ok",
     "timestamp": 1694277605253,
     "user": {
      "displayName": "Mike Augspurger",
      "userId": "10771091410835174509"
     },
     "user_tz": 300
    },
    "id": "o9GJnSQe2Ix9",
    "outputId": "18cb0cdb-6058-4c01-ba5c-3dbc5be891c1"
   },
   "outputs": [
    {
     "data": {
      "text/plain": [
       "3.1622776601683795"
      ]
     },
     "execution_count": 33,
     "metadata": {},
     "output_type": "execute_result"
    }
   ],
   "source": [
    "# Calling a function.\n",
    "# The numpy function sqrt(x) returns the square root of x\n",
    "import numpy as np\n",
    "np.sqrt(10)\n"
   ]
  },
  {
   "cell_type": "code",
   "execution_count": 6,
   "id": "QAEkXq5n0ONs",
   "metadata": {
    "colab": {
     "base_uri": "https://localhost:8080/"
    },
    "executionInfo": {
     "elapsed": 122,
     "status": "ok",
     "timestamp": 1704393029758,
     "user": {
      "displayName": "Mike Augspurger",
      "userId": "10771091410835174509"
     },
     "user_tz": 360
    },
    "id": "QAEkXq5n0ONs",
    "outputId": "6531494f-2dfa-48a9-8144-5eb2cdf8558a"
   },
   "outputs": [
    {
     "name": "stdout",
     "output_type": "stream",
     "text": [
      "{'para1': 10.0, 'para2': 20.5} <class 'dict'>\n"
     ]
    }
   ],
   "source": [
    "# Generator functions are called to create a new data object\n",
    "# Here's a generator function for a dictionary\n",
    "# The dictionary is created and then *assigned* to the variable 'dict_1'\n",
    "dict_1 = dict(para1=10.0, para2=20.5)\n",
    "print(dict_1, type(dict_1))"
   ]
  },
  {
   "cell_type": "code",
   "execution_count": 8,
   "id": "L3BhP7cR0iBV",
   "metadata": {
    "colab": {
     "base_uri": "https://localhost:8080/"
    },
    "executionInfo": {
     "elapsed": 144,
     "status": "ok",
     "timestamp": 1704393134477,
     "user": {
      "displayName": "Mike Augspurger",
      "userId": "10771091410835174509"
     },
     "user_tz": 360
    },
    "id": "L3BhP7cR0iBV",
    "outputId": "f3475b36-58e6-4819-ac3d-ce7c3d193d42"
   },
   "outputs": [
    {
     "name": "stdout",
     "output_type": "stream",
     "text": [
      "para1    10.0\n",
      "para2    20.5\n",
      "dtype: float64 <class 'pandas.core.series.Series'>\n"
     ]
    }
   ],
   "source": [
    "# And here's a generator function for a Series.\n",
    "# Notice the double parentheses: the internal \"dict()\" function runs first,\n",
    "# to create a dictionary, and then this dictionary is used to create a Series\n",
    "import pandas as pd\n",
    "series_1 = pd.Series(dict(para1=10.0, para2=20.5))\n",
    "print(series_1, type(series_1))"
   ]
  },
  {
   "cell_type": "markdown",
   "id": "02bEWY_iyUbI",
   "metadata": {
    "id": "02bEWY_iyUbI"
   },
   "source": [
    "### The equal sign = (Part 2, Function assignment)"
   ]
  },
  {
   "cell_type": "markdown",
   "id": "sSvhk04uyE3c",
   "metadata": {
    "id": "sSvhk04uyE3c"
   },
   "source": [
    "Often we *assign* a data object to a variable name by calling a function that returns a data object.  \n",
    "\n",
    "<br>\n",
    "\n",
    "IMPORTANT: Whatever value is returned by the function *on the right side* of the equation is *assigned* to the variable name *on the left side*.  This is not a simple equality!\n"
   ]
  },
  {
   "cell_type": "code",
   "execution_count": 9,
   "id": "MeSH7sWjxuT8",
   "metadata": {
    "colab": {
     "base_uri": "https://localhost:8080/"
    },
    "executionInfo": {
     "elapsed": 134,
     "status": "ok",
     "timestamp": 1704393200232,
     "user": {
      "displayName": "Mike Augspurger",
      "userId": "10771091410835174509"
     },
     "user_tz": 360
    },
    "id": "MeSH7sWjxuT8",
    "outputId": "2b5d8bf5-bbfd-4e3e-8493-a5b472018a25"
   },
   "outputs": [
    {
     "data": {
      "text/plain": [
       "3.1622776601683795"
      ]
     },
     "execution_count": 9,
     "metadata": {},
     "output_type": "execute_result"
    }
   ],
   "source": [
    "# Function assignment 1\n",
    "# The numpy function sqrt(x) returns the square root of x as a float (decimal) object\n",
    "# The return value is assigned to the name \"float_1\"\n",
    "import numpy as np\n",
    "float_1 = np.sqrt(10)\n",
    "float_1"
   ]
  },
  {
   "cell_type": "code",
   "execution_count": 10,
   "id": "ss3ybbA0zBfr",
   "metadata": {
    "colab": {
     "base_uri": "https://localhost:8080/"
    },
    "executionInfo": {
     "elapsed": 142,
     "status": "ok",
     "timestamp": 1704393214825,
     "user": {
      "displayName": "Mike Augspurger",
      "userId": "10771091410835174509"
     },
     "user_tz": 360
    },
    "id": "ss3ybbA0zBfr",
    "outputId": "de59d3e2-35c1-459c-88be-247e2f605a82"
   },
   "outputs": [
    {
     "data": {
      "text/plain": [
       "{'para1': 10.0, 'para2': 20.5}"
      ]
     },
     "execution_count": 10,
     "metadata": {},
     "output_type": "execute_result"
    }
   ],
   "source": [
    "# Function assignment 2\n",
    "# Almost always we assign the returned value of a generator function to a named object\n",
    "dict_1 = dict(para1=10.0, para2=20.5)\n",
    "dict_1"
   ]
  },
  {
   "cell_type": "markdown",
   "id": "Yfn3Y17lyR7y",
   "metadata": {
    "id": "Yfn3Y17lyR7y"
   },
   "source": [
    "### Brackets [ ], {  }, and ( ) (Part 1, Basic Data Storage Creation)"
   ]
  },
  {
   "cell_type": "markdown",
   "id": "WkrrGXnukdoa",
   "metadata": {
    "id": "WkrrGXnukdoa"
   },
   "source": [
    "Brackets can be used to create basic data storage types, like lists and dictionaries.  Notice that when these types are printed out, the type of bracket in the printed version matches the type used to create the object."
   ]
  },
  {
   "cell_type": "code",
   "execution_count": null,
   "id": "3EH3FPBY14uB",
   "metadata": {
    "colab": {
     "base_uri": "https://localhost:8080/"
    },
    "executionInfo": {
     "elapsed": 130,
     "status": "ok",
     "timestamp": 1694274681414,
     "user": {
      "displayName": "Mike Augspurger",
      "userId": "10771091410835174509"
     },
     "user_tz": 300
    },
    "id": "3EH3FPBY14uB",
    "outputId": "0891fcff-82d8-48eb-fd8c-bd25fc19caf6"
   },
   "outputs": [
    {
     "data": {
      "text/plain": [
       "[8, 9, 'yellow', 'purple']"
      ]
     },
     "execution_count": 8,
     "metadata": {},
     "output_type": "execute_result"
    }
   ],
   "source": [
    "# Creating a list\n",
    "list_1 = [8,9,\"yellow\", \"purple\"]\n",
    "list_1"
   ]
  },
  {
   "cell_type": "code",
   "execution_count": null,
   "id": "2MEIqrVLpqSf",
   "metadata": {
    "colab": {
     "base_uri": "https://localhost:8080/"
    },
    "executionInfo": {
     "elapsed": 4,
     "status": "ok",
     "timestamp": 1694274901271,
     "user": {
      "displayName": "Mike Augspurger",
      "userId": "10771091410835174509"
     },
     "user_tz": 300
    },
    "id": "2MEIqrVLpqSf",
    "outputId": "30e4c748-e361-4676-a13d-08d8b7c8e6a5"
   },
   "outputs": [
    {
     "data": {
      "text/plain": [
       "{'cheese': 3.45, 'milk': 2.95}"
      ]
     },
     "execution_count": 10,
     "metadata": {},
     "output_type": "execute_result"
    }
   ],
   "source": [
    "# Creating a dictionary (notice the curly brackets!)\n",
    "dict_1 = {'cheese': 3.45, 'milk': 2.95}\n",
    "dict_1"
   ]
  },
  {
   "cell_type": "code",
   "execution_count": null,
   "id": "ZA5t3ZET7-vw",
   "metadata": {
    "colab": {
     "base_uri": "https://localhost:8080/"
    },
    "executionInfo": {
     "elapsed": 120,
     "status": "ok",
     "timestamp": 1694279840405,
     "user": {
      "displayName": "Mike Augspurger",
      "userId": "10771091410835174509"
     },
     "user_tz": 300
    },
    "id": "ZA5t3ZET7-vw",
    "outputId": "6cedc23e-1593-4c6e-c335-63b008992143"
   },
   "outputs": [
    {
     "data": {
      "text/plain": [
       "(5, 8, 10)"
      ]
     },
     "execution_count": 54,
     "metadata": {},
     "output_type": "execute_result"
    }
   ],
   "source": [
    "# Creating a tuple\n",
    "# A tuple is a simple sequence of data objects that cannot be changed\n",
    "# This is one time a parentheses does not indicate a function\n",
    "# being called (notice that the parentheses do not follow a word, as\n",
    "# they would when used to call a function)\n",
    "tup_1 = (5, 8, 10)\n",
    "tup_1\n"
   ]
  },
  {
   "cell_type": "markdown",
   "id": "UAg7jbaXyOPB",
   "metadata": {
    "id": "UAg7jbaXyOPB"
   },
   "source": [
    "### Brackets [ ]  (Part 2, Pulling object from storage object)"
   ]
  },
  {
   "cell_type": "markdown",
   "id": "MCP0ZvuF829e",
   "metadata": {
    "id": "MCP0ZvuF829e"
   },
   "source": [
    "More often when you see a bracket, it is being used to pull an object from a data storage object."
   ]
  },
  {
   "cell_type": "code",
   "execution_count": 11,
   "id": "31WTRfs3lewR",
   "metadata": {
    "colab": {
     "base_uri": "https://localhost:8080/",
     "height": 35
    },
    "executionInfo": {
     "elapsed": 147,
     "status": "ok",
     "timestamp": 1704393386350,
     "user": {
      "displayName": "Mike Augspurger",
      "userId": "10771091410835174509"
     },
     "user_tz": 360
    },
    "id": "31WTRfs3lewR",
    "outputId": "65f55cf5-e621-43c6-b5d8-9eaccef3ba31"
   },
   "outputs": [
    {
     "data": {
      "application/vnd.google.colaboratory.intrinsic+json": {
       "type": "string"
      },
      "text/plain": [
       "'yellow'"
      ]
     },
     "execution_count": 11,
     "metadata": {},
     "output_type": "execute_result"
    }
   ],
   "source": [
    "# Pulling an object from a list\n",
    "# Notice that the numbering starts at '0', so the '[2]' actually\n",
    "# calls for the third item in the list\n",
    "list_1 = [8,9,\"yellow\", \"purple\"]\n",
    "obj1 = list_1[2]\n",
    "obj1"
   ]
  },
  {
   "cell_type": "code",
   "execution_count": 12,
   "id": "wrfK27TDp5Xv",
   "metadata": {
    "colab": {
     "base_uri": "https://localhost:8080/"
    },
    "executionInfo": {
     "elapsed": 134,
     "status": "ok",
     "timestamp": 1704393387845,
     "user": {
      "displayName": "Mike Augspurger",
      "userId": "10771091410835174509"
     },
     "user_tz": 360
    },
    "id": "wrfK27TDp5Xv",
    "outputId": "faf3b944-c0de-41cd-997c-94fcd458ee42"
   },
   "outputs": [
    {
     "data": {
      "text/plain": [
       "3.45"
      ]
     },
     "execution_count": 12,
     "metadata": {},
     "output_type": "execute_result"
    }
   ],
   "source": [
    "# Pulling an object from a dictionary\n",
    "# Notice you have to use the \"key\" rather than an index number\n",
    "dict_1 = {'cheese': 3.45, 'milk': 2.95}\n",
    "obj2 = dict_1['cheese']\n",
    "obj2"
   ]
  },
  {
   "cell_type": "code",
   "execution_count": 14,
   "id": "CunCrDskpDSg",
   "metadata": {
    "colab": {
     "base_uri": "https://localhost:8080/"
    },
    "executionInfo": {
     "elapsed": 154,
     "status": "ok",
     "timestamp": 1704393414665,
     "user": {
      "displayName": "Mike Augspurger",
      "userId": "10771091410835174509"
     },
     "user_tz": 360
    },
    "id": "CunCrDskpDSg",
    "outputId": "48d9ebd2-5e8e-4f73-cfb2-3e40947334e2"
   },
   "outputs": [
    {
     "name": "stdout",
     "output_type": "stream",
     "text": [
      "2.95\n",
      "3.45\n"
     ]
    }
   ],
   "source": [
    "# Pulling an object from a Series\n",
    "# With a Series, you can use either the index number or the key term\n",
    "import pandas as pd\n",
    "series_1 = pd.Series(dict_1)\n",
    "print(series_1[1])\n",
    "print(series_1['cheese'])"
   ]
  },
  {
   "cell_type": "markdown",
   "id": "Nur_F9t2yLMo",
   "metadata": {
    "id": "Nur_F9t2yLMo"
   },
   "source": [
    "### Colons `:` and Indentations"
   ]
  },
  {
   "cell_type": "markdown",
   "id": "xw9OUqHz1-h0",
   "metadata": {
    "id": "xw9OUqHz1-h0"
   },
   "source": [
    "Python does not just use indentations to make things look neat: they have a particular meaning that changes how the code runs.\n",
    "\n",
    "<br>\n",
    "\n",
    "An indentation indicates that the current line of code depends on the unindented (or less indented) line above it.  The current line *will not be run* unless the condition met by the less indented previous line are met!\n",
    "\n",
    "<br>\n",
    "\n",
    "The unindented previous line should always end in a colon `:`.  This is an additional indication that the following lines depend on the condition of the unindented line.   Forgetting the colon is a common error!"
   ]
  },
  {
   "cell_type": "code",
   "execution_count": 3,
   "id": "CrrGOyXb2l6h",
   "metadata": {
    "colab": {
     "base_uri": "https://localhost:8080/"
    },
    "executionInfo": {
     "elapsed": 148,
     "status": "ok",
     "timestamp": 1704389350644,
     "user": {
      "displayName": "Mike Augspurger",
      "userId": "10771091410835174509"
     },
     "user_tz": 360
    },
    "id": "CrrGOyXb2l6h",
    "outputId": "96adf31d-179a-448b-9d9f-361fcca21998"
   },
   "outputs": [
    {
     "name": "stdout",
     "output_type": "stream",
     "text": [
      "12 is a small number\n"
     ]
    }
   ],
   "source": [
    "# Indentations with an \"if\" clause\n",
    "a = 12\n",
    "if a < 15:\n",
    "    print(a, \"is a small number\")"
   ]
  },
  {
   "cell_type": "code",
   "execution_count": null,
   "id": "b7twcYjp26rh",
   "metadata": {
    "colab": {
     "base_uri": "https://localhost:8080/"
    },
    "executionInfo": {
     "elapsed": 139,
     "status": "ok",
     "timestamp": 1694278424549,
     "user": {
      "displayName": "Mike Augspurger",
      "userId": "10771091410835174509"
     },
     "user_tz": 300
    },
    "id": "b7twcYjp26rh",
    "outputId": "467029a0-7eee-4a18-dfc4-47c30e6d74f1"
   },
   "outputs": [
    {
     "name": "stdout",
     "output_type": "stream",
     "text": [
      "We have entered the loop 1 times\n",
      "We have entered the loop 2 times\n",
      "We have entered the loop 3 times\n"
     ]
    }
   ],
   "source": [
    "# Indetations with a \"for\" loop\n",
    "for i in range(3):\n",
    "    print(\"We have entered the loop\", i + 1, \"times\")"
   ]
  },
  {
   "cell_type": "markdown",
   "id": "0MTjgBkyyIZw",
   "metadata": {
    "id": "0MTjgBkyyIZw"
   },
   "source": [
    "### The double equal sign `==` (and other comparitives `> < <= >= !=`)"
   ]
  },
  {
   "cell_type": "markdown",
   "id": "SOofZuia_2gs",
   "metadata": {
    "id": "SOofZuia_2gs"
   },
   "source": [
    "Like `=`, `==` is not a statement of an equality.  It is a *comparative*, and the statement returns a Boolean value of 'True' or 'False'.\n",
    "\n",
    "<br>\n",
    "\n",
    "All comparitives function this way, including the 'not equal' sign `!=`."
   ]
  },
  {
   "cell_type": "code",
   "execution_count": null,
   "id": "13q1UGX8AjSc",
   "metadata": {
    "colab": {
     "base_uri": "https://localhost:8080/"
    },
    "executionInfo": {
     "elapsed": 119,
     "status": "ok",
     "timestamp": 1694280909242,
     "user": {
      "displayName": "Mike Augspurger",
      "userId": "10771091410835174509"
     },
     "user_tz": 300
    },
    "id": "13q1UGX8AjSc",
    "outputId": "7496db4e-8c26-44b0-fd69-6bd18f15b0db"
   },
   "outputs": [
    {
     "name": "stdout",
     "output_type": "stream",
     "text": [
      "False   <class 'bool'>\n"
     ]
    }
   ],
   "source": [
    "# The return of the comparative phrase on the right is assigned to\n",
    "# the object 'result_1' on the left side\n",
    "# Notice the type of the returned object\n",
    "result_1 = (4 == 5)\n",
    "print(result_1, \" \", type(result_1))"
   ]
  },
  {
   "cell_type": "code",
   "execution_count": null,
   "id": "TtpvGsdaAzo0",
   "metadata": {
    "colab": {
     "base_uri": "https://localhost:8080/"
    },
    "executionInfo": {
     "elapsed": 119,
     "status": "ok",
     "timestamp": 1694280940804,
     "user": {
      "displayName": "Mike Augspurger",
      "userId": "10771091410835174509"
     },
     "user_tz": 300
    },
    "id": "TtpvGsdaAzo0",
    "outputId": "c6c53aa7-29c1-4a8a-aff1-c9d42caa60a5"
   },
   "outputs": [
    {
     "name": "stdout",
     "output_type": "stream",
     "text": [
      "True   <class 'bool'>\n"
     ]
    }
   ],
   "source": [
    "# Notice the type of the returned object\n",
    "result_2 = (4 < 5)\n",
    "print(result_2, \" \", type(result_2))"
   ]
  },
  {
   "cell_type": "code",
   "execution_count": 18,
   "id": "WrWUHV_ExSbC",
   "metadata": {
    "colab": {
     "base_uri": "https://localhost:8080/"
    },
    "executionInfo": {
     "elapsed": 117,
     "status": "ok",
     "timestamp": 1704393638826,
     "user": {
      "displayName": "Mike Augspurger",
      "userId": "10771091410835174509"
     },
     "user_tz": 360
    },
    "id": "WrWUHV_ExSbC",
    "outputId": "14f4028b-596b-45f3-8a28-70d612e244fe"
   },
   "outputs": [
    {
     "name": "stdout",
     "output_type": "stream",
     "text": [
      "True   <class 'bool'>\n"
     ]
    }
   ],
   "source": [
    "# Here we are using the 'not equal' sign\n",
    "# The resulting boolean is used in the 'if' clause\n",
    "# Change '!=' to '==' and rerun the cell.  What will happen?\n",
    "if (4 != 5):\n",
    "    print(result_3, \" \", type(result_3))"
   ]
  },
  {
   "cell_type": "markdown",
   "id": "mYsLj4nKyF5A",
   "metadata": {
    "id": "mYsLj4nKyF5A"
   },
   "source": [
    "### The period/dot `.`"
   ]
  },
  {
   "cell_type": "markdown",
   "id": "RuIzycUxXWLy",
   "metadata": {
    "id": "RuIzycUxXWLy"
   },
   "source": [
    "All data types have a set of special characteristics and actions that can only be used on that type of object.   These are called *attributes* (characteristics) and *methods* (actions).  The dot is used to access these:\n",
    "\n",
    "<br>\n",
    "\n",
    "* An attribute is a value associated with the data object, like the length of a string, or the number of objects in a list.\n",
    "\n",
    "* A method is a function that is built into that type of object, and can only be used on that object.\n",
    "\n",
    "<br>\n",
    "\n",
    "When you see a dot `.` between after a data object, it is accessing one of these: if there is a pair of parenthesis, then it is calling a method, but if not, it is accessing an attribute.\n",
    "\n",
    "<br>\n",
    "\n",
    "More generally, the dot is used to indicate you are accessing something that is part of the thing that is before the dot --> almost like accessing a item in a folder.  So when you see `pd.Series`, `Series` is a kind of object within the `pandas` library; when you see `numpy.random`, `random` is a sublibrary within the `numpy` library."
   ]
  },
  {
   "cell_type": "code",
   "execution_count": 19,
   "id": "XCUELklwYaZS",
   "metadata": {
    "colab": {
     "base_uri": "https://localhost:8080/"
    },
    "executionInfo": {
     "elapsed": 121,
     "status": "ok",
     "timestamp": 1704394100327,
     "user": {
      "displayName": "Mike Augspurger",
      "userId": "10771091410835174509"
     },
     "user_tz": 360
    },
    "id": "XCUELklwYaZS",
    "outputId": "6724578d-e000-4a0c-a9f7-0d85c81a5aa6"
   },
   "outputs": [
    {
     "name": "stdout",
     "output_type": "stream",
     "text": [
      "The value associated with the index value 'cheese': 10\n",
      "The size of the Series object 'grocery': 3\n",
      "The name of the Series object 'grocery': Grocery List\n"
     ]
    }
   ],
   "source": [
    "# Here is an data object of type Series\n",
    "import pandas as pd\n",
    "grocery = pd.Series(dict(cheese=10,milk=2,bread=3), name = \"Grocery List\")\n",
    "\n",
    "# Here are some of its attributes\n",
    "value1 = grocery.cheese\n",
    "num1   = grocery.size\n",
    "nam1   = grocery.name\n",
    "print(\"The value associated with the index value 'cheese':\", value1)\n",
    "print(\"The size of the Series object 'grocery':\", num1)\n",
    "print(\"The name of the Series object 'grocery':\", nam1)"
   ]
  },
  {
   "cell_type": "code",
   "execution_count": 20,
   "id": "MKadDfbHZ2uc",
   "metadata": {
    "colab": {
     "base_uri": "https://localhost:8080/",
     "height": 447
    },
    "executionInfo": {
     "elapsed": 299,
     "status": "ok",
     "timestamp": 1704394169161,
     "user": {
      "displayName": "Mike Augspurger",
      "userId": "10771091410835174509"
     },
     "user_tz": 360
    },
    "id": "MKadDfbHZ2uc",
    "outputId": "31254eab-2426-45a4-9ecf-051a456beb36"
   },
   "outputs": [
    {
     "name": "stdout",
     "output_type": "stream",
     "text": [
      "Mean value is  5.0\n"
     ]
    },
    {
     "data": {
      "image/png": "[encoded data removed]",
      "text/plain": [
       "<Figure size 640x480 with 1 Axes>"
      ]
     },
     "metadata": {},
     "output_type": "display_data"
    }
   ],
   "source": [
    "# Here are a couple of its methods\n",
    "# Notice the parentheses that indicate a function is being called!\n",
    "# Find the mean value\n",
    "print(\"Mean value is \", grocery.mean())\n",
    "# Multiple all the values by the given value '5.0'\n",
    "grocery_mult = grocery.multiply(5.0)\n",
    "# Plot the values of the two Series\n",
    "grocery.plot()\n",
    "grocery_mult.plot();"
   ]
  },
  {
   "cell_type": "markdown",
   "id": "0gk6P431a0vB",
   "metadata": {
    "id": "0gk6P431a0vB"
   },
   "source": [
    "You can find the attributes and methods of a data type by searching on the internet.  Try this now: search for \"Pandas Series\", and go to the documentation site that pops up.   Scroll down and look at the (long!) list of attributes and methods."
   ]
  },
  {
   "cell_type": "markdown",
   "id": "tZNSzIoPz7uE",
   "metadata": {
    "id": "tZNSzIoPz7uE"
   },
   "source": [
    "## Grammar of Function Definition"
   ]
  },
  {
   "cell_type": "markdown",
   "id": "q4ZfRpx0s-K3",
   "metadata": {
    "id": "q4ZfRpx0s-K3"
   },
   "source": [
    "Function definitions have several distinct grammatical rules.\n",
    "\n",
    "<br>\n",
    "\n",
    "Remember function definition *does nothing* until it is called!  Defining the function is making a grocery list; calling the function is buying the groceries."
   ]
  },
  {
   "cell_type": "markdown",
   "id": "zuX0Cd3Kz-UL",
   "metadata": {
    "id": "zuX0Cd3Kz-UL"
   },
   "source": [
    "### The phrase `def`"
   ]
  },
  {
   "cell_type": "markdown",
   "id": "wD2u8G0crK22",
   "metadata": {
    "id": "wD2u8G0crK22"
   },
   "source": [
    "`def` indicates that the indented lines following this line are defining a function: a set of instructions that can be \"called\" at a later time.\n",
    "\n",
    "<br>\n",
    "\n",
    "All of the following lines are part of the function definition *until the next unindented line*."
   ]
  },
  {
   "cell_type": "code",
   "execution_count": null,
   "id": "YF-wXAfq2QMF",
   "metadata": {
    "id": "YF-wXAfq2QMF"
   },
   "outputs": [],
   "source": [
    "# Defining a function\n",
    "def multiply_plus_two():\n",
    "    a = 4\n",
    "    b = 5\n",
    "    result = (a*b)+2\n",
    "    print(\"Four times Five plus two is \", result)"
   ]
  },
  {
   "cell_type": "code",
   "execution_count": null,
   "id": "KQn3O6MhvMx8",
   "metadata": {
    "colab": {
     "base_uri": "https://localhost:8080/"
    },
    "executionInfo": {
     "elapsed": 256,
     "status": "ok",
     "timestamp": 1694276404581,
     "user": {
      "displayName": "Mike Augspurger",
      "userId": "10771091410835174509"
     },
     "user_tz": 300
    },
    "id": "KQn3O6MhvMx8",
    "outputId": "6cd0cd3b-9b0d-453b-8e19-d36ae7b66cc3"
   },
   "outputs": [
    {
     "name": "stdout",
     "output_type": "stream",
     "text": [
      "Four times Five plus two is  22\n"
     ]
    }
   ],
   "source": [
    "# Call the function\n",
    "multiply_plus_two()"
   ]
  },
  {
   "cell_type": "markdown",
   "id": "wglBFcg60Bgf",
   "metadata": {
    "id": "wglBFcg60Bgf"
   },
   "source": [
    "### Indentations in function definitions"
   ]
  },
  {
   "cell_type": "markdown",
   "id": "EGYkRnfO95l2",
   "metadata": {
    "id": "EGYkRnfO95l2"
   },
   "source": [
    "After the `def` line, all the lines that follow are part of the function until the first unindented line.\n",
    "\n",
    "<br>\n",
    "\n",
    "The first unindented line is not part of the \"instructions\": it will be run when the cell is run (not when the function is called)."
   ]
  },
  {
   "cell_type": "code",
   "execution_count": null,
   "id": "THfIqkD--WSI",
   "metadata": {
    "colab": {
     "base_uri": "https://localhost:8080/",
     "height": 210
    },
    "executionInfo": {
     "elapsed": 119,
     "status": "error",
     "timestamp": 1694280395860,
     "user": {
      "displayName": "Mike Augspurger",
      "userId": "10771091410835174509"
     },
     "user_tz": 300
    },
    "id": "THfIqkD--WSI",
    "outputId": "5398744b-d413-47e6-8b4d-2e953ca50a73"
   },
   "outputs": [
    {
     "ename": "NameError",
     "evalue": "ignored",
     "output_type": "error",
     "traceback": [
      "\u001b[0;31m---------------------------------------------------------------------------\u001b[0m",
      "\u001b[0;31mNameError\u001b[0m                                 Traceback (most recent call last)",
      "\u001b[0;32m<ipython-input-56-2bd580ad127d>\u001b[0m in \u001b[0;36m<cell line: 6>\u001b[0;34m()\u001b[0m\n\u001b[1;32m      4\u001b[0m     \u001b[0mb\u001b[0m \u001b[0;34m=\u001b[0m \u001b[0;36m5\u001b[0m\u001b[0;34m\u001b[0m\u001b[0;34m\u001b[0m\u001b[0m\n\u001b[1;32m      5\u001b[0m     \u001b[0mresult\u001b[0m \u001b[0;34m=\u001b[0m \u001b[0;34m(\u001b[0m\u001b[0ma\u001b[0m\u001b[0;34m*\u001b[0m\u001b[0mb\u001b[0m\u001b[0;34m)\u001b[0m\u001b[0;34m+\u001b[0m\u001b[0;36m1\u001b[0m\u001b[0;34m\u001b[0m\u001b[0;34m\u001b[0m\u001b[0m\n\u001b[0;32m----> 6\u001b[0;31m \u001b[0mprint\u001b[0m\u001b[0;34m(\u001b[0m\u001b[0;34m\"Four times Five plus two is \"\u001b[0m\u001b[0;34m,\u001b[0m \u001b[0mresult\u001b[0m\u001b[0;34m)\u001b[0m\u001b[0;34m\u001b[0m\u001b[0;34m\u001b[0m\u001b[0m\n\u001b[0m",
      "\u001b[0;31mNameError\u001b[0m: name 'result' is not defined"
     ]
    }
   ],
   "source": [
    "# Notice what happens when we indent incorrectly:\n",
    "# the function is never run, so \"result\" is never defined\n",
    "def multiply_plus_one():\n",
    "    a = 4\n",
    "    b = 5\n",
    "    result = (a*b)+1\n",
    "print(\"Four times Five plus two is \", result)"
   ]
  },
  {
   "cell_type": "markdown",
   "id": "98xWGIRg0bEf",
   "metadata": {
    "id": "98xWGIRg0bEf"
   },
   "source": [
    "### Parentheses ( ) in function definitions"
   ]
  },
  {
   "cell_type": "markdown",
   "id": "eGbrk9Yu-8wP",
   "metadata": {
    "id": "eGbrk9Yu-8wP"
   },
   "source": [
    "In the `def` line of a definition, the parentheses indicate the *parameters* of the function.   These are data objects that will be defined when the function is called. You do not need to use parameters when you create a function, but they can make a function much more flexible."
   ]
  },
  {
   "cell_type": "code",
   "execution_count": null,
   "id": "em8YfdggBzUs",
   "metadata": {
    "colab": {
     "base_uri": "https://localhost:8080/"
    },
    "executionInfo": {
     "elapsed": 119,
     "status": "ok",
     "timestamp": 1694281246524,
     "user": {
      "displayName": "Mike Augspurger",
      "userId": "10771091410835174509"
     },
     "user_tz": 300
    },
    "id": "em8YfdggBzUs",
    "outputId": "7b753483-8df2-4079-a3a8-ea357ab738a9"
   },
   "outputs": [
    {
     "name": "stdout",
     "output_type": "stream",
     "text": [
      "6 times 7 plus two is 44\n"
     ]
    }
   ],
   "source": [
    "# Defining a function with parameters\n",
    "def multiply_plus_two(a,b):\n",
    "    result = (a*b)+2\n",
    "    print(str(a), \"times\", str(b), \"plus two is\", result)\n",
    "\n",
    "multiply_plus_two(6,7)"
   ]
  },
  {
   "cell_type": "markdown",
   "id": "mjXkbkgY0dv_",
   "metadata": {
    "id": "mjXkbkgY0dv_"
   },
   "source": [
    "### The `return` line"
   ]
  },
  {
   "cell_type": "markdown",
   "id": "0odlJSNtuX0O",
   "metadata": {
    "id": "0odlJSNtuX0O"
   },
   "source": [
    "If a `return` line is reached in a function when the function is called, the function ends at that point and the code returns to the original code (that is, wherever the function was called).\n",
    "\n",
    "<br>\n",
    "\n",
    "You don't *need* a return line, but it is helpful to include one, as it makes it easier to read and understand the function."
   ]
  },
  {
   "cell_type": "code",
   "execution_count": null,
   "id": "J-XQgsK2u21X",
   "metadata": {
    "colab": {
     "base_uri": "https://localhost:8080/"
    },
    "executionInfo": {
     "elapsed": 222,
     "status": "ok",
     "timestamp": 1694281352882,
     "user": {
      "displayName": "Mike Augspurger",
      "userId": "10771091410835174509"
     },
     "user_tz": 300
    },
    "id": "J-XQgsK2u21X",
    "outputId": "2fe36233-501f-417f-8dc3-7a63b7f91d1f"
   },
   "outputs": [
    {
     "name": "stdout",
     "output_type": "stream",
     "text": [
      "10 times 12 plus two is 122\n"
     ]
    }
   ],
   "source": [
    "# Adding a return line\n",
    "def multiply_plus_two(a,b):\n",
    "    result = (a*b)+2\n",
    "    print(str(a), \"times\", str(b), \"plus two is\", result)\n",
    "    return\n",
    "\n",
    "multiply_plus_two(10,12)"
   ]
  },
  {
   "cell_type": "markdown",
   "id": "olRyNlUACguD",
   "metadata": {
    "id": "olRyNlUACguD"
   },
   "source": [
    "The more important purpose of the return line is that it can \"return\" a data object that is created in the function back to the environment outside the function."
   ]
  },
  {
   "cell_type": "code",
   "execution_count": null,
   "id": "i0IVrbIoCyqr",
   "metadata": {
    "id": "i0IVrbIoCyqr"
   },
   "outputs": [],
   "source": [
    "# Adding a return line\n",
    "def multiply_plus_two(a,b):\n",
    "    return (a*b)+2"
   ]
  },
  {
   "cell_type": "code",
   "execution_count": null,
   "id": "fAj50IbRDAdr",
   "metadata": {
    "colab": {
     "base_uri": "https://localhost:8080/"
    },
    "executionInfo": {
     "elapsed": 123,
     "status": "ok",
     "timestamp": 1694281590737,
     "user": {
      "displayName": "Mike Augspurger",
      "userId": "10771091410835174509"
     },
     "user_tz": 300
    },
    "id": "fAj50IbRDAdr",
    "outputId": "775c5624-301b-4c84-bb2a-ea63ca7fac28"
   },
   "outputs": [
    {
     "name": "stdout",
     "output_type": "stream",
     "text": [
      "100 227.45\n"
     ]
    }
   ],
   "source": [
    "# Now we can *assign* the return to a global variable/ object\n",
    "result_g1 = multiply_plus_two(7,14)\n",
    "result_g2 = multiply_plus_two(13.5,16.7)\n",
    "print(result_g1, result_g2)"
   ]
  }
 ],
 "metadata": {
  "colab": {
   "provenance": [
    {
     "file_id": "1EElE5o8x6GLv5Zix7I0miB0JSHxeZXMM",
     "timestamp": 1675369857339
    }
   ],
   "toc_visible": true
  },
  "kernelspec": {
   "display_name": "Python 3",
   "language": "python",
   "name": "python3"
  },
  "language_info": {
   "codemirror_mode": {
    "name": "ipython",
    "version": 3
   },
   "file_extension": ".py",
   "mimetype": "text/x-python",
   "name": "python",
   "nbconvert_exporter": "python",
   "pygments_lexer": "ipython3",
   "version": "3.8.8"
  }
 },
 "nbformat": 4,
 "nbformat_minor": 5
}
