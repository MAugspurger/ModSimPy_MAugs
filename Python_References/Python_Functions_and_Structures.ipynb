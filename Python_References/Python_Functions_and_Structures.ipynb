{
 "cells": [
  {
   "cell_type": "markdown",
   "id": "55cc43f7",
   "metadata": {},
   "source": [
    "# Common Python Functions, Structures, and Libraries\n",
    "\n",
    "#### PHYS 200: Modeling and Simulation for Scientists and Engineers, Mike Augspurger\n",
    "\n",
    "This sheet is designed as a reference sheet to help you with some commonly used Python tools.  \n",
    "\n",
    "Remember that more detailed explanations of these tools are only a few key strokes away: just search for \"Python function isinstance\" or \"Python for loop\" if you need to see the tools in action.   This willingness to search for explanations and help is key to coding! "
   ]
  },
  {
   "cell_type": "markdown",
   "id": "db27342d",
   "metadata": {},
   "source": [
    "## Built-in Functions\n",
    "\n",
    "Built-in functions are functions that are part of the core Python language: they are always available, do not need to be imported, and generally work in a wide range of situations.\n",
    "\n",
    "There are almost 100 of these, but here are some particularly useful ones.  Notice that an `iterable` object is any sequence-like object (list, tuple, series, etc...):"
   ]
  },
  {
   "cell_type": "code",
   "execution_count": null,
   "id": "2867189e",
   "metadata": {},
   "outputs": [],
   "source": [
    "var1 = -7.1\n",
    "list1 = [2,6,4,12]\n",
    "abs(var1)          # Returns the absolute value of a variable --> 7.1\n",
    "dir()              # Shows the names in the current namespace.  In other words,\n",
    "                   # it indicates what functions and variables are currently defined.\n",
    "help(objecttype)   # Provides a built-in explanation of that particular type \n",
    "6 in list1         # Returns a boolean if item is in an iterable object   -->  True\n",
    "isinstance(list1,list)   # Returns boolean if the object is that type --> True\n",
    "len(list1)         # Returns length of an iterable object  --> 4\n",
    "max(list1)         # Returns maximum value in the iterable object  --> 12\n",
    "print(list1)       # Sends the object to output   --> [2,6,4,12]\n",
    "round(var1,1)      # Returns the number rounded to ndigits   --> -7.0\n",
    "sorted(list1)      # Returns iterable object sorted   --> [2,4,6,12] \n",
    "str(var1)          # Returns the object as a string  --> '-7.1'   \n",
    "sum(list1)         # Returns the sum of an iterable  --> 24\n",
    "type(list1)        # Returns the type of the object  --> 'list'"
   ]
  },
  {
   "cell_type": "markdown",
   "id": "9a307fe1",
   "metadata": {},
   "source": [
    "## Common Structures and Tools\n",
    "\n",
    "Here are a set of tools and code structures that are commonly used"
   ]
  },
  {
   "cell_type": "markdown",
   "id": "3e6f6500",
   "metadata": {},
   "source": [
    "### Operators\n",
    "\n",
    "These are used to manipulate variable values:"
   ]
  },
  {
   "cell_type": "code",
   "execution_count": null,
   "id": "f9053d0b",
   "metadata": {},
   "outputs": [],
   "source": [
    "var1 = 2.5\n",
    "var2 = -2.5\n",
    "var3 = 2.0\n",
    "\n",
    "# Mathematical Operators  (in addition to +, -, * (multiplication), and / (division))\n",
    "var1 % var3        # modulus (remainder after division) --> 0.5\n",
    "var3**3            # exponent  --> 2.0 to the third power, 8\n",
    "\n",
    "# Comparitive Operators (produce a boolean value (True or False))\n",
    "var1 == var2       #--> False\n",
    "var1 == abs(var2)  #--> True\n",
    "var1 > var2        #--> True\n",
    "var1 != var2       # 'not equal to'   --> True\n",
    "var1 >= abs(var2)  # 'greater than or equal to'  --> True\n",
    "\n",
    "# Assignment Operators \n",
    "var1 += var3       # adds var3 to var1: same as var1 = var1 + var3 --> 4.5\n",
    "var1 *= var3       # same as var1 = var1 * var3  --> 5.0\n",
    "## -=, /=, and even **= operate in the same way\n"
   ]
  },
  {
   "cell_type": "markdown",
   "id": "9a448f07",
   "metadata": {},
   "source": [
    "### For Loops"
   ]
  },
  {
   "cell_type": "code",
   "execution_count": null,
   "id": "eb1ed12d",
   "metadata": {},
   "outputs": [],
   "source": [
    "# Each loop causes the entire indented block of code to run with a different 'i' value\n",
    "for i in range(4):\n",
    "    print(i)     # loops 4 times; prints 0, then 1, then 2, then 3\n",
    "\n",
    "import numpy as np\n",
    "lin1 = np.linspace(0,1,4)  # produces array of 5 values from 0 to 1 : [0,0.33,0.67,1]\n",
    "for i in lin1:\n",
    "    print(i)     # loops 4 times; prints 0, then 0.33, then 0.66...\n",
    "    \n",
    "# Note that the variable can be named anything (not just 'i')    \n",
    "list1 = [4,17,32,68]\n",
    "for number in list1:\n",
    "    print(number)     # loops 4 times; prints 4, then 17, then 32...\n",
    "    \n",
    "    \n",
    "# There are a couple keywords for loops that don't show up in the textbook, \n",
    "# but that might be useful\n",
    "# 'break':  this causes a loop to exit immediately--the whole loop ends\n",
    "# 'continue': this causes the current loop to end--the loop moves \n",
    "#          on to the next iteration"
   ]
  },
  {
   "cell_type": "markdown",
   "id": "74ff4dc3",
   "metadata": {},
   "source": [
    "### If... else Structures"
   ]
  },
  {
   "cell_type": "code",
   "execution_count": null,
   "id": "daa954e0",
   "metadata": {},
   "outputs": [],
   "source": [
    "var1  = 10\n",
    "list1 = [4,17,32,68]\n",
    "if var1 > 6:\n",
    "    print(\"Hello\")  # Runs the indented block if condition is True --> \"Hello\"\n",
    "\n",
    "if isinstance(list1,list):\n",
    "    print(\"Hello\")  # --> \"Hello\"\n",
    "    \n",
    "if 17 in list1:\n",
    "    print(\"Hello\")  # --> \"Hello\""
   ]
  },
  {
   "cell_type": "markdown",
   "id": "0152a826",
   "metadata": {},
   "source": [
    "### Function format"
   ]
  },
  {
   "cell_type": "code",
   "execution_count": null,
   "id": "263fdab1",
   "metadata": {},
   "outputs": [],
   "source": [
    "def function_name(para1,para2):\n",
    "    ''' A doc string like this is set off by three quotation marks\n",
    "    It can exist on multiple lines.  By convention, it has a sentence long\n",
    "    explanation of what the function does and then describes the parameters\n",
    "    \n",
    "    para1: The first parameter\n",
    "    para2: The second parameter'''\n",
    "    print(para1)\n",
    "    return para2\n",
    "\n",
    "var1 = function_name(\"Hello\",17)   # var1 is now set to 17, and \"Hello\" is sent to output\n",
    "\n",
    "\n",
    "# local variables only exist within the function\n",
    "list1 = [4,17,32,68]\n",
    "def list_function(list_of_numbers):\n",
    "    '''Returns the first value from a list and the sum of the list\n",
    "    \n",
    "    list_of_numbers: a list of integer or float values'''\n",
    "    local_var1 = list_of_numbers[0]\n",
    "    local_var2 = sum(list_of_numbers)\n",
    "    return local_var1, local_var2\n",
    "\n",
    "global_var1, global_var2 = list_function(list1)\n",
    "print(global_var1, global_var2)    #  prints out (4, 117)\n",
    "print(local_var1)                  # Error message!  'local_var1' is not defined\n",
    "\n"
   ]
  },
  {
   "cell_type": "markdown",
   "id": "0e4330c6",
   "metadata": {},
   "source": [
    "### Generators\n",
    "\n",
    "Generators efficiently produce sequence-like objects.  Because the object is created only when the code reaches this line (that is, \"at runtime\"), generators are very memory efficient.\n",
    "\n",
    "This is a little more advanced, so don't sweat it if it looks foreign."
   ]
  },
  {
   "cell_type": "code",
   "execution_count": null,
   "id": "143f8bbd",
   "metadata": {},
   "outputs": [],
   "source": [
    "# The 'range' commonly used in 'for loops' is the most common generator:\n",
    "for i in range(5)       # iterates through 0, 1, 2, 3, 4\n",
    "for i in range(2,7):    # --> iterates through 2,3,4,5,6\n",
    "for i in range(1,10,2): # --> iterates through 1,3,5,7,9\n",
    "    \n",
    "    \n",
    "# 'Generator comprehension' can produce more complex generation.\n",
    "#  Uses the form:  <expression>  for <var> in <sequence>.  Some examples:\n",
    "i**2 for i in range(4):                 # --> 0,1,4,9\n",
    "list1 = list(i**2 for i in range(4))    # creates a list with values [0,1,4,9]\n",
    "\n",
    "\n",
    "# Generators can even use more complex logic or functions in their expression\n",
    "(\"apple\" if i < 3 else \"pie\") for i in range(4)  # \"apple\",\"apple\",\"apple\",\"pie\"\n",
    "\n",
    "list1 = [-3,4,-8,11]\n",
    "list2 = list(abs(x) for x in list1)  # returns list [3,4,8,11]"
   ]
  },
  {
   "cell_type": "markdown",
   "id": "07dc0e2b",
   "metadata": {},
   "source": [
    "### Output Options\n",
    "\n",
    "Jupyter notebooks have the advantage that they can easily be turned into saveable .pdf or .html files.  Here are a couple ways to do this:\n",
    "\n",
    "* `File` >> `Download as` >> `PDF via LaTeX`.  This approach creates the nicest looking documents.  To do this, you'll need some version of `LaTeX`, a scientific formatting program on your computer.  You can download MikTex or TexWorks to do this.\n",
    "\n",
    "\n",
    "* `File` >> `Download as` >> `HTML`, then `print` >> `as PDF` from your browser.\n",
    "\n",
    "\n",
    "There are some useful tools for controlling the output of cells (plotting and printing) as well:"
   ]
  },
  {
   "cell_type": "code",
   "execution_count": null,
   "id": "b4a34d9e",
   "metadata": {},
   "outputs": [],
   "source": [
    "# Plotting from a Series is the most common approach in the textbook\n",
    "# This automatically plots with the index as your x-axis, and the \n",
    "# values as the y-axis.  There are a lot of options for this method.\n",
    "\n",
    "# You can use this method multiple times in a single cell\n",
    "# and the plots will appear on the same plot\n",
    "series1.plot(xlabel='Xaxis',ylabel='Yaxis', title='Title',\n",
    "            label='This variable',legend=True)\n",
    "\n",
    "# The underlying code for Series.plot() comes from matplotlib,\n",
    "# the most well-known plotting library for Python.\n",
    "# The learning curve is steeper here, but it is a more powerful\n",
    "# and flexible library\n",
    "\n",
    "import matplotlib.pyplot import plt\n",
    "\n",
    "plt.plot(varx,vary)          # plot a single point\n",
    "plt.plot(xarray1,yarray1)    # plot an array of data points\n",
    "\n",
    "# As you'd imagine, there are lots of options associated with plot\n",
    "# But to add elements outside of the plot itself, you need a\n",
    "# set of other commands that you list after calling plot().\n",
    "# Here's a couple to show you what they look like\n",
    "plt.title(\"This is the title of my plot\")\n",
    "plt.xlabel(\"Time(s)\")\n",
    "\n",
    "# Printing strings and variables is pretty straight forward.  \n",
    "# You can intersperse these types:\n",
    "var1 = 10.1\n",
    "print(\"It takes me\", var1, \"seconds to run 100 yards\")\n",
    "\n",
    "# More versatile is the f-string, which actually creates a new string\n",
    "# and which can include operations and functions\n",
    "# Everything inside the curly brackets runs like normal Python code\n",
    "var1 = 25\n",
    "label = f'{var1} degrees'\n",
    "series1.plot(label=label) # produces a label that says \"25 degrees\"\n",
    "label = f'{3 * var1} degrees'  # label would now say \"75 degrees\"\n",
    "label = f'{np.sqrt(var1)} degrees'  # label would now say \"5 degrees\"\n",
    "\n",
    "\n"
   ]
  },
  {
   "cell_type": "markdown",
   "id": "99518aa9",
   "metadata": {},
   "source": [
    "## Common Libraries\n",
    "\n",
    "* ModSimPy: This is a library created by the original writer of our textbook, Allen Downey, and includes some functions that make it a little easier to use more complex functions like `solve_ivp` or `root_scalar`.  I've tried to reduce our dependence on this, compared to the original textbook, but some of these functions improve readability enough that I've left them in the textbook.\n",
    "\n",
    "\n",
    "* NumPy: This is a widely used library that has tools for numerical analysis and computational analysis.  Its core structure is the `ndarray`, which is a n-dimensional array of values.\n",
    "\n",
    "\n",
    "* SymPy: This is a library that allows Python users to use symbolic notation and do analytical math (i.e. calculus and differential equations, among other things).  We use this extensively in chapter 3.\n",
    "\n",
    "\n",
    "* Pandas:  This is a well-known library used for data analysis.  Its core structures are the `Series` and `DataFrame` that we use frequently in our class.\n",
    "\n",
    "\n",
    "* MatPlotLib: This is the most widely used plotting and other visualizations in Python. "
   ]
  },
  {
   "cell_type": "markdown",
   "id": "5838c0a4",
   "metadata": {},
   "source": [
    "## Quick Style guidelines\n",
    "\n",
    "Python has a set of guidelines for writing code.  This is intended to make code more readable and shareable.  While style is well down on the list of concerns for this course, it's good to get in the habit of using these guidelines from the start.  \n",
    "\n",
    "The aim of most of these guidelines is to make it easier to read and understand code that others have written.  Here are some of the more important guidelines"
   ]
  },
  {
   "cell_type": "code",
   "execution_count": null,
   "id": "87774471",
   "metadata": {},
   "outputs": [],
   "source": [
    "#Classes and Types should use the CapWords convention.\n",
    "pd.DataFrame\n",
    "pd.Series\n",
    "\n",
    "#Variables and functions should be in all lower case.  \n",
    "#Underscores can be used as spaces to make variable names more readable.\n",
    "bikes_at_augie = 10\n",
    "\n",
    "# Variables should always be given descriptive names.\n",
    "\n",
    "# Indented code should always be indented by 4 spaces\n",
    "for i in range(6):\n",
    "    if i > 3:\n",
    "        print(\"Hello\")\n",
    "\n",
    "# Mathematical operators should have 1 space around operators\n",
    "x = x + 1   # correct\n",
    "x=x+1       # incorrect\n",
    "\n",
    "# But assignments in function arguments should use no space\n",
    "series1.plot(title='Title', xlabel='Xlabel')\n",
    "\n",
    "# Functions should include documentation as described \n",
    "# in the 'Function section' above\n",
    "\n",
    "# Multiple line arguments in functions should be aligned \n",
    "# at the beginning of the argument\n",
    "output = some_long_function_name(arg1, arg2, arg3,\n",
    "                                arg4, arg5, arg6)"
   ]
  }
 ],
 "metadata": {
  "kernelspec": {
   "display_name": "Python 3",
   "language": "python",
   "name": "python3"
  },
  "language_info": {
   "codemirror_mode": {
    "name": "ipython",
    "version": 3
   },
   "file_extension": ".py",
   "mimetype": "text/x-python",
   "name": "python",
   "nbconvert_exporter": "python",
   "pygments_lexer": "ipython3",
   "version": "3.8.8"
  }
 },
 "nbformat": 4,
 "nbformat_minor": 5
}
